{
 "cells": [
  {
   "cell_type": "markdown",
   "metadata": {},
   "source": [
    "# Python for Fun\n",
    "> A Python thing for fun.\n",
    "- title: What does it do?\n",
    "- toc: false\n",
    "- hide: true\n",
    "- search-exclude: true\n",
    "- permalink: /whatdoesitdo/\n",
    "- categories: [python]"
   ]
  },
  {
   "cell_type": "code",
   "execution_count": 14,
   "metadata": {},
   "outputs": [
    {
     "name": "stdout",
     "output_type": "stream",
     "text": [
      "What is your name?\n",
      "Your BETTER name would be Trustworthy Trent!\n"
     ]
    }
   ],
   "source": [
    "import random\n",
    "\n",
    "descriptors = [\"Awesome\", \"Benevolent\", \"Cool\", \"Daring\", \"Excellent\", \"Fun\",\n",
    "\"Great\", \"Helpful\", \"Intelligent\", \"Joyful\", \"Kind\", \"Loving\", \"Majestic\", \"Novel\",\n",
    "\"Original\", \"Patient\", \"Quirky\", \"Reasonable\", \"Supportive\", \"Trustworthy\",\n",
    "\"Understanding\", \"Valiant\", \"Wonderful\", \"Xenial\", \"Yearning\", \"Zealous\"]\n",
    "\n",
    "print(\"What is your name?\")\n",
    "yname = input().capitalize()\n",
    "for word in descriptors:\n",
    "    if word[0] == yname[0]:\n",
    "        print(\"Your BETTER name would be \" + word, str(yname) + \"!\")"
   ]
  }
 ],
 "metadata": {
  "kernelspec": {
   "display_name": "Python 3.8.13 64-bit",
   "language": "python",
   "name": "python3"
  },
  "language_info": {
   "codemirror_mode": {
    "name": "ipython",
    "version": 3
   },
   "file_extension": ".py",
   "mimetype": "text/x-python",
   "name": "python",
   "nbconvert_exporter": "python",
   "pygments_lexer": "ipython3",
   "version": "3.8.13"
  },
  "orig_nbformat": 4,
  "vscode": {
   "interpreter": {
    "hash": "0adcc2737ebf6a4a119f135174df96668767fca1ef1112612db5ecadf2b6d608"
   }
  }
 },
 "nbformat": 4,
 "nbformat_minor": 2
}
