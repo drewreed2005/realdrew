{
 "cells": [
  {
   "cell_type": "markdown",
   "metadata": {},
   "source": [
    "# Work Watch Design and Development Plan\n",
    "> Applying concepts from Program Design and Development to our Work Watch project.\n",
    "\n",
    "- title: Work Watch Program Planning\n",
    "- comments: true\n",
    "- hide: false\n",
    "- search_exclude: false\n",
    "- categories: [work-watch]\n",
    "- permalink: /wwplanning/"
   ]
  },
  {
   "cell_type": "markdown",
   "metadata": {},
   "source": [
    "# Work Watch Overview\n",
    "\n",
    "To recap the program purpose and what we have so far, the Work Watch is a program that times your work session and tells you when to take breaks. More precisely, the program lets you input a set of tasks you intend to complete and the expected duration for each so that the timer can tell you how on-track you are. You can also customize how frequently you want to take breaks based on the amount of time you have to work. You can input custom suggestions for what to do during breaks, though certain particularly ideal break activities will be recommended. You can also choose whether or not you want to see the timer counting up.\n",
    "\n",
    "The reason we want to create this is that many studies have shown that taking frequent breaks during long work sessions greatly increases the quality of your work output. During these breaks, students who feel that they don't have time to do activities like reading and exercising that supplement their learning will have the time to.\n",
    "\n",
    "# Work Watch UML Diagram\n",
    "\n",
    "<img src=\"{{site.baseurl}}/images/workwatchUMLdiagram.png\" alt=\"UML Diagram\" width=\"800\"/>\n",
    "\n",
    "Sample text."
   ]
  }
 ],
 "metadata": {
  "kernelspec": {
   "display_name": "Python 3.9.12 ('base')",
   "language": "python",
   "name": "python3"
  },
  "language_info": {
   "name": "python",
   "version": "3.9.12"
  },
  "orig_nbformat": 4,
  "vscode": {
   "interpreter": {
    "hash": "56f7c0ddbd8295fccb7b65a09bceb7bda050a1a7ed2857cec799e2d3d977289f"
   }
  }
 },
 "nbformat": 4,
 "nbformat_minor": 2
}
