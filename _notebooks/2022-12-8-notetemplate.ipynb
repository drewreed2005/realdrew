{
 "cells": [
  {
   "cell_type": "markdown",
   "metadata": {},
   "source": [
    "# Sections 12 and 13 (Calling and Developing Procedures) Notes\n",
    "> Based on the lesson by Nathan, Haseeb, Alyssa, and Sabine.\n",
    "- title: Calling and Developing Procedures Notes\n",
    "- toc: true\n",
    "- permalink: /sections12-13notes/"
   ]
  },
  {
   "cell_type": "markdown",
   "metadata": {},
   "source": [
    "## What are procedures?\n",
    "\n",
    "Procedure: a named group of programming instructions that may have parameters and return values\n",
    "\n",
    "Parameters: input values of a procedure, specified by arguments\n",
    "\n",
    "Arguments: specify the values of the parameters when a procedure is called\n",
    "\n",
    "Modularity: separating a program's functions into independent pieces or blocks, each containing all the parts needed to execute a single aspect of the functionality\n",
    "\n",
    "Procedural Abstraction: providing a name for a process that allows a procedure to be used only knowing WHAT it does, not HOW it does it\n",
    "\n",
    "What are some other names for procedures?: **function** or **method**\n",
    "\n",
    "Why are procedures effective?: Procedures allow certain series of algorithms and functions to be run more simply. They can put a set of complex actions under a distinct framework to be called upon later for ease of use."
   ]
  },
  {
   "cell_type": "markdown",
   "metadata": {},
   "source": [
    "## Additional Notes\n",
    "\n",
    "### Calling Procedures (Python)\n",
    "\n",
    "- It's important to know what arguments and parameters are necessary when creating a procedure\n",
    "- You can call a procedure within other statements like 'print' to show the return value\n",
    "- Procedures with return values can essentially be placed as variables representing whatever would be returned by the function (in most cases)\n",
    "- Some procedures do not return values, simply running to serve background purposes before ending\n",
    "\n",
    "### Calling Procedures (JavaScript)\n",
    "\n",
    "- JavaScript uses `function` instead of `def` plus curly brace syntax\n",
    "- Below is an example (1) of a JavaScript function using an array:"
   ]
  },
  {
   "cell_type": "code",
   "execution_count": 1,
   "metadata": {
    "vscode": {
     "languageId": "javascript"
    }
   },
   "outputs": [
    {
     "name": "stdout",
     "output_type": "stream",
     "text": [
      "There are 5 total numbers\n",
      "There are 2 positive numbers\n",
      "There are 2 negative numbers\n",
      "There are 1 zeroes\n"
     ]
    }
   ],
   "source": [
    "function plusMinus(arr) {\n",
    "    var pos = 0;\n",
    "    var neg = 0;\n",
    "    var zero = 0;\n",
    "    \n",
    "    var length = arr.length;\n",
    "    for (var i = 0; i < arr.length; i++) {\n",
    "        if (arr[i] > 0) {\n",
    "          pos += 1;\n",
    "        } else if (arr[i] < 0) {\n",
    "          neg += 1;\n",
    "        } else {\n",
    "          zero += 1;\n",
    "        }\n",
    "      }\n",
    "     console.log(\"There are \" + arr.length + \" total numbers\");\n",
    "     console.log(\"There are \" + pos + \" positive numbers\");\n",
    "     console.log(\"There are \" + neg + \" negative numbers\");\n",
    "     console.log(\"There are \" + zero + \" zeroes\");\n",
    "    }\n",
    "\n",
    "    var array = [1, 1, 0 , -1, -1];\n",
    "    plusMinus(array);"
   ]
  },
  {
   "cell_type": "markdown",
   "metadata": {},
   "source": [
    "- This creates an array based on the indexes of the array items\n",
    "- Here is the military time converter (example 2):"
   ]
  },
  {
   "cell_type": "code",
   "execution_count": 2,
   "metadata": {
    "vscode": {
     "languageId": "javascript"
    }
   },
   "outputs": [
    {
     "name": "stdout",
     "output_type": "stream",
     "text": [
      "19:05:45\n"
     ]
    }
   ],
   "source": [
    "function timeConversion(s) {\n",
    "    var arr = s.slice(0,8).split(':');\n",
    "    arr[0] = (s.indexOf('PM') > -1) ?\n",
    "             (arr[0] == 12 ? '12' : Number(arr[0]) + 12) :\n",
    "             (arr[0] == 12 ? '00' : arr[0]);\n",
    "    console.log(arr.join(':'));\n",
    "    }\n",
    "  \n",
    "    var input = \"07:05:45PM\";\n",
    "    timeConversion(input);"
   ]
  },
  {
   "cell_type": "markdown",
   "metadata": {},
   "source": [
    "### Developing Procedures\n",
    "\n",
    "Questions to ask yourself when developing procedures:\n",
    "- What am I going to name my procedure? (It should reflect the purpose of the code)\n",
    "- What parameters do I need?\n",
    "- What data would I need to take in to accomplish my goal?\n",
    "- Do I want my procedure to give a numerical value, or complete an action?\n",
    "\n",
    "Procedural abstraction is an important part of clarifying the purpose of various procedures. This promotes efficient collaboration.\n",
    "\n",
    "According to the lesson, it is sometimes efficient to group multiple procedures into a single procedure, further abstracting and giving specific uses for possibly more general procedures."
   ]
  },
  {
   "attachments": {},
   "cell_type": "markdown",
   "metadata": {},
   "source": [
    "## <mark>Challenge 1</mark>\n",
    "\n",
    "I made the procedure and then called it within the print statement."
   ]
  },
  {
   "cell_type": "code",
   "execution_count": 3,
   "metadata": {},
   "outputs": [
    {
     "name": "stdout",
     "output_type": "stream",
     "text": [
      "00000111\n"
     ]
    }
   ],
   "source": [
    "decimal = 7\n",
    "\n",
    "def convertToBinary(n):\n",
    "    if 0 <= n <= 255: #here's the program itself\n",
    "        pass\n",
    "    else:\n",
    "        return \"Invalid input.\" #error if not valid for 8-bit binary\n",
    "    i = 7\n",
    "    binary = \"\"\n",
    "    while i >= 0:\n",
    "        if n % (2**i) == n:\n",
    "            binary += \"0\"\n",
    "            i -= 1\n",
    "        else:\n",
    "            binary += \"1\"\n",
    "            n -= 2**i\n",
    "            i -= 1\n",
    "    return binary\n",
    "\n",
    "print(convertToBinary(decimal)) #this calls the function despite being in 'print'"
   ]
  },
  {
   "attachments": {},
   "cell_type": "markdown",
   "metadata": {},
   "source": [
    "## <mark>Challenge 2</mark>\n",
    "\n",
    "I created the `findMax` and `findMin` procedures and ran them with the numbers `4` and `3`. I did this all in JavaScript for bonus points.\n",
    "\n",
    "### Optional Bonus (Hack)\n",
    "\n",
    "See the bottom procedure `findExtrema`. It checks an array for its greatest and least values, then prints them in the console."
   ]
  },
  {
   "cell_type": "code",
   "execution_count": 7,
   "metadata": {
    "vscode": {
     "languageId": "javascript"
    }
   },
   "outputs": [
    {
     "name": "stdout",
     "output_type": "stream",
     "text": [
      "4\n",
      "3\n",
      "The greatest is 5555. The least is 2.\n"
     ]
    }
   ],
   "source": [
    "// Start by creating a procedure called findMax and set the parameters to numberA and numberB.\n",
    "// Within the procedure, write the code to determine which of the two parameters, numberA or numberB, is the larger value. Print that value.\n",
    "function findMax(numberA, numberB) {\n",
    "    if (numberA !== numberB) {\n",
    "        if (numberA > numberB) {\n",
    "            console.log(numberA);\n",
    "        } else {\n",
    "            console.log(numberB);\n",
    "        };\n",
    "    } else {\n",
    "        console.log(numberA, \"and\", numberB, \"are equal\")\n",
    "    }\n",
    "}\n",
    "// Repeat the process, this time creating a procedure called findMin, which will print the parameter with a smaller value.\n",
    "function findMin(numberA, numberB) {\n",
    "    if (numberA !== numberB) {\n",
    "        if (numberA > numberB) {\n",
    "            console.log(numberB);\n",
    "        } else {\n",
    "            console.log(numberA);\n",
    "        };\n",
    "    } else {\n",
    "        console.log(numberA, \"and\", numberB, \"are equal\")\n",
    "    }\n",
    "}\n",
    "// Call both functions so that the parameters numberA and numberB are given a value.\n",
    "var x = 4\n",
    "var y = 3\n",
    "findMax(x, y)\n",
    "findMin(x, y)\n",
    "\n",
    "// Optional bonus- create a procedure that can determine the minimum or maximum value out of more than two parameters.\n",
    "numarr = [3, 50, 20, 3134, 5555, 2, 73, 59]\n",
    "function findExtrema(array) {\n",
    "    greatest = array[0]\n",
    "    least = array[0]\n",
    "    for (let i = 1; i < array.length; i++) {\n",
    "        if (array[i] > greatest) {greatest = array[i]}\n",
    "        if (array[i] < least) {least = array[i]}\n",
    "    };\n",
    "    console.log(\"The greatest is \" + String(greatest) + \". The least is \" + String(least) + \".\")\n",
    "}\n",
    "\n",
    "findExtrema(numarr)"
   ]
  },
  {
   "attachments": {},
   "cell_type": "markdown",
   "metadata": {},
   "source": [
    "## <mark>Homework/Hacks</mark>\n",
    "\n",
    "I did the \"APCSP\" to binary thing. The procedure is called `charToBinary`. It works by first using the procedure `DecimalToBinary` that I made to convert the decimal version of the given character (found through the innate `ord` Python function), and then appends it to a list of each of the characters. It then prints it.\n",
    "\n",
    "The reason the output has a `0` in front of every 8-bit conversion is that the intended output is in 7-bit."
   ]
  },
  {
   "cell_type": "code",
   "execution_count": 15,
   "metadata": {},
   "outputs": [
    {
     "name": "stdout",
     "output_type": "stream",
     "text": [
      "APCSP in binary is: ['01000001', '01010000', '01000011', '01010011', '01010000']\n"
     ]
    }
   ],
   "source": [
    "def DecimalToBinary(x):\n",
    "    if 0 <= x <= 255:\n",
    "        pass\n",
    "    else:\n",
    "        return(\"Error\")\n",
    "    i = 7\n",
    "    binary = \"\"\n",
    "    while i >= 0:\n",
    "        if x % (2**i) == x:\n",
    "            binary += \"0\"\n",
    "            i -= 1\n",
    "        else:\n",
    "            binary += \"1\"\n",
    "            x -= 2**i\n",
    "            i -= 1\n",
    "    return binary\n",
    "\n",
    "def charToBinary(x):\n",
    "    binlist = []\n",
    "    for i in x:\n",
    "        binlist.append(DecimalToBinary(ord(i)))\n",
    "    print(str(x), \"in binary is:\", binlist)\n",
    "\n",
    "# output is has an extra 0 at the front because it is in 8-bit binary, not 7-bit\n",
    "charToBinary(\"APCSP\")"
   ]
  },
  {
   "cell_type": "markdown",
   "metadata": {},
   "source": [
    "Here's a frontend version that lets you convert anything:\n",
    "\n",
    "<p>I would like to convert <input id=\"binaryinput\" style=\"text-align:left\" type=\"text\" minlength=\"1\" value=\"APCSP\"> to binary. <button id=\"convertbtn\">CONVERT</button><br></p>\n",
    "<p id=\"binaryconversion\">Nothing converted yet.</p>\n",
    "<script>\n",
    "    var inpbox = document.getElementById(\"binaryinput\");\n",
    "    var opbox = document.getElementById(\"binaryconversion\");\n",
    "    var btn = document.getElementById(\"convertbtn\");\n",
    "    function DecimalToBinary(parameter) {\n",
    "        var input = Number(parameter);\n",
    "        if (input < 0) {\n",
    "            console.log('invalidreturn');\n",
    "            return \"Invalid input.\";\n",
    "        } else if (input > 255) {\n",
    "            console.log('invalidreturn');\n",
    "            return \"Invalid input.\";\n",
    "        };\n",
    "        var i = 7;\n",
    "        var binary = \"\";\n",
    "        while (i >= 0) {\n",
    "            if (input % (2**i) == input) {\n",
    "                binary += \"0\";\n",
    "                i -= 1;\n",
    "            } else {\n",
    "                binary += \"1\";\n",
    "                input -= 2**i;\n",
    "                i -= 1;\n",
    "            };\n",
    "        };\n",
    "        return binary;\n",
    "    };\n",
    "    function stringToBinary(x) {\n",
    "        var x = String(x);\n",
    "        var binarr = [];\n",
    "        for (i = 0; i < x.length; i++) {\n",
    "            binarr.push(DecimalToBinary(x.charCodeAt(i)));\n",
    "        };\n",
    "        return binarr\n",
    "    };\n",
    "    btn.onclick = function() {\n",
    "        opbox.innerHTML = '\"' + String(inpbox.value) + '\" in binary is [' + String(stringToBinary(String(inpbox.value))) + '].';\n",
    "    };\n",
    "</script>"
   ]
  }
 ],
 "metadata": {
  "kernelspec": {
   "display_name": "Python 3.9.12 ('base')",
   "language": "python",
   "name": "python3"
  },
  "language_info": {
   "file_extension": ".js",
   "mimetype": "application/javascript",
   "name": "python",
   "version": "3.9.12"
  },
  "orig_nbformat": 4,
  "vscode": {
   "interpreter": {
    "hash": "56f7c0ddbd8295fccb7b65a09bceb7bda050a1a7ed2857cec799e2d3d977289f"
   }
  }
 },
 "nbformat": 4,
 "nbformat_minor": 2
}
