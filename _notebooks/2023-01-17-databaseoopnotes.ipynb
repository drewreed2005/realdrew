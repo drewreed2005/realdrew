{
 "cells": [
  {
   "cell_type": "markdown",
   "metadata": {},
   "source": [
    "# Database and API Notes\n",
    "> Programming with Python classes.\n",
    "- title: Database and API Notes\n",
    "- toc: true\n",
    "- permalink: /dbapinotes/\n",
    "- categories: [python]"
   ]
  },
  {
   "cell_type": "markdown",
   "metadata": {},
   "source": [
    "## Database and Table Terms\n",
    "\n",
    "> The foundations of database is defining one or more Tables. In Python, a database can be constructed using the foundations we learned in modeling a Class.\n",
    ">- A \"Table\" is a Model/Schema within a Database.\n",
    ">- A \"Table\" definition in Python/SQLAlchemy is manifested by defining a \"Class\" and \"Attributes\" in Python.\n",
    ">- A Python Class can inherit database functionality from SQLAlchemy. This is a method Python developers use to turn a Class into a Table within a SQL Database.\n",
    ">- Writing methods in the Class for Create, Read, Update, Delete (CRUD) is how a developer initiates database operations.\n",
    "\n",
    "## Backend Model\n",
    "\n",
    "Below is a sample backend model using the User class from the OOP notes. It inherets the attributes of User and uses various imported programs."
   ]
  },
  {
   "cell_type": "code",
   "execution_count": null,
   "metadata": {},
   "outputs": [],
   "source": [
    "\"\"\" database dependencies to support sqliteDB examples \"\"\"\n",
    "\n",
    "from __init__ import app, db\n",
    "from sqlalchemy.exc import IntegrityError\n",
    "from werkzeug.security import generate_password_hash, check_password_hash\n",
    "\n",
    "\n",
    "\"\"\" Key additions to User Class for Schema definition \"\"\"\n",
    "\n",
    "# Define the User class to manage actions in the 'users' table\n",
    "# -- Object Relational Mapping (ORM) is the key concept of SQLAlchemy\n",
    "# -- a.) db.Model is like an inner layer of the onion in ORM\n",
    "# -- b.) User represents data we want to store, something that is built on db.Model\n",
    "# -- c.) SQLAlchemy ORM is layer on top of SQLAlchemy Core, then SQLAlchemy engine, SQL\n",
    "class User(db.Model):\n",
    "    __tablename__ = 'users'  # table name is plural, class name is singular\n",
    "\n",
    "    # Define the User schema with \"vars\" from object\n",
    "    id = db.Column(db.Integer, primary_key=True)\n",
    "    _name = db.Column(db.String(255), unique=False, nullable=False)\n",
    "    _uid = db.Column(db.String(255), unique=True, nullable=False)\n",
    "    _password = db.Column(db.String(255), unique=False, nullable=False)\n",
    "    _dob = db.Column(db.Date)\n",
    "\n",
    "    # Defines a relationship between User record and Notes table, one-to-many (one user to many notes)\n",
    "    posts = db.relationship(\"Post\", cascade='all, delete', backref='users', lazy=True)\n",
    "\n",
    "    # constructor of a User object, initializes the instance variables within object (self)\n",
    "    def __init__(self, name, uid, password=\"123qwerty\", dob=date.today()):\n",
    "        self._name = name    # variables with self prefix become part of the object, \n",
    "        self._uid = uid\n",
    "        self.set_password(password)\n",
    "        self._dob = dob\n",
    "\n",
    "# CRUD TIME\n",
    "\n",
    "def create(self):\n",
    "    try:\n",
    "        # creates a person object from User(db.Model) class, passes initializers\n",
    "        db.session.add(self)  # add prepares to persist person object to Users table\n",
    "        db.session.commit()  # SqlAlchemy \"unit of work pattern\" requires a manual commit\n",
    "        return self\n",
    "    except IntegrityError:\n",
    "        db.session.remove()\n",
    "        return None\n",
    "\n",
    "# CRUD read converts self to dictionary\n",
    "# returns dictionary\n",
    "def read(self):\n",
    "    return {\n",
    "        \"id\": self.id,\n",
    "        \"name\": self.name,\n",
    "        \"uid\": self.uid,\n",
    "        \"dob\": self.dob,\n",
    "        \"age\": self.age,\n",
    "        \"posts\": [post.read() for post in self.posts]\n",
    "    }\n",
    "\n",
    "# CRUD update: updates user name, password, phone\n",
    "# returns self\n",
    "def update(self, name=\"\", uid=\"\", password=\"\"):\n",
    "    \"\"\"only updates values with length\"\"\"\n",
    "    if len(name) > 0:\n",
    "        self.name = name\n",
    "    if len(uid) > 0:\n",
    "        self.uid = uid\n",
    "    if len(password) > 0:\n",
    "        self.set_password(password)\n",
    "    db.session.commit()\n",
    "    return self\n",
    "\n",
    "# CRUD delete: remove self\n",
    "# None\n",
    "def delete(self):\n",
    "    db.session.delete(self)\n",
    "    db.session.commit()\n",
    "    return None"
   ]
  }
 ],
 "metadata": {
  "kernelspec": {
   "display_name": "Python 3.9.12 ('base')",
   "language": "python",
   "name": "python3"
  },
  "language_info": {
   "name": "python",
   "version": "3.9.12"
  },
  "orig_nbformat": 4,
  "vscode": {
   "interpreter": {
    "hash": "56f7c0ddbd8295fccb7b65a09bceb7bda050a1a7ed2857cec799e2d3d977289f"
   }
  }
 },
 "nbformat": 4,
 "nbformat_minor": 2
}
