{
 "cells": [
  {
   "cell_type": "markdown",
   "metadata": {},
   "source": [
    "# Tangibles for Week 1 Blackjack Simulation Work\n",
    "> The current progress on my lesson and the Python version of the simulation (using Objects!)\n",
    "- toc: true\n",
    "- title: Week 1 DVASS Tangibles - Drew Reed\n",
    "- permalink: /dvassweek1drew/\n",
    "- categories: [python]"
   ]
  },
  {
   "cell_type": "markdown",
   "metadata": {},
   "source": [
    "## Python Simulation Setup\n",
    "\n",
    "Below is my progress on the Python blackjack simulation, which can be used as the basis for the rest of the lessons.\n",
    "\n",
    "### Card Class\n",
    "\n",
    "I decided to use a class to define the cards and deck, since they'd be easier to interact with using the other functions."
   ]
  },
  {
   "cell_type": "code",
   "execution_count": 3,
   "metadata": {},
   "outputs": [
    {
     "data": {
      "text/plain": [
       "'Ace of Spades'"
      ]
     },
     "execution_count": 3,
     "metadata": {},
     "output_type": "execute_result"
    }
   ],
   "source": [
    "class Card:\n",
    "    def __init__(self, suit, val):\n",
    "        self.suit = suit\n",
    "        self.val = val\n",
    "        if val == 11:\n",
    "            self.kind = \"Ace\"\n",
    "        elif val == 12:\n",
    "            self.kind = \"Jack\"\n",
    "        elif val == 13:\n",
    "            self.kind = \"Queen\"\n",
    "        elif val == 14:\n",
    "            self.kind = \"King\"\n",
    "        else:\n",
    "            self.kind = str(self.val)\n",
    "\n",
    "    def show(self):\n",
    "        return f\"{self.kind} of {self.suit}\"\n",
    "    \n",
    "    def ace_adj(self):\n",
    "        if self.kind == \"Ace\":\n",
    "            self.val = 1\n",
    "\n",
    "card = Card(\"Spades\", 11)\n",
    "card.show()"
   ]
  },
  {
   "cell_type": "markdown",
   "metadata": {},
   "source": [
    "### Deck Class\n",
    "\n",
    "Here is a class that is able to form itself full of cards and shuffle."
   ]
  },
  {
   "cell_type": "code",
   "execution_count": 9,
   "metadata": {},
   "outputs": [],
   "source": [
    "import random\n",
    "\n",
    "class Deck:\n",
    "    def __init__(self):\n",
    "        self.cards = []\n",
    "        self.build()\n",
    "\n",
    "    def build(self):\n",
    "        for suit in [\"Spades\", \"Clubs\", \"Diamonds\", \"Hearts\"]:\n",
    "            for val in range(2, 15):\n",
    "                self.cards.append(Card(suit, val))\n",
    "    \n",
    "    def show(self):\n",
    "        card_disp = [card.show() for card in self.cards]\n",
    "        return card_disp\n",
    "    \n",
    "    def shuffle(self):\n",
    "        random.shuffle(self.cards)\n",
    "\n",
    "    def draw_card(self):\n",
    "        return self.cards.pop()\n",
    "\n",
    "deck = Deck()\n",
    "deck.shuffle()"
   ]
  },
  {
   "cell_type": "markdown",
   "metadata": {},
   "source": [
    "### Blackjack Game Procedures\n",
    "\n",
    "Bringing the deck and the cards together, the code below simulates a game of blackjack.\n",
    "\n",
    "For simplicity, there is no splitting with pairs or doubling down at the moment. I may add this later."
   ]
  },
  {
   "cell_type": "code",
   "execution_count": 12,
   "metadata": {},
   "outputs": [
    {
     "name": "stdout",
     "output_type": "stream",
     "text": [
      "Current chips: 100\n",
      "Initial draws:\n",
      "The dealer draws: 6 of Diamonds\n",
      "You receive: 5 of Spades\n",
      "The dealer draws a face-down card...\n",
      "You receive: Jack of Spades\n",
      "--------------------------------\n",
      "Dealer's hand: 6 of Diamonds, ???\n",
      "Your hand: 5 of Spades, Jack of Spades\n",
      "You drew a 5 of Clubs!\n",
      "Your hand: 5 of Spades, Jack of Spades, 5 of Clubs\n",
      "You stand.\n",
      "Dealer's hand: 6 of Diamonds, 4 of Clubs\n",
      "The dealer draws: 9 of Clubs\n",
      "Dealer's hand: 6 of Diamonds, 4 of Clubs, 9 of Clubs\n",
      "The dealer stays.\n",
      "Congratulations! You won with a hand worth 20!\n",
      "You finished with 107 chips!\n"
     ]
    }
   ],
   "source": [
    "from IPython.display import clear_output as clr\n",
    "\n",
    "player_chips = 100\n",
    "\n",
    "def game_start():\n",
    "    clr(wait=True)\n",
    "    global player_hand #initializing hands and deck\n",
    "    global dealer_hand\n",
    "    global deck\n",
    "    global p_bet\n",
    "    deck = Deck()\n",
    "    deck.shuffle()\n",
    "    player_hand = []\n",
    "    dealer_hand = []\n",
    "    p_bet = bet(player_chips) #getting the player bet\n",
    "\n",
    "    print(\"Initial draws:\") #giving the initial draws\n",
    "    d1 = hit(dealer_hand)\n",
    "    print(f\"The dealer draws: {d1}\")\n",
    "    p1 = hit(player_hand)\n",
    "    print(f\"You receive: {p1}\")\n",
    "    d2 = hit(dealer_hand)\n",
    "    print(\"The dealer draws a face-down card...\")\n",
    "    p2 = hit(player_hand)\n",
    "    print(f\"You receive: {p2}\")\n",
    "    if sum(player_hand) == 21: #instant player win on blackjack potentially\n",
    "        if sum(dealer_hand) != 21:\n",
    "            print(\"WOW! A blackjack! You win!\")\n",
    "            win(p_bet)\n",
    "            play_again()\n",
    "            return\n",
    "        else:\n",
    "            print(\"Both you and the dealer have blackjack, so it's a bust! Keep your bet.\")\n",
    "            play_again()\n",
    "            return\n",
    "    print(\"--------------------------------\")\n",
    "    print(f\"Dealer's hand: {d1}, ???\")\n",
    "    player_turn() #once player turn finishes, the dealer turn occurs\n",
    "\n",
    "    play_again()\n",
    "\n",
    "def bet(chips):\n",
    "    print(f\"Current chips: {chips}\")\n",
    "    b = input(f\"How much would you like to bet? (Input an integer {str(player_chips)} or less.)\")\n",
    "    try:\n",
    "        if int(b) <= chips:\n",
    "            return int(b)\n",
    "        else:\n",
    "            print(\"Invalid bet.\")\n",
    "            bet(chips)\n",
    "    except:\n",
    "        print(\"Invalid bet.\")\n",
    "        bet(chips)\n",
    "\n",
    "def sum(hand):\n",
    "    sm = 0\n",
    "    for card in hand:\n",
    "        if card.val > 11:\n",
    "            sm += 10\n",
    "        else:\n",
    "            sm += card.val\n",
    "    if sm > 21:\n",
    "        for card in hand:\n",
    "            if card.val == 11:\n",
    "                card.ace_adj()\n",
    "                return sum(hand)\n",
    "    return sm\n",
    "\n",
    "def hit(hand):\n",
    "    res = deck.draw_card()\n",
    "    if (res.val == 11) and (sum(hand) + 11 > 21): #adjusting ace if it would break\n",
    "        res.ace_adj()\n",
    "    hand.append(res)\n",
    "    return res.show()\n",
    "\n",
    "def hand_display(hand):\n",
    "    disp_hand = []\n",
    "    for card in hand:\n",
    "        disp_hand.append(card.show())\n",
    "    return \", \".join(disp_hand)\n",
    "\n",
    "def player_turn():\n",
    "    print(f\"Your hand: {hand_display(player_hand)}\")\n",
    "    if sum(player_hand) > 21:\n",
    "        print(\"You break! You lose.\")\n",
    "        lose(p_bet)\n",
    "        return\n",
    "    rsp = input(\"Would you like to hit (h) or stay (s)? (input either option)\")\n",
    "    if rsp == \"h\":\n",
    "        received = hit(player_hand)\n",
    "        print(f\"You drew a {received}!\")\n",
    "        player_turn()\n",
    "    elif rsp == \"s\":\n",
    "        print(\"You stand.\")\n",
    "        dealer_turn()\n",
    "    else:\n",
    "        print('Invalid input. Input \"h\" to hit or \"s\" to stand.')\n",
    "        player_turn()\n",
    "\n",
    "def dealer_turn():\n",
    "    print(f\"Dealer's hand: {hand_display(dealer_hand)}\")\n",
    "    if sum(dealer_hand) > 16:\n",
    "        print(\"The dealer stays.\")\n",
    "        pass\n",
    "    else:\n",
    "        print(f\"The dealer draws: {hit(dealer_hand)}\")\n",
    "        if sum(dealer_hand) > 21:\n",
    "            print(\"The dealer breaks! You win.\")\n",
    "            win(p_bet)\n",
    "            return\n",
    "        dealer_turn()\n",
    "        return\n",
    "    if sum(player_hand) > sum(dealer_hand):\n",
    "        print(f\"Congratulations! You won with a hand worth {sum(player_hand)}!\")\n",
    "        win(p_bet)\n",
    "    elif sum(dealer_hand) > sum(player_hand):\n",
    "        print(f\"Too bad! You lost to the dealer's hand, worth {sum(dealer_hand)}.\")\n",
    "        lose(p_bet)\n",
    "    else:\n",
    "        print(\"It's a push! You keep your bet.\")\n",
    "    return\n",
    "\n",
    "def win(bet):\n",
    "    global player_chips\n",
    "    player_chips += bet\n",
    "    return\n",
    "\n",
    "def lose(bet):\n",
    "    global player_chips\n",
    "    player_chips -= bet\n",
    "    return\n",
    "\n",
    "def play_again():\n",
    "    if player_chips != 0:\n",
    "            pa = input('Would you like to play again? (Input \"y\" for yes and \"n\" for no.)')\n",
    "            if pa.lower() == \"y\":\n",
    "                game_start()\n",
    "            else:\n",
    "                print(f\"You finished with {str(player_chips)} chips!\")\n",
    "                return\n",
    "    else:\n",
    "        print(\"You lost all of your chips! Better luck next time.\")\n",
    "        return\n",
    "\n",
    "game_start()"
   ]
  },
  {
   "cell_type": "markdown",
   "metadata": {},
   "source": [
    "## Tentative Lesson Plan\n",
    "\n",
    "My lesson will mainly focus on these topics:\n",
    "- Lists (Review)\n",
    "- Iteration (Review)\n",
    "- Random Values\n",
    "- Simulations\n",
    "\n",
    "The lesson will be structured as follows.\n",
    "\n",
    "### Introduction: Simulations\n",
    "\n",
    "Simulations are models of real-world phenomena or systems that use mathematical algorithms and computer programs simulate the real behavior and aspects of the subject being modeled.\n",
    "\n",
    "Simulations are most often used to model complex or time-consuming things that would be difficult to test in real life, such as modeling the spread of diseases in certain ecosystems or testing the functionality of a potential product before it is made.\n",
    "\n",
    "In this lesson, we will be looking at lists, iteration, and random values through the lens of simulations.\n",
    "\n",
    "### Review: Lists and Iteration\n",
    "\n",
    "In this section, I go over lists to set up for iteration.\n",
    "\n",
    "Code plans:"
   ]
  },
  {
   "cell_type": "code",
   "execution_count": null,
   "metadata": {},
   "outputs": [],
   "source": [
    "# Going over lists using hand list\n",
    "# Unique concept: adding things to the list\n",
    "\n",
    "# Going over lists using the deck list\n",
    "# Unique concept: shuffling the list\n",
    "# Unique concept: getting rid of things with pop"
   ]
  },
  {
   "cell_type": "markdown",
   "metadata": {},
   "source": [
    "#### Recursive Loops\n",
    "\n",
    "Recursive loops are used throughout the Python blackjack model. This is seen with the interaction between the `game_start()` function and the `play_again()` function."
   ]
  },
  {
   "cell_type": "code",
   "execution_count": null,
   "metadata": {},
   "outputs": [],
   "source": [
    "def game_start():\n",
    "    #after the game setup and outcome...\n",
    "    play_again()\n",
    "\n",
    "def play_again():\n",
    "    if player_chips != 0:\n",
    "            pa = input('Would you like to play again? (Input \"y\" for yes and \"n\" for no.)')\n",
    "            if pa.lower() == \"y\":\n",
    "                game_start() #HERE\n",
    "            else:\n",
    "                print(f\"You finished with {str(player_chips)} chips!\")\n",
    "                return\n",
    "    else:\n",
    "        print(\"You lost all of your chips! Better luck next time.\")\n",
    "        return"
   ]
  },
  {
   "cell_type": "markdown",
   "metadata": {},
   "source": [
    "#### For Loops\n",
    "\n",
    "For loops are used quite often throughout the simulation and are helpful to easily be able to repeat a set of conditions to everything inside of a list/collection of data or to repeat a process a certain number of times.\n",
    "\n",
    "An example of both of these things are very conveniently seen in the `Deck` class function `build()`. It also shows loops being nested."
   ]
  },
  {
   "cell_type": "code",
   "execution_count": null,
   "metadata": {},
   "outputs": [],
   "source": [
    "def build(self):\n",
    "        for suit in [\"Spades\", \"Clubs\", \"Diamonds\", \"Hearts\"]:\n",
    "            for val in range(2, 15):\n",
    "                self.cards.append(Card(suit, val))"
   ]
  },
  {
   "cell_type": "markdown",
   "metadata": {},
   "source": [
    "Going piece by piece:\n",
    "\n",
    "```\n",
    "for suit in [\"Spades\", \"Clubs\", \"Diamonds\", \"Hearts\"]:\n",
    "```\n",
    "\n",
    "Whatever is mentioned below this will be repeated four times, once for each of the listed card suits.\n",
    "\n",
    "```\n",
    "for val in range(2, 15)\n",
    "```\n",
    "\n",
    "Here, the `for` loop is essentially doing the same thing as before, this time with a list of numbers starting with 2 and ending with 14. As a result, the function runs 13 times, each time with a new integer value that is assigned to the value of a card of a certain suit.\n",
    "\n",
    "#### While Loops\n",
    "\n",
    "While loops aren't used in the program, but they offer a different way to repeat a set of instructions in a program. The procedure below the `while [condition]` line will occur until the condition is made not true.\n",
    "\n",
    "<mark>**Student Interation**: How could this `build` function be altered to function with a while loop within it?</mark>"
   ]
  },
  {
   "cell_type": "code",
   "execution_count": null,
   "metadata": {},
   "outputs": [],
   "source": [
    "def build(self):\n",
    "        for suit in [\"Spades\", \"Clubs\", \"Diamonds\", \"Hearts\"]:\n",
    "            for val in range(2, 15): #HINT: try replacing this function\n",
    "                self.cards.append(Card(suit, val))\n",
    "\n",
    "#HINT: you may want to make a variable i to be the numbers in the range\n",
    "# you could increment it each loop"
   ]
  },
  {
   "cell_type": "markdown",
   "metadata": {},
   "source": [
    "While loops also alter an alternative way to loop a set of instructions forever, until a precise thing occurs to break the loop. See the code below."
   ]
  },
  {
   "cell_type": "code",
   "execution_count": 5,
   "metadata": {},
   "outputs": [
    {
     "name": "stdout",
     "output_type": "stream",
     "text": [
      "It took 35 random generations to get 10.\n"
     ]
    }
   ],
   "source": [
    "i = 0\n",
    "\n",
    "while True:\n",
    "    i += 1\n",
    "    ch = random.randint(1, 11)\n",
    "    if ch == 10:\n",
    "        print(f\"It took {str(i)} random generations to get 10.\")\n",
    "        break"
   ]
  },
  {
   "cell_type": "markdown",
   "metadata": {},
   "source": [
    "Speaking of random generations...\n",
    "\n",
    "### Random Values\n",
    "\n",
    "Because unpredictable randomness occurs in the real world, it's important to have a way to represent it. Simulations are able to use randomization, which could be in the form of random number generation or other methods like `shuffle`.\n",
    "\n",
    "Card decks are a great example of how random values can be used to represent real-world scenarios. In the card simulation, the `random` module's `shuffle` function is used to quite literally shuffle the deck, seen below."
   ]
  },
  {
   "cell_type": "code",
   "execution_count": null,
   "metadata": {},
   "outputs": [],
   "source": [
    "def shuffle(self):\n",
    "    random.shuffle(self.cards)"
   ]
  },
  {
   "cell_type": "markdown",
   "metadata": {},
   "source": [
    "Often, random selection methods use functions like `randint` or `randrange` as ways to select certain indexes in lists, or might use the random numbers in some other way.\n",
    "\n",
    "Without shuffling the card order of the deck, can you think of a way that the aforementioned `random` module functions could be used to get a random card from the deck?"
   ]
  },
  {
   "cell_type": "code",
   "execution_count": 10,
   "metadata": {},
   "outputs": [
    {
     "name": "stdout",
     "output_type": "stream",
     "text": [
      "10 of Diamonds\n"
     ]
    }
   ],
   "source": [
    "# Here is a possible correct answer.\n",
    "import random\n",
    "s_deck = Deck().show() #the deck shuffle is a separate function, so this is unsorted\n",
    "rando = random.randint(0, len(s_deck)) #generating a random number to use as index\n",
    "randsel = s_deck[rando] #selecting a random card with the index\n",
    "s_deck.pop(rando) #getting rid of the selected card from the deck\n",
    "print(randsel)"
   ]
  },
  {
   "cell_type": "markdown",
   "metadata": {},
   "source": [
    "### Possible Student Assignment\n",
    "\n",
    "I might make an assignment here for the student to make a simple simulation that is at least mostly accurate to its real-world scenario. It must use:\n",
    "- A random value\n",
    "- At least one list or similar data type (dictionary, set, etc.)\n",
    "- Two different types of iteration"
   ]
  }
 ],
 "metadata": {
  "kernelspec": {
   "display_name": "Python 3.9.12 ('base')",
   "language": "python",
   "name": "python3"
  },
  "language_info": {
   "codemirror_mode": {
    "name": "ipython",
    "version": 3
   },
   "file_extension": ".py",
   "mimetype": "text/x-python",
   "name": "python",
   "nbconvert_exporter": "python",
   "pygments_lexer": "ipython3",
   "version": "3.9.12"
  },
  "orig_nbformat": 4,
  "vscode": {
   "interpreter": {
    "hash": "56f7c0ddbd8295fccb7b65a09bceb7bda050a1a7ed2857cec799e2d3d977289f"
   }
  }
 },
 "nbformat": 4,
 "nbformat_minor": 2
}
