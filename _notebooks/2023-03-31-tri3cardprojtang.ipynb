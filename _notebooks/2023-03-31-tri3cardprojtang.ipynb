{
 "cells": [
  {
   "cell_type": "markdown",
   "metadata": {},
   "source": [
    "# Tangibles for Week 1 Blackjack Simulation Work\n",
    "> The current progress on my lesson and the Python version of the simulation (using Objects!)\n",
    "- toc: true\n",
    "- title: Week 1 DVASS Tangibles - Drew Reed\n",
    "- permalink: /dvassweek1drew/\n",
    "- categories: [python]"
   ]
  },
  {
   "cell_type": "markdown",
   "metadata": {},
   "source": [
    "## Python Simulation Setup\n",
    "\n",
    "Below is my progress on the Python blackjack simulation, which can be used as the basis for the rest of the lessons.\n",
    "\n",
    "### Card Class\n",
    "\n",
    "I decided to use a class to define the cards and deck, since they'd be easier to interact with using the other functions."
   ]
  },
  {
   "cell_type": "code",
   "execution_count": 18,
   "metadata": {},
   "outputs": [
    {
     "data": {
      "text/plain": [
       "'Ace of Spades'"
      ]
     },
     "execution_count": 18,
     "metadata": {},
     "output_type": "execute_result"
    }
   ],
   "source": [
    "class Card:\n",
    "    def __init__(self, suit, val):\n",
    "        self.suit = suit\n",
    "        self.val = val\n",
    "        if val == 11:\n",
    "            self.kind = \"Ace\"\n",
    "        elif val == 12:\n",
    "            self.kind = \"Jack\"\n",
    "        elif val == 13:\n",
    "            self.kind = \"Queen\"\n",
    "        elif val == 14:\n",
    "            self.kind = \"King\"\n",
    "        else:\n",
    "            self.kind = str(self.val)\n",
    "\n",
    "    def show(self):\n",
    "        return f\"{self.kind} of {self.suit}\"\n",
    "    \n",
    "    def ace_adj(self):\n",
    "        if self.kind == \"Ace\":\n",
    "            self.val = 1\n",
    "\n",
    "card = Card(\"Spades\", 11)\n",
    "card.show()"
   ]
  },
  {
   "cell_type": "markdown",
   "metadata": {},
   "source": [
    "### Deck Class\n",
    "\n",
    "Here is a class that is able to form itself full of cards and shuffle."
   ]
  },
  {
   "cell_type": "code",
   "execution_count": 19,
   "metadata": {},
   "outputs": [
    {
     "name": "stdout",
     "output_type": "stream",
     "text": [
      "['3 of Spades', '6 of Hearts', '8 of Diamonds', 'King of Hearts', '4 of Spades', 'Ace of Diamonds', 'Jack of Diamonds', '4 of Hearts', '2 of Diamonds', '7 of Hearts', 'Queen of Diamonds', 'Jack of Spades', '5 of Clubs', '2 of Spades', 'Queen of Hearts', '4 of Clubs', 'King of Spades', 'Queen of Clubs', '9 of Hearts', '8 of Hearts', '7 of Spades', '6 of Clubs', 'Ace of Spades', 'King of Clubs', '7 of Clubs', '10 of Hearts', '5 of Hearts', 'Jack of Hearts', '3 of Diamonds', '5 of Diamonds', '7 of Diamonds', '10 of Clubs', '6 of Spades', 'Jack of Clubs', '3 of Clubs', 'Queen of Spades', '8 of Clubs', '9 of Clubs', 'Ace of Clubs', '8 of Spades', 'Ace of Hearts', '6 of Diamonds', 'King of Diamonds', '9 of Spades', '2 of Hearts', '4 of Diamonds', '10 of Diamonds', '9 of Diamonds', '10 of Spades', '2 of Clubs', '3 of Hearts', '5 of Spades']\n"
     ]
    }
   ],
   "source": [
    "import random\n",
    "\n",
    "class Deck:\n",
    "    def __init__(self):\n",
    "        self.cards = []\n",
    "        self.build()\n",
    "\n",
    "    def build(self):\n",
    "        for suit in [\"Spades\", \"Clubs\", \"Diamonds\", \"Hearts\"]:\n",
    "            for val in range (2, 15):\n",
    "                self.cards.append(Card(suit, val))\n",
    "    \n",
    "    def show(self):\n",
    "        card_disp = [card.show() for card in self.cards]\n",
    "        print(card_disp)\n",
    "    \n",
    "    def shuffle(self):\n",
    "        random.shuffle(self.cards)\n",
    "\n",
    "    def draw_card(self):\n",
    "        return self.cards.pop()\n",
    "\n",
    "deck = Deck()\n",
    "deck.shuffle()\n",
    "deck.show()"
   ]
  },
  {
   "cell_type": "markdown",
   "metadata": {},
   "source": [
    "### Blackjack Game Procedures\n",
    "\n",
    "Bringing the deck and the cards together, the code below simulates a game of blackjack.\n",
    "\n",
    "For simplicity, there is no splitting with pairs or doubling down at the moment. I may add this later."
   ]
  },
  {
   "cell_type": "code",
   "execution_count": 28,
   "metadata": {},
   "outputs": [
    {
     "name": "stdout",
     "output_type": "stream",
     "text": [
      "Current chips: 50\n",
      "Initial draws:\n",
      "The dealer draws: King of Diamonds\n",
      "You receive: 2 of Clubs\n",
      "The dealer draws a face-down card...\n",
      "You receive: 10 of Diamonds\n",
      "--------------------------------\n",
      "Dealer's hand: King of Diamonds, ???\n",
      "Your hand: 2 of Clubs, 10 of Diamonds\n",
      "You drew a 9 of Hearts!\n",
      "Your hand: 2 of Clubs, 10 of Diamonds, 9 of Hearts\n",
      "You stand.\n",
      "Dealer's hand: King of Diamonds, 7 of Spades\n",
      "The dealer stays.\n",
      "Congratulations! You won with a hand worth 21!\n",
      "You finished with 100 chips!\n"
     ]
    }
   ],
   "source": [
    "from IPython.display import clear_output as clr\n",
    "\n",
    "player_chips = 100\n",
    "\n",
    "def game_start():\n",
    "    clr(wait=True)\n",
    "    global player_hand #initializing hands and deck\n",
    "    global dealer_hand\n",
    "    global deck\n",
    "    global p_bet\n",
    "    deck = Deck()\n",
    "    deck.shuffle()\n",
    "    player_hand = []\n",
    "    dealer_hand = []\n",
    "    p_bet = bet(player_chips) #getting the player bet\n",
    "\n",
    "    print(\"Initial draws:\") #giving the initial draws\n",
    "    d1 = hit(dealer_hand)\n",
    "    print(f\"The dealer draws: {d1}\")\n",
    "    p1 = hit(player_hand)\n",
    "    print(f\"You receive: {p1}\")\n",
    "    d2 = hit(dealer_hand)\n",
    "    print(\"The dealer draws a face-down card...\")\n",
    "    p2 = hit(player_hand)\n",
    "    print(f\"You receive: {p2}\")\n",
    "    if sum(player_hand) == 21: #instant player win on blackjack\n",
    "        print(\"WOW! A blackjack! You win!\")\n",
    "        win(p_bet)\n",
    "    print(\"--------------------------------\")\n",
    "    print(f\"Dealer's hand: {d1}, ???\")\n",
    "    player_turn() #once player turn finishes, the dealer turn occurs\n",
    "\n",
    "    if player_chips != 0:\n",
    "        pa = input('Would you like to play again? (Input \"y\" for yes and \"n\" for no.)')\n",
    "        if pa.lower() == \"y\":\n",
    "            game_start()\n",
    "        else:\n",
    "            print(f\"You finished with {str(player_chips)} chips!\")\n",
    "            return\n",
    "    else:\n",
    "        print(\"You lost all of your chips! Better luck next time.\")\n",
    "\n",
    "def bet(chips):\n",
    "    print(f\"Current chips: {chips}\")\n",
    "    b = input(f\"How much would you like to bet? (Input an integer {str(player_chips)} or less.)\")\n",
    "    try:\n",
    "        if int(b) <= chips:\n",
    "            return int(b)\n",
    "    except:\n",
    "        print(\"Invalid bet.\")\n",
    "        bet(chips)\n",
    "\n",
    "def sum(hand):\n",
    "    sm = 0\n",
    "    for card in hand:\n",
    "        if card.val > 11:\n",
    "            sm += 10\n",
    "        else:\n",
    "            sm += card.val\n",
    "    if sm > 21:\n",
    "        for card in hand:\n",
    "            if card.val == 11:\n",
    "                card.ace_adj()\n",
    "                return sum(hand)\n",
    "    return sm\n",
    "\n",
    "def hit(hand):\n",
    "    res = deck.draw_card()\n",
    "    if (res.val == 11) and (sum(hand) + 11 > 21): #adjusting ace if it would break\n",
    "        res.ace_adj()\n",
    "    hand.append(res)\n",
    "    return res.show()\n",
    "\n",
    "def hand_display(hand):\n",
    "    disp_hand = []\n",
    "    for card in hand:\n",
    "        disp_hand.append(card.show())\n",
    "    return \", \".join(disp_hand)\n",
    "\n",
    "def player_turn():\n",
    "    print(f\"Your hand: {hand_display(player_hand)}\")\n",
    "    if sum(player_hand) > 21:\n",
    "        print(\"You break! You lose.\")\n",
    "        lose(p_bet)\n",
    "        return\n",
    "    rsp = input(\"Would you like to hit (h) or stay (s)? (input either option)\")\n",
    "    if rsp == \"h\":\n",
    "        received = hit(player_hand)\n",
    "        print(f\"You drew a {received}!\")\n",
    "        player_turn()\n",
    "    elif rsp == \"s\":\n",
    "        print(\"You stand.\")\n",
    "        dealer_turn()\n",
    "    else:\n",
    "        print('Invalid input. Input \"h\" to hit or \"s\" to stand.')\n",
    "        player_turn()\n",
    "\n",
    "def dealer_turn():\n",
    "    print(f\"Dealer's hand: {hand_display(dealer_hand)}\")\n",
    "    if sum(dealer_hand) > 16:\n",
    "        print(\"The dealer stays.\")\n",
    "        pass\n",
    "    else:\n",
    "        print(f\"The dealer draws: {hit(dealer_hand)}\")\n",
    "        if sum(dealer_hand) > 21:\n",
    "            print(\"The dealer breaks! You win.\")\n",
    "            win(p_bet)\n",
    "            return\n",
    "        dealer_turn()\n",
    "        return\n",
    "    if sum(player_hand) > sum(dealer_hand):\n",
    "        print(f\"Congratulations! You won with a hand worth {sum(player_hand)}!\")\n",
    "        win(p_bet)\n",
    "    elif sum(dealer_hand) > sum(player_hand):\n",
    "        print(f\"Too bad! You lost to the dealer's hand, worth {sum(dealer_hand)}.\")\n",
    "        lose(p_bet)\n",
    "    else:\n",
    "        print(\"It's a push! You keep your bet.\")\n",
    "    return\n",
    "\n",
    "def win(bet):\n",
    "    global player_chips\n",
    "    player_chips += bet\n",
    "    return\n",
    "\n",
    "def lose(bet):\n",
    "    global player_chips\n",
    "    player_chips -= bet\n",
    "    return\n",
    "\n",
    "game_start()"
   ]
  }
 ],
 "metadata": {
  "kernelspec": {
   "display_name": "Python 3.9.12 ('base')",
   "language": "python",
   "name": "python3"
  },
  "language_info": {
   "codemirror_mode": {
    "name": "ipython",
    "version": 3
   },
   "file_extension": ".py",
   "mimetype": "text/x-python",
   "name": "python",
   "nbconvert_exporter": "python",
   "pygments_lexer": "ipython3",
   "version": "3.9.12"
  },
  "orig_nbformat": 4,
  "vscode": {
   "interpreter": {
    "hash": "56f7c0ddbd8295fccb7b65a09bceb7bda050a1a7ed2857cec799e2d3d977289f"
   }
  }
 },
 "nbformat": 4,
 "nbformat_minor": 2
}
