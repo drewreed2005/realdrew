{
 "cells": [
  {
   "cell_type": "markdown",
   "metadata": {},
   "source": [
    "# Big Idea 1 - Identifying and Correcting Errors Notes\n",
    "> Showing understanding with execution. See code comments for comment.\n",
    "\n",
    "- title: Identifying and Correcting Errors Notes\n",
    "- comments: true\n",
    "- hide: false\n",
    "- search_exclude: false\n",
    "- permalink: /identifyingerrorsnotes/"
   ]
  },
  {
   "cell_type": "markdown",
   "metadata": {},
   "source": [
    "This first function exists to tell the user where in the alphabet a given letter is. Below is some work to fix certain problems with the program, the corrections being detailed with Python comments."
   ]
  },
  {
   "cell_type": "code",
   "execution_count": 1,
   "metadata": {},
   "outputs": [
    {
     "name": "stdout",
     "output_type": "stream",
     "text": [
      "['a', 'b', 'c', 'd', 'e', 'f', 'g', 'h', 'i', 'j', 'k', 'l', 'm', 'n', 'o', 'p', 'q', 'r', 's', 't', 'u', 'v', 'w', 'x', 'y', 'z']\n"
     ]
    }
   ],
   "source": [
    "alphabet = \"abcdefghijklmnopqrstuvwxyz\"\n",
    "\n",
    "alphabetList = []\n",
    "\n",
    "for i in alphabet:\n",
    "    alphabetList.append(i)\n",
    "\n",
    "print(alphabetList)"
   ]
  },
  {
   "cell_type": "code",
   "execution_count": 7,
   "metadata": {},
   "outputs": [
    {
     "name": "stdout",
     "output_type": "stream",
     "text": [
      "The letter z is the 26 letter in the alphabet\n"
     ]
    }
   ],
   "source": [
    "letter = input(\"What letter would you like to check?\")\n",
    "\n",
    "i = 0\n",
    "\n",
    "while i < 26:\n",
    "    if alphabetList[i] == letter:\n",
    "        print(\"The letter \" + letter + \" is the \" + str(i + 1) + \" letter in the alphabet\") #1 has been added to i to account for zero-based syntax.\n",
    "    i += 1"
   ]
  },
  {
   "cell_type": "code",
   "execution_count": 13,
   "metadata": {},
   "outputs": [
    {
     "name": "stdout",
     "output_type": "stream",
     "text": [
      "The letter b is the 2 letter in the alphabet\n"
     ]
    }
   ],
   "source": [
    "letter = input(\"What letter would you like to check?\")\n",
    "count = 0 #Count has been moved out of the function so that it can be overwritten by the input.\n",
    "\n",
    "for i in alphabetList:\n",
    "    if i == letter:\n",
    "        print(\"The letter \" + letter + \" is the \" + str(count + 1) + \" letter in the alphabet\") #1 is added to count to account for zero-based syntax.\n",
    "    count += 1"
   ]
  },
  {
   "cell_type": "markdown",
   "metadata": {},
   "source": [
    "The program below gives a list of even numbers less than or equal to 10. In the cell below it, we want it to print odd numbers instead."
   ]
  },
  {
   "cell_type": "code",
   "execution_count": 14,
   "metadata": {},
   "outputs": [
    {
     "name": "stdout",
     "output_type": "stream",
     "text": [
      "[0, 2, 4, 6, 8, 10]\n"
     ]
    }
   ],
   "source": [
    "evens = []\n",
    "i = 0\n",
    "\n",
    "while i <= 10:\n",
    "    evens.append(i)\n",
    "    i += 2\n",
    "\n",
    "print(evens)"
   ]
  },
  {
   "cell_type": "code",
   "execution_count": null,
   "metadata": {},
   "outputs": [],
   "source": [
    "odds = []\n",
    "i = 1 #The starting i value has been increased to one so that the list starts at 1 and 2 is added each loop.\n",
    "\n",
    "while i <= 10:\n",
    "    odds.append(i)\n",
    "    i += 2\n",
    "\n",
    "print(odds)"
   ]
  },
  {
   "cell_type": "markdown",
   "metadata": {},
   "source": [
    "The program below extracts even numbers from a list of numbers from 0 to 10. We want it to print odd numbers instead."
   ]
  },
  {
   "cell_type": "code",
   "execution_count": 18,
   "metadata": {},
   "outputs": [
    {
     "name": "stdout",
     "output_type": "stream",
     "text": [
      "[0, 2, 4, 6, 8, 10]\n"
     ]
    }
   ],
   "source": [
    "numbers = [0,1,2,3,4,5,6,7,8,9,10]\n",
    "evens = []\n",
    "\n",
    "for i in numbers:\n",
    "    if (numbers[i] % 2 == 0):\n",
    "        evens.append(numbers[i])\n",
    "\n",
    "print(evens)"
   ]
  },
  {
   "cell_type": "code",
   "execution_count": 20,
   "metadata": {},
   "outputs": [
    {
     "name": "stdout",
     "output_type": "stream",
     "text": [
      "[1, 3, 5, 7, 9]\n"
     ]
    }
   ],
   "source": [
    "numbers = [0,1,2,3,4,5,6,7,8,9,10]\n",
    "odds = []\n",
    "\n",
    "for i in numbers:\n",
    "    if (numbers[i] % 2 == 1): #remainder has been set to 1, as odd numbers give a remainder of 1 when divided by 2\n",
    "        odds.append(numbers[i])\n",
    "\n",
    "print(odds)"
   ]
  },
  {
   "cell_type": "markdown",
   "metadata": {},
   "source": [
    "The program below lists numbers between 1 and 100 once if it is divisible by 2 or 5."
   ]
  },
  {
   "cell_type": "code",
   "execution_count": 30,
   "metadata": {},
   "outputs": [
    {
     "name": "stdout",
     "output_type": "stream",
     "text": [
      "[2, 4, 5, 6, 8, 10, 12, 14, 15, 16, 18, 20, 22, 24, 25, 26, 28, 30, 32, 34, 35, 36, 38, 40, 42, 44, 45, 46, 48, 50, 52, 54, 55, 56, 58, 60, 62, 64, 65, 66, 68, 70, 72, 74, 75, 76, 78, 80, 82, 84, 85, 86, 88, 90, 92, 94, 95, 96, 98, 100]\n"
     ]
    }
   ],
   "source": [
    "numbers = []\n",
    "newNumbers = []\n",
    "i = 0\n",
    "\n",
    "while i <= 100: #we want to include 100, so it becomes \"<=\" instead of \"<\"\n",
    "    numbers.append(i)\n",
    "    i += 1\n",
    "\n",
    "for i in numbers:\n",
    "    if numbers[i] == 0: #prevents 0 from being included, as it's between 1 and 100\n",
    "        pass\n",
    "    elif numbers[i] % 5 == 0:\n",
    "        newNumbers.append(numbers[i])\n",
    "    elif numbers[i] % 2 == 0: #\"if\" changed to \"elif\" so that both conditions are considered\n",
    "        newNumbers.append(numbers[i])\n",
    "\n",
    "print(newNumbers)"
   ]
  },
  {
   "cell_type": "markdown",
   "metadata": {},
   "source": [
    "## Challenge\n",
    "\n",
    "Fixing the code below. What it does is mentioned in comments. Basically, it's a food menu. I decided to make it allow you to create an infinitely large order accounting for invalid inputs."
   ]
  },
  {
   "cell_type": "code",
   "execution_count": 31,
   "metadata": {},
   "outputs": [
    {
     "name": "stdout",
     "output_type": "stream",
     "text": [
      "Menu\n",
      "burger  $3.99\n",
      "fries  $1.99\n",
      "drink  $0.99\n",
      "0\n"
     ]
    }
   ],
   "source": [
    "menu =  {\"burger\": 3.99,\n",
    "         \"fries\": 1.99,\n",
    "         \"drink\": 0.99}\n",
    "total = 0\n",
    "\n",
    "#shows the user the menu and prompts them to select an item\n",
    "print(\"Menu\")\n",
    "for k,v in menu.items():\n",
    "    print(k + \"  $\" + str(v)) #why does v have \"str\" in front of it?\n",
    "\n",
    "#ideally the code should prompt the user multiple times\n",
    "item = input(\"Please select an item from the menu\")\n",
    "\n",
    "#code should add the price of the menu items selected by the user \n",
    "print(total)"
   ]
  },
  {
   "cell_type": "markdown",
   "metadata": {},
   "source": [
    "I input my order and the total remained at zero. It seems like there isn't any code in this program to add the price of the items in the dictionary `menu` to the total price of the order. This is a matter of adding some code that is completely absent.\n",
    "\n",
    "Please see the code comments to see all the things I changed as well as their purposes."
   ]
  },
  {
   "cell_type": "code",
   "execution_count": 44,
   "metadata": {},
   "outputs": [
    {
     "name": "stdout",
     "output_type": "stream",
     "text": [
      "Menu\n",
      "Burger  $3.99\n",
      "Fries  $1.99\n",
      "Drink  $0.99\n",
      "You ordered a burger.\n",
      "Your current total is $3.99.\n",
      "Is your order complete?\n",
      "Understood.\n",
      "Burger  $3.99\n",
      "Fries  $1.99\n",
      "Drink  $0.99\n",
      "What else would you like to order?\n",
      "You ordered fries.\n",
      "Your current total is $5.98.\n",
      "Is your order complete?\n",
      "Understood.\n",
      "Burger  $3.99\n",
      "Fries  $1.99\n",
      "Drink  $0.99\n",
      "What else would you like to order?\n",
      "You ordered a drink.\n",
      "Your current total is $6.97.\n",
      "Is your order complete?\n",
      "Understood.\n",
      "Your total is $6.97. Thank you for choosing Python's Pub.\n"
     ]
    }
   ],
   "source": [
    "#These two lists contain possible affirmative/negative responses (used later)\n",
    "affirmative = ['yes', 'Yes', 'yeah', 'Yeah', 'yup', 'Yup', 'y', 'Y', 'yea', 'Yea', 'mhm', 'Mhm', 'yep', 'Yep', 'Affirmative,' 'affirmative', 'sure', 'Sure', 'alright', 'Alright', 'okay', 'Okay', 'OK', 'ok', 'Ok']\n",
    "negative = ['No', 'no', 'Nope', 'nope', 'N', 'n', 'Nah', 'nah', 'nuh-uh', 'Nuh-uh', 'negative', 'Negative']\n",
    "#Capital and lowercase versions of all the responses are provided because this list was created before I knew how to force the string to be read as lower/uppercase\n",
    "\n",
    "menu =  {\"Burger\": 3.99,\n",
    "         \"Fries\": 1.99,\n",
    "         \"Drink\": 0.99}\n",
    "\n",
    "#shows the user the menu and prompts them to select an item\n",
    "print(\"Menu\")\n",
    "\n",
    "#ideally the code should prompt the user multiple times\n",
    "total = 0 #price is defined later here just so that it is defined first\n",
    "ordered = False\n",
    "def finish(): #function to allow the user to order another item\n",
    "    global fin\n",
    "    print(\"Is your order complete?\")\n",
    "    msg = input()\n",
    "    fin = msg.lower() #corrects for possible capitalized user response\n",
    "def finishcheck():\n",
    "    roundtotal = round(total, 2) #rounding to prevent certain sum errors with floats\n",
    "    print(\"Your current total is $\" + str(roundtotal) + \".\")\n",
    "    finish() #see just above\n",
    "    if fin in affirmative: #using affirmative bank to understand user responses\n",
    "        print(\"Understood.\")\n",
    "        return 0 #value to be read later (0 = stop)\n",
    "    elif fin in negative: #same but with negative\n",
    "        print(\"Understood.\")\n",
    "        return 1 #value to be read later (1 = continue)\n",
    "    else:\n",
    "        print(\"Invalid response.\")\n",
    "        finish() #repeating process when an invalid response is provided\n",
    "def order(): #defined as a function so that the process can be repeated\n",
    "    global total\n",
    "    global ordered\n",
    "    for k,v in menu.items(): #reprinting the menu for each order\n",
    "        print(k + \"  $\" + str(v))\n",
    "    if ordered == True:\n",
    "        print(\"What else would you like to order?\")\n",
    "    msg = input(\"Please select an item from the menu\")\n",
    "    item = msg.lower()\n",
    "    if item == \"burger\": #I probably should've found a way to iterate this :/\n",
    "        total += 3.99\n",
    "        print(\"You ordered a burger.\")\n",
    "        ordered = True\n",
    "        if finishcheck() == 0:\n",
    "            return\n",
    "        else: #using else to prevent a second instance of finishcheck()\n",
    "            order()\n",
    "    elif item == \"fries\":\n",
    "        total += 1.99\n",
    "        print(\"You ordered fries.\")\n",
    "        ordered = True\n",
    "        if finishcheck() == 0:\n",
    "            return\n",
    "        else:\n",
    "            order()\n",
    "    elif item == \"drink\":\n",
    "        total += 0.99\n",
    "        print(\"You ordered a drink.\")\n",
    "        ordered = True\n",
    "        if finishcheck() == 0:\n",
    "            return\n",
    "        else:\n",
    "            order()\n",
    "    else: #repeating the order process when an invalid input is provided\n",
    "        print(\"We do not serve that here.\")\n",
    "        order()\n",
    "\n",
    "order()\n",
    "#code should add the price of the menu items selected by the user\n",
    "roundtotal = round(total, 2) #rounding to prevent certain sum errors with floats\n",
    "print(\"Your total is $\" + str(roundtotal) + \". Thank you for choosing Python's Pub.\")"
   ]
  }
 ],
 "metadata": {
  "kernelspec": {
   "display_name": "Python 3.9.12 ('base')",
   "language": "python",
   "name": "python3"
  },
  "language_info": {
   "codemirror_mode": {
    "name": "ipython",
    "version": 3
   },
   "file_extension": ".py",
   "mimetype": "text/x-python",
   "name": "python",
   "nbconvert_exporter": "python",
   "pygments_lexer": "ipython3",
   "version": "3.9.12"
  },
  "orig_nbformat": 4,
  "vscode": {
   "interpreter": {
    "hash": "56f7c0ddbd8295fccb7b65a09bceb7bda050a1a7ed2857cec799e2d3d977289f"
   }
  }
 },
 "nbformat": 4,
 "nbformat_minor": 2
}
