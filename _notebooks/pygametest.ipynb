{
 "cells": [
  {
   "cell_type": "markdown",
   "metadata": {},
   "source": [
    "# Hide 2\n",
    "> Pygame test\n",
    "\n",
    "- title: Pygame test\n",
    "- comments: true\n",
    "- hide: true\n",
    "- search_exclude: true\n",
    "- permalink: /pygametest/"
   ]
  },
  {
   "cell_type": "code",
   "execution_count": 2,
   "metadata": {},
   "outputs": [
    {
     "ename": "KeyboardInterrupt",
     "evalue": "",
     "output_type": "error",
     "traceback": [
      "\u001b[0;31m---------------------------------------------------------------------------\u001b[0m",
      "\u001b[0;31mKeyboardInterrupt\u001b[0m                         Traceback (most recent call last)",
      "\u001b[1;32m/Users/mister_dew/vscode/realdrew/_notebooks/pygametest.ipynb Cell 1\u001b[0m in \u001b[0;36m<cell line: 21>\u001b[0;34m()\u001b[0m\n\u001b[1;32m     <a href='vscode-notebook-cell:/Users/mister_dew/vscode/realdrew/_notebooks/pygametest.ipynb#W0sZmlsZQ%3D%3D?line=19'>20</a>\u001b[0m done \u001b[39m=\u001b[39m \u001b[39mFalse\u001b[39;00m\n\u001b[1;32m     <a href='vscode-notebook-cell:/Users/mister_dew/vscode/realdrew/_notebooks/pygametest.ipynb#W0sZmlsZQ%3D%3D?line=20'>21</a>\u001b[0m \u001b[39mwhile\u001b[39;00m \u001b[39mnot\u001b[39;00m done:\n\u001b[0;32m---> <a href='vscode-notebook-cell:/Users/mister_dew/vscode/realdrew/_notebooks/pygametest.ipynb#W0sZmlsZQ%3D%3D?line=21'>22</a>\u001b[0m     \u001b[39mfor\u001b[39;00m event \u001b[39min\u001b[39;00m pygame\u001b[39m.\u001b[39;49mevent\u001b[39m.\u001b[39;49mget():\n\u001b[1;32m     <a href='vscode-notebook-cell:/Users/mister_dew/vscode/realdrew/_notebooks/pygametest.ipynb#W0sZmlsZQ%3D%3D?line=22'>23</a>\u001b[0m         \u001b[39mif\u001b[39;00m (event\u001b[39m.\u001b[39mtype \u001b[39m==\u001b[39m pygame\u001b[39m.\u001b[39mQUIT):\n\u001b[1;32m     <a href='vscode-notebook-cell:/Users/mister_dew/vscode/realdrew/_notebooks/pygametest.ipynb#W0sZmlsZQ%3D%3D?line=23'>24</a>\u001b[0m             done \u001b[39m=\u001b[39m \u001b[39mTrue\u001b[39;00m\n",
      "\u001b[0;31mKeyboardInterrupt\u001b[0m: "
     ]
    },
    {
     "ename": "",
     "evalue": "",
     "output_type": "error",
     "traceback": [
      "The Kernel crashed while executing code in the the current cell or a previous cell. Please review the code in the cell(s) to identify a possible cause of the failure. Click <a href='https://aka.ms/vscodeJupyterKernelCrash'>here</a> for more info. View Jupyter <a href='command:jupyter.viewOutput'>log</a> for further details."
     ]
    }
   ],
   "source": [
    "import pygame\n",
    "import tkinter as tk\n",
    "from tkinter import *\n",
    "from tkinter import ttk\n",
    "\n",
    "import contextlib\n",
    "with contextlib.redirect_stdout(None):\n",
    "    from pygame import mixer\n",
    "\n",
    "mixer.init()\n",
    "pygame.init()\n",
    "channel1 = pygame.mixer.Channel(0) # argument must be int\n",
    "channel2 = pygame.mixer.Channel(1)\n",
    "\n",
    "Project9pre = pygame.mixer.Sound('../music/Project 9 (Preloop).mp3')\n",
    "channel1.play(Project9pre)\n",
    "Project9loop = pygame.mixer.Sound('../music/Project 9 (Loop).mp3')\n",
    "pygame.time.set_timer(pygame.USEREVENT, 20253)\n",
    "clock = pygame.time.Clock()\n",
    "done = False\n",
    "while not done:\n",
    "    for event in pygame.event.get():\n",
    "        if (event.type == pygame.QUIT):\n",
    "            done = True\n",
    "        elif (event.type == pygame.USEREVENT):\n",
    "            # Timer expired, play the sound\n",
    "            channel2.play(Project9loop, -1)\n",
    "\n",
    "msg = input()\n",
    "if msg == \"stop\":\n",
    "    channel1.stop()\n",
    "    channel2.stop()"
   ]
  }
 ],
 "metadata": {
  "kernelspec": {
   "display_name": "Python 3.9.12 ('base')",
   "language": "python",
   "name": "python3"
  },
  "language_info": {
   "codemirror_mode": {
    "name": "ipython",
    "version": 3
   },
   "file_extension": ".py",
   "mimetype": "text/x-python",
   "name": "python",
   "nbconvert_exporter": "python",
   "pygments_lexer": "ipython3",
   "version": "3.9.12"
  },
  "orig_nbformat": 4,
  "vscode": {
   "interpreter": {
    "hash": "56f7c0ddbd8295fccb7b65a09bceb7bda050a1a7ed2857cec799e2d3d977289f"
   }
  }
 },
 "nbformat": 4,
 "nbformat_minor": 2
}
