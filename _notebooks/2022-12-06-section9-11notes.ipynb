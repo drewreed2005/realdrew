{
 "cells": [
  {
   "cell_type": "markdown",
   "metadata": {},
   "source": [
    "# Sections 9 and 11 (Developing Algorithms and Searching) Notes\n",
    "> Based on the lesson by Sophia Tang, Lily Wu, Alex Lu, and Ethan Zhao.\n",
    "- title: Developing Algorithms and Searching Lesson Notes\n",
    "- toc: true\n",
    "- permalink: /sections9&11notes/"
   ]
  },
  {
   "cell_type": "markdown",
   "metadata": {},
   "source": [
    "## Developing Algothims (Python)\n",
    "\n",
    "An algorithm is a set of actions that are taken to achieve a certain result. There are many algorithms that can be used to achieve a certain result.\n",
    "\n",
    "### Determining Outcomes\n",
    "\n",
    "Below are some cells that we had to determine the outcomes of."
   ]
  },
  {
   "cell_type": "code",
   "execution_count": 1,
   "metadata": {},
   "outputs": [
    {
     "name": "stdout",
     "output_type": "stream",
     "text": [
      "True\n"
     ]
    }
   ],
   "source": [
    "def mystery(num, num2):\n",
    "    if (num % num2 == 0):\n",
    "        print(\"True\")\n",
    "    else:\n",
    "        print(\"False\")\n",
    "\n",
    "mystery(20, 4)"
   ]
  },
  {
   "cell_type": "markdown",
   "metadata": {},
   "source": [
    "<mark>1. What does the algorithm do? Please explain in words.</mark>\n",
    "\n",
    "The algorithm checks if the first number `num` is evenly divisible by the second number `num2`, and if it is, prints \"True\". If else, it prints false.\n",
    "\n",
    "<mark>2. What if I put in 30 as num and 4 as num2. What would be the output?</mark>\n",
    "\n",
    "The output would be \"False\", as 30 is not evenly divisible by 4 (since `30 / 4 = 7.5`)."
   ]
  },
  {
   "cell_type": "markdown",
   "metadata": {},
   "source": [
    "### Editing Algorithms\n",
    "\n",
    "See the code cells below."
   ]
  },
  {
   "cell_type": "code",
   "execution_count": 13,
   "metadata": {},
   "outputs": [
    {
     "name": "stdout",
     "output_type": "stream",
     "text": [
      "it is too hot outside\n"
     ]
    }
   ],
   "source": [
    "temp = 95\n",
    "if (temp >= 90):\n",
    "    print(\"it is too hot outside\")\n",
    "else:\n",
    "    if (temp >= 65):\n",
    "        print(\"I will go outside\")\n",
    "    else:\n",
    "        print(\"it is too cold outside\")"
   ]
  },
  {
   "cell_type": "code",
   "execution_count": 15,
   "metadata": {},
   "outputs": [
    {
     "name": "stdout",
     "output_type": "stream",
     "text": [
      "it is too hot outside\n",
      "i will go outside\n"
     ]
    }
   ],
   "source": [
    "temp = 95\n",
    "if (temp >= 90):\n",
    "    print(\"it is too hot outside\")\n",
    "if (temp >= 65):\n",
    "    print(\"i will go outside\")\n",
    "if (temp < 65):\n",
    "    print(\"it is too cold outside\")"
   ]
  },
  {
   "cell_type": "markdown",
   "metadata": {},
   "source": [
    "We were asked to edit the second algorithm to make it the same as the first and to make it work with any number. Here it is:"
   ]
  },
  {
   "cell_type": "code",
   "execution_count": 14,
   "metadata": {},
   "outputs": [
    {
     "name": "stdout",
     "output_type": "stream",
     "text": [
      "it is too hot outside\n"
     ]
    }
   ],
   "source": [
    "temp = 95\n",
    "if (temp >= 90):\n",
    "    print(\"it is too hot outside\")\n",
    "elif (temp < 65):\n",
    "    print(\"it is too cold outside\")\n",
    "else:\n",
    "    print(\"i will go outside\")"
   ]
  },
  {
   "cell_type": "markdown",
   "metadata": {},
   "source": [
    "And this shows that it works the same with any number:"
   ]
  },
  {
   "cell_type": "code",
   "execution_count": 17,
   "metadata": {},
   "outputs": [
    {
     "name": "stdout",
     "output_type": "stream",
     "text": [
      "The temperature is 71 degrees.\n",
      "i will go outside\n"
     ]
    }
   ],
   "source": [
    "import random\n",
    "temp = random.randrange(30, 100)\n",
    "print(\"The temperature is {} degrees.\".format(temp))\n",
    "if (temp >= 90):\n",
    "    print(\"it is too hot outside\")\n",
    "elif (temp < 65):\n",
    "    print(\"it is too cold outside\")\n",
    "else:\n",
    "    print(\"i will go outside\")"
   ]
  },
  {
   "cell_type": "markdown",
   "metadata": {},
   "source": [
    "### Task\n",
    "\n",
    "We were given this code as an example. It is supposed to do this:\n",
    "\n",
    "- The sum of the first integer is 1.\n",
    "- Then, increase that integer by 1. I now add 2 to my existing sum (1). My new sum is 3.\n",
    "- Repeat until I add 5 to my sum. The resulting sum is 15."
   ]
  },
  {
   "cell_type": "code",
   "execution_count": 3,
   "metadata": {},
   "outputs": [
    {
     "name": "stdout",
     "output_type": "stream",
     "text": [
      "15\n"
     ]
    }
   ],
   "source": [
    "sum = 0 # start with a sum of 0\n",
    "for i in range (1, 6): # you will repeat the process five times for integers 1-5\n",
    "    sum = sum + i # add the number to your sum\n",
    "print(sum) # print the result"
   ]
  },
  {
   "cell_type": "markdown",
   "metadata": {},
   "source": [
    "We are expected to make an algorithm to add up the first five odd integers. I did it with the step aspect of the `range` function."
   ]
  },
  {
   "cell_type": "code",
   "execution_count": 12,
   "metadata": {},
   "outputs": [
    {
     "name": "stdout",
     "output_type": "stream",
     "text": [
      "25\n"
     ]
    }
   ],
   "source": [
    "sum = 0\n",
    "for i in range(1, 11, 2): #skips from 1 to 3, 5, 7, and finally 9 (11 is the cap)\n",
    "    sum = sum + i\n",
    "print(sum)"
   ]
  },
  {
   "cell_type": "markdown",
   "metadata": {},
   "source": [
    "### Homework\n",
    "\n",
    "We were asked to use an algorithm to make the Collatz Conjecture. Conditions:\n",
    "\n",
    "- Start with any positive integer\n",
    "- If the number is even, divide by 2\n",
    "- The number is odd, multiply by 3 and add 1\n",
    "- Repeat steps 2 and 3 until you reach 1"
   ]
  },
  {
   "cell_type": "code",
   "execution_count": 12,
   "metadata": {},
   "outputs": [
    {
     "name": "stdout",
     "output_type": "stream",
     "text": [
      "16\n",
      "8\n",
      "4\n",
      "2\n",
      "1\n"
     ]
    }
   ],
   "source": [
    "integer = 5\n",
    "\n",
    "while integer != 1:\n",
    "    if (integer % 2 == 0):\n",
    "        integer = int(integer / 2)\n",
    "    else:\n",
    "        integer = (integer * 3) + 1\n",
    "    print(integer)"
   ]
  },
  {
   "cell_type": "markdown",
   "metadata": {},
   "source": [
    "## Developing Algorithms (JavaScript)\n",
    "\n",
    "This is the same basic concept as before but in JavaScript. Vocab carries over. I skipped review becauses it's all review and I'm solid on it.\n",
    "\n",
    "### Conditionals vs. Booleans\n",
    "\n",
    "Conditionals can be used in conjunction with Booleans. This is a cell from their lesson."
   ]
  },
  {
   "cell_type": "code",
   "execution_count": null,
   "metadata": {
    "vscode": {
     "languageId": "javascript"
    }
   },
   "outputs": [],
   "source": [
    "sunny = true;\n",
    "rainy = false;\n",
    "if (sunny) {\n",
    "    umbrella = false; \n",
    "} else if (rainy) {\n",
    "    umbrella = true; \n",
    "} else {\n",
    "    umbrella = false; \n",
    "}\n",
    "\n",
    "console.log(umbrella);"
   ]
  },
  {
   "cell_type": "markdown",
   "metadata": {},
   "source": [
    "It is the same as this."
   ]
  },
  {
   "cell_type": "code",
   "execution_count": null,
   "metadata": {
    "vscode": {
     "languageId": "javascript"
    }
   },
   "outputs": [],
   "source": [
    "umbrella = !sunny && rainy;\n",
    "\n",
    "console.log(umbrella);"
   ]
  },
  {
   "cell_type": "markdown",
   "metadata": {},
   "source": [
    "A way to check if they're the same is to see if the outputs of the four possibilities result in the same outcomes."
   ]
  },
  {
   "cell_type": "markdown",
   "metadata": {},
   "source": [
    "### Challenge\n",
    "\n",
    "We were asked as an extra credit challenge to create a system that uses an IP address and a subnet mask to determine a network address. Here is my working JavaScript code."
   ]
  },
  {
   "cell_type": "code",
   "execution_count": 18,
   "metadata": {
    "vscode": {
     "languageId": "javascript"
    }
   },
   "outputs": [
    {
     "name": "stdout",
     "output_type": "stream",
     "text": [
      "11111011.01010100.00000000.00000001\n",
      "11111111.11111111.11111111.00000000\n",
      "11111011.01010100.00000000.00000000\n",
      "251.84.0.0\n"
     ]
    }
   ],
   "source": [
    "const IP = \"251.84.0.1\";\n",
    "const SNM = \"255.255.255.0\";\n",
    "\n",
    "function DecimalToBinary(deci) {\n",
    "    var i = 7;\n",
    "    var binary = \"\";\n",
    "    while (i >= 0) {\n",
    "        if (deci % (2**i) === deci) {\n",
    "            binary += \"0\";\n",
    "            i -= 1;\n",
    "        } else {\n",
    "            binary += \"1\";\n",
    "            deci -= 2**i;\n",
    "            i -= 1;\n",
    "        };\n",
    "    };\n",
    "    return binary;\n",
    "};\n",
    "\n",
    "function BinaryToDecimal(bin) {\n",
    "  var i = 0;\n",
    "  var deci = 0;\n",
    "  while (i < 8) {\n",
    "    if (bin[i] === \"1\") {\n",
    "      deci += (2**(7 - i));\n",
    "    };\n",
    "    i += 1;\n",
    "  };\n",
    "  return deci\n",
    "};\n",
    "\n",
    "function AddressToBinary(ad) {\n",
    "  tempdeci = \"\";\n",
    "  templist = [];\n",
    "  binaddress = \"\";\n",
    "  for (let i = 0; i < ad.length; i++) {\n",
    "    if (ad[i] !== \".\") {\n",
    "      tempdeci += ad[i];\n",
    "    } else {\n",
    "      templist.push(tempdeci);\n",
    "      tempdeci = \"\";\n",
    "    };\n",
    "  };\n",
    "  templist.push(tempdeci);\n",
    "  for (let i = 0; i < templist.length; i++) {\n",
    "    binaddress += DecimalToBinary(Number(templist[i]));\n",
    "    if (i < 3) {\n",
    "      binaddress += \".\";\n",
    "    };\n",
    "  };\n",
    "  console.log(binaddress);\n",
    "  return binaddress;\n",
    "};\n",
    "\n",
    "function AddressToDecimal(ad) {\n",
    "  tempdeci = \"\";\n",
    "  templist = [];\n",
    "  deciaddress = \"\";\n",
    "  for (let i = 0; i < ad.length; i++) {\n",
    "    if (ad[i] !== \".\") {\n",
    "      tempdeci += ad[i];\n",
    "    } else {\n",
    "      templist.push(tempdeci);\n",
    "      tempdeci = \"\";\n",
    "    };\n",
    "  };\n",
    "  templist.push(tempdeci);\n",
    "  for (let i = 0; i < templist.length; i++) {\n",
    "    deciaddress += BinaryToDecimal(templist[i]);\n",
    "    if (i < 3) {\n",
    "      deciaddress += \".\";\n",
    "    };\n",
    "  };\n",
    "  console.log(deciaddress);\n",
    "  return deciaddress;\n",
    "};\n",
    "\n",
    "function NetAddressConvert(ip, snm) {\n",
    "  tempnetadd = \"\";\n",
    "  ip = AddressToBinary(ip);\n",
    "  snm = AddressToBinary(snm);\n",
    "  for (let i = 0; i < 35; i++) {\n",
    "    if((ip[i] === \"1\") && (snm[i] === \"1\")) {\n",
    "      tempnetadd += \"1\"\n",
    "    } else if (ip[i] === \".\") {\n",
    "      tempnetadd += \".\";\n",
    "    } else {\n",
    "      tempnetadd += \"0\";\n",
    "    };\n",
    "  };\n",
    "  console.log(tempnetadd);\n",
    "  tempnetadd = AddressToDecimal(tempnetadd);\n",
    "  return tempnetadd;\n",
    "};\n",
    "\n",
    "NetAddressConvert(IP, SNM)"
   ]
  },
  {
   "cell_type": "markdown",
   "metadata": {},
   "source": [
    "#### How it Works\n",
    "\n",
    "I know it's pretty complicated and I didn't make any code comments, but here's how it works.\n",
    "\n",
    "I made four functions for convenience, two being ones I already made (though one was just in Python before): `DecimalToBinary()`, which converts a decimal input to 8-bit binary; `BinaryToDecimal()`, which converts an 8-bit binary input to decimal; `AddressToBinary()`, which converts an IP address or subnet mask from decimal to binary; and `AddressToDecimal()`, which converts an IP address or subnet mask from binary to decimal.\n",
    "\n",
    "The `NetAddressConvert()` function that satisfies the conditions of the assignment takes a decimal IP address and decimal subnet mask (in any order) as parameters, converts them to binary, then procedurally creates the network address by checking (using `&&`) if both bits at a certain index on the IP and subnet mask are \"1\" (adding a \"1\" if true), and if they aren't, it adds a \"0\" to the network address. Where there are periods in the IP, to ensure the same formatting, a period is placed in the network address.\n",
    "\n",
    "The example above uses 251.84.0.1 as the IP address and 255.255.255.0 as the subnet mask. The program works with all other IP addresses and subnet masks, however, as long as they stay within the legitimate bounds of 8-bit binary."
   ]
  },
  {
   "cell_type": "markdown",
   "metadata": {},
   "source": [
    "## Searching Introduction\n",
    "\n",
    "Searching algorithms exist to find data in a program. This can be done with sequences or intervals.\n",
    "\n",
    "### Sequential Search\n",
    "\n",
    "Here is an example of a sequential search algorithm."
   ]
  },
  {
   "cell_type": "code",
   "execution_count": 18,
   "metadata": {},
   "outputs": [],
   "source": [
    "def sequentialSearch(arr, target):\n",
    "    N = len(arr)                     # Declare N as length of array\n",
    "    for i in range(N):               # Iterate over the list\n",
    "        if arr[i] == target:         # Check for match\n",
    "            return i                 # Match found, return index and end function call\n",
    "    return -1                        # Element not found"
   ]
  },
  {
   "cell_type": "markdown",
   "metadata": {},
   "source": [
    "## Binary Search\n",
    "\n",
    "Binary search essentially checks for how close data is relative to what is being looked for. If an array exists and looks like this (`[1, 2, 3, 4, 5, 6, 7]`) (and it's important for it to be ordered in this case), a search that is looking for `6` and starts in the middle (returns `4`), the program knows `4 < 6` and would loop only further up. Same if it was a lower number.\n",
    "\n",
    "Copied from their blog:\n",
    "\n",
    ">This algorithm is extremely efficient as the maximum number of cycles in binary search is equal to log base 2 of the closest, next power of two, to length of list.\n",
    "\n",
    ">If the array is 8 items long, the maximum possible cycles would be 3 (log base 2 of 8 is 3)\n",
    "\n",
    ">If the array is 7 items long, the maximum possible cycles would STILL be 3 as the closest power of 2 to 7 is 8.\n",
    "\n",
    ">If the array is 9 items long, the maximum possible cycles INCREASES to 4, as the closest, next power of two, is 16.\"\n",
    "\n",
    "Here's a code example they provided:"
   ]
  },
  {
   "cell_type": "code",
   "execution_count": 21,
   "metadata": {},
   "outputs": [],
   "source": [
    "def binarySearch(array, target):\n",
    "    low = 0\n",
    "    high = len(array)-1\n",
    "    while high >= low:\n",
    "        mid = (high + low) // 2 #floor division, rounds it down to the nearest whole\n",
    "        if array[mid] == target:\n",
    "            return mid\n",
    "        elif array[mid] > target:\n",
    "            high = mid-1\n",
    "        else:\n",
    "            low = mid+1\n",
    "    return False   "
   ]
  },
  {
   "cell_type": "markdown",
   "metadata": {},
   "source": [
    "And here it is in action."
   ]
  },
  {
   "cell_type": "code",
   "execution_count": 22,
   "metadata": {},
   "outputs": [
    {
     "data": {
      "text/plain": [
       "8"
      ]
     },
     "execution_count": 22,
     "metadata": {},
     "output_type": "execute_result"
    }
   ],
   "source": [
    "examplearray = [3, 4, 5, 6, 7, 8, 9, 10, 11]\n",
    "binarySearch(examplearray, 11)"
   ]
  },
  {
   "cell_type": "markdown",
   "metadata": {},
   "source": [
    "Here's a version of it in a recursive loop. We already talked about converting between while and recursive loops, so no need to go crazy over it. It requires more parameters."
   ]
  },
  {
   "cell_type": "code",
   "execution_count": null,
   "metadata": {},
   "outputs": [],
   "source": [
    "def BinarySearchRecursion(arr, target, lo, hi):\n",
    "    if lo > hi:\n",
    "        return False\n",
    "    mid = (lo+hi)//2\n",
    "    if arr[mid] == target:\n",
    "        return mid\n",
    "    elif arr[mid] > target:\n",
    "        return BinarySearchRecursion(arr, target, lo, mid-1)\n",
    "    elif arr[mid] < target:\n",
    "        return BinarySearchRecursion(arr, target, mid+1, hi)"
   ]
  },
  {
   "cell_type": "markdown",
   "metadata": {},
   "source": [
    "### Homework\n",
    "\n",
    "Problem: Given a specific integer N, return the square root of N (R) if N is a perfect square, otherwise, return the square root of N rounded down to the nearest integer\n",
    "\n",
    "Input: N (Integer)\n",
    "\n",
    "Output: R (Integer)\n",
    "\n",
    "Constraints: Do not use any built-in math operations such as `sqrt(x)` or `x**(0.5)`, Try complete the problem in logarithmic time.\n",
    "\n",
    "Run the very last code segment below to load test cases and submission function."
   ]
  },
  {
   "cell_type": "code",
   "execution_count": 1,
   "metadata": {},
   "outputs": [
    {
     "name": "stdout",
     "output_type": "stream",
     "text": [
      "7\n"
     ]
    }
   ],
   "source": [
    "def sqrt(N):\n",
    "    low = 0\n",
    "    high = N\n",
    "    if N > 1:\n",
    "        high = (N // 2)\n",
    "    while high >= low:\n",
    "        mid = (high + low) // 2 #floor division, rounds it down to the nearest whole\n",
    "        if (mid**2) == N:\n",
    "            return mid\n",
    "        elif (mid**2) > N:\n",
    "            high = mid - 1\n",
    "        else:\n",
    "            low = mid + 1\n",
    "    return False   \n",
    "\n",
    "print(sqrt(49))"
   ]
  },
  {
   "cell_type": "code",
   "execution_count": 2,
   "metadata": {},
   "outputs": [
    {
     "name": "stdout",
     "output_type": "stream",
     "text": [
      "Check number 1 passed\n",
      "Check number 2 passed\n",
      "Check number 3 passed\n",
      "Check number 4 passed\n",
      "Check number 5 passed\n",
      "Check number 6 passed\n",
      "Check number 7 passed\n",
      "Check number 8 passed\n",
      "Check number 9 passed\n",
      "Check number 10 passed\n",
      "Check number 11 passed\n",
      "Check number 12 passed\n",
      "Check number 13 passed\n"
     ]
    }
   ],
   "source": [
    "from math import sqrt as sq\n",
    "test_cases = [0,1,4,85248289,22297284,18939904,91107025,69122596,9721924,37810201,1893294144,8722812816,644398225]\n",
    "answers = [int(sq(x)) for x in test_cases]\n",
    "\n",
    "def checkValid():\n",
    "    for i in range(len(test_cases)):\n",
    "        if sqrt(test_cases[i]) == answers[i]:\n",
    "            print(\"Check number {} passed\".format(i+1))\n",
    "        else:\n",
    "            print(\"Check number {} failed\".format(i+1))\n",
    "\n",
    "checkValid()"
   ]
  },
  {
   "cell_type": "markdown",
   "metadata": {},
   "source": [
    "#### Explanation\n",
    "\n",
    "I used binary search by setting the low to 0 and the high to the target squared (N), and mid started with half of that squared number (rounded). Mid moves up/down based on how the squared number compared to the number in question squared.\n",
    "\n",
    "#### The Process\n",
    "\n",
    "I started by making a system that listed all values between 0 and the number in question, which obviously took a lot longer because that process had to run before the search. I then tried a sequential search, which made it take even longer and felt a whole lot more amateur.\n",
    "\n",
    "I talked with Alex and realized how stupid the list thing was. I ended up just using the number that was being rooted as the high for a binary search and checked the units between 0 and it squared."
   ]
  }
 ],
 "metadata": {
  "kernelspec": {
   "display_name": "Python 3.8.13 64-bit",
   "language": "python",
   "name": "python3"
  },
  "language_info": {
   "codemirror_mode": {
    "name": "ipython",
    "version": 3
   },
   "file_extension": ".py",
   "mimetype": "text/x-python",
   "name": "python",
   "nbconvert_exporter": "python",
   "pygments_lexer": "ipython3",
   "version": "3.8.13"
  },
  "orig_nbformat": 4,
  "vscode": {
   "interpreter": {
    "hash": "0adcc2737ebf6a4a119f135174df96668767fca1ef1112612db5ecadf2b6d608"
   }
  }
 },
 "nbformat": 4,
 "nbformat_minor": 2
}
