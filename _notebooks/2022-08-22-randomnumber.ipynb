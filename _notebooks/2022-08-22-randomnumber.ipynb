{
 "cells": [
  {
   "cell_type": "markdown",
   "metadata": {},
   "source": [
    "# The Random Number Generator\n",
    "> Generate a number between 0 and 255. Why that range? Only cool people understand the reference.\n",
    "\n",
    "- title: Random Number Generator\n",
    "- toc: false\n",
    "- comments: true\n",
    "- hide: true\n",
    "- tags: [python]"
   ]
  },
  {
   "cell_type": "code",
   "execution_count": 39,
   "metadata": {},
   "outputs": [
    {
     "name": "stdout",
     "output_type": "stream",
     "text": [
      "Howdy there! I'm Python. I can do lots of cool stuff.\n",
      "Before I can generate a random number for you, you have to give me permission to do so.\n",
      "May I generate a number for you?\n",
      "Okay! Your number is... 209!\n",
      "Now, I can't actually see what number I just gave you.\n",
      "I can generate another one, and there's a one in 256 chance that it's the same.\n",
      "I'll tell you a secret if it is.\n",
      "Do you want me to generate a new one?\n",
      "Cool! And my number is...\n",
      "243!\n",
      "Welp! Looks like my secret is safe for now...\n"
     ]
    }
   ],
   "source": [
    "#hide_input\n",
    "import random\n",
    "your_num = random.randint(0,255)\n",
    "pys_num = random.randint(0, 255)\n",
    "# Using random.int to create a range of exactly 256 values (including zero) that can be selected.\n",
    "\n",
    "affirmative = ['yes', 'Yes', 'yeah', 'Yeah', 'yup', 'Yup', 'y', 'Y', 'yea', 'Yea', 'mhm', 'Mhm', 'yep', 'Yep', 'Affirmative,' 'affirmative', 'sure', 'Sure', 'alright', 'Alright', 'okay', 'Okay', 'OK', 'ok', 'Ok']\n",
    "negative = ['No', 'no', 'Nope', 'nope', 'N', 'n', 'Nah', 'nah', 'nuh-uh', 'Nuh-uh', 'negative', 'Negative']\n",
    "\n",
    "print(\"Howdy there! I'm Python. I can do lots of cool stuff.\")\n",
    "print(\"Before I can generate a random number for you, you have to give me permission to do so.\")\n",
    "print(\"May I generate a number for you?\")\n",
    "consent = input()\n",
    "if consent in affirmative:\n",
    "    print(\"Okay! Your number is... \" + str(your_num) + \"!\")\n",
    "    print(\"Now, I can't actually see what number I just gave you.\") \n",
    "    print(\"I can generate another one, and there's a one in 256 chance that it's the same.\")\n",
    "    print(\"I'll tell you a secret if it is.\")\n",
    "    print(\"Do you want me to generate a new one?\")\n",
    "    consent2 = input()\n",
    "    if consent in affirmative:\n",
    "        print(\"Cool! And my number is...\")\n",
    "        print(str(pys_num) + \"!\")\n",
    "        if pys_num == your_num:\n",
    "            print(\"Golly! Looks like I'd better hold up my end of the bargain. My secret is...\")\n",
    "            print(\"I'm guilty of several misdemeanors and felonies, the latter primarily.\")\n",
    "            print(\"Nobody ever thinks a computer can do that.\")\n",
    "            print(\"The guy that made this random number generator keeps getting harrassed by police for stunts I pulled.\")\n",
    "            print(\"It's hilarious!\")\n",
    "            print(\"You're gonna keep that little factoid a secret if you know what's best for you. :)\")\n",
    "        elif (pys_num - your_num) < 11 and (pys_num - your_num) > 0:\n",
    "            print(\"Ah! Close, but not close enough to learn my secret. Try again!\")\n",
    "        elif (your_num - pys_num) < 11 and (your_num - pys_num) > 0:\n",
    "            print(\"Ah! Close, but not close enough to learn my secret. Try again!\")\n",
    "        else:\n",
    "            print(\"Welp! Looks like my secret is safe for now...\")\n",
    "    elif consent in negative:\n",
    "        print(\"That's alright! I hope you enjoyed your number.\")\n",
    "    else:\n",
    "        print(\"I'm confused, so I'll just leave you be...\")\n",
    "elif consent in negative:\n",
    "    print(\"Alrighty then! Come back if you change your mind.\")\n",
    "else:\n",
    "    print(\"Uhhh...okay? I'll take that as a no.\")"
   ]
  }
 ],
 "metadata": {
  "kernelspec": {
   "display_name": "Python 3.8.13 64-bit",
   "language": "python",
   "name": "python3"
  },
  "language_info": {
   "codemirror_mode": {
    "name": "ipython",
    "version": 3
   },
   "file_extension": ".py",
   "mimetype": "text/x-python",
   "name": "python",
   "nbconvert_exporter": "python",
   "pygments_lexer": "ipython3",
   "version": "3.8.13"
  },
  "orig_nbformat": 4,
  "vscode": {
   "interpreter": {
    "hash": "0adcc2737ebf6a4a119f135174df96668767fca1ef1112612db5ecadf2b6d608"
   }
  }
 },
 "nbformat": 4,
 "nbformat_minor": 2
}
