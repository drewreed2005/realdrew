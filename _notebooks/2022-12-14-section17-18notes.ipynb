{
 "cells": [
  {
   "attachments": {},
   "cell_type": "markdown",
   "metadata": {},
   "source": [
    "# Sections 17 and 18 (Algorithmic Efficiency and Undecidable Problems) Notes\n",
    "> Based on the lesson by Colin, Keira, Harsha, and Shreyas.\n",
    "- title: Algorithmic Efficiency and Undecidable Problems Lesson Notes\n",
    "- toc: true\n",
    "- permalink: /sections17-18notes/\n",
    "- categories: [Student Teaching]"
   ]
  },
  {
   "attachments": {},
   "cell_type": "markdown",
   "metadata": {},
   "source": [
    "## 3.17 Algorithmic Efficiency"
   ]
  },
  {
   "attachments": {},
   "cell_type": "markdown",
   "metadata": {},
   "source": [
    "### Vocabulary\n",
    "\n",
    "I filled in the vocabulary below.\n",
    "\n",
    "- Problem: A general description of a task that can or cannot be solved algorithmically\n",
    "    - Decision Problem: A problem with a yes or no answer\n",
    "    - Organization Problem: A problem with a goal of finding the best answer\n",
    "- Instance: A problem with a specific input\n",
    "- Efficiency: Amount of computing needed to solve a problem\n",
    "    - Polynomial Efficiency (Good): More work takes a proportional amount of time (1 job is +2 time)\n",
    "    - Exponential Efficiency (Bad): More work takes an exponential amount more time (1 job is 2x time)\n",
    "- Heuristic Approach: When optimal solutions are inefficient, look for a possibly optimal solution that is more efficient\n",
    "- Decidable Problem: A decision problem that has a clear solution that will always make a correct output\n",
    "- Undecidable Problem: A decision problem with no solution that is not gaurenteed to produce the correct output\n"
   ]
  },
  {
   "attachments": {},
   "cell_type": "markdown",
   "metadata": {},
   "source": [
    "### Notes\n",
    "\n",
    "- We can check efficiency by seeing how long it takes to run a function. For example, using the time module below, we can see how long it takes to run this process one million times."
   ]
  },
  {
   "cell_type": "code",
   "execution_count": 1,
   "metadata": {},
   "outputs": [
    {
     "name": "stdout",
     "output_type": "stream",
     "text": [
      "3\n",
      "1.6013290882110596 seconds\n"
     ]
    }
   ],
   "source": [
    "import time\n",
    "\n",
    "def toint(x):\n",
    "    x = int(x)\n",
    "    return(x)\n",
    "\n",
    "def tostr(x):\n",
    "    x = str(x)\n",
    "    return(x)\n",
    "\n",
    "def add(x,y):\n",
    "    x = toint(x)\n",
    "    y = toint(y)\n",
    "    z = x + y\n",
    "    z = tostr(z)\n",
    "    return(z)\n",
    "starttime = time.time()\n",
    "for i in range(1000000):\n",
    "    x = \"1\"\n",
    "    y = \"2\"\n",
    "    answer = add(x,y)\n",
    "print(answer)\n",
    "endtime = time.time()\n",
    "print(endtime-starttime,'seconds')"
   ]
  },
  {
   "cell_type": "markdown",
   "metadata": {},
   "source": [
    "- There's some amount of difference between systems on efficiency. It only took me 1.6 seconds while it took the instructor's computer around 3.75 seconds.\n",
    "- In general, <mark>exponential is much less efficient</mark> than polynomial because the amount of necessary cycles increases by a lot more each time.\n",
    "- A Heuristic Approach sacrifices optimal solutions to improve efficiency and ease of programming"
   ]
  },
  {
   "attachments": {},
   "cell_type": "markdown",
   "metadata": {},
   "source": [
    "### Challenge\n",
    "\n",
    "We were asked to make this code more efficient using only the code between the two provided lines. I did so below by making it a binary search algorithm."
   ]
  },
  {
   "cell_type": "code",
   "execution_count": 10,
   "metadata": {},
   "outputs": [
    {
     "name": "stdout",
     "output_type": "stream",
     "text": [
      "0.9853568077087402 seconds\n"
     ]
    }
   ],
   "source": [
    "import time\n",
    "numlist = [1,3,5,7,9,11,13,15,17,19]\n",
    "valuelist = [0,3,6,9,12,15,18,21]\n",
    "def isvalue(value,array):\n",
    "    #----------\n",
    "    high = (len(array) - 1)\n",
    "    low = 0\n",
    "    while high >= low:\n",
    "        mid = (high + low) // 2\n",
    "        if array[mid] == value:\n",
    "            return True\n",
    "        elif array[mid] > value:\n",
    "            high = mid - 1\n",
    "        else:\n",
    "            low = mid + 1\n",
    "    return False\n",
    "    #----------\n",
    "starttime = time.time()\n",
    "for i in range(100000):\n",
    "    for i in range(len(valuelist)):\n",
    "        x = isvalue(valuelist[i],numlist)\n",
    "endtime = time.time()\n",
    "print(endtime-starttime,'seconds') "
   ]
  },
  {
   "cell_type": "markdown",
   "metadata": {},
   "source": [
    "I managed to decrease the execution time to about 0.98 seconds using binary search."
   ]
  },
  {
   "attachments": {},
   "cell_type": "markdown",
   "metadata": {},
   "source": [
    "## 3.18 Undecidable Problems"
   ]
  },
  {
   "attachments": {},
   "cell_type": "markdown",
   "metadata": {},
   "source": [
    "### Notes\n",
    "- The Halting Problem is essentially a paradox. Whenever a computer gets a paradoxical problem, it doesn't know when to stop trying to solve it.\n",
    "    - This is the reason why computers time out when a site will not load."
   ]
  },
  {
   "attachments": {},
   "cell_type": "markdown",
   "metadata": {},
   "source": [
    "# Homework!\n",
    "\n",
    "Make an algorithm that finds the fastest route that hits every location once starting and ending at Del Norte. Make sure to show your thinking. If you are strugling, try using a huristic approach. Remember, what matters more than having perfectly functioning code is that you tried your hardest."
   ]
  },
  {
   "cell_type": "code",
   "execution_count": 2,
   "metadata": {},
   "outputs": [],
   "source": [
    "# RUN THIS CODE --- DO NOT EDIT\n",
    "dataset = {\n",
    "    'DelNorte':{\n",
    "        'Westview':15,\n",
    "        'MtCarmel':20,\n",
    "        'Poway':35,\n",
    "        'RanchoBernardo':50\n",
    "    },\n",
    "    'Westview':{\n",
    "        'DelNorte':15,\n",
    "        'MtCarmel':35,\n",
    "        'Poway':25,\n",
    "        'RanchoBernardo': 45\n",
    "    },\n",
    "    'MtCarmel':{\n",
    "        'Westview':35,\n",
    "        'DelNorte':20,\n",
    "        'Poway':40,\n",
    "        'RanchoBernardo':30\n",
    "    },\n",
    "    'Poway':{\n",
    "        'Westview':25,\n",
    "        'MtCarmel':40,\n",
    "        'DelNorte':35,\n",
    "        'RanchoBernardo':15\n",
    "    },\n",
    "    'RanchoBernardo':{\n",
    "        'Westview':45,\n",
    "        'MtCarmel':30,\n",
    "        'Poway':15,\n",
    "        'DelNorte':50\n",
    "    }\n",
    "}"
   ]
  },
  {
   "cell_type": "code",
   "execution_count": 3,
   "metadata": {},
   "outputs": [
    {
     "name": "stdout",
     "output_type": "stream",
     "text": [
      "Route Order:\n",
      "1. DelNorte\n",
      "2. Westview\n",
      "3. Poway\n",
      "4. RanchoBernardo\n",
      "5. MtCarmel\n",
      "6. DelNorte\n",
      "Drive Time: 105 minutes\n"
     ]
    }
   ],
   "source": [
    "def fastestroute(start, data):\n",
    "    drivetime = 0\n",
    "    order = [start]\n",
    "    temploc = \"\"\n",
    "    for i in range(len(data) - 1):\n",
    "        temptime = 10000\n",
    "        for loc, time in data[order[(len(order) - 1)]].items():\n",
    "            if (time <= temptime) and (loc not in order):\n",
    "                temploc = loc\n",
    "                temptime = time\n",
    "        drivetime += temptime\n",
    "        order.append(temploc)\n",
    "    drivetime += data[order[(len(order) - 1)]][start]\n",
    "    order.append(start)\n",
    "    return (drivetime, order)\n",
    "\n",
    "start = 'DelNorte'\n",
    "results = fastestroute(start, dataset)\n",
    "print(\"Route Order:\")\n",
    "i = 0\n",
    "while i < len(results[1]):\n",
    "    print(str(i + 1) + \".\", results[1][i])\n",
    "    i += 1\n",
    "print(\"Drive Time:\", results[0], \"minutes\")"
   ]
  },
  {
   "cell_type": "markdown",
   "metadata": {},
   "source": [
    "To calculate the fastest route, I started by putting the `start` as the first entry in `order`. It then runs a for loop that detects the dictionary assigned to the furthest-back index of `order` within the given data set, finds which destination has the shortest travel time (as long as it isn't already in the order), and then adds it to the order. It ends by putting the initial destination to the end of the order.\n",
    "\n",
    "All the while, it adds the calculated least travel time to the `drivetime` variable, which is returned at the end.\n",
    "\n",
    "I made sure that it worked very efficiently, primarily running entirely through a single for loop."
   ]
  },
  {
   "attachments": {},
   "cell_type": "markdown",
   "metadata": {},
   "source": [
    "### Grading:\n",
    "|Challenge|Homework|\n",
    "|---|---|\n",
    "|.15 pts for attempt|.65 for attempt|\n",
    "|.20 pts for complete|.70 for complete|\n",
    "|.25 pts for above and beyond|.75 pts for above and beyond|\n"
   ]
  }
 ],
 "metadata": {
  "kernelspec": {
   "display_name": "Python 3.8.13 64-bit",
   "language": "python",
   "name": "python3"
  },
  "language_info": {
   "codemirror_mode": {
    "name": "ipython",
    "version": 3
   },
   "file_extension": ".py",
   "mimetype": "text/x-python",
   "name": "python",
   "nbconvert_exporter": "python",
   "pygments_lexer": "ipython3",
   "version": "3.8.13"
  },
  "orig_nbformat": 4,
  "vscode": {
   "interpreter": {
    "hash": "0adcc2737ebf6a4a119f135174df96668767fca1ef1112612db5ecadf2b6d608"
   }
  }
 },
 "nbformat": 4,
 "nbformat_minor": 2
}
