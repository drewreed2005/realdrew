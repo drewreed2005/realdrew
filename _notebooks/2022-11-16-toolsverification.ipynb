{
 "cells": [
  {
   "cell_type": "markdown",
   "metadata": {},
   "source": [
    "# Verifying Tools (Again)\n",
    "> Showing that everything (still) works.\n",
    "- title: Trimester 2 Tools Verification\n",
    "- toc: true\n",
    "- permalink: /toolverification/\n",
    "- categories: [javascript], [python]"
   ]
  },
  {
   "cell_type": "markdown",
   "metadata": {},
   "source": [
    "## Javascript\n",
    "\n",
    "Here's me using Javascript in a Markdown cell to make a button that displays \"Javascript works on my site, doubter.\" when pressed. I used the HTML `<script>` tag to do this.\n",
    "\n",
    "<button id=\"changetext\">Press for Proof</button>\n",
    "<p id=\"displaytext\">\n",
    "    You haven't pressed the button yet...\n",
    "</p>\n",
    "<script>\n",
    "    var pressed = false\n",
    "    var thebutton = document.getElementById(\"changetext\");\n",
    "    thebutton.onclick = function() {\n",
    "        pressed = true\n",
    "        document.getElementById(\"displaytext\").innerHTML = \"Javascript works on my site, doubter.\";\n",
    "        console.log(pressed)\n",
    "    };\n",
    "</script>"
   ]
  }
 ],
 "metadata": {
  "kernelspec": {
   "display_name": "Python 3.8.13 64-bit",
   "language": "python",
   "name": "python3"
  },
  "language_info": {
   "name": "python",
   "version": "3.8.13"
  },
  "orig_nbformat": 4,
  "vscode": {
   "interpreter": {
    "hash": "0adcc2737ebf6a4a119f135174df96668767fca1ef1112612db5ecadf2b6d608"
   }
  }
 },
 "nbformat": 4,
 "nbformat_minor": 2
}
