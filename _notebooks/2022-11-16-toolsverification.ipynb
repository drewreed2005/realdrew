{
 "cells": [
  {
   "cell_type": "markdown",
   "metadata": {},
   "source": [
    "# Verifying Tools (Again)\n",
    "> Showing that everything (still) works.\n",
    "- title: Trimester 2 Tools Verification\n",
    "- hide: true\n",
    "- search-exclude: true\n",
    "- permalink: /tools2/"
   ]
  },
  {
   "cell_type": "markdown",
   "metadata": {},
   "source": [
    "## Javascript\n",
    "\n",
    "Here's me using Javascript in a Markdown cell to make a button that displays \"Javascript works on my site, doubter.\" when pressed. I used the HTML `<script>` tag to do this.\n",
    "\n",
    "<button id=\"changetext\">Press for Proof</button>\n",
    "<p id=\"displaytext\">\n",
    "    You haven't pressed the button yet...\n",
    "</p>\n",
    "<script>\n",
    "    var pressed = false\n",
    "    var thebutton = document.getElementById(\"changetext\");\n",
    "    thebutton.onclick = function() {\n",
    "        if (pressed == true) {\n",
    "            document.getElementById(\"displaytext\").innerHTML = \"*Sizzle, sizzle*\";\n",
    "            thebutton.innerHTML = \"All done :)\";\n",
    "            return;\n",
    "        };\n",
    "        pressed = true;\n",
    "        document.getElementById(\"displaytext\").innerHTML = \"Javascript works on my site, doubter.\";\n",
    "        console.log(pressed);\n",
    "        thebutton.innerHTML = \"Press to destroy the evidence\";\n",
    "    };\n",
    "</script>"
   ]
  },
  {
   "cell_type": "markdown",
   "metadata": {},
   "source": [
    "## Python\n",
    "\n",
    "Below is a Python cell that picks which number is larger based on two inputs."
   ]
  },
  {
   "cell_type": "code",
   "execution_count": 4,
   "metadata": {},
   "outputs": [
    {
     "name": "stdout",
     "output_type": "stream",
     "text": [
      "Please input the first number.\n",
      "That's an invalid input. Please input an integer or a decimal.\n",
      "Please input the first number.\n",
      "Please input the second number.\n",
      "The second number, 2.3, is greater.\n"
     ]
    }
   ],
   "source": [
    "def getfirstnum():\n",
    "    print(\"Please input the first number.\")\n",
    "    try:\n",
    "        global number1\n",
    "        number1 = float(input())\n",
    "        temp = number1 + 1\n",
    "    except:\n",
    "        print(\"That's an invalid input. Please input an integer or a decimal.\")\n",
    "        getfirstnum()\n",
    "def getsecondnum():\n",
    "    print(\"Please input the second number.\")\n",
    "    try:\n",
    "        global number2\n",
    "        number2 = float(input())\n",
    "        temp = number2 + 1\n",
    "    except:\n",
    "        print(\"That's an invalid input. Please input an integer or a decimal.\")\n",
    "        getsecondnum()\n",
    "getfirstnum()\n",
    "getsecondnum()\n",
    "if (number1 - number2) < 0:\n",
    "    print(\"The second number, \" + str(number2) + \", is greater.\")\n",
    "elif (number1 - number2) > 0:\n",
    "    print(\"The first number, \" + str(number1) + \", is greater.\")\n",
    "else:\n",
    "    print(\"The two numbers are equal to each other.\")"
   ]
  },
  {
   "cell_type": "markdown",
   "metadata": {},
   "source": [
    "## Local Server\n",
    "\n",
    "Here's proof that my website is up and runnning through my local server (as of the publication of this post).\n",
    "\n",
    "<figure>\n",
    "  <img src=\"{{site.baseurl}}/images/runningonlocalserver.png\" alt=\"Didn't load :(\" width=\"600\"/>\n",
    "  <figcaption>Look at the link!</figcaption>\n",
    "</figure>"
   ]
  }
 ],
 "metadata": {
  "kernelspec": {
   "display_name": "Python 3.8.13 64-bit",
   "language": "python",
   "name": "python3"
  },
  "language_info": {
   "codemirror_mode": {
    "name": "ipython",
    "version": 3
   },
   "file_extension": ".py",
   "mimetype": "text/x-python",
   "name": "python",
   "nbconvert_exporter": "python",
   "pygments_lexer": "ipython3",
   "version": "3.8.13"
  },
  "orig_nbformat": 4,
  "vscode": {
   "interpreter": {
    "hash": "0adcc2737ebf6a4a119f135174df96668767fca1ef1112612db5ecadf2b6d608"
   }
  }
 },
 "nbformat": 4,
 "nbformat_minor": 2
}
