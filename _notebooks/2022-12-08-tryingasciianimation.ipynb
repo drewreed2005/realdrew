{
 "cells": [
  {
   "cell_type": "markdown",
   "metadata": {},
   "source": [
    "# Trying ASCII Animations\n",
    "> Looking into doing some animating.\n",
    "- title: Trying ASCII Animations\n",
    "- toc: false\n",
    "- permalink: /tryingpythonascii/"
   ]
  },
  {
   "cell_type": "markdown",
   "metadata": {},
   "source": [
    "## What?\n",
    "\n",
    "The goal is to offset a certain ASCII image in a way to create an animation."
   ]
  },
  {
   "cell_type": "code",
   "execution_count": 1,
   "metadata": {},
   "outputs": [
    {
     "name": "stdout",
     "output_type": "stream",
     "text": [
      "\u001b[0m\u001b[2D\n",
      "                                                              |\\   \n",
      "                                                              |/   \n",
      "\u001b[32m\u001b[2D                                                          \\__ |__/ \n",
      "                                                           \\____/  \n",
      "\u001b[34m\u001b[2D----------------------------------------------------------------------\u001b[0m\u001b[2D\n"
     ]
    }
   ],
   "source": [
    "\"\"\"\n",
    "* Creator: Nighthawk Coding Society\n",
    "Sailing Ship Animation (programatic method)\n",
    "\"\"\"\n",
    "\n",
    "import time # used for delay\n",
    "from IPython.display import clear_output  # jupyter specific clear\n",
    "\n",
    "\n",
    "# ANSI Color Codes\n",
    "OCEAN_COLOR = u\"\\u001B[34m\\u001B[2D\"\n",
    "SHIP_COLOR = u\"\\u001B[32m\\u001B[2D\"\n",
    "RESET_COLOR = u\"\\u001B[0m\\u001B[2D\"\n",
    "\n",
    "def ship_print(position):  # print ship with colors and leading spaces according to position\n",
    "    clear_output(wait=True)\n",
    "    print(RESET_COLOR)\n",
    "    \n",
    "    sp = \" \" * position\n",
    "    print(sp + \"    |\\   \")\n",
    "    print(sp + \"    |/   \")\n",
    "    print(SHIP_COLOR, end=\"\")\n",
    "    print(sp + \"\\__ |__/ \")\n",
    "    print(sp + \" \\____/  \")\n",
    "    print(OCEAN_COLOR + \"--\"*35 + RESET_COLOR)\n",
    "\n",
    "\n",
    "def ship():  # ship function, loop/controller for animation speed and times\n",
    "    # loop control variables\n",
    "    start = 0  # start at zero\n",
    "    distance = 60  # how many times to repeat\n",
    "    step = 2  # count by 2\n",
    "\n",
    "    # loop purpose is to animate ship sailing\n",
    "    for position in range(start, distance, step):\n",
    "        ship_print(position)  # call to function with parameter\n",
    "        time.sleep(.2)\n",
    "\n",
    "        \n",
    "ship() # activate/call ship function"
   ]
  }
 ],
 "metadata": {
  "kernelspec": {
   "display_name": "Python 3.8.13 64-bit",
   "language": "python",
   "name": "python3"
  },
  "language_info": {
   "codemirror_mode": {
    "name": "ipython",
    "version": 3
   },
   "file_extension": ".py",
   "mimetype": "text/x-python",
   "name": "python",
   "nbconvert_exporter": "python",
   "pygments_lexer": "ipython3",
   "version": "3.8.13"
  },
  "orig_nbformat": 4,
  "vscode": {
   "interpreter": {
    "hash": "0adcc2737ebf6a4a119f135174df96668767fca1ef1112612db5ecadf2b6d608"
   }
  }
 },
 "nbformat": 4,
 "nbformat_minor": 2
}
