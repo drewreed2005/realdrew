{
 "cells": [
  {
   "cell_type": "markdown",
   "metadata": {},
   "source": [
    "# Sections 1-2 (Variables & Assignments and Data Abstraction) Lesson Notes\n",
    "> Based on the presentation by Tay, Aditya, Rohan, and Dillon.\n",
    "- title: Variables & Assignments and Data Abstraction Lesson Notes\n",
    "- hide: false\n",
    "- search-exclude: false\n",
    "- permalink: /sections1-2notes/"
   ]
  },
  {
   "cell_type": "markdown",
   "metadata": {},
   "source": [
    "## Variables and Assignments\n",
    "\n",
    "Key Points:\n",
    "\n",
    "### In Python\n",
    "\n",
    "Defining a variable by setting it equal to the type of variable. "
   ]
  },
  {
   "cell_type": "code",
   "execution_count": 21,
   "metadata": {},
   "outputs": [
    {
     "name": "stdout",
     "output_type": "stream",
     "text": [
      "25\n",
      "word\n",
      "[1, 2, 3, 4, 5]\n",
      "['a', 'b', 'c', 'd', 'e']\n",
      "False\n"
     ]
    }
   ],
   "source": [
    "#copied from their blog\n",
    "#defining all the variables using the equal sign\n",
    "numbervariable = 25\n",
    "stringvariable = \"word\"\n",
    "numberlist = [1, 2, 3, 4, 5]\n",
    "stringlist = [\"a\", \"b\", \"c\", \"d\", \"e\"]\n",
    "israining = False\n",
    "\n",
    "#printing all the defined variables\n",
    "print(numbervariable)\n",
    "print(stringvariable)\n",
    "print(numberlist)\n",
    "print(stringlist)\n",
    "print(israining)"
   ]
  },
  {
   "cell_type": "markdown",
   "metadata": {},
   "source": [
    "Variables can be modified through mathematical expressions, lists, dictionaries and more.\n",
    "\n",
    "Variables can be interchanged through functions like this."
   ]
  },
  {
   "cell_type": "code",
   "execution_count": 22,
   "metadata": {},
   "outputs": [],
   "source": [
    "#copied from their blog\n",
    "var1 = \"word\"  # defining first variable\n",
    "var2 = \"number\"  # defining second variable\n",
    "temp = var1   # defining temporary variable using the first variable\n",
    "var1 = var2   # changing the first variable value as the second variable value\n",
    "var2 = temp   # changing the second variable value to the first variable value"
   ]
  },
  {
   "cell_type": "markdown",
   "metadata": {},
   "source": [
    "### In JavaScript\n",
    "\n",
    "Variables in JavaScript have a different syntax. You can use `var`, `const` or `let` before the desired variable name, then set it equal to the variable's value."
   ]
  },
  {
   "cell_type": "code",
   "execution_count": 1,
   "metadata": {
    "vscode": {
     "languageId": "javascript"
    }
   },
   "outputs": [
    {
     "name": "stdout",
     "output_type": "stream",
     "text": [
      "See? This works!\n"
     ]
    }
   ],
   "source": [
    "var x = \"See?\"\n",
    "const y = \"This\"\n",
    "let z = \"works!\"\n",
    "console.log(x, y, z)"
   ]
  },
  {
   "cell_type": "markdown",
   "metadata": {},
   "source": [
    "Otherwise, it works pretty much the same in terms of mechanics. One difference has to do with how the scale of a variable is determined, but that isn't covered in the lesson."
   ]
  },
  {
   "cell_type": "markdown",
   "metadata": {},
   "source": [
    "## Data Abstraction\n",
    "\n",
    "Key Points:\n",
    "- Remember that the indexes in AP materials start at 1 for some reason!\n",
    "\n",
    "### In Python\n",
    "\n",
    "Data abstraction is most often done through dictionaries and lists. Below is a code cell provided by the teachers which shows multiple more functions of Python that are useful in terms of data abstraction (for example, `id()` and using `+=` to add `['cookies']`)."
   ]
  },
  {
   "cell_type": "code",
   "execution_count": 1,
   "metadata": {},
   "outputs": [
    {
     "name": "stdout",
     "output_type": "stream",
     "text": [
      "4385360576\n",
      "4385360576\n",
      "['milk', 'pasta', 'eggs', 'spam', 'bread', 'rice']\n",
      "['milk', 'pasta', 'eggs', 'spam', 'bread', 'rice', 'cookies']\n",
      "4385360576\n",
      "['milk', 'pasta', 'eggs', 'spam', 'bread', 'rice', 'cookies']\n",
      "['milk', 'pasta', 'eggs', 'spam', 'bread', 'rice', 'cookies']\n",
      "Adding cream\n",
      "['milk', 'pasta', 'eggs', 'spam', 'bread', 'rice', 'cookies', 'cream']\n",
      "['milk', 'pasta', 'eggs', 'spam', 'bread', 'rice', 'cookies', 'cream']\n",
      "['milk', 'pasta', 'eggs', 'spam', 'bread', 'rice', 'cookies', 'cream']\n"
     ]
    }
   ],
   "source": [
    "shopping_list = [\"milk\",\n",
    "                 \"pasta\",\n",
    "                 \"eggs\",\n",
    "                 \"spam\",\n",
    "                 \"bread\",\n",
    "                 \"rice\"\n",
    "                 ] # list syntax is \"[]\"\n",
    "another_list = shopping_list\n",
    "print(id(shopping_list)) # each object has a uniques id; the id() function returns this id for the specifies object\n",
    "print(id(another_list)) # As shopping_list is attritibuted to another_list, the id for both are the same as the object in questiom does not change\n",
    "print(another_list)\n",
    "\n",
    "shopping_list += [\"cookies\"] # adding cookies to the list\n",
    "print(shopping_list)\n",
    "print(id(shopping_list)) # the id does not change\n",
    "print(another_list)\n",
    "\n",
    "a = b = c = d = e = f = another_list # it is possibe to atrribute the same object to various variables\n",
    "print(a)\n",
    "\n",
    "print(\"Adding cream\")\n",
    "# .append() is a function which can be used to place new items into old lists \n",
    "b.append(\"cream\") # changes in one of the variables chnges all the lists in other as the object in question is the same.\n",
    "print(a)\n",
    "print(c)\n",
    "print(d)"
   ]
  },
  {
   "cell_type": "markdown",
   "metadata": {},
   "source": [
    "Properties stated within lists (or dictionaries) can be used to divide a list into more precise lists."
   ]
  },
  {
   "cell_type": "code",
   "execution_count": 2,
   "metadata": {},
   "outputs": [
    {
     "name": "stdout",
     "output_type": "stream",
     "text": [
      "Shrubs ['Andromeda - Shrub', 'Hydrangea - Shrub', 'Japanese Camellia - Shrub', 'Lavender - Shrub', 'Lilac - Shrub', 'Magnolia - Shrub', 'Peony - Shrub', 'Witch Hazel - Shrub']\n",
      "Flowers ['Bellflower - Flower', 'China Pink - Flower', 'Daffodil - Flower', 'Evening Primrose - Flower', 'French Marigold - Flower', 'Iris - Flower', \"Queen Anne's Lace - Flower\", 'Red Hot Poker - Flower', 'Snapdragon - Flower', 'Sunflower - Flower', 'Tiger Lily - Flower']\n"
     ]
    }
   ],
   "source": [
    "data = [\n",
    "    \"Andromeda - Shrub\",\n",
    "    \"Bellflower - Flower\",\n",
    "    \"China Pink - Flower\",\n",
    "    \"Daffodil - Flower\",\n",
    "    \"Evening Primrose - Flower\",\n",
    "    \"French Marigold - Flower\",\n",
    "    \"Hydrangea - Shrub\",\n",
    "    \"Iris - Flower\",\n",
    "    \"Japanese Camellia - Shrub\",\n",
    "    \"Lavender - Shrub\",\n",
    "    \"Lilac - Shrub\",\n",
    "    \"Magnolia - Shrub\",\n",
    "    \"Peony - Shrub\",\n",
    "    \"Queen Anne's Lace - Flower\",\n",
    "    \"Red Hot Poker - Flower\",\n",
    "    \"Snapdragon - Flower\",\n",
    "    \"Sunflower - Flower\",\n",
    "    \"Tiger Lily - Flower\",\n",
    "    \"Witch Hazel - Shrub\",\n",
    "]\n",
    "\n",
    "# two empty lists\n",
    "flowers = []\n",
    "shrubs = []\n",
    "\n",
    "for plant in data: # A for loop that goes through each item in the list\n",
    "    if \"Flower\" in plant:\n",
    "        flowers.append(plant) # executed if \"flowers\" is in the item\n",
    "    elif \"Flower\" not in plant:\n",
    "        shrubs.append(plant) # executed if \"shrubs\" is in the item\n",
    "print(\"Shrubs {}\".format(shrubs)) # The format() method formats the specified value(s) and insert them inside the string's placeholder. The placeholder is defined using curly brackets: {}\n",
    "print(\"Flowers {}\".format(flowers))"
   ]
  },
  {
   "cell_type": "markdown",
   "metadata": {},
   "source": [
    "Individual elements inside lists can be abstracted through for loops."
   ]
  },
  {
   "cell_type": "code",
   "execution_count": 3,
   "metadata": {},
   "outputs": [
    {
     "name": "stdout",
     "output_type": "stream",
     "text": [
      "5\n",
      "Album: Welcome to my nightmare, Artist: Alice cooper, year: 1975\n",
      "Album: Bad Company, Artist: Bad Company, year: 1974\n",
      "Album: Nightflight, Artist: Budgie, year: 1981\n",
      "Album: More Mayhem, Artist: Emilda May, year: 2011\n",
      "Album: Ride the Lightning, Artist: Metallica, year: 1984\n"
     ]
    }
   ],
   "source": [
    "albums = [(\"Welcome to my nightmare\", \"Alice cooper\", 1975),\n",
    "          (\"Bad Company\", \"Bad Company\", 1974),\n",
    "          (\"Nightflight\", \"Budgie\", 1981),\n",
    "          (\"More Mayhem\", \"Emilda May\", 2011),\n",
    "          (\"Ride the Lightning\", \"Metallica\", 1984),\n",
    "          ]\n",
    "print(len(albums)) # number of items in the list\n",
    "\n",
    "for name, artist, year in albums: \n",
    "    print(\"Album: {}, Artist: {}, year: {}\"\n",
    "          .format(name, artist, year)) #returns a segregated and labled presentation of the songs"
   ]
  },
  {
   "cell_type": "markdown",
   "metadata": {},
   "source": [
    "List elements can be split and joined through the `split()` and `join()` functions. Look at how the syntax works."
   ]
  },
  {
   "cell_type": "code",
   "execution_count": 4,
   "metadata": {},
   "outputs": [
    {
     "name": "stdout",
     "output_type": "stream",
     "text": [
      "['the', 'quick', 'brown', 'fox', 'jumps', 'over', 'the', 'lazy', 'dog']\n",
      "['9', '223', '372', '036', '854', '775', '807']\n",
      "9 223 372 036 854 775 807 \n",
      "['9', '223', '372', '036', '854', '775', '807']\n"
     ]
    }
   ],
   "source": [
    "panagram = \"\"\"the quick brown\n",
    "fox jumps\\tover \n",
    "the lazy dog\"\"\"\n",
    "\n",
    "words = panagram.split() # splitting the string above into individual words. Separator here is any whitespace.\n",
    "print(words)\n",
    "\n",
    "numbers = \"9,223,372,036,854,775,807\"\n",
    "print(numbers.split(\",\")) # separator is \",\"\n",
    "\n",
    "generated_list = ['9', ' ',\n",
    "                  '2', '2', '3', ' ',\n",
    "                  '3', '7', '2', ' ',\n",
    "                  '0', '3', '6', ' ',\n",
    "                  '8', '5', '4', ' ',\n",
    "                  '7', '7', '5', ' ',\n",
    "                  '8', '0', '7', ' ',\n",
    "                  ]\n",
    "values = \"\".join(generated_list) # converting the list into a string\n",
    "print(values)\n",
    "\n",
    "values_list = values.split() # separator is any whitespace\n",
    "print(values_list)"
   ]
  },
  {
   "cell_type": "markdown",
   "metadata": {},
   "source": [
    "### In JavaScript\n",
    "\n",
    "Here is a large example provided by the instructors to show JavaScript data abstraction.\n",
    "\n",
    "Below sets up functions to create the new \"Player\" object."
   ]
  },
  {
   "cell_type": "code",
   "execution_count": 4,
   "metadata": {
    "vscode": {
     "languageId": "javascript"
    }
   },
   "outputs": [
    {
     "name": "stdout",
     "output_type": "stream",
     "text": [
      "Player {\n",
      "  name: 'Bob Melvin',\n",
      "  position: 'Catcher',\n",
      "  average: '.233',\n",
      "  role: '' }\n",
      "{\"name\":\"Bob Melvin\",\"position\":\"Catcher\",\"average\":\".233\",\"role\":\"\"}\n",
      "Player {\n",
      "  name: 'Bob Melvin',\n",
      "  position: 'Catcher',\n",
      "  average: '.233',\n",
      "  role: 'Manager' }\n",
      "{\"name\":\"Bob Melvin\",\"position\":\"Catcher\",\"average\":\".233\",\"role\":\"Manager\"}\n"
     ]
    }
   ],
   "source": [
    "function Player(name, position, average) { // make a function \n",
    "    this.name = name; // different categories\n",
    "    this.position = position;\n",
    "    this.average = average;\n",
    "    this.role = \"\";\n",
    "}\n",
    "\n",
    "Player.prototype.setRole = function(role) { // whatever input we put into roles, it will be stored.\n",
    "    this.role = role;\n",
    "}\n",
    "\n",
    "Player.prototype.toJSON = function() {\n",
    "    const obj = {name: this.name, position: this.position, average: this.average, role: this.role};\n",
    "    const json = JSON.stringify(obj);\n",
    "    return json;\n",
    "}\n",
    "\n",
    "var manager = new Player(\"Bob Melvin\", \"Catcher\", \".233\"); // new player, including all the categories\n",
    "console.log(manager);\n",
    "console.log(manager.toJSON());\n",
    "\n",
    "manager.setRole(\"Manager\");\n",
    "console.log(manager);\n",
    "console.log(manager.toJSON());"
   ]
  },
  {
   "cell_type": "markdown",
   "metadata": {},
   "source": [
    "And here, the function is used in a list to create many players."
   ]
  },
  {
   "cell_type": "code",
   "execution_count": 5,
   "metadata": {
    "vscode": {
     "languageId": "javascript"
    }
   },
   "outputs": [
    {
     "name": "stdout",
     "output_type": "stream",
     "text": [
      "[ Player {\n",
      "    name: 'Bob Melvin',\n",
      "    position: 'Catcher',\n",
      "    average: '.233',\n",
      "    role: 'Manager' },\n",
      "  Player {\n",
      "    name: 'Manny Machado',\n",
      "    position: 'Third Base',\n",
      "    average: '.299',\n",
      "    role: 'Player' },\n",
      "  Player {\n",
      "    name: 'Trent Grisham',\n",
      "    position: 'Center Field',\n",
      "    average: '.185',\n",
      "    role: 'Player' },\n",
      "  Player {\n",
      "    name: 'Jake Cronenworth',\n",
      "    position: 'Second Base',\n",
      "    average: '.238',\n",
      "    role: 'Player' },\n",
      "  Player {\n",
      "    name: 'Jurickson Profar',\n",
      "    position: 'Left Field',\n",
      "    average: '.240',\n",
      "    role: 'Player' },\n",
      "  Player {\n",
      "    name: 'Ha-Seong Kim',\n",
      "    position: 'Shortstop',\n",
      "    average: '.252',\n",
      "    role: 'Player' },\n",
      "  Player {\n",
      "    name: 'Brandon Drury',\n",
      "    position: 'First Base',\n",
      "    average: '.226',\n",
      "    role: 'Player' },\n",
      "  Player {\n",
      "    name: 'Jorge Alfaro',\n",
      "    position: 'Catcher',\n",
      "    average: '.249',\n",
      "    role: 'Player' },\n",
      "  Player {\n",
      "    name: 'Wil Myers',\n",
      "    position: 'Right Field, First Base',\n",
      "    average: '.255',\n",
      "    role: 'Player' },\n",
      "  Player {\n",
      "    name: 'Juan Soto',\n",
      "    position: 'Right Field',\n",
      "    average: '.242',\n",
      "    role: 'Player' },\n",
      "  Player {\n",
      "    name: 'Austin Nola',\n",
      "    position: 'Catcher',\n",
      "    average: '.248',\n",
      "    role: 'Player' },\n",
      "  Player {\n",
      "    name: 'Josh Bell',\n",
      "    position: 'Designated Hitter, First Base',\n",
      "    average: '.191',\n",
      "    role: 'Player' },\n",
      "  Player {\n",
      "    name: 'Jose Azocar',\n",
      "    position: 'Outfield',\n",
      "    average: '.272',\n",
      "    role: 'Player' } ]\n",
      "Bob Melvin\n",
      "{\"name\":\"Bob Melvin\",\"position\":\"Catcher\",\"average\":\".233\",\"role\":\"Manager\"}\n",
      "{ name: 'Bob Melvin',\n",
      "  position: 'Catcher',\n",
      "  average: '.233',\n",
      "  role: 'Manager' }\n"
     ]
    }
   ],
   "source": [
    "var players = [ // make a list, storing all the categories we had in the previous code segment. \n",
    "    new Player(\"Manny Machado\", \"Third Base\", \".299\"),\n",
    "    new Player(\"Trent Grisham\", \"Center Field\", \".185\"),\n",
    "    new Player(\"Jake Cronenworth\", \"Second Base\", \".238\"),\n",
    "    new Player(\"Jurickson Profar\", \"Left Field\", \".240\"),\n",
    "    new Player(\"Ha-Seong Kim\", \"Shortstop\", \".252\"),\n",
    "    new Player(\"Brandon Drury\", \"First Base\", \".226\"),\n",
    "    new Player(\"Jorge Alfaro\", \"Catcher\", \".249\"),\n",
    "    new Player(\"Wil Myers\", \"Right Field, First Base\", \".255\"),\n",
    "    new Player(\"Juan Soto\", \"Right Field\", \".242\"),\n",
    "    new Player(\"Austin Nola\", \"Catcher\", \".248\"),\n",
    "    new Player(\"Josh Bell\", \"Designated Hitter, First Base\", \".191\"),\n",
    "    new Player(\"Jose Azocar\", \"Outfield\", \".272\"), \n",
    "];\n",
    "\n",
    "function Padres(manager, players){ // new function in order to store the data\n",
    "\n",
    "    manager.setRole(\"Manager\");\n",
    "    this.manager = manager;\n",
    "    this.padres = [manager];\n",
    "    \n",
    "    this.players = players;\n",
    "    this.players.forEach(player => { player.setRole(\"Player\"); this.padres.push(player); });\n",
    "\n",
    "    this.json = [];\n",
    "    this.padres.forEach(player => this.json.push(player.toJSON()));\n",
    "}\n",
    "\n",
    "sd2022 = new Padres(manager, players); // this is how we will display it. \n",
    "\n",
    "console.log(sd2022.padres);\n",
    "console.log(sd2022.padres[0].name);\n",
    "console.log(sd2022.json[0]);\n",
    "console.log(JSON.parse(sd2022.json[0]));"
   ]
  },
  {
   "cell_type": "markdown",
   "metadata": {},
   "source": [
    "And since this is written in JavaScript, we are fairly easily able to convert the data into JSON, and then into HTML."
   ]
  },
  {
   "cell_type": "code",
   "execution_count": 6,
   "metadata": {
    "vscode": {
     "languageId": "javascript"
    }
   },
   "outputs": [
    {
     "data": {
      "text/html": [
       "<div style='display:inline-block;border: 2px solid grey;box-shadow: 0.8em 0.4em 0.4em grey;'><table><tr><th><mark>Name</mark></th><th><mark>Position</mark></th><th><mark>Batting Average</mark></th><th><mark>Role</mark></th></tr><tr><td>Bob Melvin</td><td>Catcher</td><td>.233</td><td>Manager</td><tr><tr><td>Manny Machado</td><td>Third Base</td><td>.299</td><td>Player</td><tr><tr><td>Trent Grisham</td><td>Center Field</td><td>.185</td><td>Player</td><tr><tr><td>Jake Cronenworth</td><td>Second Base</td><td>.238</td><td>Player</td><tr><tr><td>Jurickson Profar</td><td>Left Field</td><td>.240</td><td>Player</td><tr><tr><td>Ha-Seong Kim</td><td>Shortstop</td><td>.252</td><td>Player</td><tr><tr><td>Brandon Drury</td><td>First Base</td><td>.226</td><td>Player</td><tr><tr><td>Jorge Alfaro</td><td>Catcher</td><td>.249</td><td>Player</td><tr><tr><td>Wil Myers</td><td>Right Field, First Base</td><td>.255</td><td>Player</td><tr><tr><td>Juan Soto</td><td>Right Field</td><td>.242</td><td>Player</td><tr><tr><td>Austin Nola</td><td>Catcher</td><td>.248</td><td>Player</td><tr><tr><td>Josh Bell</td><td>Designated Hitter, First Base</td><td>.191</td><td>Player</td><tr><tr><td>Jose Azocar</td><td>Outfield</td><td>.272</td><td>Player</td><tr></table></div>"
      ]
     },
     "execution_count": 6,
     "metadata": {},
     "output_type": "execute_result"
    }
   ],
   "source": [
    "Padres.prototype._toHtml = function() { // display data in a table\n",
    "    var style = (\n",
    "        \"display:inline-block;\" +\n",
    "        \"border: 2px solid grey;\" +\n",
    "        \"box-shadow: 0.8em 0.4em 0.4em grey;\"\n",
    "    );\n",
    "    // set up the table\n",
    "\n",
    "    var body = \"\";\n",
    "    body += \"<tr>\";\n",
    "    body += \"<th><mark>\" + \"Name\" + \"</mark></th>\";\n",
    "    body += \"<th><mark>\" + \"Position\" + \"</mark></th>\";\n",
    "    body += \"<th><mark>\" + \"Batting Average\" + \"</mark></th>\";\n",
    "    body += \"<th><mark>\" + \"Role\" + \"</mark></th>\";\n",
    "    body += \"</tr>\";\n",
    "    \n",
    "      // include the data in the table according to categories. \n",
    "\n",
    "    for (var row of sd2022.padres) {\n",
    "        \n",
    "        body += \"<tr>\";\n",
    "        \n",
    "        body += \"<td>\" + row.name + \"</td>\";\n",
    "        body += \"<td>\" + row.position + \"</td>\";\n",
    "        body += \"<td>\" + row.average + \"</td>\";\n",
    "        body += \"<td>\" + row.role + \"</td>\";\n",
    "        \n",
    "        body += \"<tr>\";\n",
    "      }\n",
    "    \n",
    "       // html format\n",
    "      return (\n",
    "        \"<div style='\" + style + \"'>\" +\n",
    "          \"<table>\" +\n",
    "            body +\n",
    "          \"</table>\" +\n",
    "        \"</div>\"\n",
    "      );\n",
    "    \n",
    "    };\n",
    "    \n",
    "    \n",
    "    $$.html(sd2022._toHtml());"
   ]
  },
  {
   "cell_type": "markdown",
   "metadata": {},
   "source": [
    "## Independent Work\n",
    "\n",
    "A couple of assignments were given by the instructors. There is a \"Challenge\" and \"Homework/Hacks\".\n",
    "\n",
    "### Challenge\n",
    "\n",
    "We were asked to use the defined maximum and minimum values to print out the index value and actual value of every number that does not fit within those bounds."
   ]
  },
  {
   "cell_type": "code",
   "execution_count": 2,
   "metadata": {},
   "outputs": [
    {
     "name": "stdout",
     "output_type": "stream",
     "text": [
      "At index value 2, the number 4 does not satisfy the conditions.\n",
      "At index value 4, the number 308 does not satisfy the conditions.\n",
      "At index value 6, the number 5 does not satisfy the conditions.\n",
      "At index value 9, the number 306 does not satisfy the conditions.\n"
     ]
    }
   ],
   "source": [
    "data = [104, 101, 4, 105, 308, 103, 5, 107,\n",
    "    100, 306, 106, 102, 108]    # list of the different numerical values\n",
    "min_valid = 100  # minimum value\n",
    "max_valid = 200  # maximum value\n",
    "\n",
    "def condition_check(i):\n",
    "    global min_valid\n",
    "    global max_valid\n",
    "    global data\n",
    "    if i < len(data):\n",
    "        if (min_valid <= data[i] <= max_valid):\n",
    "            condition_check(i + 1)\n",
    "        else:\n",
    "            print(\"At index value \" + str(i) + \", the number\", str(data[i]), \"does not satisfy the conditions.\")\n",
    "            condition_check(i + 1)\n",
    "\n",
    "condition_check(0)"
   ]
  },
  {
   "cell_type": "markdown",
   "metadata": {},
   "source": [
    "### Homework/Hacks\n",
    "\n",
    "Here is the album input program they wanted us to make."
   ]
  },
  {
   "cell_type": "code",
   "execution_count": 2,
   "metadata": {},
   "outputs": [
    {
     "name": "stdout",
     "output_type": "stream",
     "text": [
      "Which album would you like to listen to?\n",
      "1. \"Welcome to my Nightmare\" (1975) by Alice Cooper\n",
      "2. \"Bad Company\" (1974) by Bad Company\n",
      "3. \"Nightflight\" (1981) by Budgie\n",
      "4. \"More Mayhem\" (2011) by Imelda May\n",
      "You chose \"Bad Company\" (1974) by Bad Company.\n",
      "Which song would you like to listen to?\n",
      "1. Can't Get Enough\n",
      "2. Rock Steady\n",
      "3. Ready for Love\n",
      "4. Don't Let Me Down\n",
      "5. Bad Company\n",
      "6. The Way I Choose\n",
      "7. Movin' On\n",
      "8. Seagull\n",
      "Playing \"Movin' On\"...\n"
     ]
    }
   ],
   "source": [
    "albums = [\n",
    "    (\"Welcome to my Nightmare\", \"Alice Cooper\", 1975,   # First album list\n",
    "     [\n",
    "         (1, \"Welcome to my Nightmare\"),\n",
    "         (2, \"Devil's Food\"),\n",
    "         (3, \"The Black Widow\"),\n",
    "         (4, \"Some Folks\"),\n",
    "         (5, \"Only Women Bleed\"),\n",
    "     ]\n",
    "    ),\n",
    "    (\"Bad Company\", \"Bad Company\", 1974,   # Second album list\n",
    "     [\n",
    "         (1, \"Can't Get Enough\"),\n",
    "         (2, \"Rock Steady\"),\n",
    "         (3, \"Ready for Love\"),\n",
    "         (4, \"Don't Let Me Down\"),\n",
    "         (5, \"Bad Company\"),\n",
    "         (6, \"The Way I Choose\"),\n",
    "         (7, \"Movin' On\"),\n",
    "         (8, \"Seagull\"),\n",
    "     ]\n",
    "    ),\n",
    "    (\"Nightflight\", \"Budgie\", 1981,\n",
    "     [\n",
    "         (1, \"I Turned to Stone\"),\n",
    "         (2, \"Keeping a Rendezvous\"),\n",
    "         (3, \"Reaper of the Glory\"),\n",
    "         (4, \"She Used Me Up\"),\n",
    "     ]\n",
    "     ),\n",
    "    (\"More Mayhem\", \"Imelda May\", 2011,\n",
    "     [\n",
    "         (1, \"Pulling the Rug\"),\n",
    "         (2, \"Psycho\"),\n",
    "         (3, \"Mayhem\"),\n",
    "         (4, \"Kentish Town Waltz\"),\n",
    "     ]\n",
    "     ),\n",
    "]\n",
    "\n",
    "i = 0\n",
    "#below used to collect a temporary input value, with a built-in invalid input handling system\n",
    "def get_input():\n",
    "    global i #i is always redefined to equal the length of the list that rsp is in reference to\n",
    "    rsp = input()\n",
    "    try:\n",
    "        if (0 < int(rsp) <= i): #ensures the response is in a valid range\n",
    "            returnval = int(rsp)\n",
    "            return(returnval)\n",
    "        else:\n",
    "            print(\"Invalid response.\")\n",
    "            return \"Error\"\n",
    "    except: #error handler if a non-integer is input\n",
    "        print(\"Invalid response.\")\n",
    "        return \"Error\"\n",
    "\n",
    "print(\"Which album would you like to listen to?\") #initial query\n",
    "for album, artist, year, songs in albums: #separating all parts of the data\n",
    "    i += 1\n",
    "    print(str(i) + '. \"' + album + '\" (' + str(year) + \") by \" + artist)\n",
    "choice = get_input()\n",
    "if choice == \"Error\": #ends the process if an error has occurred\n",
    "    pass\n",
    "else:\n",
    "    chosenalbum = albums[int(choice) - 1][0] #redefining different parts of the list for clarity\n",
    "    chosenartist = albums[int(choice) - 1][1] #(this wouldn't be necessary if it was a dictionary)\n",
    "    chosenyear = albums[int(choice) - 1][2]\n",
    "    chosensongs = albums[int(choice) - 1][3]\n",
    "    i = len(chosensongs)\n",
    "    print('You chose \"' + chosenalbum + '\" (' + str(chosenyear) + \") by \" + chosenartist + \".\")\n",
    "    print(\"Which song would you like to listen to?\")\n",
    "    for number, song in chosensongs:\n",
    "        print(str(number) + \". \" + song)\n",
    "    choice2 = get_input()\n",
    "    if choice2 == \"Error\": #ends the process if an error has occurred\n",
    "        pass\n",
    "    else:\n",
    "        for number, song in chosensongs:\n",
    "            if int(choice2) == number:\n",
    "                print('Playing \"' + song + '\"...')\n",
    "                pass"
   ]
  }
 ],
 "metadata": {
  "kernelspec": {
   "display_name": "Python 3.9.12 ('base')",
   "language": "python",
   "name": "python3"
  },
  "language_info": {
   "codemirror_mode": {
    "name": "ipython",
    "version": 3
   },
   "file_extension": ".py",
   "mimetype": "text/x-python",
   "name": "python",
   "nbconvert_exporter": "python",
   "pygments_lexer": "ipython3",
   "version": "3.9.12"
  },
  "orig_nbformat": 4,
  "vscode": {
   "interpreter": {
    "hash": "56f7c0ddbd8295fccb7b65a09bceb7bda050a1a7ed2857cec799e2d3d977289f"
   }
  }
 },
 "nbformat": 4,
 "nbformat_minor": 2
}
