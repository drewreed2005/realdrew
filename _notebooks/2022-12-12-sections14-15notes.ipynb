{
 "cells": [
  {
   "attachments": {},
   "cell_type": "markdown",
   "metadata": {},
   "source": [
    "# Sections 14 and 15 (Libraries and Random Values) Notes\n",
    "> Based on the lesson by Prasith, Chinmay, Vyaan, Chris, and Emaad.\n",
    "- title: Libraries and Random Values Lesson Notes\n",
    "- toc: true\n",
    "- permalink: /sections14-15notes/"
   ]
  },
  {
   "cell_type": "markdown",
   "metadata": {},
   "source": [
    "## FOR GRADERS\n",
    "\n",
    "I combined my notes, challenges, and homework completion from both lessons into this one document, so it's pretty big and bulky. Here is what I completed (and you can verify by finding these things on the blog's table of contents):\n",
    "\n",
    "### Basic Expectations\n",
    "\n",
    "Libraries (3.14):\n",
    "\n",
    "- Fill-in-the-blank notes\n",
    "- Additional notes\n",
    "- Challenges 1-3 fully completed (see each in the TOC for proof)\n",
    "- Homework \"Option 1\" (draws a shape with a given random number of sides with Turtle)\n",
    "- Homework \"Option 2\" (finds the difference between two dates, at least one random)\n",
    "\n",
    "Random Values (3.15):\n",
    "\n",
    "- Additional notes\n",
    "- Fill-in-the-blank random examples list\n",
    "- Challenge 1 (coin flip function)\n",
    "- Binary homework\n",
    "\n",
    "### Extras\n",
    "\n",
    "- Fully incorporated user input for Libraries Homework \"Option 1\" and \"Option 2\"\n",
    "- Working failsafe code on Libraries Homework \"Option 2\"\n",
    "- Random Values Challenge 1 \"EXTRA\": Card Generator and Royal Flush Detector\n",
    "- Random Values Homework \"EXTRA\": Decimal-to-Hexadecimal Converter"
   ]
  },
  {
   "attachments": {},
   "cell_type": "markdown",
   "metadata": {},
   "source": [
    "## Libraries\n",
    "\n",
    "Okay, so we've learned a lot of code, and all of you now can boast that you can code at least some basic programs in python. But, what about more advanced stuff? What if there's a more advanced program you don't know how to make? Do you need to make it yourself? Well, not always. \n",
    "\n",
    "You've already learned about <mark>functions</mark> that you can write to reuse in your code in previous lessons. But,there are many others who code in python just like you. So why would you do again what someone has already done, and is available for any python user? \n",
    "\n",
    "<mark>Packages</mark> allow a python user to import <mark>methods</mark> from a <mark>library</mark>, and use the methods in their code. Most libraries come with <mark>documentation</mark> on the different methods they entail and how to use them, and they can be found with a quick <mark>Google search</mark>. methods are used with the following: \n",
    "\n",
    "**Note: a method from a package can only be used after the import statement.**\n",
    "\n",
    "Some libraries are always installed, such as those with the <mark>list</mark> methods which we have previously discussed. But others require a special python keyword called <mark>`import`</mark>. We will learn different ways to <mark>import</mark> in Challenge 1.\n",
    "\n",
    "Sometimes we only need to import a single <mark>method</mark> from the package. We can do that with the word <mark>\"from\"</mark>, followed by the package name, then the word <mark>\"import\"</mark>, then the method. This will alllow you to use the method without mentioning the package's name, unlike what we did before, however other methods from that package cannot be used. To get the best of both worlds you can use <mark>\"*\"</mark>.\n",
    "\n",
    "To import a method as an easier name, just do what we did first, add the word <mark>\"as\"</mark>, and write the name you would like to use that package as.\n",
    "\n",
    "### Additional Notes\n",
    "\n",
    "Here are some extra notes I took for the sake of completion.\n",
    "\n",
    "- Some libraries need to be installed before use. Some, however, are innate.\n",
    "- Some libraries require the features of other libraries. For example, Turtle relies on Tkinter features to open a window for a canvas.\n",
    "- Importing with the format `from [library] import *` negates the need to specify `[library].function()` each time.\n",
    "\n",
    "### Challenge 1: Basic Libraries\n",
    "1. Find a Python package on the internet and import it\n",
    "2. Choose a method from the package and import only the method\n",
    "3. import the package as a more convenient name."
   ]
  },
  {
   "cell_type": "code",
   "execution_count": 1,
   "metadata": {},
   "outputs": [
    {
     "name": "stdout",
     "output_type": "stream",
     "text": [
      "  O /\n",
      " /|  \n",
      " | | \n",
      "-----\n"
     ]
    }
   ],
   "source": [
    "from time import *\n",
    "from IPython.display import clear_output as clr\n",
    "#i used them to make an ASCII animation\n",
    "def base():\n",
    "    print(\" | | \")\n",
    "    print(\"-----\")\n",
    "\n",
    "def startpos():\n",
    "    print(\"  O  \")\n",
    "    print(\" /|\\ \")\n",
    "\n",
    "def waveup():\n",
    "    print(\"  O /\")\n",
    "    print(\" /|  \")\n",
    "\n",
    "def wavemid():\n",
    "    print(\"  O|  \")\n",
    "    print(\" /|  \")\n",
    "\n",
    "i = 0\n",
    "while i < 30:\n",
    "    clr(wait=True)\n",
    "    if i == 0:\n",
    "        startpos()\n",
    "        base()\n",
    "    else:\n",
    "        if i % 2 == 0:\n",
    "            wavemid()\n",
    "            base()\n",
    "        else:\n",
    "            waveup()\n",
    "            base()\n",
    "    i += 1\n",
    "    sleep(.2)"
   ]
  },
  {
   "cell_type": "markdown",
   "metadata": {},
   "source": [
    "For this challenge, I imported the whole `time` module using `*`, which allowed me to call `sleep()` rather than `time.sleep()`. I also imported `clear_output` and renamed it \"`clr`\" for simplicity. Try copying and running this yourself for a little animation."
   ]
  },
  {
   "attachments": {},
   "cell_type": "markdown",
   "metadata": {},
   "source": [
    "### Challenge 2: Turtle\n",
    "Turtle is a Python <mark>drawing package</mark> which allows you to draw all kinds of different shapes. It's ofter used to teach beginning python learners, but is really cool to use anywhere. Turtle employs a <mark>graphics package</mark> to display what you've done, but unfortunately it's kind of annoying to make work with VSCode.\n",
    "\n",
    "#### My Image\n",
    "\n",
    "This is what I created with Turtle. I'm no artist, but I tried to at least show I could use the program from a code perspective.\n",
    "\n",
    "<figure>\n",
    "  <img src=\"{{site.baseurl}}/images/Screen Shot 2022-12-12 at 9.55.19 PM.png\" alt=\"Didn't load :(\" width=\"600\"/>\n",
    "  <figcaption>A smiley face and a little star with Christmas colors</figcaption>\n",
    "</figure>\n",
    "\n",
    "Here's the code I used for it. See the code comments for where I satisfied the expectations of this challenge."
   ]
  },
  {
   "cell_type": "code",
   "execution_count": null,
   "metadata": {},
   "outputs": [],
   "source": [
    "import turtle\n",
    "\n",
    "t = turtle.Turtle()\n",
    "ts = t.getscreen()\n",
    "# vvv FOUND THIS ONE MYSELF vvv\n",
    "ts.bgcolor('pink') #here's me changing a canvas function\n",
    "t.pensize(5) #here's me changing the pen settings\n",
    "t.speed('fastest') #more pen/canvas settings\n",
    "t.color('yellow')\n",
    "# vvv FOUND THIS ONE MYSELF vvv\n",
    "t.circle(65) #here's a unique function i used\n",
    "t.left(90)\n",
    "t.color('pink')\n",
    "t.forward(90)\n",
    "t.left(90)\n",
    "t.forward(10)\n",
    "t.left(90)\n",
    "t.color('black')\n",
    "t.forward(20)\n",
    "t.color('pink')\n",
    "t.left(90)\n",
    "t.forward(20)\n",
    "t.left(90)\n",
    "t.color('black')\n",
    "t.forward(20)\n",
    "t.color('pink')\n",
    "t.left(90)\n",
    "t.forward(10)\n",
    "t.left(90)\n",
    "t.forward(70)\n",
    "t.color('black')\n",
    "t.left(90)\n",
    "i = 0\n",
    "while i < 50:\n",
    "    t.forward(1)\n",
    "    t.left(1)\n",
    "    i += 1\n",
    "t.color('pink')\n",
    "t.setpos(20, -100) #trying out more functions\n",
    "i = 0\n",
    "t.color('green', 'red')\n",
    "# vvv FOUND THIS ONE MYSELF vvv\n",
    "t.begin_fill()\n",
    "while i < 25:\n",
    "    t.forward(150)\n",
    "    t.right(130)\n",
    "    i += 1\n",
    "# vvv FOUND THIS ONE MYSELF vvv\n",
    "t.end_fill()"
   ]
  },
  {
   "attachments": {},
   "cell_type": "markdown",
   "metadata": {},
   "source": [
    "### Challenge 3: Math\n",
    "The math package allows for some really cool mathematical methods!<br>\n",
    "\n",
    "|Methods|Action|\n",
    "|-------|------|\n",
    "|ceil(x)|<mark>rounds to the largest integer greater than or equal to x</mark>|\n",
    "|<mark>floor(x)</mark>|rounds to largest integer less than or equal to x|\n",
    "|factorial(x)|<mark>takes the factorial of x</mark>|\n",
    "|<mark>gcd(x,y)</mark>|returns the greatest common denominator of x and y|\n",
    "|lcm(x,y)|<mark>returns the least common multiple of x and y</mark>|\n",
    "\n",
    "**Challenge: Create a program which asks for a user input of two numbers, and returns the following:**\n",
    "\n",
    "- each number rounded up\n",
    "- each number rounded down\n",
    "- the lcm of the rounded down numbers\n",
    "- the gcf of the rounded up numbers\n",
    "- the factorial of each number\n",
    "- something else using the math package!\n",
    "\n",
    "I decided to use `sqrt`."
   ]
  },
  {
   "cell_type": "code",
   "execution_count": 7,
   "metadata": {},
   "outputs": [
    {
     "name": "stdout",
     "output_type": "stream",
     "text": [
      "3 rounded up: 3\n",
      "3 rounded down: 3\n",
      "5 rounded up: 5\n",
      "5 rounded down: 5\n",
      "Least common multiple of 3 and 5: 15\n",
      "Greatest common denominator of 3 and 5: 1\n",
      "Factorial of 3: 6\n",
      "Factorial of 5: 120\n",
      "Rounded square root of 3: 1\n",
      "Rounded square root of 5: 2\n"
     ]
    }
   ],
   "source": [
    "from math import *\n",
    "\n",
    "def smorgas(x, y):\n",
    "    info = []\n",
    "    for num in [x, y]:\n",
    "        info.append(ceil(num)) #rounding x and y up\n",
    "        info.append(floor(num)) #rounding x and y down\n",
    "    info.append(lcm(floor(x), floor(y))) #the lcm of x and y rounded down\n",
    "    info.append(gcd(ceil(x), ceil(y))) #the gcd of x and y rounded up\n",
    "    info.append(factorial(x)) #same as x factorial\n",
    "    info.append(factorial(y)) #same as y factorial\n",
    "    info.append(floor(sqrt(x))) #extra: finding and rounding the square root of x\n",
    "    info.append(floor(sqrt(y))) #extra: square root of y\n",
    "    return info #returned as list to be called later\n",
    "i1 = 3\n",
    "i2 = 5\n",
    "info = smorgas(i1, i2)\n",
    "print(i1, \"rounded up:\", info[0])\n",
    "print(i1, \"rounded down:\", info[1])\n",
    "print(i2, \"rounded up:\", info[2])\n",
    "print(i2, \"rounded down:\", info[3])\n",
    "print(\"Least common multiple of\", i1, \"and\", str(i2) + \":\", info[4])\n",
    "print(\"Greatest common denominator of\", i1, \"and\", str(i2) + \":\", info[5])\n",
    "print(\"Factorial of\", str(i1) + \":\", info[6])\n",
    "print(\"Factorial of\", str(i2) + \":\", info[7])\n",
    "print(\"Rounded square root of\", str(i1) + \":\", info[8])\n",
    "print(\"Rounded square root of\", str(i2) + \":\", info[9])"
   ]
  },
  {
   "attachments": {},
   "cell_type": "markdown",
   "metadata": {},
   "source": [
    "### Homework\n",
    "\n",
    "As you can see below, I completed both Option 1 and Option 2.\n",
    "\n",
    "#### Option 1\n",
    "\n",
    "Here is the Turtle program that generates a polygon with the number of sizes asked by the user.\n",
    "\n",
    "<figure>\n",
    "  <img src=\"{{site.baseurl}}/images/Screen Shot 2022-12-12 at 10.22.27 PM.png\" alt=\"Reload the site. There was a problem loading the image.\" width=\"600\"/>\n",
    "  <figcaption>A very satisfying program to watch. Works for all numbers of sides.</figcaption>\n",
    "</figure>\n",
    "\n",
    "Here is the isolated code:"
   ]
  },
  {
   "cell_type": "code",
   "execution_count": null,
   "metadata": {},
   "outputs": [],
   "source": [
    "import turtle\n",
    "\n",
    "def userInp():\n",
    "  print(\"How many sides do you want on the polygon?\")\n",
    "  rsp = input(\"Please input an integer.\")\n",
    "  rsp = int(rsp)\n",
    "  return rsp\n",
    "\n",
    "t = turtle.Turtle()\n",
    "t.speed('fastest')\n",
    "\n",
    "i = 0\n",
    "sides = userInp()\n",
    "while i < sides:\n",
    "  angle = 180 - (((sides - 2) * 180) / sides)\n",
    "  t.forward(360/sides)\n",
    "  t.left(angle)\n",
    "  i += 1"
   ]
  },
  {
   "cell_type": "markdown",
   "metadata": {},
   "source": [
    "And here's code that makes a polygon for a random number of sides from 1 to 10. (1 is just a straight line.)\n",
    "\n",
    "<figure>\n",
    "  <img src=\"{{site.baseurl}}/images/Screen Shot 2022-12-12 at 10.33.26 PM.png\" alt=\"Reload the site. There was a problem loading the image.\" width=\"600\"/>\n",
    "  <figcaption>This time, it generates a random number.</figcaption>\n",
    "</figure>\n",
    "\n",
    "And here's the code again."
   ]
  },
  {
   "cell_type": "code",
   "execution_count": null,
   "metadata": {},
   "outputs": [],
   "source": [
    "import turtle\n",
    "from random import *\n",
    "\n",
    "t = turtle.Turtle()\n",
    "t.speed('fastest')\n",
    "\n",
    "i = 0\n",
    "sides = randint(1, 10)\n",
    "print(\"Number of sides on polygon:\", sides)\n",
    "while i < sides:\n",
    "  angle = 180 - (((sides - 2) * 180) / sides)\n",
    "  t.forward(360/sides)\n",
    "  t.left(angle)\n",
    "  i += 1"
   ]
  },
  {
   "cell_type": "markdown",
   "metadata": {},
   "source": [
    "#### Option 2 (\"Libraries HW\")\n",
    "\n",
    "Here is the program that finds the distance between two dates using the `datetime` package. One set of instructions says to use a user input and a random date while the other says to use two completely random dates, so I made both.\n",
    "\n",
    "Here's the one that takes one user input and then generates the second randomly:"
   ]
  },
  {
   "cell_type": "code",
   "execution_count": 43,
   "metadata": {},
   "outputs": [
    {
     "name": "stdout",
     "output_type": "stream",
     "text": [
      "What year do you want?\n",
      "What month do you want?\n",
      "What day do you want?\n",
      "User Date: 2022-12-12\n",
      "Random Date: 1996-08-24\n",
      "The number of days between these two dates is 9606 days.\n"
     ]
    }
   ],
   "source": [
    "from datetime import date\n",
    "from random import *\n",
    "\n",
    "days_dictionary = {1: 31, 2: 28, 3: 31, 4: 30, 5: 31, 6: 30, 7: 31, 8: 31,\n",
    "    9: 30,10: 31, 11: 30, 12: 31\n",
    "}\n",
    "\n",
    "def getUserDate(): #really long because of a bunch of failsafes\n",
    "    yr = False\n",
    "    mh = False\n",
    "    dy = False\n",
    "    while yr == False:\n",
    "        print(\"What year do you want?\")\n",
    "        useryr = input(\"Input any year. Must be a positive integer.\")\n",
    "        try:\n",
    "            useryr = abs(int(useryr))\n",
    "            yr = True\n",
    "        except:\n",
    "            print('Please input a valid integer.')\n",
    "    while mh == False:\n",
    "        print(\"What month do you want?\")\n",
    "        usermh = input(\"Input a month. Must be an integer 1 through 12.\")\n",
    "        try:\n",
    "            usermh = abs(int(usermh))\n",
    "            if 1 <= usermh <= 12:\n",
    "                mh = True\n",
    "            else:\n",
    "                print('Please input a valid integer within the range.')\n",
    "        except:\n",
    "            print('Please input a valid integer.')\n",
    "    while dy == False:\n",
    "        print(\"What day do you want?\")\n",
    "        userdy = input(\"Input a day. Must be within the amount of days per year (Feb. with 28).\")\n",
    "        try:\n",
    "            userdy = abs(int(userdy))\n",
    "            if 1 <= userdy <= days_dictionary[usermh]:\n",
    "                dy = True\n",
    "            else:\n",
    "                print('Please input a valid day.')\n",
    "        except:\n",
    "            print('Please input a valid integer.')\n",
    "    return date(useryr, usermh, userdy)\n",
    "\n",
    "def randomDate():\n",
    "    randyear = randint(1500, 3000) #only from the years 1500 to 3000\n",
    "    randmonth = randint(1, 12) #limited to 1-12, January-December\n",
    "    randday = randint(1, days_dictionary[randmonth])\n",
    "    return date(randyear, randmonth, randday)\n",
    "\n",
    "date1 = getUserDate()\n",
    "date2 = randomDate()\n",
    "delta = abs(date2 - date1)\n",
    "diff = delta.days\n",
    "print(\"User Date:\", date1)\n",
    "print(\"Random Date:\", date2)\n",
    "print('The number of days between these two dates is', diff, 'days.')"
   ]
  },
  {
   "cell_type": "markdown",
   "metadata": {},
   "source": [
    "And then here's the one that has two random dates:"
   ]
  },
  {
   "cell_type": "code",
   "execution_count": 44,
   "metadata": {},
   "outputs": [
    {
     "name": "stdout",
     "output_type": "stream",
     "text": [
      "Random Date 1: 2024-08-25\n",
      "Random Date 2: 1978-02-26\n",
      "The number of days between these two dates is 16982 days.\n"
     ]
    }
   ],
   "source": [
    "#functions and packages carry over to this cell\n",
    "\n",
    "date1 = randomDate()\n",
    "date2 = randomDate()\n",
    "delta = abs(date2 - date1)\n",
    "diff = delta.days\n",
    "print(\"Random Date 1:\", date1)\n",
    "print(\"Random Date 2:\", date2)\n",
    "print('The number of days between these two dates is', diff, 'days.')"
   ]
  },
  {
   "cell_type": "markdown",
   "metadata": {},
   "source": [
    "## Random Values\n",
    "\n",
    "This is the start of the 3.15 - Random Values notes section.\n",
    "\n",
    "### Additional Notes\n",
    "\n",
    "- Good for cryptography and games\n",
    "- Using the import statements we learned about in the last lesson, you can import Python's `random` module for various random packages\n",
    "- Later in the lesson, we can use `random` to check if a function works in all cases\n",
    "- There are multiple ways to use `random`: choose from a list, select an integer in a range, shuffle a list, etc.\n",
    "\n",
    "### What are Random Values?\n",
    "\n",
    "Random Values are a number generated using a large set of numbers and a mathematical algorithm which gives equal probability to all number occuring.\n",
    "\n",
    "Each result from randomization is equally likely to occur. Using random number generation in a program means each execution may produce a different result.\n",
    "\n",
    "What are examples of (psuedo-)random outputs in the world? Add a few you can think of. \n",
    "- Marbles\n",
    "- <mark>Card game hands</mark>\n",
    "- <mark>Weather</mark>\n",
    "- <mark>APCSP teacher grades</mark>\n",
    "\n",
    "### Why Do We Need Random Values for Code?\n",
    "\n",
    "Adding elements of randomness helps us to simulate these real-world \"random\" scenarios."
   ]
  },
  {
   "cell_type": "code",
   "execution_count": 15,
   "metadata": {},
   "outputs": [
    {
     "name": "stdout",
     "output_type": "stream",
     "text": [
      "64\n"
     ]
    }
   ],
   "source": [
    "import random\n",
    "random_number = random.randint(1,100)\n",
    "print(random_number)"
   ]
  },
  {
   "cell_type": "code",
   "execution_count": 16,
   "metadata": {},
   "outputs": [
    {
     "name": "stdout",
     "output_type": "stream",
     "text": [
      "banana\n"
     ]
    }
   ],
   "source": [
    "def randomlist():\n",
    "    list = [\"apple\", \"banana\", \"cherry\", \"blueberry\"]\n",
    "    element = random.choice(list)\n",
    "    print(element)\n",
    "randomlist()"
   ]
  },
  {
   "cell_type": "markdown",
   "metadata": {},
   "source": [
    "Here's a code version of a dice roll."
   ]
  },
  {
   "cell_type": "code",
   "execution_count": 19,
   "metadata": {},
   "outputs": [
    {
     "name": "stdout",
     "output_type": "stream",
     "text": [
      "Roll 1: 4\n",
      "Roll 2: 3\n",
      "Roll 3: 5\n"
     ]
    }
   ],
   "source": [
    "import random\n",
    "for i in range(3):\n",
    "    roll = random.randint(1,6)\n",
    "    print(\"Roll \" + str(i + 1) + \":\", str(roll))"
   ]
  },
  {
   "cell_type": "markdown",
   "metadata": {},
   "source": [
    "### Challenge 1\n",
    "\n",
    "I made a function that simulates a coin flip and returns the outcome. You can put it within a print statement (see below) to announce the result."
   ]
  },
  {
   "cell_type": "code",
   "execution_count": 26,
   "metadata": {},
   "outputs": [
    {
     "name": "stdout",
     "output_type": "stream",
     "text": [
      "The result was... tails!\n",
      "The result was... heads!\n"
     ]
    }
   ],
   "source": [
    "def coinflip():\n",
    "    result = random.choice(['heads', 'tails'])\n",
    "    return result\n",
    "\n",
    "print(\"The result was... \" + coinflip() + \"!\")\n",
    "print(\"The result was... \" + coinflip() + \"!\")"
   ]
  },
  {
   "cell_type": "markdown",
   "metadata": {},
   "source": [
    "#### Extra\n",
    "\n",
    "Here's my extra credit function that generates a random hand, then determines if it's a Royal Flush. (Unfortunately, Royal Flushes are incredibly rare, so it's hard to show off what will happen when you get one.)"
   ]
  },
  {
   "cell_type": "code",
   "execution_count": 2,
   "metadata": {},
   "outputs": [
    {
     "name": "stdout",
     "output_type": "stream",
     "text": [
      "Your hand: Jack of Diamonds, 3 of Diamonds, 8 of Spades, 3 of Clubs, 3 of Hearts\n",
      "Your hand is NOT a Royal Flush!\n"
     ]
    }
   ],
   "source": [
    "import random\n",
    "\n",
    "#initializing\n",
    "suits = ['Hearts', 'Spades', 'Clubs', 'Diamonds']\n",
    "cards = ['2', '3', '4', '5', '6', '7', '8', '9', '10', 'Jack', 'Queen', 'King', 'Ace']\n",
    "deck = []\n",
    "for suit in suits:\n",
    "    for card in cards:\n",
    "        info = ((card + ' of ' + suit), card, suit)\n",
    "        deck.append(info)\n",
    "random.shuffle(deck)\n",
    "\n",
    "def flush():\n",
    "    global deck\n",
    "    flush = ['10', 'Jack', 'Queen', 'King', 'Ace'] #the card conditions for flush\n",
    "    hand = [deck[0], deck[1], deck[2], deck[3], deck[4]] #already shuffled\n",
    "    print('Your hand:', hand[0][0] + \",\", hand[1][0]+ \",\", hand[2][0]+ \",\", hand[3][0]+ \",\", hand[4][0])\n",
    "    base = hand[0][2]\n",
    "    for name, card, suit in hand:\n",
    "        if suit == base: #if every card has the same suit\n",
    "            if card in flush: #if the card is in a royal flush set\n",
    "                pass\n",
    "            else:\n",
    "                print('Your hand is NOT a Royal Flush!')\n",
    "                return\n",
    "        else:\n",
    "            print('Your hand is NOT a Royal Flush!')\n",
    "            return\n",
    "    print('Your hand is a Royal Flush!') #if all conditions pass, it's a flush\n",
    "    return\n",
    "\n",
    "flush()"
   ]
  },
  {
   "cell_type": "markdown",
   "metadata": {},
   "source": [
    "### Homework\n",
    "\n",
    "I decided to do both binary conversion and the extra hexadecimal conversion.\n",
    "\n",
    "#### Binary\n",
    "\n",
    "This cell converts `x`, a random integer within the domain of 8-bit binary, into binary. Which number was selected is shown in the output."
   ]
  },
  {
   "cell_type": "code",
   "execution_count": 3,
   "metadata": {},
   "outputs": [
    {
     "name": "stdout",
     "output_type": "stream",
     "text": [
      "Initial decimal number: 47\n",
      "Binary conversion: 00101111\n"
     ]
    }
   ],
   "source": [
    "def DecimalToBinary(num):\n",
    "    i = 7\n",
    "    binary = \"\"\n",
    "    while i >= 0:\n",
    "        if num % (2**i) == num:\n",
    "            binary += \"0\"\n",
    "            i -= 1\n",
    "        else:\n",
    "            binary += \"1\"\n",
    "            num -= 2**i\n",
    "            i -= 1\n",
    "    return binary\n",
    "\n",
    "x = random.randint(0, 255)\n",
    "print(\"Initial decimal number:\", x)\n",
    "print(\"Binary conversion:\", DecimalToBinary(x))"
   ]
  },
  {
   "cell_type": "markdown",
   "metadata": {},
   "source": [
    "#### Hexadecimal\n",
    "\n",
    "I created a function that converts a random integer `y` within the domain of 6-bit hexadecimal to hexadecimal. I did it without the built in `hex` function."
   ]
  },
  {
   "cell_type": "code",
   "execution_count": 4,
   "metadata": {},
   "outputs": [
    {
     "name": "stdout",
     "output_type": "stream",
     "text": [
      "Initial decimal number: 11996363\n",
      "Hexadecimal conversion: B70CCB\n"
     ]
    }
   ],
   "source": [
    "def DecimalToHexa(num):\n",
    "    hexalist = ['0', '1', '2', '3', '4', '5', '6', '7', '8', '9', 'A', 'B', 'C', 'D', 'E', 'F']\n",
    "    hexa = []\n",
    "    hexadec = ''\n",
    "    while num > 0:\n",
    "        num, ind = divmod(num, 16)\n",
    "        hexa.append(hexalist[ind])\n",
    "    i = (len(hexa) - 1)\n",
    "    while i >= 0:\n",
    "        hexadec += hexa[i]\n",
    "        i -= 1\n",
    "    return hexadec\n",
    "\n",
    "y = random.randint(0, 16777215)\n",
    "print(\"Initial decimal number:\", y)\n",
    "print(\"Hexadecimal conversion:\", DecimalToHexa(y))"
   ]
  }
 ],
 "metadata": {
  "kernelspec": {
   "display_name": "Python 3.9.12 ('base')",
   "language": "python",
   "name": "python3"
  },
  "language_info": {
   "codemirror_mode": {
    "name": "ipython",
    "version": 3
   },
   "file_extension": ".py",
   "mimetype": "text/x-python",
   "name": "python",
   "nbconvert_exporter": "python",
   "pygments_lexer": "ipython3",
   "version": "3.9.12"
  },
  "orig_nbformat": 4,
  "vscode": {
   "interpreter": {
    "hash": "56f7c0ddbd8295fccb7b65a09bceb7bda050a1a7ed2857cec799e2d3d977289f"
   }
  }
 },
 "nbformat": 4,
 "nbformat_minor": 2
}
