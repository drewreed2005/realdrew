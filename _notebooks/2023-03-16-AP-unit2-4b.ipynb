{
 "cells": [
  {
   "attachments": {},
   "cell_type": "markdown",
   "metadata": {},
   "source": [
    "#  Unit 2.4b Using Programs with Data, SQL\n",
    "> Using Programs with Data is focused on SQL and database actions.  Part B focuses on learning SQL commands, connections, and curses using an Imperative programming style,\n",
    "- toc: true\n",
    "- title: Unit 2.4b (Using Programs with Data, SQL) Notes\n",
    "- permalink: /2-4blessonnotes/\n",
    "- categories: []"
   ]
  },
  {
   "attachments": {},
   "cell_type": "markdown",
   "metadata": {},
   "source": [
    "# Database Programming is Program with Data\n",
    "> The Tri 2 Final Project is an example of a Program with Data. \n",
    "\n",
    ">  Prepare to use SQLite in common Imperative Technique\n",
    "- Explore [SQLite Connect object](https://www.tutorialspoint.com/python_data_access/python_sqlite_establishing_connection.htm) to establish database connection\n",
    "- Explore [SQLite Cursor Object](https://www.tutorialspoint.com/python_data_access/python_sqlite_cursor_object.htm) to fetch data from a table within a database\n"
   ]
  },
  {
   "attachments": {},
   "cell_type": "markdown",
   "metadata": {},
   "source": [
    "## Schema of Users table in Sqlite.db\n",
    "> Uses PRAGMA statement to read schema.\n",
    "\n",
    "Describe Schema, here is resource [Resource](https://www.sqlite.org/index.html)\n",
    "\n",
    "- What is a database schema?\n",
    "\n",
    "A database schema is essentially a column defined by certian information in a database.\n",
    "\n",
    "- What is the purpose of identity Column in SQL database?\n",
    "\n",
    "It is to locate which row of a data table a certain entry is found.\n",
    "\n",
    "- What is the purpose of a primary key in SQL database?\n",
    "\n",
    "The primary key is the main way to access a certain piece of information in a database. Generally, unlike the identity column, a primary key should never change for a piece of data.\n",
    "\n",
    "- What are the Data Types in SQL table?\n",
    "\n",
    "Integer, float, string, Boolean, images; really any data type or data structure (list, dictionary, class)."
   ]
  },
  {
   "cell_type": "code",
   "execution_count": 1,
   "metadata": {},
   "outputs": [
    {
     "name": "stdout",
     "output_type": "stream",
     "text": [
      "(0, 'id', 'INTEGER', 1, None, 1)\n",
      "(1, '_name', 'VARCHAR(255)', 1, None, 0)\n",
      "(2, '_uid', 'VARCHAR(255)', 1, None, 0)\n",
      "(3, '_password', 'VARCHAR(255)', 1, None, 0)\n",
      "(4, '_dob', 'DATE', 0, None, 0)\n"
     ]
    }
   ],
   "source": [
    "import sqlite3\n",
    "\n",
    "database = 'instance/sqlite.db' # this is location of database\n",
    "\n",
    "def schema():\n",
    "    \n",
    "    # Connect to the database file\n",
    "    conn = sqlite3.connect(database)\n",
    "\n",
    "    # Create a cursor object to execute SQL queries\n",
    "    cursor = conn.cursor()\n",
    "    \n",
    "    # Fetch results of Schema\n",
    "    results = cursor.execute(\"PRAGMA table_info('users')\").fetchall()\n",
    "\n",
    "    # Print the results\n",
    "    for row in results:\n",
    "        print(row)\n",
    "\n",
    "    # Close the database connection\n",
    "    conn.close()\n",
    "    \n",
    "schema()\n"
   ]
  },
  {
   "attachments": {},
   "cell_type": "markdown",
   "metadata": {},
   "source": [
    "## Reading Users table in Sqlite.db\n",
    "> Uses SQL SELECT statement to read data\n",
    "\n",
    "- What is a connection object?  After you Google it, what do you think it does?\n",
    "\n",
    "Google described it very confusingly. However, from what I understand, a connection object is basically an object that is used to connect to a database and interact with it using various code functions. It essentially does what you could do manually through the terminal with sqlite3, for example.\n",
    "\n",
    "- Same for cursor object?\n",
    "\n",
    "The cursor object can select data and execute code within the database after connecting.\n",
    "\n",
    "- Look at conn object and cursor object in VSCode debugger.  What attributes are in the object?\n",
    "\n",
    "There are many special variables, function variables, and class variables in both. The unique attributes that I'm seeing are `in_transaction: False`, `isolation_level: ''`, `row_factory: None`, and `total_changes: 0` in the `conn` object and `arraysize`, `lastrowid`, `row_factory`, and `rowcount`.\n",
    "\n",
    "- Is \"results\" an object?  How do you know?\n",
    "\n",
    "It **is** an object because we can see that it has attributes, where are exclusive to objects."
   ]
  },
  {
   "cell_type": "code",
   "execution_count": 2,
   "metadata": {},
   "outputs": [
    {
     "name": "stdout",
     "output_type": "stream",
     "text": [
      "(1, 'Thomas Edison', 'toby', 'sha256$178F1eHuRpw20ZGo$feb058fe482af33aa9e864986549c42245f3a70d87cd53b72bbd334aed5c0915', '1847-02-11')\n",
      "(2, 'Nikola Tesla', 'niko', 'sha256$JPorVW1dBYaWtYdj$f6ff3ab3835f62e9e116ef793f25c33b1dd5df95ee46e02e4c6ed18b02b660b6', '2023-03-15')\n",
      "(4, 'Eli Whitney', 'whit', 'sha256$NrSysJ9GQueU8Qaj$764f0bd228ab1e86203ad4f6c6ee7dc24701a0103af76130e252fb99194d36ba', '2023-03-15')\n",
      "(5, 'Indiana Jones', 'indi', 'sha256$EA4t5WiMqOeqQtXC$243329b57d674ca11a23b0a7840f828a064414091eec0264a1272a5a7780821b', '1920-10-21')\n",
      "(6, 'Marion Ravenwood', 'raven', 'sha256$QwKSrtvysyLsWTTm$5da65ce9a81bd379ec5d653bee364838f3a3c9ca3e8aa11faa11d24db208ba29', '1921-10-21')\n",
      "(7, 'AJ Ruiz', 'kkcbal', 'sha256$RN6Q5qWnLZldKoAN$c684956f996a55f5ecd847c984d5f037d2289a0afb5adc09ba7f0fbd3124a7dd', '2006-05-18')\n"
     ]
    }
   ],
   "source": [
    "import sqlite3\n",
    "\n",
    "def read():\n",
    "    # Connect to the database file\n",
    "    conn = sqlite3.connect(database)\n",
    "\n",
    "    # Create a cursor object to execute SQL queries\n",
    "    cursor = conn.cursor()\n",
    "    \n",
    "    # Execute a SELECT statement to retrieve data from a table\n",
    "    results = cursor.execute('SELECT * FROM users').fetchall()\n",
    "\n",
    "    # Print the results\n",
    "    if len(results) == 0:\n",
    "        print(\"Table is empty\")\n",
    "    else:\n",
    "        for row in results:\n",
    "            print(row)\n",
    "\n",
    "    # Close the cursor and connection objects\n",
    "    cursor.close()\n",
    "    conn.close()\n",
    "    \n",
    "read()\n"
   ]
  },
  {
   "attachments": {},
   "cell_type": "markdown",
   "metadata": {},
   "source": [
    "## Create a new User in table in Sqlite.db\n",
    "> Uses SQL INSERT to add row\n",
    "\n",
    "-  Compare create() in both SQL lessons. What is better or worse in the two implementations?\n",
    "\n",
    "The `create()` function in the first lesson is, in my opinion, simpler and easier to use because it works within the SQLite User data directly. It helps me, at least, to pull the `User` attributes and data and interact with them in Python. However, this `create()` function can be because it's a bit easier to use on a smaller scale without reliance on objects.\n",
    "\n",
    "-  Explain purpose of SQL INSERT. Is this the same as User `__init__`?\n",
    "\n",
    "`SQL INSERT` is very different from `__init__` because, while `__init__` initializes the `User` object and creates a set of attributes that the user can work with, `SQL INSERT` acts like a create function by adding in a new `User` object with the given attributes."
   ]
  },
  {
   "cell_type": "code",
   "execution_count": 3,
   "metadata": {},
   "outputs": [
    {
     "name": "stdout",
     "output_type": "stream",
     "text": [
      "A new user record mrdew has been created\n"
     ]
    }
   ],
   "source": [
    "import sqlite3\n",
    "\n",
    "def create():\n",
    "    name = input(\"Enter your name:\")\n",
    "    uid = input(\"Enter your user id:\")\n",
    "    password = input(\"Enter your password\")\n",
    "    dob = input(\"Enter your date of birth 'YYYY-MM-DD'\")\n",
    "    \n",
    "    # Connect to the database file\n",
    "    conn = sqlite3.connect(database)\n",
    "\n",
    "    # Create a cursor object to execute SQL commands\n",
    "    cursor = conn.cursor()\n",
    "\n",
    "    try:\n",
    "        # Execute an SQL command to insert data into a table\n",
    "        cursor.execute(\"INSERT INTO users (_name, _uid, _password, _dob) VALUES (?, ?, ?, ?)\", (name, uid, password, dob))\n",
    "        \n",
    "        # Commit the changes to the database\n",
    "        conn.commit()\n",
    "        print(f\"A new user record {uid} has been created\")\n",
    "                \n",
    "    except sqlite3.Error as error:\n",
    "        print(\"Error while executing the INSERT:\", error)\n",
    "\n",
    "\n",
    "    # Close the cursor and connection objects\n",
    "    cursor.close()\n",
    "    conn.close()\n",
    "    \n",
    "#create()"
   ]
  },
  {
   "attachments": {},
   "cell_type": "markdown",
   "metadata": {},
   "source": [
    "## Updating a User in table in Sqlite.db\n",
    "\n",
    "> Uses SQL UPDATE to modify password\n",
    "\n",
    "- What does the hacked part do?\n",
    "\n",
    "The \"hacked\" part activates if the new password the person inputted is less than 2 characters. This is kind of a mean way to say that the password the person put in is not safe, and therefore is invalid.\n",
    "\n",
    "- Explain `try`/`except`. When would `except` occur?\n",
    "\n",
    "Using `try` allows you to make code run up until an error occurs, at which point the `except` condition is activated. This allows programs to provide failsafes for errors or invalid user interactions.\n",
    "\n",
    "- What code seems to be repeated in each of these examples and why is it repeated?\n",
    "\n",
    "Creating the connection and cursor objects is done in every block because, at the end of each, the connection and cursor are both closed. In order to use them again, they need to be re-activated."
   ]
  },
  {
   "cell_type": "code",
   "execution_count": 4,
   "metadata": {},
   "outputs": [],
   "source": [
    "import sqlite3\n",
    "\n",
    "def update():\n",
    "    uid = input(\"Enter user id to update\")\n",
    "    password = input(\"Enter updated password\")\n",
    "    if len(password) < 2:\n",
    "        message = \"hacked\"\n",
    "        password = 'gothackednewpassword123'\n",
    "    else:\n",
    "        message = \"successfully updated\"\n",
    "\n",
    "    # Connect to the database file\n",
    "    conn = sqlite3.connect(database)\n",
    "\n",
    "    # Create a cursor object to execute SQL commands\n",
    "    cursor = conn.cursor()\n",
    "\n",
    "    try:\n",
    "        # Execute an SQL command to update data in a table\n",
    "        cursor.execute(\"UPDATE users SET _password = ? WHERE _uid = ?\", (password, uid))\n",
    "        if cursor.rowcount == 0:\n",
    "            # The uid was not found in the table\n",
    "            print(f\"No uid {uid} was not found in the table\")\n",
    "        else:\n",
    "            print(f\"The row with user id {uid} the password has been {message}\")\n",
    "            conn.commit()\n",
    "    except sqlite3.Error as error:\n",
    "        print(\"Error while executing the UPDATE:\", error)\n",
    "        \n",
    "    \n",
    "    # Close the cursor and connection objects\n",
    "    cursor.close()\n",
    "    conn.close()\n",
    "    \n",
    "#update()"
   ]
  },
  {
   "attachments": {},
   "cell_type": "markdown",
   "metadata": {},
   "source": [
    "## Delete a User in table in Sqlite.db\n",
    "\n",
    "> Uses a delete function to remove a user based on a user input of the id.\n",
    "\n",
    "- Is DELETE a dangerous operation?  Why?\n",
    "\n",
    "DELETE can be a dangerous operation when left to user inputs. User error could lead to the deletion of important information that is difficult to retrieve.\n",
    "\n",
    "- What is the \"f\" and {uid} do?\n",
    "\n",
    "The \"f\" prepares a print statement to read `{uid}` as the value of the variable `uid` rather than the literal text \"{uid}\"."
   ]
  },
  {
   "cell_type": "code",
   "execution_count": 5,
   "metadata": {},
   "outputs": [],
   "source": [
    "import sqlite3\n",
    "\n",
    "def delete():\n",
    "    uid = input(\"Enter user id to delete\")\n",
    "\n",
    "    # Connect to the database file\n",
    "    conn = sqlite3.connect(database)\n",
    "\n",
    "    # Create a cursor object to execute SQL commands\n",
    "    cursor = conn.cursor()\n",
    "    \n",
    "    try:\n",
    "        cursor.execute(\"DELETE FROM users WHERE _uid = ?\", (uid,))\n",
    "        if cursor.rowcount == 0:\n",
    "            # The uid was not found in the table\n",
    "            print(f\"No uid {uid} was not found in the table\")\n",
    "        else:\n",
    "            # The uid was found in the table and the row was deleted\n",
    "            print(f\"The row with uid {uid} was successfully deleted\")\n",
    "        conn.commit()\n",
    "    except sqlite3.Error as error:\n",
    "        print(\"Error while executing the DELETE:\", error)\n",
    "        \n",
    "    # Close the cursor and connection objects\n",
    "    cursor.close()\n",
    "    conn.close()\n",
    "    \n",
    "#delete()"
   ]
  },
  {
   "attachments": {},
   "cell_type": "markdown",
   "metadata": {},
   "source": [
    "# Menu Interface to CRUD operations\n",
    "> CRUD and Schema interactions from one location by running menu. Observe input at the top of VSCode, observe output underneath code cell.\n",
    "- Why does the menu repeat?\n",
    "- Could you refactor this menu?  Make it work with a List?"
   ]
  },
  {
   "cell_type": "code",
   "execution_count": 6,
   "metadata": {},
   "outputs": [
    {
     "name": "stdout",
     "output_type": "stream",
     "text": [
      "(1, 'Thomas Edison', 'toby', 'sha256$178F1eHuRpw20ZGo$feb058fe482af33aa9e864986549c42245f3a70d87cd53b72bbd334aed5c0915', '1847-02-11')\n",
      "(2, 'Nikola Tesla', 'niko', 'sha256$JPorVW1dBYaWtYdj$f6ff3ab3835f62e9e116ef793f25c33b1dd5df95ee46e02e4c6ed18b02b660b6', '2023-03-15')\n",
      "(4, 'Eli Whitney', 'whit', 'sha256$NrSysJ9GQueU8Qaj$764f0bd228ab1e86203ad4f6c6ee7dc24701a0103af76130e252fb99194d36ba', '2023-03-15')\n",
      "(5, 'Indiana Jones', 'indi', 'sha256$EA4t5WiMqOeqQtXC$243329b57d674ca11a23b0a7840f828a064414091eec0264a1272a5a7780821b', '1920-10-21')\n",
      "(6, 'Marion Ravenwood', 'raven', 'sha256$QwKSrtvysyLsWTTm$5da65ce9a81bd379ec5d653bee364838f3a3c9ca3e8aa11faa11d24db208ba29', '1921-10-21')\n",
      "(7, 'AJ Ruiz', 'kkcbal', 'sha256$RN6Q5qWnLZldKoAN$c684956f996a55f5ecd847c984d5f037d2289a0afb5adc09ba7f0fbd3124a7dd', '2006-05-18')\n",
      "(8, 'Drew Reed', 'mrdew', 'budthefox', '2005-11-07')\n"
     ]
    }
   ],
   "source": [
    "# Menu, to run other cells from one control point\n",
    "def menu():\n",
    "    operation = input(\"Enter: (C)reate, (R)ead, (U)pdate, (D)elete or (S)chema\")\n",
    "    if operation.lower() == 'c':\n",
    "        create()\n",
    "    elif operation.lower() == 'r':\n",
    "        read()\n",
    "    elif operation.lower() == 'u':\n",
    "        update()\n",
    "    elif operation.lower() == 'd':\n",
    "        delete()\n",
    "    elif operation.lower() == 's':\n",
    "        schema()\n",
    "    elif len(operation) == 0: # Escape Key\n",
    "        return\n",
    "    else:\n",
    "        print(\"Please enter c, r, u, or d\") \n",
    "    menu() # recursion, repeat menu\n",
    "        \n",
    "try:\n",
    "    menu() # start menu\n",
    "except:\n",
    "    print(\"Perform Jupyter 'Run All' prior to starting menu\")\n"
   ]
  },
  {
   "attachments": {},
   "cell_type": "markdown",
   "metadata": {},
   "source": [
    "# Hacks\n",
    "\n",
    "REMEMERB\n",
    "\n",
    "- In implementation in previous bullet, do you see procedural abstraction?\n",
    "\n",
    "## My Own Database\n",
    "\n",
    "I decided to use the object oriented form of database because I prefer the orderliness that it affords me.\n",
    "\n",
    "Because I've been working with Gamemaker recently to try to make an RPG game (mainly for fun, but also to try applying what I'm learning in different ways), I decided to make a database with various (fake) video game bosses, with attributes for their stats, weaknesses, attacks, etc.\n",
    "\n",
    "To add a twist on the easier databases we've been working with recently, I decided to make it like a user forum. Each character in the database has room for users to add their strategies on how to beat it.\n",
    "\n",
    "### Initializing\n",
    "\n",
    "The big code block below initializes the database."
   ]
  }
 ],
 "metadata": {
  "kernelspec": {
   "display_name": "Python 3.9.12 ('base')",
   "language": "python",
   "name": "python3"
  },
  "language_info": {
   "codemirror_mode": {
    "name": "ipython",
    "version": 3
   },
   "file_extension": ".py",
   "mimetype": "text/x-python",
   "name": "python",
   "nbconvert_exporter": "python",
   "pygments_lexer": "ipython3",
   "version": "3.9.12"
  },
  "orig_nbformat": 4,
  "vscode": {
   "interpreter": {
    "hash": "56f7c0ddbd8295fccb7b65a09bceb7bda050a1a7ed2857cec799e2d3d977289f"
   }
  }
 },
 "nbformat": 4,
 "nbformat_minor": 2
}
