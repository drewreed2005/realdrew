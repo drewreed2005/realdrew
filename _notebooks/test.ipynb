{
 "cells": [
  {
   "cell_type": "markdown",
   "metadata": {},
   "source": [
    "<style type=\"text/css\">\n",
    ".myTable { width:400px;background-color:#f47;border-collapse:collapse; }\n",
    ".myTable th { background-color:#a38;color:white;width:50%; }\n",
    ".myTable td, .myTable th { padding:5px;border:1px solid #000; }\n",
    "</style>\n",
    "<table class=\"myTable\">\n",
    "<tr>\n",
    "<th>Header Color</th><th>Cell Color</th>\n",
    "</tr>\n",
    "<tr>\n",
    "<td>Purple</td><td>Pink</td>\n",
    "</tr>\n",
    "<tr>\n",
    "<td>#a38</td><td>#f47</td>\n",
    "</tr>\n",
    "</table>"
   ]
  }
 ],
 "metadata": {
  "kernelspec": {
   "display_name": "Python 3.9.12 ('base')",
   "language": "python",
   "name": "python3"
  },
  "language_info": {
   "name": "python",
   "version": "3.9.12"
  },
  "orig_nbformat": 4,
  "vscode": {
   "interpreter": {
    "hash": "56f7c0ddbd8295fccb7b65a09bceb7bda050a1a7ed2857cec799e2d3d977289f"
   }
  }
 },
 "nbformat": 4,
 "nbformat_minor": 2
}
