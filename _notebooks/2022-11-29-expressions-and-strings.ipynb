{
 "cells": [
  {
   "cell_type": "markdown",
   "metadata": {},
   "source": [
    "# Sections 3-4 (Mathematical Epxpressions and Strings) Notes\n",
    "> Based on the notebooks template by Orlando, Jaden, Max and Dylan.\n",
    "- toc: true\n",
    "- permalink: /sections3-4notes/"
   ]
  },
  {
   "cell_type": "markdown",
   "metadata": {},
   "source": [
    "## 3.3 Mathematical Expressions"
   ]
  },
  {
   "cell_type": "markdown",
   "metadata": {},
   "source": [
    "### Vocabulary: Fill in the Blanks  \n",
    "  \n",
    "The symbol for exponent is `^`\n",
    "\n",
    "The symbol for addition is `+`\n",
    "\n",
    "The symbol for subtraction is `-`\n",
    "\n",
    "The symbol for multiplication is `*`\n",
    "\n",
    "The symbol for division is `/`\n",
    "\n",
    "The symbol for modulus is `%`\n",
    "\n",
    "An algorithm is <mark>a function with a set of rules that tells a program what to do</mark>."
   ]
  },
  {
   "cell_type": "markdown",
   "metadata": {},
   "source": [
    "Sequencing Practice: the code below does not follow the intended steps below. change the code so that it does so.\n",
    "\n",
    "1. Divide value1 by 10 (value1 = 5)  \n",
    "2. Multiply 2 from the result of the step 1  \n",
    "3. Subtract 4 from the result of the step 2\n",
    "4. Print the result of step 3"
   ]
  },
  {
   "cell_type": "code",
   "execution_count": 1,
   "metadata": {},
   "outputs": [
    {
     "name": "stdout",
     "output_type": "stream",
     "text": [
      "-3.0\n"
     ]
    }
   ],
   "source": [
    "value1 = 5\n",
    "value2 = value1 / 10 #step 1\n",
    "value3 = value2 * 2 #step 2\n",
    "value4 = value3 - 4 #step 3\n",
    "print(value4)"
   ]
  },
  {
   "cell_type": "markdown",
   "metadata": {},
   "source": [
    "Selection/Iteration Practice: Create a function to print ONLY the numbers of numlist that are divisble by 3.\n",
    "\n",
    "Hint: use the MOD operator (a % b) to find the remainder when a is divided by b."
   ]
  },
  {
   "cell_type": "code",
   "execution_count": 2,
   "metadata": {},
   "outputs": [
    {
     "name": "stdout",
     "output_type": "stream",
     "text": [
      "3 is divisible by 3\n",
      "9 is divisible by 3\n",
      "891 is divisible by 3\n"
     ]
    }
   ],
   "source": [
    "numlist = [\"3\",\"4\",\"9\",\"76\",\"891\"]\n",
    "for number in numlist:\n",
    "    if (int(number) % 3) == 0:\n",
    "        print(number + \" is divisible by 3\")\n",
    "        continue\n",
    "    else:\n",
    "        continue\n",
    "            "
   ]
  },
  {
   "cell_type": "markdown",
   "metadata": {},
   "source": [
    "## 3.4 Strings(Show video 1)"
   ]
  },
  {
   "cell_type": "markdown",
   "metadata": {},
   "source": [
    "### Vocab: fill in the blanks using the video\n",
    "Index is a number representing a position, like a character's position in a string or a string's position in a list. \n",
    "\n",
    "Concatenation is <mark>combining strings</mark>. \n",
    "\n",
    "Length is <mark>the amount of characters in a string</mark>. \n",
    "\n",
    "A substring is <mark>individual characters of a string</mark>."
   ]
  },
  {
   "cell_type": "markdown",
   "metadata": {},
   "source": [
    "### What is psuedocode?\n",
    "Pseudocode is writing out a program in plain language with keywords that are used to refer to common coding concepts.\n",
    "\n",
    "Can you think of some benefits of using pseudocode prior to writing out the actual code?\n",
    "\n",
    "1. Choose an everyday activity\n",
    "2. Imagine that you are providing instructions for this activity to a person who has never done it before\n",
    "3. Challenge someone to do the steps you wrote out\n",
    "\n",
    "Ex. Brushing Teeth\n",
    "\n",
    "1. Pick up your toothbrush\n",
    "2. Rinse toothbrush\n",
    "3. Pick up toothpaste\n",
    "4. Place toothpaste on the toothbrush\n",
    "5. Rinse toothbrush again\n",
    "6. Brush teeth in a circular motion\n",
    "7. Spit\n",
    "8. Wash mouth \n",
    "9. Rinse toothbrush\n",
    "10. You have brushed your teeth!"
   ]
  },
  {
   "cell_type": "markdown",
   "metadata": {},
   "source": [
    "### Substring/Length Practice\n",
    "\n",
    "Change the print functions to print \"hello\", \"bye\", and the string length."
   ]
  },
  {
   "cell_type": "code",
   "execution_count": 8,
   "metadata": {},
   "outputs": [
    {
     "name": "stdout",
     "output_type": "stream",
     "text": [
      "hello\n",
      "bye\n",
      "8\n"
     ]
    }
   ],
   "source": [
    "#substring = string[start:end] \n",
    "#the substring will have the characters including the index \"start\" to the character BEFORE the index \"end\"\n",
    "#len(string) will print the length of string\n",
    "\n",
    "string = \"hellobye\"\n",
    "print(string[0:5])\n",
    "print(string[5:8])\n",
    "print(len(string))"
   ]
  },
  {
   "cell_type": "markdown",
   "metadata": {},
   "source": [
    "Concatenation Practice: combine string1 and string2 to make string3, then print string3."
   ]
  },
  {
   "cell_type": "code",
   "execution_count": 9,
   "metadata": {},
   "outputs": [
    {
     "name": "stdout",
     "output_type": "stream",
     "text": [
      "computerscience\n"
     ]
    }
   ],
   "source": [
    "#string1 + string2 will add string2 to the end of string1\n",
    "\n",
    "string1 = \"computer\"\n",
    "string2 = \"science\"\n",
    "string3 = string1 + string2\n",
    "print(string3)"
   ]
  },
  {
   "cell_type": "markdown",
   "metadata": {},
   "source": [
    "## Homework\n",
    "\n",
    "This section is for my completion of the homework assignments.\n",
    "\n",
    "### 3.3 - Binary Calculator\n",
    "\n",
    "Below is my code for the binary assignment from the 3.3 lesson."
   ]
  },
  {
   "cell_type": "code",
   "execution_count": 6,
   "metadata": {},
   "outputs": [
    {
     "name": "stdout",
     "output_type": "stream",
     "text": [
      "Invalid input.\n",
      "Invalid input.\n",
      "11101001\n"
     ]
    }
   ],
   "source": [
    "import random\n",
    "\n",
    "def convert(input):\n",
    "    if 0 <= input <= 255:\n",
    "        pass\n",
    "    else:\n",
    "        print(\"Invalid input.\")\n",
    "        return\n",
    "    i = 7\n",
    "    binary = \"\"\n",
    "    while i >= 0:\n",
    "        if input % (2**i) == input:\n",
    "            binary += \"0\"\n",
    "            i -= 1\n",
    "        else:\n",
    "            binary += \"1\"\n",
    "            input -= 2**i\n",
    "            i -= 1\n",
    "    print(binary)\n",
    "\n",
    "convert(-3)\n",
    "convert(284)\n",
    "convert(random.randrange(256))"
   ]
  },
  {
   "cell_type": "markdown",
   "metadata": {},
   "source": [
    "### 3.4 - Name Length Loop + Frontend Challenge\n",
    "\n",
    "Below is my code for the name length assignment of 3.4. Below it is my attempt at the challenge to convert the data into frontend, as well as a block showing the code behind the table."
   ]
  },
  {
   "cell_type": "code",
   "execution_count": 1,
   "metadata": {},
   "outputs": [
    {
     "name": "stdout",
     "output_type": "stream",
     "text": [
      "Jaden is 5 letters long.\n",
      "Max is 3 letters long.\n",
      "Dylan is 5 letters long.\n",
      "Orlando is 7 letters long.\n"
     ]
    }
   ],
   "source": [
    "names = [\"jaden\",\"max\",\"dylan\",\"orlando\"]\n",
    "\n",
    "def length(list):\n",
    "    for name in names:\n",
    "        print(name.capitalize() + \" is\", str(len(name)), \"letters long.\")\n",
    "\n",
    "length(names)"
   ]
  },
  {
   "cell_type": "markdown",
   "metadata": {},
   "source": [
    "```\n",
    "<table id=\"nametable\">\n",
    "  <!--SCRIPT DATA GOES HERE-->\n",
    "</table>\n",
    "\n",
    "<script>\n",
    "    table = document.getElementById(\"nametable\");\n",
    "    newhtml = \"\";\n",
    "    defaulthtml = \"<tr><th>Name</th><th>Length</th></tr>\";\n",
    "    var namelist = [\"Jaden\", \"Max\", \"Dylan\", \"Orlando\"];\n",
    "    arrayLength = namelist.length;\n",
    "    for (var i = 0; i < arrayLength; i++) {\n",
    "        console.log(namelist[i], namelist[i].length);\n",
    "        newhtml = newhtml + \"<tr><td>\" + namelist[i] + \"</td><td>\" + String(namelist[i].length) + \"</td></tr>\";\n",
    "        table.innerHTML = defaulthtml + newhtml\n",
    "    };\n",
    "</script>\n",
    "```\n",
    "\n",
    "<table id=\"nametable\">\n",
    "  <!--SCRIPT DATA GOES HERE-->\n",
    "</table>\n",
    "\n",
    "<script>\n",
    "    table = document.getElementById(\"nametable\");\n",
    "    newhtml = \"\";\n",
    "    defaulthtml = \"<tr><th>Name</th><th>Length</th></tr>\";\n",
    "    var namelist = [\"Jaden\", \"Max\", \"Dylan\", \"Orlando\"];\n",
    "    arrayLength = namelist.length;\n",
    "    for (var i = 0; i < arrayLength; i++) {\n",
    "        console.log(namelist[i], namelist[i].length);\n",
    "        newhtml = newhtml + \"<tr><td>\" + namelist[i] + \"</td><td>\" + String(namelist[i].length) + \"</td></tr>\";\n",
    "        table.innerHTML = defaulthtml + newhtml\n",
    "    };\n",
    "</script>"
   ]
  }
 ],
 "metadata": {
  "kernelspec": {
   "display_name": "Python 3.9.12 ('base')",
   "language": "python",
   "name": "python3"
  },
  "language_info": {
   "codemirror_mode": {
    "name": "ipython",
    "version": 3
   },
   "file_extension": ".py",
   "mimetype": "text/x-python",
   "name": "python",
   "nbconvert_exporter": "python",
   "pygments_lexer": "ipython3",
   "version": "3.9.12"
  },
  "orig_nbformat": 4,
  "vscode": {
   "interpreter": {
    "hash": "56f7c0ddbd8295fccb7b65a09bceb7bda050a1a7ed2857cec799e2d3d977289f"
   }
  }
 },
 "nbformat": 4,
 "nbformat_minor": 2
}
