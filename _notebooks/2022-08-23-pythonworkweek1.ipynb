{
 "cells": [
  {
   "cell_type": "code",
   "execution_count": 1,
   "metadata": {},
   "outputs": [
    {
     "name": "stdout",
     "output_type": "stream",
     "text": [
      "Hello! Welcome to Drew's super awesome (slightly plagiar-inspired) survey (quiz)!\n",
      "You will be asked 5 questions about various topics. It is important that you answer honestly and capitalize proper nouns.\n",
      "Question: Are you ready to take a test?\n",
      "Answer: yes\n",
      "That is the correct opinion. Good job!\n",
      "mister_dew you scored 1/5\n"
     ]
    }
   ],
   "source": [
    "import getpass, sys\n",
    "\n",
    "def question_and_answer(prompt):\n",
    "    print(\"Question: \" + prompt)\n",
    "    msg = input()\n",
    "    print(\"Answer: \" + msg)\n",
    "    \n",
    "def question_with_response(prompt):\n",
    "    print(\"Question: \" + prompt)\n",
    "    msg = input()\n",
    "    return msg\n",
    "\n",
    "questions = 5\n",
    "correct = 0\n",
    "\n",
    "print(\"Hello! Welcome to Drew's super awesome (slightly plagiar-inspired) survey (quiz)!\")\n",
    "print(\"You will be asked \" + str(questions) + \" questions about various topics. It is important that you answer honestly and capitalize proper nouns.\")\n",
    "question_and_answer(\"Are you ready to take a test?\")\n",
    "\n",
    "answer = input(\"What is the best name?\")\n",
    "if answer == \"Drew\":\n",
    "    print(\"That is the correct opinion. Good job!\")\n",
    "    correct += 1\n",
    "else:\n",
    "    print(\"Interesting response...\")\n",
    "\n",
    "print(getpass.getuser() + \" you scored \" + str(correct) +\"/\" + str(questions))"
   ]
  }
 ],
 "metadata": {
  "kernelspec": {
   "display_name": "Python 3.8.13 64-bit",
   "language": "python",
   "name": "python3"
  },
  "language_info": {
   "codemirror_mode": {
    "name": "ipython",
    "version": 3
   },
   "file_extension": ".py",
   "mimetype": "text/x-python",
   "name": "python",
   "nbconvert_exporter": "python",
   "pygments_lexer": "ipython3",
   "version": "3.8.13"
  },
  "orig_nbformat": 4,
  "vscode": {
   "interpreter": {
    "hash": "0adcc2737ebf6a4a119f135174df96668767fca1ef1112612db5ecadf2b6d608"
   }
  }
 },
 "nbformat": 4,
 "nbformat_minor": 2
}
