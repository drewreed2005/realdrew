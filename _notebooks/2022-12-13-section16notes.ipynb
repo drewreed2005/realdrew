{
 "cells": [
  {
   "attachments": {},
   "cell_type": "markdown",
   "metadata": {},
   "source": [
    "# Sections 16 (Simulations) Notes\n",
    "> Based on the lesson by Shruthi Malayath, Jiya Savlani, Ananya Gaurav, and Noor Grewal.\n",
    "- title: Simulations Lesson Notes\n",
    "- toc: true\n",
    "- permalink: /section16notes/"
   ]
  },
  {
   "cell_type": "markdown",
   "metadata": {},
   "source": [
    "## Hack #1 - Class Notes\n",
    "\n",
    "In this section, I take my own notes on the section. I have split it up into a vocabulary section and a section for miscellaneous class notes.\n",
    "\n",
    "### Vocabulary\n",
    "\n",
    "Simulations: abstractions that mimic more complex objects or phenomena from the real world. (The purpose is drawing inferences without the contraints of the real world.)\n",
    "\n",
    "Variance: random chance, simulated through random number generation in simulations.\n",
    "\n",
    "### Miscellaneous Class Notes\n",
    "\n",
    "- Typically, simulations leave out specific details or simplify complex aspects. It is crucial, however, to have variables to represent variance in the situation.\n",
    "- Simulations often contain some amount of bias.\n",
    "- Variability and randomness exists inherently in the world, and we can represent this with random number generation.\n",
    "\n",
    "Here are some helpful functions for these simulations:"
   ]
  },
  {
   "cell_type": "code",
   "execution_count": null,
   "metadata": {},
   "outputs": [],
   "source": [
    "import random # a module that defines a series of functions for generating or manipulating random integers\n",
    "random.choice() #returns a randomly selected element from the specified sequence\n",
    "random.choice([1, 2, 3]) # returns random value from list\n",
    "random.randint(0,10) #randomly selects an integer from given range; range in this case is from 0 to 10\n",
    "random.random() #will generate a random float between 0.0 to 1."
   ]
  },
  {
   "cell_type": "markdown",
   "metadata": {},
   "source": [
    "#### Check-in Simulation Problem\n",
    "\n",
    "Question: The following code simulates the feeding of 4 fish in an aquarium while the owner is on a 5-day trip:\n",
    "\n",
    "```\n",
    "numFish ← 4\n",
    "foodPerDay ← 20\n",
    "foodLeft ← 160\n",
    "daysStarving ← 0\n",
    "REPEAT 5 TIMES {\n",
    "    foodConsumed ← numFish * foodPerDay\n",
    "    foodLeft ← foodLeft - foodConsumed\n",
    "    IF (foodLeft < 0) {\n",
    "        daysStarving ← daysStarving + 1\n",
    "    }\n",
    "}\n",
    "```\n",
    "\n",
    "**Why is this simulation considered an abstraction?**\n",
    "\n",
    "1. It uses a conditional to execute one part of the code only when a particular condition is met.\n",
    "2. It uses a REPEAT loop to run the same block of code multiple times.\n",
    "3. <mark>It simplifies a real-world scenario into something that can be modeled in code and executed on a computer.</mark>\n",
    "4. It does not request input from the user or display output to the user.\n",
    "\n",
    "<mark>Explanation</mark>: The simulation is considered an abstraction because it is represented in separate terms (abstracted) into a computer language, but still made to function in its intended circumstances."
   ]
  },
  {
   "attachments": {},
   "cell_type": "markdown",
   "metadata": {},
   "source": [
    "## Hack #2 - Functions Classwork\n",
    "\n",
    "Below is the functions we were asked to use for the classwork.\n",
    "\n",
    "### Trying Randomization Functions\n",
    "\n",
    "We were asked to do this:\n",
    "\n",
    "> Randomly select select a number from 1-100, assign it to be x, and print it. (If you have time, add a user input box!)\n",
    "\n",
    "I did it below. Here's the first one that generates a random integer from 1 to 100."
   ]
  },
  {
   "cell_type": "code",
   "execution_count": 4,
   "metadata": {},
   "outputs": [
    {
     "name": "stdout",
     "output_type": "stream",
     "text": [
      "41\n"
     ]
    }
   ],
   "source": [
    "import random\n",
    "x = random.randint(1, 100)\n",
    "print(x)"
   ]
  },
  {
   "cell_type": "markdown",
   "metadata": {},
   "source": [
    "And here's something that encorporates user input."
   ]
  },
  {
   "cell_type": "code",
   "execution_count": 5,
   "metadata": {},
   "outputs": [
    {
     "name": "stdout",
     "output_type": "stream",
     "text": [
      "Please pick the lower bound of the RNG.\n",
      "You picked 10.\n",
      "Please pick the upper bound of the RNG.\n",
      "You picked 20.\n",
      "Your random number is... 11.\n"
     ]
    }
   ],
   "source": [
    "import random\n",
    "print(\"Please pick the lower bound of the RNG.\")\n",
    "x = int(input())\n",
    "print(\"You picked\", str(x) + \".\")\n",
    "print(\"Please pick the upper bound of the RNG.\")\n",
    "y = int(input())\n",
    "print(\"You picked\", str(y) + \".\")\n",
    "print(\"Your random number is...\", str(random.randint(x, y)) + \".\")"
   ]
  },
  {
   "cell_type": "markdown",
   "metadata": {},
   "source": [
    "### Closet User Input Function\n",
    "\n",
    "Here is my program that lets you add to **and remove things from your clothes list**."
   ]
  },
  {
   "cell_type": "code",
   "execution_count": 6,
   "metadata": {},
   "outputs": [
    {
     "name": "stdout",
     "output_type": "stream",
     "text": [
      "Your clothes:\n",
      "- Red shoes\n",
      "- Green pants\n",
      "- Tie\n",
      "- Belt\n",
      "What would you like to do?\n",
      "1. Add clothes\n",
      "2. Remove clothes\n",
      "3. All done\n",
      "What clothing would you like to remove?\n",
      "1. Red shoes\n",
      "2. Green pants\n",
      "3. Tie\n",
      "4. Belt\n",
      "Your clothes:\n",
      "- Red shoes\n",
      "- Tie\n",
      "- Belt\n",
      "What would you like to do?\n",
      "1. Add clothes\n",
      "2. Remove clothes\n",
      "3. All done\n"
     ]
    }
   ],
   "source": [
    "myclothes = [\"red shoes\", \"green pants\", \"tie\", \"belt\"]\n",
    "\n",
    "def mycloset():\n",
    "    print(\"Your clothes:\")\n",
    "    for clothing in myclothes:\n",
    "        print(\"-\", clothing.capitalize())\n",
    "    print(\"What would you like to do?\\n1. Add clothes\\n2. Remove clothes\\n3. All done\")\n",
    "    rsp = input(\"Pick one of the two numbers?\")\n",
    "    if rsp == \"1\":\n",
    "        print(\"What clothing would you like to add?\")\n",
    "        rsp = input(\"What would you like to call it?\")\n",
    "        myclothes.append(rsp)\n",
    "        mycloset()\n",
    "    elif rsp == \"2\":\n",
    "        print(\"What clothing would you like to remove?\")\n",
    "        i = 0\n",
    "        while i < len(myclothes):\n",
    "            print(str(i + 1) + \".\", myclothes[i].capitalize())\n",
    "            i += 1\n",
    "        rsp = (int(input(\"Input an integer in range.\")) - 1)\n",
    "        if 0 <= rsp < len(myclothes):\n",
    "            myclothes.pop(rsp)\n",
    "            mycloset()\n",
    "        else:\n",
    "            print(\"Invalid input.\")\n",
    "    elif rsp == \"3\":\n",
    "        return \"Thanks!\"\n",
    "    else:\n",
    "        print(\"invalid input.\")\n",
    "mycloset()"
   ]
  },
  {
   "cell_type": "markdown",
   "metadata": {},
   "source": [
    "### Coin Flip Example\n",
    "\n",
    "Here is the example provided in class."
   ]
  },
  {
   "cell_type": "code",
   "execution_count": 7,
   "metadata": {},
   "outputs": [
    {
     "name": "stdout",
     "output_type": "stream",
     "text": [
      "Tails\n",
      "Tails\n",
      "Tails\n",
      "Heads\n",
      "Heads\n"
     ]
    }
   ],
   "source": [
    "import random\n",
    "\n",
    "def coinflip():         #def function \n",
    "    randomflip = random.randint(0, 1) #picks either 0 or 1 randomly (50/50 chance of either) \n",
    "    if randomflip == 0: #assigning 0 to be heads--> if 0 is chosen then it will print, \"Heads\"\n",
    "        print(\"Heads\")\n",
    "    else:\n",
    "        if randomflip == 1: #assigning 1 to be tails--> if 1 is chosen then it will print, \"Tails\"\n",
    "            print(\"Tails\")\n",
    "\n",
    "#Tossing the coin 5 times:\n",
    "t1 = coinflip()\n",
    "t2 = coinflip()\n",
    "t3 = coinflip()\n",
    "t4 = coinflip()\n",
    "t5 = coinflip()"
   ]
  },
  {
   "cell_type": "markdown",
   "metadata": {},
   "source": [
    "We were asked to make the coinflip weighted. I made heads twice as likely to be selected as tails in the code below."
   ]
  },
  {
   "cell_type": "code",
   "execution_count": 12,
   "metadata": {},
   "outputs": [
    {
     "name": "stdout",
     "output_type": "stream",
     "text": [
      "Outcomes: Heads, Heads, Heads, Tails, Heads\n"
     ]
    }
   ],
   "source": [
    "def weightedcoin():\n",
    "    flip = random.randint(0, 2)\n",
    "    if flip >= 1:\n",
    "        return \"Heads\"\n",
    "    else:\n",
    "        return \"Tails\"\n",
    "\n",
    "t1 = weightedcoin()\n",
    "t2 = weightedcoin()\n",
    "t3 = weightedcoin()\n",
    "t4 = weightedcoin()\n",
    "t5 = weightedcoin()\n",
    "print(\"Outcomes:\", t1 + \",\", t2 + \",\", t3 + \",\", t4 + \",\", t5)"
   ]
  },
  {
   "cell_type": "markdown",
   "metadata": {},
   "source": [
    "## Hack #3 - Binary Simulation Problem"
   ]
  },
  {
   "cell_type": "markdown",
   "metadata": {},
   "source": [
    "Here's the function to simulate the zombie apocalypse. Each bit of binary in the 8-bit string corresponds to a person's index in the `survivorstatus` list."
   ]
  },
  {
   "cell_type": "code",
   "execution_count": 13,
   "metadata": {},
   "outputs": [
    {
     "name": "stdout",
     "output_type": "stream",
     "text": [
      "Drew: Human\n",
      "AJ: Human\n",
      "Tony: Zombie\n",
      "Katie: Zombie\n",
      "Fatso: Human\n",
      "Elfen Child: Human\n",
      "Kiddo: Human\n",
      "Kid in Basement: Human\n"
     ]
    }
   ],
   "source": [
    "import random\n",
    "\n",
    "def randomnum(): # function for generating random int\n",
    "    return random.randint(0, 255)\n",
    "\n",
    "def converttobin(num): # function for converting decimal to binary\n",
    "    i = 7\n",
    "    binary = \"\"\n",
    "    while i >= 0:\n",
    "        if num % (2**i) == num:\n",
    "            binary += \"0\"\n",
    "            i -= 1\n",
    "        else:\n",
    "            binary += \"1\"\n",
    "            num -= 2**i\n",
    "            i -= 1\n",
    "    return binary\n",
    "\n",
    "def survivors(binary): # function to assign position\n",
    "    survivorstatus = [\"Drew\", \"AJ\", \"Tony\", \"Katie\" , \"Fatso\", \"Elfen Child\", \"Kiddo\", \"Kid in Basement\"]\n",
    "    i = 0\n",
    "    while i < len(survivorstatus):\n",
    "        if binary[i] == \"1\":\n",
    "            temp = \"Zombie\"\n",
    "        else:\n",
    "            temp = \"Human\"\n",
    "        survivorstatus[i] = (survivorstatus[i], temp)\n",
    "        i += 1\n",
    "    for human, state in survivorstatus:\n",
    "        print(human + \":\", state)\n",
    "\n",
    "survivors(converttobin(randomnum()))"
   ]
  },
  {
   "cell_type": "markdown",
   "metadata": {},
   "source": [
    "## Hack #4 - Thinking Through a Problem\n",
    "\n",
    "For the dice roll program, I involved an integer parameter that determines how many trials of dice rolls will be simulated. The results are appended to a list that is then returned. That function is found below."
   ]
  },
  {
   "cell_type": "code",
   "execution_count": 1,
   "metadata": {},
   "outputs": [
    {
     "name": "stdout",
     "output_type": "stream",
     "text": [
      "Rolls: 4 3 1 6 6 "
     ]
    }
   ],
   "source": [
    "import random\n",
    "\n",
    "def diceroll(times):\n",
    "    results = []\n",
    "    i = 0\n",
    "    while i < times:\n",
    "        results.append(random.randint(1, 6))\n",
    "        i += 1\n",
    "    return results\n",
    "\n",
    "results = diceroll(5)\n",
    "print(\"Rolls: \", end = '')\n",
    "for roll in results:\n",
    "    print(str(roll) + \" \", end = '')"
   ]
  },
  {
   "attachments": {},
   "cell_type": "markdown",
   "metadata": {},
   "source": [
    "## Hack 5 - Applying your knowledge to situation based problems\n",
    "\n",
    "This was the assignment.\n",
    "\n",
    ">Using the questions bank below, create a quiz that presents the user a random question and calculates the user's score. You can use the template below or make your own. Making your own using a loop can give you extra points.\n",
    "\n",
    "I decided to make my own loop, which randomly selects a question (and never repeats the same question). The two additional questions are mostly vocabulary-based.\n",
    "\n",
    "### The Questions\n",
    "\n",
    "See the last two for my own (they're both vocabulary-based)."
   ]
  },
  {
   "attachments": {},
   "cell_type": "markdown",
   "metadata": {},
   "source": [
    "1. A researcher gathers data about the effect of Advanced Placement®︎ classes on students' success in college and career, and develops a simulation to show how a sequence of AP classes affect a hypothetical student's pathway. Several school administrators are concerned that the simulation contains bias favoring high-income students, however.\n",
    "    - answer options:\n",
    "        1. The simulation is an abstraction and therefore cannot contain any bias\n",
    "        2. The simulation may accidentally contain bias due to the exclusion of details. (right)\n",
    "        3. If the simulation is found to contain bias, then it is not possible to remove the bias from the simulation.\n",
    "        4. The only way for the simulation to be biased is if the researcher intentionally used data that favored their desired output.\n",
    "2. Jack is trying to plan his financial future using an online tool. The tool starts off by asking him to input details about his current finances and career. It then lets him choose different future scenarios, such as having children. For each scenario chosen, the tool does some calculations and outputs his projected savings at the ages of 35, 45, and 55. Would that be considered a simulation and why?\n",
    "    - answer options\n",
    "        1. No, it's not a simulation because it does not include a visualization of the results.\n",
    "        2. No, it's not a simulation because it does not include all the details of his life history and the future financial environment.\n",
    "        3. Yes, it's a simulation because it runs on a computer and includes both user input and computed output.\n",
    "        4. Yes, it's a simulation because it is an abstraction of a real world scenario that enables the drawing of inferences. (correct)\n",
    "3. Sylvia is an industrial engineer working for a sporting goods company. She is developing a baseball bat that can hit balls with higher accuracy and asks their software engineering team to develop a simulation to verify the design. Which of the following details is most important to include in this simulation?\n",
    "    - answer options\n",
    "        1. Realistic sound effects based on the material of the baseball bat and the velocity of the hit\n",
    "        2. A depiction of an audience in the stands with lifelike behavior in response to hit accuracy\n",
    "        3. Accurate accounting for the effects of wind conditions on the movement of the ball (correct)\n",
    "        4. A baseball field that is textured to differentiate between the grass and the dirt\n",
    "4. Ashlynn is an industrial engineer who is trying to design a safer parachute. She creates a computer simulation of the parachute opening at different heights and in different environmental conditions. What are advantages of running the simulation versus an actual experiment?\n",
    "    - answer options\n",
    "        1. The simulation will not contain any bias that favors one body type over another, while an experiment will be biased.\n",
    "        2. The simulation can be run more safely than an actual experiment\n",
    "        3. The simulation will accurately predict the parachute's safety level, while an experiment may be inaccurate due to faulty experimental design.\n",
    "        4. The simulation can test the parachute design in a wide range of environmental conditions that may be difficult to reliably reproduce in an experiment. (correct)\n",
    "    * this question has 2 correct answers\n",
    "5. PERSONAL QUESTION: What is the purpose of simulations?\n",
    "    - answer options\n",
    "        1. To draw inferences without the contraints of the real world (correct)\n",
    "        2. To perfectly recreate a situation without any bias\n",
    "        3. To prove that the simulated situation is only practical in theory\n",
    "        4. To ignore distracting details that may influence the outcome of a situation\n",
    "6. PERSONAL QUESTION: How is random variability accounted for in simulations?\n",
    "    - answer options\n",
    "        1. Clear frontend that shows visual aspects of the scenario\n",
    "        2. Connection to an extensive API with historical data\n",
    "        3. Random or pseudo-random number generation (correct)\n",
    "        4. Inconsistent interpretation of concrete conditions\n",
    "\n",
    "### My Quiz\n",
    "\n",
    "I made sure to include a randomization system for the questions. There is also a failsafe system in place in case the user accidentally inputs an invalid response."
   ]
  },
  {
   "cell_type": "code",
   "execution_count": 24,
   "metadata": {},
   "outputs": [
    {
     "name": "stdout",
     "output_type": "stream",
     "text": [
      "Jack is trying to plan his financial future using an online tool. The tool starts off by asking him to input details about his current finances and career. It then lets him choose different future scenarios, such as having children. For each scenario chosen, the tool does some calculations and outputs his projected savings at the ages of 35, 45, and 55. Would that be considered a simulation and why?\n",
      "a. No, it's not a simulation because it does not include a visualization of the results.\n",
      "b. No, it's not a simulation because it does not include all the details of his life history and the future financial environment.\n",
      "c. Yes, it's a simulation because it runs on a computer and includes both user input and computed output.\n",
      "d. Yes, it's a simulation because it is an abstraction of a real world scenario that enables the drawing of inferences.\n",
      "Good job! \"d\" is the correct answer.\n",
      "Sylvia is an industrial engineer working for a sporting goods company. She is developing a baseball bat that can hit balls with higher accuracy and asks their software engineering team to develop a simulation to verify the design. Which of the following details is most important to include in this simulation?\n",
      "a. Realistic sound effects based on the material of the baseball bat and the velocity of the hit.\n",
      "b. A depiction of an audience in the stands with lifelike behavior in response to hit accuracy.\n",
      "c. Accurate accounting for the effects of wind conditions on the movement of the ball.\n",
      "d. A baseball field that is textured to differentiate between the grass and the dirt.\n",
      "Good job! \"c\" is the correct answer.\n",
      "How is random variability accounted for in simulations?\n",
      "a. Clear frontend that shows visual aspects of the scenario\n",
      "b. Connection to an extensive API with historical data\n",
      "c. Random or pseudo-random number generation\n",
      "d. Inconsistent interpretation of concrete conditions\n",
      "Good job! \"c\" is the correct answer.\n",
      "Ashlynn is an industrial engineer who is trying to design a safer parachute. She creates a computer simulation of the parachute opening at different heights and in different environmental conditions. What are advantages of running the simulation versus an actual experiment?\n",
      "a. The simulation will not contain any bias that favors one body type over another, while an experiment will be biased.\n",
      "b. The simulation can be run more safely than an actual experiment.\n",
      "c. The simulation will accurately predict the parachute's safety level, while an experiment may be inaccurate due to faulty experimental design.\n",
      "d. The simulation can test the parachute design in a wide range of environmental conditions that may be difficult to reliably reproduce in an experiment.\n",
      "Good job! \"d\" is the correct answer.\n",
      "1. A researcher gathers data about the effect of Advanced Placement®︎ classes on students' success in college and career, and develops a simulation to show how a sequence of AP classes affect a hypothetical student's pathway. Several school administrators are concerned that the simulation contains bias favoring high-income students, however.\n",
      "a. The simulation is an abstraction and therefore cannot contain any bias.\n",
      "b. The simulation may accidentally contain bias due to the exclusion of details.\n",
      "c. If the simulation is found to contain bias, then it is not possible to remove the bias from the simulation.\n",
      "d. The only way for the simulation to be biased is if the researcher intentionally used data that favored their desired output.\n",
      "Good job! \"b\" is the correct answer.\n",
      "You scored 5 out of 5 on the quiz. That's 100%!\n",
      "Congratulations, that's a passing score! You're a real expert at simulations.\n"
     ]
    }
   ],
   "source": [
    "import random #used to randomize the questions\n",
    "\n",
    "questions = [\n",
    "    {\"q\": \"1. A researcher gathers data about the effect of Advanced Placement®︎ classes on students' success in college and career, and develops a simulation to show how a sequence of AP classes affect a hypothetical student's pathway. Several school administrators are concerned that the simulation contains bias favoring high-income students, however.\",\n",
    "    \"a\": \"a. The simulation is an abstraction and therefore cannot contain any bias.\\nb. The simulation may accidentally contain bias due to the exclusion of details.\\nc. If the simulation is found to contain bias, then it is not possible to remove the bias from the simulation.\\nd. The only way for the simulation to be biased is if the researcher intentionally used data that favored their desired output.\",\n",
    "    \"correct\": \"b\"},\n",
    "    {\"q\": \"Jack is trying to plan his financial future using an online tool. The tool starts off by asking him to input details about his current finances and career. It then lets him choose different future scenarios, such as having children. For each scenario chosen, the tool does some calculations and outputs his projected savings at the ages of 35, 45, and 55. Would that be considered a simulation and why?\",\n",
    "    \"a\": \"a. No, it's not a simulation because it does not include a visualization of the results.\\nb. No, it's not a simulation because it does not include all the details of his life history and the future financial environment.\\nc. Yes, it's a simulation because it runs on a computer and includes both user input and computed output.\\nd. Yes, it's a simulation because it is an abstraction of a real world scenario that enables the drawing of inferences.\",\n",
    "    \"correct\": \"d\"},\n",
    "    {\"q\": \"Sylvia is an industrial engineer working for a sporting goods company. She is developing a baseball bat that can hit balls with higher accuracy and asks their software engineering team to develop a simulation to verify the design. Which of the following details is most important to include in this simulation?\",\n",
    "    \"a\": \"a. Realistic sound effects based on the material of the baseball bat and the velocity of the hit.\\nb. A depiction of an audience in the stands with lifelike behavior in response to hit accuracy.\\nc. Accurate accounting for the effects of wind conditions on the movement of the ball.\\nd. A baseball field that is textured to differentiate between the grass and the dirt.\",\n",
    "    \"correct\": \"c\"},\n",
    "    {\"q\": \"Ashlynn is an industrial engineer who is trying to design a safer parachute. She creates a computer simulation of the parachute opening at different heights and in different environmental conditions. What are advantages of running the simulation versus an actual experiment?\",\n",
    "    \"a\": \"a. The simulation will not contain any bias that favors one body type over another, while an experiment will be biased.\\nb. The simulation can be run more safely than an actual experiment.\\nc. The simulation will accurately predict the parachute's safety level, while an experiment may be inaccurate due to faulty experimental design.\\nd. The simulation can test the parachute design in a wide range of environmental conditions that may be difficult to reliably reproduce in an experiment.\",\n",
    "    \"correct\": \"d\"},\n",
    "    {\"q\": \"What is the purpose of simulations?\",\n",
    "    \"a\": \"a. To draw inferences without the contraints of the real world\\nb. To perfectly recreate a situation without any bias\\nc. To prove that the simulated situation is only practical in theory\\nd. To ignore distracting details that may influence the outcome of a situation\",\n",
    "    \"correct\": \"a\"},\n",
    "    {\"q\": \"How is random variability accounted for in simulations?\", \"a\": \"a. Clear frontend that shows visual aspects of the scenario\\nb. Connection to an extensive API with historical data\\nc. Random or pseudo-random number generation\\nd. Inconsistent interpretation of concrete conditions\",\n",
    "    \"correct\": \"c\"}\n",
    "] #five questions, selected randomly\n",
    "validresponse = [\"a\", \"b\", \"c\", \"d\"] #a list of valid inputs\n",
    "score = 0 #score is set at zero, incremented later unless you suck\n",
    "\n",
    "def quizloop():\n",
    "    i = 0 #represents the number of questions asked, starting at 0 (meaning 1)\n",
    "    while i < 5:\n",
    "        quesnum = int(random.randrange(len(questions))) #question number is generated randomly based on the number of questions remaining in \"questions\"\n",
    "        question = questions[quesnum][\"q\"] #pulling the question from the randomly-selected dictionary\n",
    "        answers = questions[quesnum][\"a\"] #pulling the answer from the randomly-selected dictionary\n",
    "        print(question + \"\\n\" + answers) #printing the question\n",
    "        answercheck(quesnum) #receiving and checking the accuracy of the user's answer\n",
    "        questions.pop(quesnum) #removing the already asked question from the list so that it isn't repeated\n",
    "        i += 1 #i incremented to indicate that one more of the five questions has already been asked\n",
    "    scorecheck() #a reflection on your score\n",
    "\n",
    "def answercheck(quesnum):\n",
    "    global score #retrieving global element \"score\"\n",
    "    choice = input(\"Pick an option: a, b, c or d. Do not include the period.\").lower() #using .lower() so that capital answers are still detected correct\n",
    "    if choice in validresponse: #ensuring the response is one of the four valid letters\n",
    "        pass\n",
    "    else:\n",
    "        print(\"Invalid response.\")\n",
    "        answercheck(quesnum)\n",
    "        return\n",
    "    if choice == questions[quesnum][\"correct\"]: #if the choice is correct\n",
    "        print('Good job! \"' + choice + '\" is the correct answer.')\n",
    "        score += 1\n",
    "    else: #if the choice isn't correct\n",
    "        print('Unfortunately, \"' + questions[quesnum][\"correct\"] + '\" was the correct answer.')\n",
    "    \n",
    "def scorecheck():\n",
    "    percent = int(100 * (int(score) / 5)) #calculating percent value of score, converted with int() for no ugly decimal\n",
    "    print(\"You scored\", str(int(score)), \"out of 5 on the quiz. That's\", str(percent) + \"%!\")\n",
    "    if percent < 80: #if you didn't score a passing score\n",
    "        print(\"Unfortunately, you needed at least 80% (3 out of 5) to pass.\\nBetter luck next time!\")\n",
    "    else: #if you did score a passing score\n",
    "        print(\"Congratulations, that's a passing score! You're a real expert at simulations.\")\n",
    "\n",
    "#all of the quiz happens with just this one function\n",
    "quizloop()"
   ]
  },
  {
   "attachments": {},
   "cell_type": "markdown",
   "metadata": {},
   "source": [
    "## Hack #6 / Challenge - Taking real life problems and implementing them into code"
   ]
  },
  {
   "attachments": {},
   "cell_type": "markdown",
   "metadata": {},
   "source": [
    "I made a simulation that lets you breed flowers together and, based on their phenotype, there is a chance of various new colors of flowers being bred.\n",
    "\n",
    "There are even some rare types of flowers that can be created by combining breeds of flowers and getting lucky. You can find out more about the flowers by choosing \"Info\" in the simulation options.\n",
    "\n",
    "The simulation runs as long as you want it to. Please try it out on your own if you want! It's kind of fun."
   ]
  },
  {
   "cell_type": "code",
   "execution_count": 6,
   "metadata": {},
   "outputs": [
    {
     "name": "stdout",
     "output_type": "stream",
     "text": [
      "Your Garden:\n",
      "1. Red (Common)\n",
      "2. Blue (Common)\n",
      "3. Yellow (Common)\n",
      "4. White (Common)\n",
      "5. Violet (Hybrid)\n",
      "6. Orange (Hybrid)\n",
      "7. Pink (Hybrid)\n",
      "8. Green (Hybrid)\n",
      "9. Sky Blue (Hybrid)\n",
      "10. Cream (Hybrid)\n",
      "11. Pure Red (Rare)\n",
      "12. Pure Blue (Rare)\n",
      "13. Pure Yellow (Rare)\n",
      "14. Pure White (Rare)\n",
      "15. Gold (Super Rare)\n",
      "What would you like to do?\n",
      "1. Breed\n",
      "2. Info\n",
      "3. Finish\n",
      "Thank you for playing!\n"
     ]
    }
   ],
   "source": [
    "from IPython.display import clear_output as clr\n",
    "from random import randint as rng\n",
    "import time\n",
    "#defining flower classes\n",
    "class Flower:\n",
    "    def __init__(self, id, name, phenos, rarity):\n",
    "        self.name = name\n",
    "        self.id = id\n",
    "        self.phenos = phenos\n",
    "        self.rarity = rarity\n",
    "#initializing types of flowers\n",
    "red = Flower(0, \"Red\", [\"A\"], \"Common\")\n",
    "purered = Flower(1, \"Pure Red\", [\"A\", \"A\"], \"Rare\")\n",
    "blue = Flower(2, \"Blue\", [\"B\"], \"Common\")\n",
    "pureblue = Flower(3, \"Pure Blue\", [\"B\", \"B\"], \"Rare\")\n",
    "yellow = Flower(4, \"Yellow\", [\"C\"], \"Common\")\n",
    "pureyellow = Flower(5, \"Pure Yellow\", [\"C\", \"C\"], \"Rare\")\n",
    "white = Flower(6, \"White\", [\"D\"], \"Common\")\n",
    "purewhite = Flower(7, \"Pure White\", [\"D\", \"D\"], \"Rare\")\n",
    "violet = Flower(8, \"Violet\", [\"A\", \"B\"], \"Hybrid\")\n",
    "green = Flower(9, \"Green\", [\"B\", \"C\"], \"Hybrid\")\n",
    "orange = Flower(10, \"Orange\", [\"A\", \"C\"], \"Hybrid\")\n",
    "pink = Flower(11, \"Pink\", [\"A\", \"D\"], \"Hybrid\")\n",
    "skyblue = Flower(12, \"Sky Blue\", [\"B\", \"D\"], \"Hybrid\")\n",
    "cream = Flower(13, \"Cream\", [\"C\", \"D\"], \"Hybrid\")\n",
    "gold = Flower(14, \"Gold\", [\"A\", \"B\", \"C\", \"D\"], \"Super Rare\")\n",
    "#list of various flower types\n",
    "flowerlist = [red, purered, blue, pureblue, yellow, pureyellow, white, purewhite,\n",
    "violet, green, orange, pink, skyblue, cream, gold]\n",
    "#initializing starting garden\n",
    "garden = [red, blue, yellow, white]\n",
    "#priorities for breeding\n",
    "priolist = {\"A\": 0, \"B\": 1, \"C\": 2, \"D\": 3}\n",
    "def breedchoice():\n",
    "    tempgarden = []\n",
    "    for flower in garden:\n",
    "        tempgarden.append(flower)\n",
    "    print(\"Which flower would you like to breed?\")\n",
    "    for i in range(len(tempgarden)):\n",
    "        print(str(i + 1) + \".\", tempgarden[i].name)\n",
    "    rsp = input(\"Choose one of these flowers.\")\n",
    "    try:\n",
    "        f1 = tempgarden[int(rsp) - 1]\n",
    "        tempgarden.pop(int(rsp) - 1)\n",
    "        print(\"Which other flower would you like to breed?\")\n",
    "        for i in range(len(tempgarden)):\n",
    "            print(str(i + 1) + \".\", tempgarden[i].name)\n",
    "        rsp = input(\"Choose one of these flowers.\")\n",
    "        try:\n",
    "            f2 = tempgarden[int(rsp) - 1]\n",
    "            breed(f1, f2)\n",
    "        except:\n",
    "            print('Invalid input.')\n",
    "            breedchoice()\n",
    "    except:\n",
    "        print('Invalid input.')\n",
    "        breedchoice()\n",
    "#function for breeding flowers\n",
    "def breed(f1, f2):\n",
    "    result = []\n",
    "    print(\"Breeding\", f1.name, \"and\", f2.name + \"...\")\n",
    "    if f1.rarity == \"Rare\" and f2.rarity == \"Rare\":\n",
    "        odds = rng(0, 2)\n",
    "        if odds == 0:\n",
    "            print(\"WOW! You bred the rare Gold flower!\")\n",
    "            garden.append(gold)\n",
    "        elif odds == 1:\n",
    "            print(\"You bred a\", f1.name + \"!\")\n",
    "        else:\n",
    "            print(\"You bred a\", f2.name + \"!\")\n",
    "        flowersim()\n",
    "        return\n",
    "    temp = rng(0, (len(f1.phenos) - 1))\n",
    "    result.append(f1.phenos[temp])\n",
    "    temp = rng(0, (len(f2.phenos) - 1))\n",
    "    temp = f2.phenos[temp]\n",
    "    if priolist[temp] < priolist[result[0]]:\n",
    "        result.insert(0, temp)\n",
    "    else:\n",
    "        result.append(temp)\n",
    "    for flower in flowerlist:\n",
    "        if flower.phenos == result:\n",
    "            print(\"You bred a(n)\", flower.name + \"!\")\n",
    "            if flower not in garden:\n",
    "                garden.append(flower)\n",
    "            time.sleep(1)\n",
    "    flowersim()\n",
    "#function for getting flower info\n",
    "def flowerinfo():\n",
    "    print(\"Which flower would you like to know about?\")\n",
    "    for i in range(len(garden)):\n",
    "        print(str(i + 1) + \".\", garden[i].name)\n",
    "    rsp = input(\"Choose one of these flowers.\")\n",
    "    try:\n",
    "        chosen = garden[int(rsp) - 1]\n",
    "        print(\"Name:\", chosen.name)\n",
    "        print(\"Phenotype:\", chosen.phenos)\n",
    "        print(\"Rarity:\", chosen.rarity)\n",
    "        print('Press the \"ENTER\" key when finished.')\n",
    "        done = input()\n",
    "        flowersim()\n",
    "    except:\n",
    "        print(\"Invalid input.\")\n",
    "        flowerinfo()\n",
    "def flowersim():\n",
    "    clr(wait=True)\n",
    "    print(\"Your Garden:\")\n",
    "    for i in range(len(garden)):\n",
    "        print(str(i + 1) + \".\", garden[i].name, \"(\" + garden[i].rarity + \")\")\n",
    "    print(\"What would you like to do?\\n1. Breed\\n2. Info\\n3. Finish\")\n",
    "    asking = True\n",
    "    while asking:\n",
    "        rsp = input(\"Please choose one of these options.\")\n",
    "        if rsp == \"1\":\n",
    "            breedchoice()\n",
    "            asking = False\n",
    "        elif rsp == \"2\":\n",
    "            flowerinfo()\n",
    "            asking = False\n",
    "        elif rsp == \"3\":\n",
    "            print(\"Thank you for playing!\")\n",
    "            asking = False\n",
    "        else:\n",
    "            flowersim()\n",
    "            return\n",
    "flowersim()"
   ]
  },
  {
   "cell_type": "markdown",
   "metadata": {},
   "source": [
    "As you can see here, I went through and bred every flower in the simulation. I hope you enjoy messing with it if you end up doing so."
   ]
  }
 ],
 "metadata": {
  "kernelspec": {
   "display_name": "Python 3.8.13 64-bit",
   "language": "python",
   "name": "python3"
  },
  "language_info": {
   "codemirror_mode": {
    "name": "ipython",
    "version": 3
   },
   "file_extension": ".py",
   "mimetype": "text/x-python",
   "name": "python",
   "nbconvert_exporter": "python",
   "pygments_lexer": "ipython3",
   "version": "3.8.13"
  },
  "orig_nbformat": 4,
  "vscode": {
   "interpreter": {
    "hash": "0adcc2737ebf6a4a119f135174df96668767fca1ef1112612db5ecadf2b6d608"
   }
  }
 },
 "nbformat": 4,
 "nbformat_minor": 2
}
