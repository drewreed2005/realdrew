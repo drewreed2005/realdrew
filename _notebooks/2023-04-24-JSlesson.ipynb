{
 "cells": [
  {
   "cell_type": "markdown",
   "metadata": {},
   "source": [
    "# Basic JavaScript Knowledge\n",
    "> Javascript lesson notes.\n",
    "- toc: true\n",
    "- title: JavaScript Lesson notes\n",
    "- permalink: /javascriptlessonnotes/"
   ]
  },
  {
   "cell_type": "markdown",
   "metadata": {},
   "source": [
    "### Variables\n",
    "\n",
    "- declare JavaScript variables with var, let or const. \n",
    "- If the value of the variable can change, like a total, use let. If the value is set, like prices, use const. Variables can hold any data type. "
   ]
  },
  {
   "cell_type": "code",
   "execution_count": 4,
   "metadata": {},
   "outputs": [
    {
     "data": {
      "text/plain": [
       "11"
      ]
     },
     "execution_count": 4,
     "metadata": {},
     "output_type": "execute_result"
    }
   ],
   "source": [
    "var x = 5;\n",
    "var y = 6;\n",
    "var z = x + y;\n",
    "\n",
    "z"
   ]
  },
  {
   "cell_type": "markdown",
   "metadata": {},
   "source": [
    "### Data types- there are 8 JS data types. \n",
    "- List a few data types that you already know\n",
    "\n",
    ">String\n",
    "\n",
    ">Integer\n",
    "\n",
    ">Float\n",
    "\n",
    ">Array\n",
    "\n",
    ">Object\n",
    "\n",
    ">Boolean\n",
    "\n",
    ">None/Nul"
   ]
  },
  {
   "cell_type": "markdown",
   "metadata": {},
   "source": [
    "#### 1. String: a series of characters, written with single or double quotes\n"
   ]
  },
  {
   "cell_type": "code",
   "execution_count": 43,
   "metadata": {},
   "outputs": [
    {
     "data": {
      "text/plain": [
       "'Mort'"
      ]
     },
     "execution_count": 43,
     "metadata": {},
     "output_type": "execute_result"
    }
   ],
   "source": [
    "let text = \"Mort\";\n",
    "text"
   ]
  },
  {
   "cell_type": "code",
   "execution_count": 44,
   "metadata": {},
   "outputs": [
    {
     "data": {
      "text/plain": [
       "'Yeung'"
      ]
     },
     "execution_count": 44,
     "metadata": {},
     "output_type": "execute_result"
    }
   ],
   "source": [
    "let text2 = 'Yeung';\n",
    "text2"
   ]
  },
  {
   "cell_type": "markdown",
   "metadata": {},
   "source": [
    "#### 2. Number: can be integers or decimals. \n",
    "        - You can also have exponential notation for large/small numbers "
   ]
  },
  {
   "cell_type": "markdown",
   "metadata": {},
   "source": [
    "#### 3. Bigint: used to store integer values that are too big to be represented by a normal JS number\n",
    "        - JavaScript integers are only accurate up to 15 digits\n",
    "\n",
    "\n"
   ]
  },
  {
   "cell_type": "code",
   "execution_count": 39,
   "metadata": {},
   "outputs": [
    {
     "data": {
      "text/plain": [
       "'bigint'"
      ]
     },
     "execution_count": 39,
     "metadata": {},
     "output_type": "execute_result"
    }
   ],
   "source": [
    "let number = 1234567890123456789012345n;\n",
    "let Largenum = BigInt(1234567890123456789012345)\n",
    "\n",
    "let typeLargenum = typeof Largenum;\n",
    "typeLargenum\n"
   ]
  },
  {
   "cell_type": "code",
   "execution_count": 40,
   "metadata": {},
   "outputs": [
    {
     "data": {
      "text/plain": [
       "1234567890123456824475648n"
      ]
     },
     "execution_count": 40,
     "metadata": {},
     "output_type": "execute_result"
    }
   ],
   "source": [
    "Largenum"
   ]
  },
  {
   "cell_type": "markdown",
   "metadata": {},
   "source": [
    "#### 4. Boolean: true or false, used in conditional testing\n"
   ]
  },
  {
   "cell_type": "code",
   "execution_count": 42,
   "metadata": {},
   "outputs": [
    {
     "data": {
      "text/plain": [
       "false"
      ]
     },
     "execution_count": 42,
     "metadata": {},
     "output_type": "execute_result"
    }
   ],
   "source": [
    "Boolean(10 > 9)\n"
   ]
  },
  {
   "cell_type": "markdown",
   "metadata": {},
   "source": [
    "**Write a boolean statement that outputs true.**"
   ]
  },
  {
   "cell_type": "code",
   "execution_count": 2,
   "metadata": {},
   "outputs": [
    {
     "data": {
      "text/plain": [
       "true"
      ]
     },
     "execution_count": 2,
     "metadata": {},
     "output_type": "execute_result"
    }
   ],
   "source": [
    "Boolean(50000 == 50000)"
   ]
  },
  {
   "cell_type": "markdown",
   "metadata": {},
   "source": [
    "#### 5. Undefined: a variable without a value, has the value undefined/empty values\n"
   ]
  },
  {
   "cell_type": "code",
   "execution_count": 3,
   "metadata": {},
   "outputs": [],
   "source": [
    "let name;  \n",
    "name"
   ]
  },
  {
   "cell_type": "code",
   "execution_count": 48,
   "metadata": {},
   "outputs": [],
   "source": [
    "grade = undefined;"
   ]
  },
  {
   "cell_type": "markdown",
   "metadata": {},
   "source": [
    "#### 6. Null: represents the intentional absence of any object value\n",
    "        - variable is empty at the moment and may have a value later"
   ]
  },
  {
   "cell_type": "code",
   "execution_count": 49,
   "metadata": {},
   "outputs": [
    {
     "name": "stdout",
     "output_type": "stream",
     "text": [
      "false\n",
      "false\n"
     ]
    }
   ],
   "source": [
    "let result;\n",
    "\n",
    "result = Boolean(undefined);\n",
    "console.log(result); // false\n",
    "\n",
    "result = Boolean(null);\n",
    "console.log(result); // false"
   ]
  },
  {
   "cell_type": "markdown",
   "metadata": {},
   "source": [
    "#### 7. Symbol: used to represent unique values that can be used as identifiers/keys in objects. \n",
    "        - They are also used to create private properties and methods in classes.\n",
    "        - unique and immutable, so they can be used as unique identifiers in objects and classes.\n",
    "        - useful for creating constants that can be shared across different parts of your code.\n"
   ]
  },
  {
   "cell_type": "code",
   "execution_count": null,
   "metadata": {},
   "outputs": [],
   "source": [
    "// Create a Symbol\n",
    "const mySymbol = Symbol();\n",
    "\n",
    "console.log(mySymbol);\n",
    "// expected output: Symbol()\n"
   ]
  },
  {
   "cell_type": "code",
   "execution_count": null,
   "metadata": {},
   "outputs": [],
   "source": [
    "const myObject = {\n",
    "    [mySymbol]: 'Hello World'\n",
    "  };\n",
    "  \n",
    "  console.log(myObject);\n"
   ]
  },
  {
   "cell_type": "markdown",
   "metadata": {},
   "source": [
    "Edit/add to the code above so that it outputs \"Hello World\""
   ]
  },
  {
   "cell_type": "markdown",
   "metadata": {},
   "source": [
    "#### 8. Object: an unordered collection of key-value pairs. Each key-value pair is called a property. \n",
    "        - object: written with curly braces {}, name:value pairs\n",
    "        - array: written with square brackets, separated by commas "
   ]
  },
  {
   "cell_type": "markdown",
   "metadata": {},
   "source": [
    "Object\n",
    "- Identify the name/keys in the object below: name, breed, age, color\n",
    "- Identify the values in the object below: \"Elly\", \"Rottweiler\", 4, \"black\""
   ]
  },
  {
   "cell_type": "code",
   "execution_count": 24,
   "metadata": {},
   "outputs": [
    {
     "data": {
      "text/plain": [
       "{ name: 'Elly', breed: 'Rottweiler', age: 4, color: 'black' }"
      ]
     },
     "execution_count": 24,
     "metadata": {},
     "output_type": "execute_result"
    }
   ],
   "source": [
    "const dogs = {name: \"Elly\", breed:\"Rottweiler\", age:4, color:\"black\"}\n",
    "dogs"
   ]
  },
  {
   "cell_type": "markdown",
   "metadata": {},
   "source": [
    "Array"
   ]
  },
  {
   "cell_type": "code",
   "execution_count": 27,
   "metadata": {},
   "outputs": [
    {
     "data": {
      "text/plain": [
       "[ 'Love Story', 'Blank Space', 'I Knew You Were Trouble' ]"
      ]
     },
     "execution_count": 27,
     "metadata": {},
     "output_type": "execute_result"
    }
   ],
   "source": [
    "const songs = [\"Love Story\", \"Blank Space\", \"I Knew You Were Trouble\"];\n",
    "songs"
   ]
  },
  {
   "cell_type": "markdown",
   "metadata": {},
   "source": [
    "### Const\n",
    "        - We use const to declare variables whose value can be initialized only at the time of declaration.  \n",
    "        - Const means that the identifier cannot be reassigned. "
   ]
  },
  {
   "cell_type": "code",
   "execution_count": 26,
   "metadata": {},
   "outputs": [
    {
     "data": {
      "text/plain": [
       "13"
      ]
     },
     "execution_count": 26,
     "metadata": {},
     "output_type": "execute_result"
    }
   ],
   "source": [
    "const cost1 = 2;\n",
    "const cost2 = 11;\n",
    "let totalCost = cost1 + cost2;\n",
    "\n",
    "totalCost"
   ]
  },
  {
   "cell_type": "markdown",
   "metadata": {},
   "source": [
    "### Conditionals: control behavior, decides whether or not pieces of code can run.\n",
    "    - If: if a condition is true it is used to specify execution for a block of code.\n",
    "    - Else: if the same condition is false it specifies the execution for a block of code.\n",
    "    - Else If: new test if the first condition is false."
   ]
  },
  {
   "cell_type": "code",
   "execution_count": 54,
   "metadata": {},
   "outputs": [
    {
     "data": {
      "text/plain": [
       "'True'"
      ]
     },
     "execution_count": 54,
     "metadata": {},
     "output_type": "execute_result"
    }
   ],
   "source": [
    "if (10 > 5) {\n",
    "    var outcome = \"True\";\n",
    "}\n",
    "\n",
    "outcome;"
   ]
  },
  {
   "cell_type": "code",
   "execution_count": 55,
   "metadata": {},
   "outputs": [
    {
     "data": {
      "text/plain": [
       "'else block'"
      ]
     },
     "execution_count": 55,
     "metadata": {},
     "output_type": "execute_result"
    }
   ],
   "source": [
    "if (\"red\" === \"blue\") {\n",
    "    var outcome = \"if block\";\n",
    "} else {\n",
    "    var outcome = \"else block\";\n",
    "}\n",
    "outcome;"
   ]
  },
  {
   "cell_type": "code",
   "execution_count": 62,
   "metadata": {},
   "outputs": [
    {
     "data": {
      "text/plain": [
       "'Chilly'"
      ]
     },
     "execution_count": 62,
     "metadata": {},
     "output_type": "execute_result"
    }
   ],
   "source": [
    "let temperature = 54\n",
    "if (temperature < 70) {\n",
    "    cast = \"Chilly\";\n",
    "  } else if (temperature < 60) {\n",
    "    cast = \"Cold\";\n",
    "  } else {\n",
    "    cast = \"Warm\";\n",
    "  }\n",
    "\n",
    "cast"
   ]
  },
  {
   "cell_type": "markdown",
   "metadata": {},
   "source": [
    "Create a conditional statement about how you would greet someone based on the time of day. "
   ]
  },
  {
   "cell_type": "code",
   "execution_count": 16,
   "metadata": {},
   "outputs": [
    {
     "name": "stdout",
     "output_type": "stream",
     "text": [
      "Good afternoon.\n"
     ]
    }
   ],
   "source": [
    "function greeting(time) {\n",
    "    if (time < 5) {\n",
    "        console.log(\"What are you doing up this early?\");\n",
    "    } else if (time < 12) {\n",
    "        console.log(\"Good morning!\");\n",
    "    } else if (time < 17) {\n",
    "        console.log(\"Good afternoon.\");\n",
    "    } else if (time < 20) {\n",
    "        console.log(\"Good evening.\");\n",
    "    } else {\n",
    "        console.log(\"Goodnight!\");\n",
    "    }\n",
    "}\n",
    "\n",
    "greeting(13)"
   ]
  },
  {
   "cell_type": "markdown",
   "metadata": {},
   "source": [
    "### Functions: \n",
    "    - defining: define with function + functionName(parameter) { function code }.  It can be unnamed/anonymous can be defined based on a condition.\n",
    "    - calling: simply put the function name with a parameter and semicolon, or a function can call itself (recursive)"
   ]
  },
  {
   "cell_type": "markdown",
   "metadata": {},
   "source": [
    "### Iteration: \n",
    "        - for loop: repeats until a specified condition evaluates to false\n",
    "        - do...while: repeats until a specified condition evaluates to false\n",
    "        - while statement: executes its statements as long as a specified condition evaluates to true\n",
    "        - label: provides a statement with an identifier that lets you refer to it later in the code. ex. you can use a label to identify a loop, and then use the break or continue statements to    indicate whether a program should interrupt the loop or continue its execution\n",
    "        - break: used to terminate a loop, switch, or in conjunction with a labeled statement\n",
    "        - continue: can be used to restart a while, do-while, for, or label statement\n",
    "        - for...in: iterates a specified variable over all the enumerable properties of an object\n",
    "        - for...of statement creates a loop Iterating over iterable objects, invoking a custom iteration hook with statements to be executed for the value of each distinct property\n",
    "\n"
   ]
  },
  {
   "cell_type": "markdown",
   "metadata": {},
   "source": [
    "## JavaScript in HTML - Questions\n",
    "\n",
    "1. Where do you store the JavaScript Code?\n",
    "\n",
    "JavaScript code can be stored in `.js` files or between `<script>` tags in HTML.\n",
    "\n",
    "2. How do you import a JS file into HTML?\n",
    "\n",
    "`<script src=\"scriptname.js\"></script>`\n",
    "\n",
    "3. What is onClick?\n",
    "\n",
    "onClick describes the behavior or a certain element when it is clicked on.\n",
    "\n",
    "4. What tag do you use to write JavaScript code?\n",
    "\n",
    "`<script>`"
   ]
  },
  {
   "cell_type": "markdown",
   "metadata": {},
   "source": [
    "## Hacks\n",
    "1. Add notes in this notebook\n",
    "\n",
    "There weren't a lot of things throughout these notes that I could add onto, so here are some additional notes on things that weren't discussed in this lesson:\n",
    "\n",
    "- JavaScript classes use a bit of a different syntax:"
   ]
  },
  {
   "cell_type": "code",
   "execution_count": 21,
   "metadata": {},
   "outputs": [
    {
     "name": "stdout",
     "output_type": "stream",
     "text": [
      "[ 'Thing1', 'Thing2' ]\n"
     ]
    }
   ],
   "source": [
    "class NewClass {\n",
    "    constructor(thing1, thing2) { //rather than \"__init__\"\n",
    "        this.thing1 = thing1; //this. instead of self.\n",
    "        this.thing2 = thing2;\n",
    "    };\n",
    "\n",
    "    getThings() {\n",
    "        return [this.thing1, this.thing2];\n",
    "    }\n",
    "}\n",
    "\n",
    "obj = new NewClass(\"Thing1\", \"Thing2\");\n",
    "console.log(obj.getThings());"
   ]
  },
  {
   "cell_type": "markdown",
   "metadata": {},
   "source": [
    "- JavaScript is intended to be used in tandem with HTML, so there are some functions that can be used on a webpage to receive user input:\n",
    "    - `prompt()`, for example, brings up a page on the site itself\n",
    "- JavaScript actually CAN use the `for [thing] in [thing]` format with its for loop! It just works a little bit different, where it reads the key of each list item rather than each item's value. You can do something similar to a regular list below:"
   ]
  },
  {
   "cell_type": "code",
   "execution_count": 23,
   "metadata": {},
   "outputs": [
    {
     "name": "stdout",
     "output_type": "stream",
     "text": [
      "Thing1\n",
      "Thing2\n",
      "Thing3\n"
     ]
    }
   ],
   "source": [
    "listex = [\"Thing1\", \"Thing2\", \"Thing3\"];\n",
    "\n",
    "for (index in listex) {\n",
    "    console.log(listex[index]);\n",
    "}"
   ]
  },
  {
   "cell_type": "code",
   "execution_count": 24,
   "metadata": {},
   "outputs": [
    {
     "name": "stdout",
     "output_type": "stream",
     "text": [
      "att1: Value1\n",
      "att2: Value2\n",
      "att3: Value3\n"
     ]
    }
   ],
   "source": [
    "dictex = {att1:\"Value1\", att2:\"Value2\", att3:\"Value3\"};\n",
    "\n",
    "for (key in dictex) {\n",
    "    console.log(key + \": \" + dictex[key]);\n",
    "}"
   ]
  },
  {
   "cell_type": "markdown",
   "metadata": {},
   "source": [
    "2. Complete the code portions, questions, and prompts throughout the notebook\n",
    "\n",
    "Done.\n",
    "\n",
    "3. Extra Credit: code a small JavaScript game\n",
    "\n",
    "I decided to code rock-paper-scissors. The raw JavaScript code is right below the game itself."
   ]
  },
  {
   "cell_type": "markdown",
   "metadata": {},
   "source": [
    "<style>\n",
    "    .status-box {\n",
    "        margin: auto;\n",
    "        justify-content:center;\n",
    "        text-align:center;\n",
    "        font-size: 20px;\n",
    "    }\n",
    "\n",
    "    .buttons-box {\n",
    "        display: flex;\n",
    "        margin: auto;\n",
    "        gap: 20px;\n",
    "        justify-content:center;\n",
    "        text-align:center;\n",
    "    }\n",
    "\n",
    "    .button-choice {\n",
    "        position: relative;\n",
    "        background-color:orange;\n",
    "        border: 5px solid;\n",
    "        border-radius: 15px;\n",
    "        height: 70px;\n",
    "        width: 140px;\n",
    "        font-size: 20px;\n",
    "    }\n",
    "</style>\n",
    "\n",
    "<div id=\"status-box\" class=\"status-box\">\n",
    "    Choose rock, paper or scissors!\n",
    "</div>\n",
    "<br>\n",
    "<div id=\"buttons-box\" class=\"buttons-box\">\n",
    "    <button id=\"rock-button\" class=\"button-choice\" onclick=\"rock()\">Rock</button><button id=\"paper-button\" class=\"button-choice\" onclick=\"paper()\">Paper</button><button id=\"scissors-button\" class=\"button-choice\" onclick=\"scissors()\">Scissors</button>\n",
    "</div>\n",
    "<br>\n",
    "<div id=\"current-streak\" class=\"status-box\">\n",
    "    Current streak: 0\n",
    "</div>\n",
    "\n",
    "<script>\n",
    "    const sBox = document.getElementById('status-box');\n",
    "    const streakB = document.getElementById('current-streak');\n",
    "    var streak = 0;\n",
    "    var choice = 0;\n",
    "    var opposition = 0;\n",
    "    var oppList = [\"rock\", \"paper\", \"scissors\"]\n",
    "\n",
    "    function getRandomInt(max) {\n",
    "        return Math.floor(Math.random() * max);\n",
    "    }\n",
    "\n",
    "    function rock() {battle(0)}; //onclick function of rock button\n",
    "    function paper() {battle(1)}; //onclick function of paper button\n",
    "    function scissors() {battle(2)}; //onclick function of scissors button\n",
    "\n",
    "    function win(opp) {\n",
    "        streak += 1;\n",
    "        streakB.innerHTML = \"Current streak: \" + String(streak);\n",
    "        sBox.innerHTML = \"I picked \" + oppList[opp] + \"... You won! Click a button to play again.\";\n",
    "    }\n",
    "\n",
    "    function lose(opp) {\n",
    "        streak = 0;\n",
    "        streakB.innerHTML = \"Current streak: 0\";\n",
    "        sBox.innerHTML = \"I picked \" + oppList[opp] + \", so I win! Click a button to play again.\";\n",
    "    }\n",
    "\n",
    "    function tie(opp) {\n",
    "        sBox.innerHTML = \"I picked \" + oppList[opp] + \" too, so you keep your streak! Click a button to play again.\";\n",
    "    }\n",
    "\n",
    "    function battle(choice) {\n",
    "        opposition = getRandomInt(3); //0 = rock, 1 = paper, 2 = scissors\n",
    "        if ((choice - opposition == -1) || (choice - opposition == 2)) {\n",
    "            lose(opposition);\n",
    "            return;\n",
    "        } else if ((choice - opposition == 1) || (choice - opposition == -2)) {\n",
    "            win(opposition);\n",
    "            return;\n",
    "        } else {\n",
    "            tie(opposition);\n",
    "        }\n",
    "    }\n",
    "</script>"
   ]
  },
  {
   "cell_type": "code",
   "execution_count": null,
   "metadata": {},
   "outputs": [],
   "source": [
    "const sBox = document.getElementById('status-box');\n",
    "const streakB = document.getElementById('current-streak');\n",
    "var streak = 0;\n",
    "var choice = 0;\n",
    "var opposition = 0;\n",
    "var oppList = [\"rock\", \"paper\", \"scissors\"]\n",
    "\n",
    "function getRandomInt(max) {\n",
    "    return Math.floor(Math.random() * max);\n",
    "}\n",
    "\n",
    "function rock() {battle(0)}; //onclick function of rock button\n",
    "function paper() {battle(1)}; //onclick function of paper button\n",
    "function scissors() {battle(2)}; //onclick function of scissors button\n",
    "\n",
    "function win(opp) {\n",
    "    streak += 1;\n",
    "    streakB.innerHTML = \"Current streak: \" + String(streak);\n",
    "    sBox.innerHTML = \"I picked \" + oppList[opp] + \"... You won! Click a button to play again.\";\n",
    "}\n",
    "\n",
    "function lose(opp) {\n",
    "    streak = 0;\n",
    "    streakB.innerHTML = \"Current streak: 0\";\n",
    "    sBox.innerHTML = \"I picked \" + oppList[opp] + \", so I win! Click a button to play again.\";\n",
    "}\n",
    "\n",
    "function tie(opp) {\n",
    "    sBox.innerHTML = \"I picked \" + oppList[opp] + \" too, so you keep your streak! Click a button to play again.\";\n",
    "}\n",
    "\n",
    "function battle(choice) {\n",
    "    opposition = getRandomInt(3); //0 = rock, 1 = paper, 2 = scissors\n",
    "    if ((choice - opposition == -1) || (choice - opposition == 2)) {\n",
    "        lose(opposition);\n",
    "        return;\n",
    "    } else if ((choice - opposition == 1) || (choice - opposition == -2)) {\n",
    "        win(opposition);\n",
    "        return;\n",
    "    } else {\n",
    "        tie(opposition);\n",
    "    }\n",
    "}"
   ]
  }
 ],
 "metadata": {
  "kernelspec": {
   "display_name": "JavaScript (Node.js)",
   "language": "javascript",
   "name": "javascript"
  },
  "language_info": {
   "file_extension": ".js",
   "mimetype": "application/javascript",
   "name": "javascript",
   "version": "10.13.0"
  },
  "orig_nbformat": 4,
  "vscode": {
   "interpreter": {
    "hash": "31f2aee4e71d21fbe5cf8b01ff0e069b9275f58929596ceb00d14d90e3e16cd6"
   }
  }
 },
 "nbformat": 4,
 "nbformat_minor": 2
}
