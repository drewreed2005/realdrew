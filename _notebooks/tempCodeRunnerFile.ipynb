import sys
import time
#import pygame
#import contextlib
#with contextlib.redirect_stdout(None):
    #from pygame import mixer

global i
i = 0
global i1
i1 = 0
global i2
i2 = 0
typespeed = 0.02
scrollspeed = 0.5
rl = 0
global storystate
storystate = 0
textcolor = [
    "196", #red 0
    "208", #red-orange 1
    "12" #seafoam green 2
    "2", #yellow 3
    "11", #green 4
    "42", #seafoam green 5
    "33", #blue 6
    "123", #sky blue 7
    "199", #magenta 8
    "129", #purple 9
    "219", #pink 10
    "248", #gray 11
    "15", #white 12
    "232" #black 13
]
# red at 0, orange at 1, seafoam green at 2, yellow at 3, green at 4,
# blue at 5, sky blue at 6, magenta at 7, purple at 8, pink at 9,
# gray at 10, white at 11, black at 12
narcolor = textcolor[10]

def print_italics(msg):
    return ("\x1B[38;5;" + narcolor + "m\x1b[3m" + msg + "\x1b[0m")

ruffian1 = [
    "Hey, it's that no-good ruffian! What's he doing out in the sun?",
    "Must be out on good behavior, eh?",
    "I hear the force tricked ya out of that old shed. What a sucker!",
    "What was in there, anyway?"
]

mufvoc1 = [
    "The thief has been spotted in the area! Leave no stone unturned!",
    "You, there! Check the shed!",
    print_italics("(You hear metal clanking, followed by a loud thud from outside the shed.)"),
]
newvoc1 = [
    "The doors have been locked securely from the inside, ma'am!",
]
mufvoc2 = [
    "It has been for as long as I can remember.",
    "There's no chance he's in there...",
    print_italics("(There is a short pause.)"),
    "That doesn't mean your work is done! Check around it! On top of it! Go!",
    print_italics("(You hear boots march through dry grass."),
    print_italics("A walkie-talkie turns on with a crunch.)"),
    "Bring the heat sensor, please. I'd like to confirm something...over."
]
radvoc1 = [
    "Roger...over.",
    print_italics("(With a beep, the walkie-talkie shuts off."),
    print_italics("Somehow, the sirens outside feel like silence.)")
]
mc1 = [
    print_italics("Heat sensors...work in straight lines."),
    print_italics("Police grade ones..."),
    print_italics("No, I really am cornered. They'll scan the whole shed."),
    print_italics("I just need...to relax..."),
    print_italics("(Books line the walls, ordered alphabetically: left to right, top to bottom.)"),
    print_italics("I guess I might as well give myself an innocent reason for being in here."),
    print_italics('...Whatever "here" is. I assumed it was locked for good.')
]

def spacereplace(char):
    if len(char) == 0:
        return "  "
    elif len(char) == 1:
        return "   "
    if len(char) == 2:
        return "    "
    elif len(char) == 3:
        return "     "
    elif len(char) == 4:
        return "      "
    elif len(char) == 5:
        return "       "
    elif len(char) == 6:
        return "        "
    elif len(char) == 7:
        return "         "
    elif len(char) == 8:
        return "          "
    elif len(char) == 9:
        return "           "
    elif len(char) == 10:
        return "            "
    elif len(char) == 11:
        return "             "
    elif len(char) == 12:
        return "              "
    elif len(char) == 13:
        return "               "
    elif len(char) == 14:
        return "                "
    elif len(char) == 15:
        return "                 "
    elif len(char) == 16:
        return "                  "
    else:
        return "\t"

def texttype(typemsg):
    global i1
    if len(typemsg) <= i1:
        i1 = 0
        return
    print(typemsg[i1],end="")
    i1 = i1 + 1
    time.sleep(typespeed)
    texttype(typemsg)

def textscroll(char, msg):
    global i
    global i2
    if len(msg) <= i:
        i = 0
        i2 = 0
        return
    if i2 < 1:
        print(char + ": ",end="")
        i2 = i2 + 1
    elif i2 >= 1:
        print(spacereplace(char),end="")
    texttype(msg[i])
    global typemsg
    typemsg = msg[i]
    time.sleep(scrollspeed)
    i = i + 1
    print("")
    textscroll(char, msg)

# textscroll("RUFFIAN", ruffian1)

def titlescreen():
    if rl < 1:
        print("Welcome to [RPG].\nPlease select an option.\n1. New Game\n2. Password\n3. Settings")
    gamestart = input()
    if gamestart == "1" or gamestart == "1.":
        newmc()
        cscene1()
    elif gamestart == "2" or gamestart == "2.":
        loadgame()
    elif gamestart == "3" or gamestart == "3.":
        config()
    else:
        print("Invalid response.")
        rl = 1
        titlescreen()

def cscene1():
    if storystate != 0:
        print("ERROR.")
        titlescreen()
    textscroll("MUFFLED VOICE", mufvoc1)
    textscroll("NEW VOICE", newvoc1)
    textscroll("MUFFLED VOICE", mufvoc2)
    textscroll("RADIO VOICE", radvoc1)
    texttype(print_italics("Think, Kit, think...\n"))
    textscroll("YOU", mc1)
    texttype(print_italics("(Which book would you like to read?"))
    texttype(print_italics("Keep in mind you don't have much time to read.)\n"))
    print("\t1. A Fisherman's Boon: Water Surrounds Us\n\t2. The Firebreather's Craft\n\t3. Like Kite Like Bird\n\t4. The Ground We Stand On")

cscene1()