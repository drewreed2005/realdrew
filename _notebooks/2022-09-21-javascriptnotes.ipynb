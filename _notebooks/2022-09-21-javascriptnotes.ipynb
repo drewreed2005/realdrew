{
 "cells": [
  {
   "cell_type": "markdown",
   "metadata": {},
   "source": [
    "# Javascript Notes\n",
    "> Get started with Javascript.\n",
    "\n",
    "- title: Javascript Notes\n",
    "- comments: true\n",
    "- hide: false\n",
    "- search_exclude: false\n",
    "- categories: [javascript]\n",
    "- permalink: /javascriptnotes/"
   ]
  },
  {
   "cell_type": "code",
   "execution_count": 1,
   "metadata": {},
   "outputs": [
    {
     "name": "stdout",
     "output_type": "stream",
     "text": [
      "Hello, World!\n"
     ]
    }
   ],
   "source": [
    "console.log(\"Hello, World!\");"
   ]
  },
  {
   "cell_type": "markdown",
   "metadata": {},
   "source": [
    "Javascript can do much of what Python can do, but with compeltely different syntax and requirements. The equivalent of `def` in Python, for example, is `function`."
   ]
  },
  {
   "cell_type": "code",
   "execution_count": 7,
   "metadata": {},
   "outputs": [
    {
     "name": "stdout",
     "output_type": "stream",
     "text": [
      "Hello again, world!\n"
     ]
    }
   ],
   "source": [
    "function logIt(output) { // Defining logIt\n",
    "    console.log(output);\n",
    "}\n",
    "msg = \"Hello again, world!\"\n",
    "logIt(msg);"
   ]
  },
  {
   "cell_type": "markdown",
   "metadata": {},
   "source": [
    "Like Python, Javascript is a loosely-typed language. What type of information is stored in a variable is determined at runtime."
   ]
  },
  {
   "cell_type": "code",
   "execution_count": 3,
   "metadata": {},
   "outputs": [
    {
     "name": "stdout",
     "output_type": "stream",
     "text": [
      "Looking at dynamic nature of types in JavaScript (from APCSP)\n",
      "\"This thing I wrote\" is a string\n",
      "2.7 is a number\n",
      "1,2,3 is an object\n"
     ]
    }
   ],
   "source": [
    "function logItType(output) {\n",
    "    if (typeof output === \"object\") {\n",
    "        console.log(output + \" is an \" + typeof output);\n",
    "    } else {\n",
    "        console.log(output + \" is a \" + typeof output);\n",
    "  }\n",
    "}\n",
    "console.log(\"Looking at dynamic nature of types in JavaScript (from APCSP)\")\n",
    "logItType('\"This thing I wrote\"');\n",
    "logItType(2.7);\n",
    "logItType([1, 2, 3]); // \"Object\" is generic; it is similar to Python \"List\""
   ]
  },
  {
   "cell_type": "markdown",
   "metadata": {},
   "source": [
    "Below, I've been so plagiarinspired by the Javascript tutorial that I've made a function of the same name that assigns different information to an object `Person`. I've then put in the role setting function (using `prototype` to associate a method with the function), `toJSON` to then print the data later.\n",
    "\n",
    "However, variables have been redefined to fit a new purpose for the table coming later."
   ]
  },
  {
   "cell_type": "code",
   "execution_count": 9,
   "metadata": {},
   "outputs": [
    {
     "name": "stdout",
     "output_type": "stream",
     "text": [
      "[object Object] is an object\n",
      "{\"name\":\"Mr. Mortensen\",\"tscore\":\"N/A\",\"role\":\"Teacher\"} is a string\n"
     ]
    }
   ],
   "source": [
    "// define a function to hold data for a Person's scores\n",
    "function Person(name, tscore, avscore) {\n",
    "    this.name = name;\n",
    "    this.tscore = tscore;\n",
    "    this.avscore = avscore;\n",
    "    this.role = \"\";\n",
    "}\n",
    "\n",
    "// define a setter for role in Person data\n",
    "Person.prototype.setRole = function(role) {\n",
    "    this.role = role;\n",
    "}\n",
    "\n",
    "// define a JSON conversion \"method\" associated with Person\n",
    "Person.prototype.toJSON = function() {\n",
    "    const obj = {name: this.name, tscore: this.avscore, role: this.role};\n",
    "    const json = JSON.stringify(obj);\n",
    "    return json;\n",
    "}\n",
    "\n",
    "// make a new Person and assign to variable teacher\n",
    "var teacher = new Person(\"Mr. Mortensen\", \"N/A\", \"N/A\");\n",
    "teacher.setRole(\"Teacher\");\n",
    "\n",
    "// output of Object and JSON/string associated with Teacher\n",
    "logItType(teacher);  // object type is easy to work with in JavaScript\n",
    "logItType(teacher.toJSON());"
   ]
  },
  {
   "cell_type": "markdown",
   "metadata": {},
   "source": [
    "Now, we're going to look at last week's scores, averaging the peer scores into one value and taking the teacher score as its own variable. We'll put define those scores depending on the person in question being scored, and display them in a pretty table.\n",
    "\n",
    "The table will have a DIFFERENT design from the one on the Javascript Tutorial page to show some amount of fluency with HTML."
   ]
  },
  {
   "cell_type": "code",
   "execution_count": 10,
   "metadata": {},
   "outputs": [
    {
     "data": {
      "text/html": [
       "<div style='display:inline-block;background:purple;border: 4px solid orange;box-shadow: 0.6em 0.6em 0em white;'><table><tr><th><u>Name</u></th><th><u>Teacher Score</u></th><th><u>Student Score</u></th><th><u>Role</u></th></tr><tr><td>Mr. Mortensen</td><td>N/A</td><td>N/A</td><td>Teacher</td><tr><tr><td>Drew</td><td>2.7</td><td>N/A</td><td>Student</td><tr><tr><td>Devon</td><td>2.6</td><td>2.6</td><td>Student</td><tr><tr><td>Jagger</td><td>2.6</td><td>2.63</td><td>Student</td><tr><tr><td>Trent</td><td>2.7</td><td>2.7+</td><td>Student</td><tr></table></div>"
      ]
     },
     "execution_count": 10,
     "metadata": {},
     "output_type": "execute_result"
    }
   ],
   "source": [
    "// This is defining the scores of each of the people\n",
    "var students = [ \n",
    "    new Person(\"Drew\", \"2.7\", \"N/A\"),\n",
    "    new Person(\"Devon\", \"2.6\", \"2.6\"),\n",
    "    new Person(\"Jagger\", \"2.6\", \"2.63\"),\n",
    "    new Person(\"Trent\", \"2.7\", \"2.7+\"),\n",
    "];\n",
    "\n",
    "// This defines\n",
    "function Scoredata(teacher, students){ // 1 teacher, many student\n",
    "    // Table begins with teacher\n",
    "    teacher.setRole(\"Teacher\");\n",
    "    this.teacher = teacher;\n",
    "    this.scoredata = [teacher];\n",
    "    // Students get added to table\n",
    "    this.students = students;\n",
    "    this.students.forEach(student => { student.setRole(\"Student\"); this.scoredata.push(student); });\n",
    "    // build json/string format of the data\n",
    "    this.json = [];\n",
    "    this.scoredata.forEach(person => this.json.push(person.toJSON()));\n",
    "}\n",
    "\n",
    "// make a source of info from the student data above\n",
    "thistable = new Scoredata(teacher, students);\n",
    "\n",
    "// define an HTML conversion \"method\" associated with the data\n",
    "Scoredata.prototype._toHtml = function() {\n",
    "    // HTML Style is build using inline structure\n",
    "    var style = (\n",
    "      \"display:inline-block;\" +\n",
    "      \"background:purple;\" +\n",
    "      \"border: 4px solid orange;\" +\n",
    "      \"box-shadow: 0.6em 0.6em 0em white;\"\n",
    "    );\n",
    "  \n",
    "    // HTML Body of Table is build as a series of concatenations (+=)\n",
    "    var body = \"\";\n",
    "    // Heading for Array Columns\n",
    "    body += \"<tr>\";\n",
    "    body += \"<th><u>\" + \"Name\" + \"</u></th>\";\n",
    "    body += \"<th><u>\" + \"Teacher Score\" + \"</u></th>\";\n",
    "    body += \"<th><u>\" + \"Student Score\" + \"</u></th>\";\n",
    "    body += \"<th><u>\" + \"Role\" + \"</u></th>\";\n",
    "    body += \"</tr>\";\n",
    "    // Data of Array is iterated \n",
    "    for (var row of thistable.scoredata) {\n",
    "      // tr for each row, a new line\n",
    "      body += \"<tr>\";\n",
    "      // td for each column of data\n",
    "      body += \"<td>\" + row.name + \"</td>\";\n",
    "      body += \"<td>\" + row.tscore + \"</td>\";\n",
    "      body += \"<td>\" + row.avscore + \"</td>\";\n",
    "      body += \"<td>\" + row.role + \"</td>\";\n",
    "      // tr to end line\n",
    "      body += \"<tr>\";\n",
    "    }\n",
    "  \n",
    "     // Build and HTML fragment of div, table, table body\n",
    "    return (\n",
    "      \"<div style='\" + style + \"'>\" +\n",
    "        \"<table>\" +\n",
    "          body +\n",
    "        \"</table>\" +\n",
    "      \"</div>\"\n",
    "    );\n",
    "  \n",
    "  };\n",
    "  \n",
    "  // IJavaScript HTML processor receive parameter of defined HTML fragment\n",
    "  $$.html(thistable._toHtml());"
   ]
  },
  {
   "cell_type": "markdown",
   "metadata": {},
   "source": []
  }
 ],
 "metadata": {
  "kernelspec": {
   "display_name": "JavaScript (Node.js)",
   "language": "javascript",
   "name": "javascript"
  },
  "language_info": {
   "file_extension": ".js",
   "mimetype": "application/javascript",
   "name": "javascript",
   "version": "10.13.0"
  },
  "orig_nbformat": 4,
  "vscode": {
   "interpreter": {
    "hash": "56f7c0ddbd8295fccb7b65a09bceb7bda050a1a7ed2857cec799e2d3d977289f"
   }
  }
 },
 "nbformat": 4,
 "nbformat_minor": 2
}
