{
 "cells": [
  {
   "attachments": {},
   "cell_type": "markdown",
   "metadata": {},
   "source": [
    "#  Data Structures - Hashmaps, Sets, Hash Tables, Hashing and Collisions\n",
    "> Observing hashmaps with python dictionaries\n",
    "- toc: true\n",
    "- title: Hashmaps, Sets, Hash Tables, Hashing and Collisions Notes\n",
    "- permalink: /hashmapsnotes/\n",
    "- categories: []"
   ]
  },
  {
   "attachments": {},
   "cell_type": "markdown",
   "metadata": {},
   "source": [
    "## What is a Hashtable/Hashmap?\n",
    "\n",
    "> A hashtable is a data structure that has a collection of key-value pairs, where each key maps to a value, and the keys must be unique and hashable.\n",
    "\n",
    "- In Python there is a built in hashtable known as a <mark>dictionary</mark>.\n",
    "\n",
    "> The primary purpose of a hashtable is to provide efficient lookup, insertion, and deletion operations. When an element is to be inserted into the hashtable, a hash function is used to map the key to a specific index in the underlying array that is used to store the key-value pairs. The value is then stored at that index. When searching for a value, the hash function is used again to find the index where the value is stored.\n",
    "\n",
    "> The key advantage of a hashtable over other data structures like arrays and linked lists is its average-case time complexity for lookup, insertion, and deletion operations.\n",
    "\n",
    "- The typical time complexity of a hashtable is <mark>O(1), or constant</mark>. \n"
   ]
  },
  {
   "attachments": {},
   "cell_type": "markdown",
   "metadata": {},
   "source": [
    "## What is Hashing and Collision?\n",
    "\n",
    "> Hashing is the process of mapping a given key to a value in a hash table or hashmap, using a hash function. The hash function takes the key as input and produces a hash value or hash code, which is then used to determine the index in the underlying array where the value is stored. The purpose of hashing is to provide a quick and efficient way to access data, by eliminating the need to search through an entire data structure to find a value.\n",
    "\n",
    "> However, it is possible for two different keys to map to the same hash value, resulting in a collision. When a collision occurs, there are different ways to resolve it, depending on the collision resolution strategy used.\n",
    "\n",
    "> Python's dictionary implementation is optimized to handle collisions efficiently, and the performance of the dictionary is generally very good, even in the presence of collisions. However, if the number of collisions is very high, the performance of the dictionary can degrade, so it is important to choose a good hash function that minimizes collisions when designing a Python dictionary.\n",
    "\n",
    "## What is a Set?\n",
    "\n",
    "(Questions are answered in the code comments.)"
   ]
  },
  {
   "cell_type": "code",
   "execution_count": 4,
   "metadata": {},
   "outputs": [
    {
     "name": "stdout",
     "output_type": "stream",
     "text": [
      "{1, 2, 3}\n"
     ]
    }
   ],
   "source": [
    "# Creating a set using set() function\n",
    "my_set = set([1, 2, 3, 2, 1])\n",
    "print(my_set)  \n",
    "\n",
    "# What do you notice in the output?\n",
    "# the output only contains the first instance of each of the unique numbers\n",
    "# the output also has brackets around it like a dictionary\n",
    "# according to a test, it also automatically orders it by increasing value\n",
    "\n",
    "# Why do you think Sets are in the same tech talk as Hashmaps/Hashtables?\n",
    "# dictionaries also cannot have duplicate keys, like these sets"
   ]
  },
  {
   "attachments": {},
   "cell_type": "markdown",
   "metadata": {},
   "source": [
    "## Dictionary Example\n",
    "\n",
    "Below are just some basic features of a dictionary. As always, documentation is always the main source for all the full capablilties. \n",
    "\n",
    "(Code comment questions are answered throughout.)"
   ]
  },
  {
   "cell_type": "code",
   "execution_count": null,
   "metadata": {},
   "outputs": [],
   "source": [
    "# Creating a dictionary with information about the album \"Lover\"\n",
    "lover_album = {\n",
    "    \"title\": \"Lover\",\n",
    "    \"artist\": \"Taylor Swift\",\n",
    "    \"year\": 2019,\n",
    "    \"genre\": [\"Pop\", \"Synth-pop\"],\n",
    "    \"tracks\": {\n",
    "        1: \"I Forgot That You Existed\",\n",
    "        2: \"Cruel Summer\",\n",
    "        3: \"Lover\",\n",
    "        4: \"The Man\",\n",
    "        5: \"The Archer\",\n",
    "        6: \"I Think He Knows\",\n",
    "        7: \"Miss Americana & The Heartbreak Prince\",\n",
    "        8: \"Paper Rings\",\n",
    "        9: \"Cornelia Street\",\n",
    "        10: \"Death By A Thousand Cuts\",\n",
    "        11: \"London Boy\",\n",
    "        12: \"Soon You'll Get Better (feat. Dixie Chicks)\",\n",
    "        13: \"False God\",\n",
    "        14: \"You Need To Calm Down\",\n",
    "        15: \"Afterglow\",\n",
    "        16: \"Me! (feat. Brendon Urie of Panic! At The Disco)\",\n",
    "        17: \"It's Nice To Have A Friend\",\n",
    "        18: \"Daylight\"\n",
    "    }\n",
    "}\n",
    "\n",
    "# What data structures do you see?\n",
    "# i see strings, integers, lists, and a nested dictionary inside the dictionary\n",
    "\n",
    "# Printing the dictionary\n",
    "print(lover_album)"
   ]
  },
  {
   "cell_type": "markdown",
   "metadata": {},
   "source": [
    "These are two different methods to retrieve the data behind a certain key."
   ]
  },
  {
   "cell_type": "code",
   "execution_count": null,
   "metadata": {},
   "outputs": [],
   "source": [
    "# Retrieve value from dictionary with key\n",
    "print(lover_album.get('tracks'))\n",
    "# or\n",
    "print(lover_album['tracks'])"
   ]
  },
  {
   "cell_type": "markdown",
   "metadata": {},
   "source": [
    "These are, similarly, alternatives to each other."
   ]
  },
  {
   "cell_type": "code",
   "execution_count": null,
   "metadata": {},
   "outputs": [],
   "source": [
    "# Retrieve value from a dictionary inside a dictionary\n",
    "print(lover_album.get('tracks')[4])\n",
    "# or\n",
    "print(lover_album['tracks'][4])"
   ]
  },
  {
   "cell_type": "markdown",
   "metadata": {},
   "source": [
    "I made it a set to prevent the duplicate Taylor Swift from showing up."
   ]
  },
  {
   "cell_type": "code",
   "execution_count": null,
   "metadata": {},
   "outputs": [],
   "source": [
    "# adding a value with a new key\n",
    "lover_album[\"producer\"] = set(['Taylor Swift', 'Jack Antonoff', 'Joel Little', 'Taylor Swift', 'Louis Bell', 'Frank Dukes'])\n",
    "\n",
    "# What can you change to make sure there are no duplicate producers?\n",
    "# you could turn the list of producers into a set\n",
    "\n",
    "# Printing the dictionary\n",
    "print(lover_album)"
   ]
  },
  {
   "cell_type": "code",
   "execution_count": null,
   "metadata": {},
   "outputs": [],
   "source": [
    "# Adding a an key-value pair to an existing key \n",
    "lover_album[\"tracks\"].update({19: \"All Of The Girls You Loved Before\"})\n",
    "\n",
    "# How would add an additional genre to the dictionary, like electropop? \n",
    "# you would .update the [\"genre\"] key by appending \"electropop\"\n",
    "\n",
    "# Printing the dictionary\n",
    "print(lover_album)"
   ]
  },
  {
   "cell_type": "code",
   "execution_count": 26,
   "metadata": {},
   "outputs": [
    {
     "name": "stdout",
     "output_type": "stream",
     "text": [
      "Title: Lover\n",
      "Artist: Taylor Swift\n",
      "Year: 2019\n",
      "Genre: Pop, Synth-pop\n",
      "Tracks:\n",
      "\t1: I Forgot That You Existed\n",
      "\t2: Cruel Summer\n",
      "\t3: Lover\n",
      "\t4: The Man\n",
      "\t5: The Archer\n",
      "\t6: I Think He Knows\n",
      "\t7: Miss Americana & The Heartbreak Prince\n",
      "\t8: Paper Rings\n",
      "\t9: Cornelia Street\n",
      "\t10: Death By A Thousand Cuts\n",
      "\t11: London Boy\n",
      "\t12: Soon You'll Get Better (feat. Dixie Chicks)\n",
      "\t13: False God\n",
      "\t14: You Need To Calm Down\n",
      "\t15: Afterglow\n",
      "\t16: Me! (feat. Brendon Urie of Panic! At The Disco)\n",
      "\t17: It's Nice To Have A Friend\n",
      "\t18: Daylight\n",
      "\t19: All Of The Girls You Loved Before\n",
      "Producer: Taylor Swift, Louis Bell, Joel Little, Frank Dukes, Jack Antonoff\n"
     ]
    }
   ],
   "source": [
    "# Print lover_album in more readable format\n",
    "\"\"\"\n",
    "for k,v in lover_album.items(): # iterate using a for loop for key and value\n",
    "    print(str(k) + \": \" + str(v))\n",
    "\"\"\"\n",
    "\n",
    "# Write your own code to print tracks in readable format\n",
    "# you can see that below; I also reformatted the other data\n",
    "\n",
    "for k, v in lover_album.items():\n",
    "    if type(v) == list or type(v) == set:\n",
    "        print(str(k).capitalize() + \": \", end=\"\")\n",
    "        print(\", \".join(v))\n",
    "    elif type(v) == dict:\n",
    "        print(str(k).capitalize() + \":\")\n",
    "        for num, track in v.items():\n",
    "            print(\"\\t\" + str(num) + \": \" + track)\n",
    "    else:\n",
    "        print(str(k).capitalize() + \": \" + str(v))"
   ]
  },
  {
   "cell_type": "code",
   "execution_count": 29,
   "metadata": {},
   "outputs": [
    {
     "name": "stdout",
     "output_type": "stream",
     "text": [
      "Tracks:\n",
      "\t1: I Forgot That You Existed\n",
      "\t2: Cruel Summer\n",
      "\t3: Lover\n",
      "\t4: The Man\n",
      "\t5: The Archer\n",
      "\t6: I Think He Knows\n",
      "\t7: Miss Americana & The Heartbreak Prince\n",
      "\t8: Paper Rings\n",
      "\t9: Cornelia Street\n",
      "\t10: Death By A Thousand Cuts\n",
      "\t11: London Boy\n",
      "\t12: Soon You'll Get Better (feat. Dixie Chicks)\n",
      "\t13: False God\n",
      "\t14: You Need To Calm Down\n",
      "\t15: Afterglow\n",
      "\t16: Me! (feat. Brendon Urie of Panic! At The Disco)\n",
      "\t17: It's Nice To Have A Friend\n",
      "\t18: Daylight\n",
      "\t19: All Of The Girls You Loved Before\n"
     ]
    }
   ],
   "source": [
    "# Using conditionals to retrieve a random song\n",
    "def search():\n",
    "    search = input(\"What would you like to know about the album?\")\n",
    "    if lover_album.get(search.lower()) == None:\n",
    "        print(\"Invalid Search\")\n",
    "    else:\n",
    "        print(lover_album.get(search.lower()))\n",
    "\n",
    "# This is a very basic code segment, how can you improve upon this code?\n",
    "# I think it could be improved upon by reformatting the output to be more readable\n",
    "# It would also be good to tell the user what their options are\n",
    "# I did all of this below\n",
    "\n",
    "def search(): #here is search but better\n",
    "    info = []\n",
    "    for k, v in lover_album.items():\n",
    "        info.append(k)\n",
    "    search = input(\"What would you like to know about the album? (Options: \" + \", \".join(info) + \")\")\n",
    "    if lover_album.get(search.lower()) == None:\n",
    "        print(\"Invalid Search\")\n",
    "    else:\n",
    "        data = lover_album.get(search.lower())\n",
    "        if type(data) == list or type(data) == set:\n",
    "            print(search.capitalize() + \": \", end=\"\")\n",
    "            print(\", \".join(data))\n",
    "        elif type(data) == dict:\n",
    "            print(search.capitalize() + \":\")\n",
    "            for num, track in data.items():\n",
    "                print(\"\\t\" + str(num) + \": \" + track)\n",
    "        else:\n",
    "            print(search.capitalize() + \": \" + str(data))\n",
    "\n",
    "search()"
   ]
  },
  {
   "attachments": {},
   "cell_type": "markdown",
   "metadata": {},
   "source": [
    "## Hacks\n",
    "\n",
    "### Hacks Completed Throughout the Lesson\n",
    "\n",
    "- Answer *ALL* questions in the code segments\n",
    "\n",
    "I made sure to do that.\n",
    "\n",
    "- Expand upon the code given to you, possible improvements in comments\n",
    "\n",
    "For each of the code segments with possible improvements, I went through and improved them.\n",
    "\n",
    "One way I did this was using the `.capitalize()` function to make the keys into grammatically-correct headings. I also improved the displays more comprehensively by reformatting the data displayed depending on the type of data using the `type()` function.\n",
    "\n",
    "For example:\n",
    "\n",
    ">Data sets with type `list` or type `set` could be handled the same way: to prevent the code formatting brackets from showing up, I used `\", \".join(list)` in the print statement to get rid of it.\n",
    "\n",
    ">Data sets with type `dictionary` could be iterated through to display the key, a colon, and the value using the `for k,v in dict.items()` format. I decided to tab intent each of these instances to set it apart from the \"Tracks\" header in this specific case.\n",
    "\n",
    ">All singular data sets were just displayed in a single print statement, with the key of the key, a colon, and the value.\n",
    "\n",
    "### Canva Diagrams\n",
    "\n",
    "<figure>\n",
    "  <img src=\"{{site.baseurl}}/images/Pros And Cons Entrepreneurship Infographic Graph (1).png\" alt=\"Pros and Cons of Sets Diagram\" width=\"800\"/>\n",
    "</figure>\n",
    "\n",
    "<figure>\n",
    "  <img src=\"{{site.baseurl}}/images/Green Illustrative Animals Venn Diagram.png\" alt=\"Lists vs. Dictionaries Venn Diagram\" width=\"800\"/>\n",
    "</figure>\n",
    "\n",
    "### Personal Album Dictionary\n",
    "\n",
    "My friend has been trying to get me to listen to music by a certain artist (Rav) for a while now, and I just recently listened through one of his more popular albums \"Beneath the Toxic Jungle\". I noticed that it contained a lot of features that weren't mentioned in the song titles, so I decided that, in the track list, I would list all of the artists involved along with the title of the song. This shows the ability to nest dictionaries.\n",
    "\n",
    "I then made a system to sift through the data and display it in an appealing way.\n",
    "\n",
    "Since in previous examples, the `get` function was used, I decided to pull information from the keys in the other format to show understanding."
   ]
  },
  {
   "cell_type": "code",
   "execution_count": 56,
   "metadata": {},
   "outputs": [
    {
     "name": "stdout",
     "output_type": "stream",
     "text": [
      "\"BENEATH THE TOXIC JUNGLE\" by Rav\n",
      "\tRelease Date: 12-19-2015\n",
      "\tGenres: Abstract Hip Hop, Jazz Rap, Lo-Fi Hip Hop, Experimental Hip Hop\n",
      "\tTracklist:\n",
      "\t\t1: 1,000 Years In The Sea\n",
      "\t\t\t\tMixer: Kill Bill\n",
      "\t\t\t\tProducers: Ljones\n",
      "\t\t2: Solanine\n",
      "\t\t\t\tProducers: dream Entact.\n",
      "\t\t3: Save Face As...\n",
      "\t\t\t\tFeatures: Kill Bill\n",
      "\t\t\t\tMixer: Kill Bill\n",
      "\t\t\t\tProducers: Yuni Wa\n",
      "\t\t4: Devil Fruit Smoothies\n",
      "\t\t\t\tFeatures: JINZO THE TRAP LORD\n",
      "\t\t\t\tMixer: Kill Bill\n",
      "\t\t\t\tProducers: MAITRO, Plaid\n",
      "\t\t5: Addlerall\n",
      "\t\t\t\tFeatures: Scuare\n",
      "\t\t\t\tMixer: Scuare\n",
      "\t\t\t\tProducers: Birocratic\n",
      "\t\t6: A Better Place\n",
      "\t\t\t\tFeatures: Ashido Brown, Rekcahdam\n",
      "\t\t\t\tMixer: Rekcahdam\n",
      "\t\t\t\tProducers: Edo Lee\n",
      "\t\t7: Lavender\n",
      "\t\t\t\tFeatures: Kill Bill\n",
      "\t\t\t\tProducers: Datfootdive, Moar\n",
      "\t\t8: Get Mine II\n",
      "\t\t\t\tFeatures: Scuare, suddlenuance\n",
      "\t\t\t\tMixer: Kill Bill\n",
      "\t\t\t\tProducers: Tantu\n",
      "\t\t9: 1,000 Years In The Mountains\n",
      "\t\t\t\tProducers: Pacific Yew\n",
      "\t\tBonus Track: Tachyon\n",
      "\t\t\t\tProducers: Raistlin\n",
      "Contributors: Moar, MAITRO, dream Entact., Scuare, Rekcahdam, Pacific Yew, Yuni Wa, Raistlin, suddlenuance, Kill Bill, Edo Lee, Tantu, Datfootdive, Birocratic, Ljones, JINZO THE TRAP LORD, Plaid, Ashido Brown\n"
     ]
    }
   ],
   "source": [
    "from datetime import datetime, date\n",
    "\n",
    "# Creating a dictionary with information about the album \"BENEATH THE TOXIC JUNGLE\"\n",
    "btj_album = {\n",
    "    \"title\": \"BENEATH THE TOXIC JUNGLE\", #dictionaries can store strings,...\n",
    "    \"artist\": \"Rav\",\n",
    "    \"date\": datetime(2015, 12, 19), #date objects,...\n",
    "    \"genres\": [\"Abstract Hip Hop\", \"Jazz Rap\", \"Lo-Fi Hip Hop, Experimental Hip Hop\"], #lists,...\n",
    "    \"tracklist\": { #and even more dictionaries\n",
    "        1: {\"title\": \"1,000 Years In The Sea\", \"mixer\": [\"Kill Bill\"], \"producers\":[\"Ljones\"]},\n",
    "        2: {\"title\": \"Solanine\", \"producers\":[\"dream Entact.\"]},\n",
    "        3: {\"title\": \"Save Face As...\", \"features\":[\"Kill Bill\"], \"mixer\":[\"Kill Bill\"], \"producers\":[\"Yuni Wa\"]},\n",
    "        4: {\"title\": \"Devil Fruit Smoothies\", \"features\":[\"JINZO THE TRAP LORD\"], \"mixer\":[\"Kill Bill\"], \"producers\":[\"MAITRO\", \"Plaid\"]},\n",
    "        5: {\"title\": \"Addlerall\", \"features\":[\"Scuare\"], \"mixer\":[\"Scuare\"], \"producers\":[\"Birocratic\"]},\n",
    "        6: {\"title\": \"A Better Place\", \"features\":[\"Ashido Brown\", \"Rekcahdam\"], \"mixer\":[\"Rekcahdam\"], \"producers\":[\"Edo Lee\"]},\n",
    "        7: {\"title\": \"Lavender\", \"features\":[\"Kill Bill\"], \"producers\":[\"Datfootdive\", \"Moar\"]},\n",
    "        8: {\"title\": \"Get Mine II\", \"features\":[\"Scuare\", \"suddlenuance\"], \"mixer\":[\"Kill Bill\"], \"producers\":[\"Tantu\"]},\n",
    "        9: {\"title\": \"1,000 Years In The Mountains\", \"producers\":[\"Pacific Yew\"]},\n",
    "        \"Bonus Track\": {\"title\": \"Tachyon\", \"producers\":[\"Raistlin\"]}\n",
    "    }, #contributors are all in list form to allow for proper iteration through each one\n",
    "}\n",
    "feat_list = [] #creating initial lists of features, mixers, producers, and all contributors\n",
    "mix_list = []\n",
    "prod_list = []\n",
    "cont_list = []\n",
    "for num, track in btj_album[\"tracklist\"].items():\n",
    "    for k, v in track.items():\n",
    "        if k == \"features\":\n",
    "            for p in v:\n",
    "                feat_list.append(p)\n",
    "        elif k == \"mixer\":\n",
    "            for p in v:\n",
    "                mix_list.append(p)\n",
    "        elif k == \"producers\":\n",
    "            for p in v:\n",
    "                prod_list.append(p)\n",
    "        if k != 'title':\n",
    "            for p in v:\n",
    "                cont_list.append(p)\n",
    "btj_album[\"features\"] = set(feat_list) #a set of filtered info, no duplicates\n",
    "btj_album[\"mixers\"] = set(mix_list) #same formatting below\n",
    "btj_album[\"producers\"] = set(prod_list)\n",
    "btj_album[\"contributors\"] = set(cont_list) #list of all outside contributors\n",
    "\n",
    "# process to print album information\n",
    "def print_album(album):\n",
    "    print(f\"\\\"{album['title']}\\\" by {album['artist']}\") #title and artist display\n",
    "    print(f\"\\tRelease Date: {album['date'].strftime('%m-%d-%Y')}\") #release date format\n",
    "    print(f\"\\tGenres: \" + \", \".join(album['genres'])) #genre listing, formatted\n",
    "    print(f\"\\tTracklist:\") #header for tracklist\n",
    "    for part, track in album['tracklist'].items():\n",
    "        print(f\"\\t\\t{str(part)}: {track['title']}\") #leading with title, primary\n",
    "        for key, info in track.items():\n",
    "            if key != \"title\": #filtered to avoid double printing title\n",
    "                print(f\"\\t\\t\\t\\t{key.capitalize()}: \" + \", \".join(info)) #info and details\n",
    "    print(f\"Contributors: \" + \", \".join(btj_album['contributors'])) #contributor list, no repeats\n",
    "\n",
    "print_album(btj_album)"
   ]
  },
  {
   "cell_type": "markdown",
   "metadata": {},
   "source": [
    "I added code comments throughout to describe what's going on.\n",
    "\n",
    "Yes, that friend was AJ. I'm like 90% sure he's also gonna do an album by Rav."
   ]
  },
  {
   "cell_type": "markdown",
   "metadata": {},
   "source": [
    "### My Favorite Taylor Swift Song\n",
    "\n",
    "I don't need ChatGPT to help me argue in favor of \"Teardrops On My Guitar\". To be completely honest, I've never been a fan of the more recent Taylor Swift music, though that's mostly due to the genre. It's nothing personal. I also wouldn't say I'm a fan of country by any means, but, especially in my more recent personal life, country music has adopted a sort of nostalgic value.\n",
    "\n",
    "<figure>\n",
    "  <img src=\"{{site.baseurl}}/images/artworks-000235225080-ruobns-t500x500.jpeg\" alt=\"Teardrops On My Guitar Cover\" width=\"600\"/>\n",
    "</figure>\n",
    "\n",
    "This song has quite literally followed me through my life. Being released on her 2006 self-titled debut album \"Taylor Swift\", it (along with her first single \"Tim McGraw\") earned her some of her first share of popularity. It was cowritten by Liz Rose, who received a Songwriter of the Year award from Society of European Stage Authors and Composers the following year for her work on these two singles. In an interview about the song, Rose talked about how Swift was good at expressing the emotions she wished to portray in the song to her. Rose made it very clear that she was not stepping in or creating a corporate, filtered expression of Swift's idea, as she wanted Swift to \"be the vehicle.\" It was produced by Nathan Chapman, known for his work on many other early Taylor Swift songs as well as other artists like Lady Antebellum and, more recently, Revival.\n",
    "\n",
    "If you know this song well enough, you know I'm failing to address a big elephant in the room. The elephant's name is \"Drew.\"\n",
    "\n",
    "For my whole life, my family has, mockingly or not, sung this song around me, played it in the car, etc. \"Drew looks at me\" was a lyric that wrapped itself around my brain fairly often. My dad bought her debut album on iTunes just so that they could play it in my mom's old van, which couldn't play music from my dad's phone unless it was saved through iTunes. When I picked up guitar, my parent said it was the first song I should learn. My girlfriend, an avid Taylor Swift and country fan, referenced it not long after I met her. If it's not clear, I have a lot of personal associations with this song.\n",
    "\n",
    "And speaking of playing it on guitar, it's a very easy song to learn if you strip it of all of the complicated bits. The fact that it comes with so many potential variations to learn, though, like the somewhat melancholy Dsus4 chord in the second verse and the various pinky-finger add-ons that you can choose to play.\n",
    "\n",
    "There's lots of other stuff I could talk about with this song, like how the actual \"Drew\" is actually named \"Andrew,\" like me. Or how the \"Drew\" from the song is now in jail for child abuse, while, fun fact, I'm not. But I think I'll leave it at that. I'm not trying to convince you to change your mind on your favorite. But now, if you ever hear that song again, you might think of me. And I think that's funny."
   ]
  }
 ],
 "metadata": {
  "kernelspec": {
   "display_name": "Python 3.9.12 ('base')",
   "language": "python",
   "name": "python3"
  },
  "language_info": {
   "codemirror_mode": {
    "name": "ipython",
    "version": 3
   },
   "file_extension": ".py",
   "mimetype": "text/x-python",
   "name": "python",
   "nbconvert_exporter": "python",
   "pygments_lexer": "ipython3",
   "version": "3.9.12"
  },
  "orig_nbformat": 4,
  "vscode": {
   "interpreter": {
    "hash": "56f7c0ddbd8295fccb7b65a09bceb7bda050a1a7ed2857cec799e2d3d977289f"
   }
  }
 },
 "nbformat": 4,
 "nbformat_minor": 2
}
