{
 "cells": [
  {
   "cell_type": "markdown",
   "metadata": {},
   "source": [
    "{% include nav_data.html %}"
   ]
  },
  {
   "cell_type": "markdown",
   "metadata": {},
   "source": [
    "# Week 1 Notes\n",
    "> A collection of information referenced from \"Python Hello\". Consider this my \"Anatomy of Python\" _notebooks Hack.\n",
    "\n",
    "- title: Week 1 Notes\n",
    "- toc: true\n",
    "- hide: true\n",
    "- search_exclude: false"
   ]
  },
  {
   "cell_type": "markdown",
   "metadata": {},
   "source": [
    "## Commands from \"Python Hello\"\n",
    "\n",
    "In this section, I will put the commands found in \"Python Hello\" in terms that are easy for someone who has been coding for, say, one week to understand.\n",
    "\n",
    "### Print and Static Text\n",
    "\n",
    "The \"print\" command can be used to output static text."
   ]
  },
  {
   "cell_type": "code",
   "execution_count": 1,
   "metadata": {},
   "outputs": [
    {
     "name": "stdout",
     "output_type": "stream",
     "text": [
      "This is the static text produced.\n",
      "It can be found within the quotation marks in the parentheses.\n"
     ]
    }
   ],
   "source": [
    "print(\"This is the static text produced.\")\n",
    "print(\"It can be found within the quotation marks in the parentheses.\")"
   ]
  },
  {
   "cell_type": "markdown",
   "metadata": {},
   "source": [
    "You can also add variables to the printed static text with the \"+\" symbol."
   ]
  },
  {
   "cell_type": "code",
   "execution_count": 2,
   "metadata": {},
   "outputs": [
    {
     "name": "stdout",
     "output_type": "stream",
     "text": [
      "The sum of 5 and 3 is 8.\n"
     ]
    }
   ],
   "source": [
    "# We can use algebra to make a variable the sum, difference, product, etc. of multiple numbers.\n",
    "x = 5 + 3\n",
    "print(\"The sum of 5 and 3 is \" + str(x) + \".\")"
   ]
  },
  {
   "cell_type": "markdown",
   "metadata": {},
   "source": [
    "This is just scratching the surface.\n",
    "\n",
    "### \"if\" and \"else\"\n",
    "\n",
    "The \"if\" and \"else\" commands can make certain things happen under certain conditions.\n",
    "\n",
    "Instead of giving a copius amount of examples, just know that anything you can make happen unconditionally with Python can be restricted to occur under only certain situations with \"if.\" How to handle the remaining cases is determined by \"else,\" which doesn't necessarily have to be present."
   ]
  },
  {
   "cell_type": "code",
   "execution_count": 3,
   "metadata": {},
   "outputs": [
    {
     "name": "stdout",
     "output_type": "stream",
     "text": [
      "Four times three is 12.\n"
     ]
    }
   ],
   "source": [
    "# For example, I can make it so that certain text is output when x = 12.\n",
    "x = 4 * 3\n",
    "\n",
    "# Remember to use a colon at the end of the \"if\" statement to activiate the condition.\n",
    "if x == 12:\n",
    "    print(\"Four times three is 12.\")\n",
    "else:\n",
    "    print(\"Something went wrong.\")\n",
    "# We use \"else\" above for when x is equal to something different."
   ]
  },
  {
   "cell_type": "markdown",
   "metadata": {},
   "source": [
    "But why does it matter that we can do that? How can 'x' be equal to anything other than 12 with the set factors of 3 and 4?\n",
    "\n",
    "### Input\n",
    "\n",
    "Input allows the person interacting with the code to type in a custom response to a prompt."
   ]
  },
  {
   "cell_type": "code",
   "execution_count": 4,
   "metadata": {},
   "outputs": [
    {
     "name": "stdout",
     "output_type": "stream",
     "text": [
      "What is your other favorite number?\n",
      "The product of your favorite numbers is not 12.\n"
     ]
    }
   ],
   "source": [
    "# The syntax looks like this if you want the question to be attached to the input window.\n",
    "from tkinter import Y\n",
    "\n",
    "\n",
    "x = input(\"What is your favorite number?\")\n",
    "# Fastpages does not allow one to input a response in the actual page.\n",
    "# For the sake of demonstration, 'x' has been set to equal 5.\n",
    "\n",
    "# The syntax looks like this if you want a separately printed question and response.\n",
    "print(\"What is your other favorite number?\")\n",
    "y = input()\n",
    "# The variable 'y' has been set to equal 3.\n",
    "\n",
    "# Now the \"if\" command will vary based on what we said.\n",
    "z = int(x) * int(y)\n",
    "if z == 12:\n",
    "    print(\"The product of your favorite numbers is 12.\")\n",
    "else:\n",
    "    print(\"The product of your favorite numbers is not 12.\")"
   ]
  },
  {
   "cell_type": "markdown",
   "metadata": {},
   "source": [
    "## Extra Learning\n",
    "\n",
    "Here are some extra commands and functions I found out about on my own. They can be very helpful in tandem with the rest of these functions.\n",
    "\n",
    "### \"elif\"\n",
    "\n",
    "This adds an additional condition to an \"if\" command. It goes between \"if\" and \"else\" vertically."
   ]
  },
  {
   "cell_type": "code",
   "execution_count": 10,
   "metadata": {},
   "outputs": [
    {
     "name": "stdout",
     "output_type": "stream",
     "text": [
      "The product of your favorite numbers is 15.\n"
     ]
    }
   ],
   "source": [
    "# Same 'x' and 'y' inputs as last time.\n",
    "x = input(\"What is your favorite number?\")\n",
    "y = input(\"What is your second favorite number?\")\n",
    "z = int(x) * int(y)\n",
    "if z == 12:\n",
    "    print(\"The product of your favorite numbers is 12.\")\n",
    "elif z == 15:\n",
    "    print(\"The product of your favorite numbers is 15.\")\n",
    "else:\n",
    "    print(\"The product of your favorite numbers is not 12 or 15.\")"
   ]
  },
  {
   "cell_type": "markdown",
   "metadata": {},
   "source": [
    "### Algebra\n",
    "\n",
    "All the algebra stuff above was not taught in the lesson. I figured it out on my own.\n",
    "\n",
    "- \"+\" = Addition\n",
    "- \"-\" = Subtraction\n",
    "- \"*\" = Multiplication\n",
    "- \"/\" = Division\n",
    "- \">\" or \"<\" = Less Than or Greater Than (often for 'if' conditions)\n",
    "- \"=\" = Equating a value/string"
   ]
  }
 ],
 "metadata": {
  "kernelspec": {
   "display_name": "Python 3.8.13 64-bit",
   "language": "python",
   "name": "python3"
  },
  "language_info": {
   "codemirror_mode": {
    "name": "ipython",
    "version": 3
   },
   "file_extension": ".py",
   "mimetype": "text/x-python",
   "name": "python",
   "nbconvert_exporter": "python",
   "pygments_lexer": "ipython3",
   "version": "3.8.13"
  },
  "orig_nbformat": 4,
  "vscode": {
   "interpreter": {
    "hash": "0adcc2737ebf6a4a119f135174df96668767fca1ef1112612db5ecadf2b6d608"
   }
  }
 },
 "nbformat": 4,
 "nbformat_minor": 2
}
