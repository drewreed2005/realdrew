{
 "cells": [
  {
   "attachments": {},
   "cell_type": "markdown",
   "metadata": {},
   "source": [
    "# Unit 2.3 (Extracting Information from Data, Pandas) Notes\n",
    "> Data connections, trends, and correlation.  Pandas is introduced as it could be valuable for PBL, data validation, as well as understanding College Board Topics.\n",
    "- toc: true\n",
    "- title: Unit 2.3 (Extracting Information from Data, Pandas) Notes\n",
    "- categories: []\n",
    "- permalink: /2-3notes/"
   ]
  },
  {
   "attachments": {},
   "cell_type": "markdown",
   "metadata": {},
   "source": [
    "# Pandas and DataFrames\n",
    "> In this lesson we will be exploring data analysis using Pandas.  \n",
    "\n",
    "- College Board talks about ideas like \n",
    "    - Tools. \"the ability to process data depends on users capabilities and their tools\"\n",
    "    - Combining Data.  \"combine county data sets\"\n",
    "    - Status on Data\"determining the artist with the greatest attendance during a particular month\"\n",
    "    - Data poses challenge. \"the need to clean data\", \"incomplete data\"\n",
    "\n",
    "\n",
    "- [From Pandas Overview](https://pandas.pydata.org/docs/getting_started/index.html) -- When working with tabular data, such as data stored in spreadsheets or databases, pandas is the right tool for you. pandas will help you to explore, clean, and process your data. In pandas, a data table is called a DataFrame.\n",
    "\n",
    "\n",
    "![DataFrame](images/table_dataframe.png)"
   ]
  },
  {
   "cell_type": "code",
   "execution_count": 3,
   "metadata": {},
   "outputs": [],
   "source": [
    "'''Pandas is used to gather data sets through its DataFrames implementation'''\n",
    "import pandas as pd"
   ]
  },
  {
   "attachments": {},
   "cell_type": "markdown",
   "metadata": {},
   "source": [
    "# Cleaning Data\n",
    "\n",
    "When looking at a data set, check to see what data needs to be cleaned. Examples include:\n",
    "- Missing Data Points\n",
    "- Invalid Data\n",
    "- Inaccurate Data\n",
    "\n",
    "Run the following code to see what needs to be cleaned"
   ]
  },
  {
   "cell_type": "code",
   "execution_count": 4,
   "metadata": {},
   "outputs": [
    {
     "name": "stdout",
     "output_type": "stream",
     "text": [
      "   Student ID Year in School   GPA\n",
      "0         123             12  3.57\n",
      "1         246             10  4.00\n",
      "2         578             12  2.78\n",
      "3         469             11  3.45\n",
      "4         324         Junior  4.75\n",
      "5         313             20  3.33\n",
      "6         145             12  2.95\n",
      "7         167             10  3.90\n",
      "8         235      9th Grade  3.15\n",
      "9         nil              9  2.80\n",
      "10        469             11  3.45\n",
      "11        456             10  2.75\n"
     ]
    }
   ],
   "source": [
    "# reads the JSON file and converts it to a Pandas DataFrame\n",
    "df = pd.read_json('files/grade.json')\n",
    "\n",
    "print(df)\n",
    "# What part of the data set needs to be cleaned?\n",
    "# From PBL learning, what is a good time to clean data?  Hint, remember Garbage in, Garbage out?"
   ]
  },
  {
   "cell_type": "markdown",
   "metadata": {},
   "source": [
    "## Identifying Outliers (Interaction)\n",
    "\n",
    "Some outliers include the grade in student 4 (\"Junior\"), 5 (\"20\") and 8 (\"9th Grade\"), and the Student ID \"nil\" for student 9.\n",
    "\n",
    "Student 4's GPA also could or could not be correct. This could just be an outlier that's accurate or it could be a weighting problem."
   ]
  },
  {
   "attachments": {},
   "cell_type": "markdown",
   "metadata": {},
   "source": [
    "# Extracting Info\n",
    "\n",
    "Take a look at some features that the Pandas library has that extracts info from the dataset"
   ]
  },
  {
   "attachments": {},
   "cell_type": "markdown",
   "metadata": {},
   "source": [
    "## DataFrame Extract Column"
   ]
  },
  {
   "cell_type": "code",
   "execution_count": 5,
   "metadata": {},
   "outputs": [
    {
     "name": "stdout",
     "output_type": "stream",
     "text": [
      "     GPA\n",
      "0   3.57\n",
      "1   4.00\n",
      "2   2.78\n",
      "3   3.45\n",
      "4   4.75\n",
      "5   3.33\n",
      "6   2.95\n",
      "7   3.90\n",
      "8   3.15\n",
      "9   2.80\n",
      "10  3.45\n",
      "11  2.75\n",
      "\n",
      "Student ID  GPA\n",
      "       123 3.57\n",
      "       246 4.00\n",
      "       578 2.78\n",
      "       469 3.45\n",
      "       324 4.75\n",
      "       313 3.33\n",
      "       145 2.95\n",
      "       167 3.90\n",
      "       235 3.15\n",
      "       nil 2.80\n",
      "       469 3.45\n",
      "       456 2.75\n"
     ]
    }
   ],
   "source": [
    "#print the values in the points column with column header\n",
    "print(df[['GPA']])\n",
    "\n",
    "print()\n",
    "\n",
    "#try two columns and remove the index from print statement\n",
    "print(df[['Student ID','GPA']].to_string(index=False)) #HOW TO HIDE INDEX, FOR LATER"
   ]
  },
  {
   "attachments": {},
   "cell_type": "markdown",
   "metadata": {},
   "source": [
    "## DataFrame Sort"
   ]
  },
  {
   "cell_type": "code",
   "execution_count": 7,
   "metadata": {},
   "outputs": [
    {
     "name": "stdout",
     "output_type": "stream",
     "text": [
      "   Student ID Year in School   GPA\n",
      "11        456             10  2.75\n",
      "2         578             12  2.78\n",
      "9         nil              9  2.80\n",
      "6         145             12  2.95\n",
      "8         235      9th Grade  3.15\n",
      "5         313             20  3.33\n",
      "3         469             11  3.45\n",
      "10        469             11  3.45\n",
      "0         123             12  3.57\n",
      "7         167             10  3.90\n",
      "1         246             10  4.00\n",
      "4         324         Junior  4.75\n",
      "\n",
      "   Student ID Year in School   GPA\n",
      "4         324         Junior  4.75\n",
      "1         246             10  4.00\n",
      "7         167             10  3.90\n",
      "0         123             12  3.57\n",
      "3         469             11  3.45\n",
      "10        469             11  3.45\n",
      "5         313             20  3.33\n",
      "8         235      9th Grade  3.15\n",
      "6         145             12  2.95\n",
      "9         nil              9  2.80\n",
      "2         578             12  2.78\n",
      "11        456             10  2.75\n"
     ]
    }
   ],
   "source": [
    "#sort values\n",
    "print(df.sort_values(by=['GPA']))\n",
    "\n",
    "print()\n",
    "\n",
    "#sort the values in reverse order\n",
    "print(df.sort_values(by=['GPA'], ascending=False))"
   ]
  },
  {
   "attachments": {},
   "cell_type": "markdown",
   "metadata": {},
   "source": [
    "## DataFrame Selection or Filter"
   ]
  },
  {
   "cell_type": "code",
   "execution_count": 5,
   "metadata": {},
   "outputs": [
    {
     "name": "stdout",
     "output_type": "stream",
     "text": [
      "   Student ID Year in School   GPA\n",
      "0         123             12  3.57\n",
      "1         246             10  4.00\n",
      "3         469             11  3.45\n",
      "4         324         Junior  4.75\n",
      "5         313             20  3.33\n",
      "7         167             10  3.90\n",
      "8         235      9th Grade  3.15\n",
      "10        469             11  3.45\n"
     ]
    }
   ],
   "source": [
    "#print only values with a specific criteria \n",
    "print(df[df.GPA > 3.00])"
   ]
  },
  {
   "attachments": {},
   "cell_type": "markdown",
   "metadata": {},
   "source": [
    "## DataFrame Selection Max and Min"
   ]
  },
  {
   "cell_type": "code",
   "execution_count": 6,
   "metadata": {},
   "outputs": [
    {
     "name": "stdout",
     "output_type": "stream",
     "text": [
      "  Student ID Year in School   GPA\n",
      "4        324         Junior  4.75\n",
      "\n",
      "   Student ID Year in School   GPA\n",
      "11        456             10  2.75\n"
     ]
    }
   ],
   "source": [
    "print(df[df.GPA == df.GPA.max()])\n",
    "print()\n",
    "print(df[df.GPA == df.GPA.min()])"
   ]
  },
  {
   "attachments": {},
   "cell_type": "markdown",
   "metadata": {},
   "source": [
    "# Create your own DataFrame\n",
    "\n",
    "Using Pandas allows you to create your own DataFrame in Python."
   ]
  },
  {
   "attachments": {},
   "cell_type": "markdown",
   "metadata": {},
   "source": [
    "## Python Dictionary to Pandas DataFrame"
   ]
  },
  {
   "cell_type": "code",
   "execution_count": 10,
   "metadata": {},
   "outputs": [
    {
     "name": "stdout",
     "output_type": "stream",
     "text": [
      "-------------Dict_to_DF------------------\n",
      "   calories  duration\n",
      "0       420        50\n",
      "1       380        40\n",
      "2       390        45\n",
      "3       300        35\n",
      "----------Dict_to_DF_labels--------------\n",
      "      calories  duration\n",
      "day1       420        50\n",
      "day2       380        40\n",
      "day3       390        45\n",
      "day4       300        35\n"
     ]
    }
   ],
   "source": [
    "import pandas as pd\n",
    "\n",
    "#the data can be stored as a python dictionary\n",
    "dict = {\n",
    "  \"calories\": [420, 380, 390, 300],\n",
    "  \"duration\": [50, 40, 45, 35] #I added new values\n",
    "}\n",
    "#stores the data in a data frame\n",
    "print(\"-------------Dict_to_DF------------------\")\n",
    "df = pd.DataFrame(dict)\n",
    "print(df)\n",
    "\n",
    "print(\"----------Dict_to_DF_labels--------------\")\n",
    "\n",
    "#or with the index argument, you can label rows.\n",
    "df = pd.DataFrame(dict, index = [\"day1\", \"day2\", \"day3\", \"day4\"])\n",
    "print(df)"
   ]
  },
  {
   "attachments": {},
   "cell_type": "markdown",
   "metadata": {},
   "source": [
    "## Examine DataFrame Rows"
   ]
  },
  {
   "cell_type": "code",
   "execution_count": 11,
   "metadata": {},
   "outputs": [
    {
     "name": "stdout",
     "output_type": "stream",
     "text": [
      "-------Examine Selected Rows---------\n",
      "      calories  duration\n",
      "day1       420        50\n",
      "day3       390        45\n",
      "--------Examine Single Row-----------\n",
      "calories    420\n",
      "duration     50\n",
      "Name: day1, dtype: int64\n"
     ]
    }
   ],
   "source": [
    "print(\"-------Examine Selected Rows---------\")\n",
    "#use a list for multiple labels:\n",
    "print(df.loc[[\"day1\", \"day3\"]])\n",
    "\n",
    "#refer to the row index:\n",
    "print(\"--------Examine Single Row-----------\")\n",
    "print(df.loc[\"day1\"])"
   ]
  },
  {
   "attachments": {},
   "cell_type": "markdown",
   "metadata": {},
   "source": [
    "## Pandas DataFrame Information"
   ]
  },
  {
   "cell_type": "code",
   "execution_count": 12,
   "metadata": {},
   "outputs": [
    {
     "name": "stdout",
     "output_type": "stream",
     "text": [
      "<class 'pandas.core.frame.DataFrame'>\n",
      "Index: 4 entries, day1 to day4\n",
      "Data columns (total 2 columns):\n",
      " #   Column    Non-Null Count  Dtype\n",
      "---  ------    --------------  -----\n",
      " 0   calories  4 non-null      int64\n",
      " 1   duration  4 non-null      int64\n",
      "dtypes: int64(2)\n",
      "memory usage: 268.0+ bytes\n",
      "None\n"
     ]
    }
   ],
   "source": [
    "#print info about the data set\n",
    "print(df.info()) #prints with new data set in mind"
   ]
  },
  {
   "attachments": {},
   "cell_type": "markdown",
   "metadata": {},
   "source": [
    "# Example of larger data set\n",
    "\n",
    "Pandas can read CSV and many other types of files, run the following code to see more features with a larger data set"
   ]
  },
  {
   "cell_type": "code",
   "execution_count": 13,
   "metadata": {},
   "outputs": [
    {
     "name": "stdout",
     "output_type": "stream",
     "text": [
      "--Duration Top 10---------\n",
      "     Duration  Pulse  Maxpulse  Calories\n",
      "69        300    108       143    1500.2\n",
      "79        270    100       131    1729.0\n",
      "109       210    137       184    1860.4\n",
      "60        210    108       160    1376.0\n",
      "106       180     90       120     800.3\n",
      "90        180    101       127     600.1\n",
      "65        180     90       130     800.4\n",
      "61        160    110       137    1034.4\n",
      "62        160    109       135     853.0\n",
      "67        150    107       130     816.0\n",
      "--Duration Bottom 10------\n",
      "     Duration  Pulse  Maxpulse  Calories\n",
      "68         20    106       136     110.4\n",
      "100        20     95       112      77.7\n",
      "89         20     83       107      50.3\n",
      "135        20    136       156     189.0\n",
      "94         20    150       171     127.4\n",
      "95         20    151       168     229.4\n",
      "139        20    141       162     222.4\n",
      "64         20    110       130     131.4\n",
      "112        15    124       139     124.2\n",
      "93         15     80       100      50.5\n"
     ]
    }
   ],
   "source": [
    "import pandas as pd\n",
    "\n",
    "#read csv and sort 'Duration' largest to smallest\n",
    "df = pd.read_csv('files/data.csv').sort_values(by=['Duration'], ascending=False)\n",
    "\n",
    "print(\"--Duration Top 10---------\")\n",
    "print(df.head(10))\n",
    "\n",
    "print(\"--Duration Bottom 10------\")\n",
    "print(df.tail(10))\n"
   ]
  },
  {
   "attachments": {},
   "cell_type": "markdown",
   "metadata": {},
   "source": [
    "# APIs are a Source for Writing Programs with Data\n",
    "> 3rd Party APIs are a great source for creating Pandas Data Frames.  \n",
    "- Data can be fetched and resulting json can be placed into a Data Frame\n",
    "- Observe output, this looks very similar to a Database"
   ]
  },
  {
   "cell_type": "code",
   "execution_count": 14,
   "metadata": {},
   "outputs": [
    {
     "name": "stdout",
     "output_type": "stream",
     "text": [
      "  country_name       cases     deaths\n",
      "0          USA  82,649,779  1,018,316\n",
      "1        India  43,057,545    522,193\n",
      "2       Brazil  30,345,654    662,663\n",
      "3       France  28,244,977    145,020\n",
      "4      Germany  24,109,433    134,624\n",
      "5           UK  21,933,206    173,352\n"
     ]
    }
   ],
   "source": [
    "'''Pandas can be used to analyze data'''\n",
    "import pandas as pd\n",
    "import requests\n",
    "\n",
    "def fetch():\n",
    "    '''Obtain data from an endpoint'''\n",
    "    url = \"https://flask.nighthawkcodingsociety.com/api/covid/\"\n",
    "    fetch = requests.get(url)\n",
    "    json = fetch.json()\n",
    "\n",
    "    # filter data for requirement\n",
    "    df = pd.DataFrame(json['countries_stat'])  # filter endpoint for country stats\n",
    "    print(df.loc[0:5, 'country_name':'deaths']) # show row 0 through 5 and columns country_name through deaths\n",
    "    \n",
    "fetch()"
   ]
  },
  {
   "attachments": {},
   "cell_type": "markdown",
   "metadata": {},
   "source": [
    "# Hacks\n",
    "\n",
    "> Early Seed award\n",
    "\n",
    "I hope you saw it during class.\n",
    "\n",
    "## AP Prep\n",
    "\n",
    "I didn't make my own questions this time because I learned that we weren't really intended to do that. I did take the College Board practice quiz, though.\n",
    "\n",
    "### 2.3 College Board Practice Problems\n",
    "\n",
    "Here are the results of the 2.3 practice questions.\n",
    "\n",
    "<figure>\n",
    "  <img src=\"{{site.baseurl}}/images/Screen Shot 2023-03-11 at 3.19.14 PM.png\" alt=\"6/6\" width=\"800\"/>\n",
    "  <figcaption>I got 6/6.</figcaption>\n",
    "</figure>\n",
    "\n",
    "All of the questions had very clear answers, so I don't have a lot to reflect on. They were common sense questions above all else.\n",
    "\n",
    "## Personal Dataset Work\n",
    "\n",
    "> The next 4 weeks, Teachers want you to improve your understanding of data.  Look at the blog and others on Unit 2.  Your intention is to find some things to differentiate your individual College Board project.\n",
    "\n",
    "- Create or Find your own dataset.  The suggestion is to use a JSON file, integrating with your PBL project would be ***Amazing***.\n",
    "\n",
    "- When choosing a data set, think about the following...\n",
    "\n",
    "    - Does it have a good sample size?\n",
    "    - Is there bias in the data?\n",
    "    - Does the data set need to be cleaned?\n",
    "    - What is the purpose of the data set?\n",
    "    - ...\n",
    "\n",
    "- Continue this Blog using Pandas extract info from that dataset (ex. max, min, mean, median, mode, etc.)\n",
    "\n",
    "I decided to try applying Pandas sorting methods to my events database from the Cafe Gato project."
   ]
  },
  {
   "cell_type": "code",
   "execution_count": 29,
   "metadata": {},
   "outputs": [
    {
     "name": "stdout",
     "output_type": "stream",
     "text": [
      "         date                email end_time  \\\n",
      "0  03/13/2023     fixer@icloud.com    13:00   \n",
      "1  03/01/2023      lucky@magic.com    15:00   \n",
      "2  03/07/2023    downer@icloud.com    13:45   \n",
      "3  02/28/2023        cat@gmail.com    14:00   \n",
      "4  03/04/2023  drewdafox@gmail.com    14:00   \n",
      "\n",
      "                                       event_details  \\\n",
      "0                                We're gonna fix it!   \n",
      "1  This is the month that St. Patrick's Day takes...   \n",
      "2                         We're gonna break it down!   \n",
      "3                                           adsfasdf   \n",
      "4                                 Test for the class   \n",
      "\n",
      "                       event_name  id              name  \n",
      "0              The Fix Mix Flicks   3       Fixer Upper  \n",
      "1  Beginning of March Celebration   5  Lucky Leprechaun  \n",
      "2         The Down Breaker Clowns   6    Breaker Downer  \n",
      "3                             cat   7               cat  \n",
      "4              Test Day for APCSP   8         Drew Reed  \n"
     ]
    }
   ],
   "source": [
    "'''Pandas can be used to analyze data'''\n",
    "import pandas as pd\n",
    "import requests\n",
    "\n",
    "def fetch():\n",
    "    global eventdf\n",
    "    '''Obtain data from an endpoint'''\n",
    "    url = \"https://cgato.duckdns.org/api/events/\"\n",
    "    fetch = requests.get(url)\n",
    "    json = fetch.json()\n",
    "\n",
    "    # filter data for requirement\n",
    "    eventdf = pd.DataFrame(json)  # filter endpoint for country stats\n",
    "    print(eventdf.loc[0:5, 'date':'name']) # show row 0 through 5 and columns country_name through deaths\n",
    "    \n",
    "fetch()"
   ]
  },
  {
   "cell_type": "markdown",
   "metadata": {},
   "source": [
    "I decided to use Pandas for a process I spent a lot of time and effort on in the frontend...\n",
    "\n",
    "### Date Sorting\n",
    "\n",
    "Below, I've sorted the data both by soonest and by latest.\n",
    "\n",
    "#### Earliest\n",
    "\n",
    "Below is sorted by earliest, plus only shows certain columns to save space."
   ]
  },
  {
   "cell_type": "code",
   "execution_count": 32,
   "metadata": {},
   "outputs": [
    {
     "name": "stdout",
     "output_type": "stream",
     "text": [
      "         date                email end_time  \\\n",
      "3  02/28/2023        cat@gmail.com    14:00   \n",
      "1  03/01/2023      lucky@magic.com    15:00   \n",
      "4  03/04/2023  drewdafox@gmail.com    14:00   \n",
      "2  03/07/2023    downer@icloud.com    13:45   \n",
      "0  03/13/2023     fixer@icloud.com    13:00   \n",
      "\n",
      "                                       event_details  \\\n",
      "3                                           adsfasdf   \n",
      "1  This is the month that St. Patrick's Day takes...   \n",
      "4                                 Test for the class   \n",
      "2                         We're gonna break it down!   \n",
      "0                                We're gonna fix it!   \n",
      "\n",
      "                       event_name  \n",
      "3                             cat  \n",
      "1  Beginning of March Celebration  \n",
      "4              Test Day for APCSP  \n",
      "2         The Down Breaker Clowns  \n",
      "0              The Fix Mix Flicks  \n"
     ]
    }
   ],
   "source": [
    "print(eventdf.loc[0:4, 'date':'event_name'].sort_values(by=['date'], ascending=True))"
   ]
  },
  {
   "cell_type": "markdown",
   "metadata": {},
   "source": [
    "#### Latest\n",
    "\n",
    "Below, the data is sorted by latest."
   ]
  },
  {
   "cell_type": "code",
   "execution_count": 37,
   "metadata": {},
   "outputs": [
    {
     "name": "stdout",
     "output_type": "stream",
     "text": [
      "         date                email end_time  \\\n",
      "0  03/13/2023     fixer@icloud.com    13:00   \n",
      "2  03/07/2023    downer@icloud.com    13:45   \n",
      "4  03/04/2023  drewdafox@gmail.com    14:00   \n",
      "1  03/01/2023      lucky@magic.com    15:00   \n",
      "3  02/28/2023        cat@gmail.com    14:00   \n",
      "\n",
      "                                       event_details  \\\n",
      "0                                We're gonna fix it!   \n",
      "2                         We're gonna break it down!   \n",
      "4                                 Test for the class   \n",
      "1  This is the month that St. Patrick's Day takes...   \n",
      "3                                           adsfasdf   \n",
      "\n",
      "                       event_name  \n",
      "0              The Fix Mix Flicks  \n",
      "2         The Down Breaker Clowns  \n",
      "4              Test Day for APCSP  \n",
      "1  Beginning of March Celebration  \n",
      "3                             cat  \n"
     ]
    }
   ],
   "source": [
    "print(eventdf.loc[0:4, 'date':'event_name'].sort_values(by=['date'], ascending=False))"
   ]
  },
  {
   "cell_type": "markdown",
   "metadata": {},
   "source": [
    "## Other Online Data\n",
    "\n",
    "I decided to use a free health statistics API from RapidAPI and try to see things about it with Pandas. It mostly covers the basic health information of servings of common ingredients (so not full recipe details).\n",
    "\n",
    "It's a fairly complicated data set, so I ended up spending a while just trying to isolate important data. Below, you can see that I managed to isolate the nutrition information."
   ]
  },
  {
   "cell_type": "code",
   "execution_count": 58,
   "metadata": {},
   "outputs": [
    {
     "name": "stdout",
     "output_type": "stream",
     "text": [
      "{'ENERC_KCAL': 52.0, 'PROCNT': 0.26, 'FAT': 0.17, 'CHOCDF': 13.81, 'FIBTG': 2.4}\n"
     ]
    }
   ],
   "source": [
    "import pandas as pd\n",
    "import requests\n",
    "\n",
    "# GET code\n",
    "url = \"https://edamam-food-and-grocery-database.p.rapidapi.com/parser\"\n",
    "\n",
    "querystring = {\"ingr\":\"apple\"}\n",
    "\n",
    "headers = {\n",
    "\t\"X-RapidAPI-Key\": \"f9dc4c060fmsh192fef0e86699c6p109981jsn882369c51285\",\n",
    "\t\"X-RapidAPI-Host\": \"edamam-food-and-grocery-database.p.rapidapi.com\"\n",
    "}\n",
    "\n",
    "response = requests.request(\"GET\", url, headers=headers, params=querystring)\n",
    "json = response.json()\n",
    "nutrients = json['parsed'][0]['food']['nutrients']\n",
    "#fooddf = pd.DataFrame(json[1]['nutrients'])\n",
    "\n",
    "#print(fooddf)\n",
    "print(nutrients)"
   ]
  },
  {
   "cell_type": "markdown",
   "metadata": {},
   "source": [
    "The data above is only for \"apple,\" however. I decided to try to expand the amount of data by removing the `querystring`.\n",
    "\n",
    "In order to translate the acronyms, I had to look at the [documentation for the API](https://developer.edamam.com/edamam-docs-recipe-api#/) to correctly label it."
   ]
  },
  {
   "cell_type": "code",
   "execution_count": 68,
   "metadata": {},
   "outputs": [],
   "source": [
    "import pandas as pd\n",
    "import requests\n",
    "\n",
    "# GET code\n",
    "url = \"https://edamam-food-and-grocery-database.p.rapidapi.com/parser\"\n",
    "\n",
    "headers = {\n",
    "\t\"X-RapidAPI-Key\": \"f9dc4c060fmsh192fef0e86699c6p109981jsn882369c51285\",\n",
    "\t\"X-RapidAPI-Host\": \"edamam-food-and-grocery-database.p.rapidapi.com\"\n",
    "}\n",
    "\n",
    "response = requests.request(\"GET\", url, headers=headers) #fetch with no query\n",
    "json = response.json()\n",
    "\n",
    "fooddata = [] #for appending data here\n",
    "for data in json['hints']: #reformatting the information for the pandas table\n",
    "\tnewdict = {'Name':data['food']['label'],\n",
    "\t\t'Calories':data['food']['nutrients']['ENERC_KCAL'],\n",
    "\t\t'Protein (g)':data['food']['nutrients']['PROCNT'],\n",
    "\t\t'Fat (g)':data['food']['nutrients']['FAT'],\n",
    "\t\t'Carbohydrates (g)':data['food']['nutrients']['CHOCDF'],\n",
    "\t\t'Fiber (g)':data['food']['nutrients']['FIBTG']}\n",
    "\tfooddata.append(newdict)\n",
    "\n",
    "fooddf = pd.DataFrame(fooddata)\n",
    "#print(fooddf)"
   ]
  },
  {
   "cell_type": "markdown",
   "metadata": {},
   "source": [
    "Since that prints a whole lot of data, I decided to narrow it to the top five.\n",
    "\n",
    "Here is the top five most protein-rich ingredients in the list. So that it would stay within one line, I made it cut off at `'Fat (g)'`."
   ]
  },
  {
   "cell_type": "code",
   "execution_count": 72,
   "metadata": {},
   "outputs": [
    {
     "name": "stdout",
     "output_type": "stream",
     "text": [
      "                         Name  Calories  Protein (g)  Fat (g)\n",
      "4               Cheese, Brick     371.0        23.24    29.68\n",
      "3                Cheese, Blue     353.0        21.40    28.74\n",
      "5                Cheese, Brie     334.0        20.75    27.68\n",
      "0              Butter, Salted     717.0         0.85    81.11\n",
      "1  Butter, Whipped, With Salt     717.0         0.85    81.11\n",
      "2       Butter Oil, Anhydrous     876.0         0.28    99.48\n"
     ]
    }
   ],
   "source": [
    "print(fooddf.loc[0:5, 'Name':'Fat (g)'].sort_values(by=['Protein (g)'], ascending=False))"
   ]
  },
  {
   "cell_type": "markdown",
   "metadata": {},
   "source": [
    "The data that it's letting me pull is usually at the start of the aphabet. There may be more with the full, paid version of the API. This shows that some variations of cheeses have more protein than others in the full list."
   ]
  },
  {
   "cell_type": "markdown",
   "metadata": {},
   "source": [
    "## Hack Helpers\n",
    "\n",
    "To declutter my blog, I decided to delete this section since it's in the source article anyway. For my own personal reference, it can be found [here](https://nighthawkcoders.github.io/APCSP//2023/03/09/AP-unit2-3.html#Hack-Helpers)."
   ]
  }
 ],
 "metadata": {
  "kernelspec": {
   "display_name": "Python 3.9.12 ('base')",
   "language": "python",
   "name": "python3"
  },
  "language_info": {
   "codemirror_mode": {
    "name": "ipython",
    "version": 3
   },
   "file_extension": ".py",
   "mimetype": "text/x-python",
   "name": "python",
   "nbconvert_exporter": "python",
   "pygments_lexer": "ipython3",
   "version": "3.9.12"
  },
  "orig_nbformat": 4,
  "vscode": {
   "interpreter": {
    "hash": "56f7c0ddbd8295fccb7b65a09bceb7bda050a1a7ed2857cec799e2d3d977289f"
   }
  }
 },
 "nbformat": 4,
 "nbformat_minor": 2
}
