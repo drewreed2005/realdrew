{
 "cells": [
  {
   "attachments": {},
   "cell_type": "markdown",
   "metadata": {},
   "source": [
    "# Unit 2.3 (Extracting Information from Data, Pandas) Notes\n",
    "> Data connections, trends, and correlation.  Pandas is introduced as it could be valuable for PBL, data validation, as well as understanding College Board Topics.\n",
    "- toc: true\n",
    "- title: Unit 2.3 (Extracting Information from Data, Pandas) Notes\n",
    "- categories: []\n",
    "- permalink: /2-3notes/"
   ]
  },
  {
   "attachments": {},
   "cell_type": "markdown",
   "metadata": {},
   "source": [
    "# Pandas and DataFrames\n",
    "> In this lesson we will be exploring data analysis using Pandas.  \n",
    "\n",
    "- College Board talks about ideas like \n",
    "    - Tools. \"the ability to process data depends on users capabilities and their tools\"\n",
    "    - Combining Data.  \"combine county data sets\"\n",
    "    - Status on Data\"determining the artist with the greatest attendance during a particular month\"\n",
    "    - Data poses challenge. \"the need to clean data\", \"incomplete data\"\n",
    "\n",
    "\n",
    "- [From Pandas Overview](https://pandas.pydata.org/docs/getting_started/index.html) -- When working with tabular data, such as data stored in spreadsheets or databases, pandas is the right tool for you. pandas will help you to explore, clean, and process your data. In pandas, a data table is called a DataFrame.\n",
    "\n",
    "\n",
    "![DataFrame](images/table_dataframe.png)"
   ]
  },
  {
   "cell_type": "code",
   "execution_count": 3,
   "metadata": {},
   "outputs": [],
   "source": [
    "'''Pandas is used to gather data sets through its DataFrames implementation'''\n",
    "import pandas as pd"
   ]
  },
  {
   "attachments": {},
   "cell_type": "markdown",
   "metadata": {},
   "source": [
    "# Cleaning Data\n",
    "\n",
    "When looking at a data set, check to see what data needs to be cleaned. Examples include:\n",
    "- Missing Data Points\n",
    "- Invalid Data\n",
    "- Inaccurate Data\n",
    "\n",
    "Run the following code to see what needs to be cleaned"
   ]
  },
  {
   "cell_type": "code",
   "execution_count": 4,
   "metadata": {},
   "outputs": [
    {
     "name": "stdout",
     "output_type": "stream",
     "text": [
      "   Student ID Year in School   GPA\n",
      "0         123             12  3.57\n",
      "1         246             10  4.00\n",
      "2         578             12  2.78\n",
      "3         469             11  3.45\n",
      "4         324         Junior  4.75\n",
      "5         313             20  3.33\n",
      "6         145             12  2.95\n",
      "7         167             10  3.90\n",
      "8         235      9th Grade  3.15\n",
      "9         nil              9  2.80\n",
      "10        469             11  3.45\n",
      "11        456             10  2.75\n"
     ]
    }
   ],
   "source": [
    "# reads the JSON file and converts it to a Pandas DataFrame\n",
    "df = pd.read_json('files/grade.json')\n",
    "\n",
    "print(df)\n",
    "# What part of the data set needs to be cleaned?\n",
    "# From PBL learning, what is a good time to clean data?  Hint, remember Garbage in, Garbage out?"
   ]
  },
  {
   "cell_type": "markdown",
   "metadata": {},
   "source": [
    "## Identifying Outliers (Interaction)\n",
    "\n",
    "Some outliers include the grade in student 4 (\"Junior\"), 5 (\"20\") and 8 (\"9th Grade\"), and the Student ID \"nil\" for student 9.\n",
    "\n",
    "Student 4's GPA also could or could not be correct. This could just be an outlier that's accurate or it could be a weighting problem."
   ]
  },
  {
   "attachments": {},
   "cell_type": "markdown",
   "metadata": {},
   "source": [
    "# Extracting Info\n",
    "\n",
    "Take a look at some features that the Pandas library has that extracts info from the dataset"
   ]
  },
  {
   "attachments": {},
   "cell_type": "markdown",
   "metadata": {},
   "source": [
    "## DataFrame Extract Column"
   ]
  },
  {
   "cell_type": "code",
   "execution_count": 5,
   "metadata": {},
   "outputs": [
    {
     "name": "stdout",
     "output_type": "stream",
     "text": [
      "     GPA\n",
      "0   3.57\n",
      "1   4.00\n",
      "2   2.78\n",
      "3   3.45\n",
      "4   4.75\n",
      "5   3.33\n",
      "6   2.95\n",
      "7   3.90\n",
      "8   3.15\n",
      "9   2.80\n",
      "10  3.45\n",
      "11  2.75\n",
      "\n",
      "Student ID  GPA\n",
      "       123 3.57\n",
      "       246 4.00\n",
      "       578 2.78\n",
      "       469 3.45\n",
      "       324 4.75\n",
      "       313 3.33\n",
      "       145 2.95\n",
      "       167 3.90\n",
      "       235 3.15\n",
      "       nil 2.80\n",
      "       469 3.45\n",
      "       456 2.75\n"
     ]
    }
   ],
   "source": [
    "#print the values in the points column with column header\n",
    "print(df[['GPA']])\n",
    "\n",
    "print()\n",
    "\n",
    "#try two columns and remove the index from print statement\n",
    "print(df[['Student ID','GPA']].to_string(index=False)) #HOW TO HIDE INDEX, FOR LATER"
   ]
  },
  {
   "attachments": {},
   "cell_type": "markdown",
   "metadata": {},
   "source": [
    "## DataFrame Sort"
   ]
  },
  {
   "cell_type": "code",
   "execution_count": 7,
   "metadata": {},
   "outputs": [
    {
     "name": "stdout",
     "output_type": "stream",
     "text": [
      "   Student ID Year in School   GPA\n",
      "11        456             10  2.75\n",
      "2         578             12  2.78\n",
      "9         nil              9  2.80\n",
      "6         145             12  2.95\n",
      "8         235      9th Grade  3.15\n",
      "5         313             20  3.33\n",
      "3         469             11  3.45\n",
      "10        469             11  3.45\n",
      "0         123             12  3.57\n",
      "7         167             10  3.90\n",
      "1         246             10  4.00\n",
      "4         324         Junior  4.75\n",
      "\n",
      "   Student ID Year in School   GPA\n",
      "4         324         Junior  4.75\n",
      "1         246             10  4.00\n",
      "7         167             10  3.90\n",
      "0         123             12  3.57\n",
      "3         469             11  3.45\n",
      "10        469             11  3.45\n",
      "5         313             20  3.33\n",
      "8         235      9th Grade  3.15\n",
      "6         145             12  2.95\n",
      "9         nil              9  2.80\n",
      "2         578             12  2.78\n",
      "11        456             10  2.75\n"
     ]
    }
   ],
   "source": [
    "#sort values\n",
    "print(df.sort_values(by=['GPA']))\n",
    "\n",
    "print()\n",
    "\n",
    "#sort the values in reverse order\n",
    "print(df.sort_values(by=['GPA'], ascending=False))"
   ]
  },
  {
   "attachments": {},
   "cell_type": "markdown",
   "metadata": {},
   "source": [
    "## DataFrame Selection or Filter"
   ]
  },
  {
   "cell_type": "code",
   "execution_count": 5,
   "metadata": {},
   "outputs": [
    {
     "name": "stdout",
     "output_type": "stream",
     "text": [
      "   Student ID Year in School   GPA\n",
      "0         123             12  3.57\n",
      "1         246             10  4.00\n",
      "3         469             11  3.45\n",
      "4         324         Junior  4.75\n",
      "5         313             20  3.33\n",
      "7         167             10  3.90\n",
      "8         235      9th Grade  3.15\n",
      "10        469             11  3.45\n"
     ]
    }
   ],
   "source": [
    "#print only values with a specific criteria \n",
    "print(df[df.GPA > 3.00])"
   ]
  },
  {
   "attachments": {},
   "cell_type": "markdown",
   "metadata": {},
   "source": [
    "## DataFrame Selection Max and Min"
   ]
  },
  {
   "cell_type": "code",
   "execution_count": 6,
   "metadata": {},
   "outputs": [
    {
     "name": "stdout",
     "output_type": "stream",
     "text": [
      "  Student ID Year in School   GPA\n",
      "4        324         Junior  4.75\n",
      "\n",
      "   Student ID Year in School   GPA\n",
      "11        456             10  2.75\n"
     ]
    }
   ],
   "source": [
    "print(df[df.GPA == df.GPA.max()])\n",
    "print()\n",
    "print(df[df.GPA == df.GPA.min()])"
   ]
  },
  {
   "attachments": {},
   "cell_type": "markdown",
   "metadata": {},
   "source": [
    "# Create your own DataFrame\n",
    "\n",
    "Using Pandas allows you to create your own DataFrame in Python."
   ]
  },
  {
   "attachments": {},
   "cell_type": "markdown",
   "metadata": {},
   "source": [
    "## Python Dictionary to Pandas DataFrame"
   ]
  },
  {
   "cell_type": "code",
   "execution_count": 10,
   "metadata": {},
   "outputs": [
    {
     "name": "stdout",
     "output_type": "stream",
     "text": [
      "-------------Dict_to_DF------------------\n",
      "   calories  duration\n",
      "0       420        50\n",
      "1       380        40\n",
      "2       390        45\n",
      "3       300        35\n",
      "----------Dict_to_DF_labels--------------\n",
      "      calories  duration\n",
      "day1       420        50\n",
      "day2       380        40\n",
      "day3       390        45\n",
      "day4       300        35\n"
     ]
    }
   ],
   "source": [
    "import pandas as pd\n",
    "\n",
    "#the data can be stored as a python dictionary\n",
    "dict = {\n",
    "  \"calories\": [420, 380, 390, 300],\n",
    "  \"duration\": [50, 40, 45, 35] #I added new values\n",
    "}\n",
    "#stores the data in a data frame\n",
    "print(\"-------------Dict_to_DF------------------\")\n",
    "df = pd.DataFrame(dict)\n",
    "print(df)\n",
    "\n",
    "print(\"----------Dict_to_DF_labels--------------\")\n",
    "\n",
    "#or with the index argument, you can label rows.\n",
    "df = pd.DataFrame(dict, index = [\"day1\", \"day2\", \"day3\", \"day4\"])\n",
    "print(df)"
   ]
  },
  {
   "attachments": {},
   "cell_type": "markdown",
   "metadata": {},
   "source": [
    "## Examine DataFrame Rows"
   ]
  },
  {
   "cell_type": "code",
   "execution_count": 11,
   "metadata": {},
   "outputs": [
    {
     "name": "stdout",
     "output_type": "stream",
     "text": [
      "-------Examine Selected Rows---------\n",
      "      calories  duration\n",
      "day1       420        50\n",
      "day3       390        45\n",
      "--------Examine Single Row-----------\n",
      "calories    420\n",
      "duration     50\n",
      "Name: day1, dtype: int64\n"
     ]
    }
   ],
   "source": [
    "print(\"-------Examine Selected Rows---------\")\n",
    "#use a list for multiple labels:\n",
    "print(df.loc[[\"day1\", \"day3\"]])\n",
    "\n",
    "#refer to the row index:\n",
    "print(\"--------Examine Single Row-----------\")\n",
    "print(df.loc[\"day1\"])"
   ]
  },
  {
   "attachments": {},
   "cell_type": "markdown",
   "metadata": {},
   "source": [
    "## Pandas DataFrame Information"
   ]
  },
  {
   "cell_type": "code",
   "execution_count": 12,
   "metadata": {},
   "outputs": [
    {
     "name": "stdout",
     "output_type": "stream",
     "text": [
      "<class 'pandas.core.frame.DataFrame'>\n",
      "Index: 4 entries, day1 to day4\n",
      "Data columns (total 2 columns):\n",
      " #   Column    Non-Null Count  Dtype\n",
      "---  ------    --------------  -----\n",
      " 0   calories  4 non-null      int64\n",
      " 1   duration  4 non-null      int64\n",
      "dtypes: int64(2)\n",
      "memory usage: 268.0+ bytes\n",
      "None\n"
     ]
    }
   ],
   "source": [
    "#print info about the data set\n",
    "print(df.info()) #prints with new data set in mind"
   ]
  },
  {
   "attachments": {},
   "cell_type": "markdown",
   "metadata": {},
   "source": [
    "# Example of larger data set\n",
    "\n",
    "Pandas can read CSV and many other types of files, run the following code to see more features with a larger data set"
   ]
  },
  {
   "cell_type": "code",
   "execution_count": 13,
   "metadata": {},
   "outputs": [
    {
     "name": "stdout",
     "output_type": "stream",
     "text": [
      "--Duration Top 10---------\n",
      "     Duration  Pulse  Maxpulse  Calories\n",
      "69        300    108       143    1500.2\n",
      "79        270    100       131    1729.0\n",
      "109       210    137       184    1860.4\n",
      "60        210    108       160    1376.0\n",
      "106       180     90       120     800.3\n",
      "90        180    101       127     600.1\n",
      "65        180     90       130     800.4\n",
      "61        160    110       137    1034.4\n",
      "62        160    109       135     853.0\n",
      "67        150    107       130     816.0\n",
      "--Duration Bottom 10------\n",
      "     Duration  Pulse  Maxpulse  Calories\n",
      "68         20    106       136     110.4\n",
      "100        20     95       112      77.7\n",
      "89         20     83       107      50.3\n",
      "135        20    136       156     189.0\n",
      "94         20    150       171     127.4\n",
      "95         20    151       168     229.4\n",
      "139        20    141       162     222.4\n",
      "64         20    110       130     131.4\n",
      "112        15    124       139     124.2\n",
      "93         15     80       100      50.5\n"
     ]
    }
   ],
   "source": [
    "import pandas as pd\n",
    "\n",
    "#read csv and sort 'Duration' largest to smallest\n",
    "df = pd.read_csv('files/data.csv').sort_values(by=['Duration'], ascending=False)\n",
    "\n",
    "print(\"--Duration Top 10---------\")\n",
    "print(df.head(10))\n",
    "\n",
    "print(\"--Duration Bottom 10------\")\n",
    "print(df.tail(10))\n"
   ]
  },
  {
   "attachments": {},
   "cell_type": "markdown",
   "metadata": {},
   "source": [
    "# APIs are a Source for Writing Programs with Data\n",
    "> 3rd Party APIs are a great source for creating Pandas Data Frames.  \n",
    "- Data can be fetched and resulting json can be placed into a Data Frame\n",
    "- Observe output, this looks very similar to a Database"
   ]
  },
  {
   "cell_type": "code",
   "execution_count": 14,
   "metadata": {},
   "outputs": [
    {
     "name": "stdout",
     "output_type": "stream",
     "text": [
      "  country_name       cases     deaths\n",
      "0          USA  82,649,779  1,018,316\n",
      "1        India  43,057,545    522,193\n",
      "2       Brazil  30,345,654    662,663\n",
      "3       France  28,244,977    145,020\n",
      "4      Germany  24,109,433    134,624\n",
      "5           UK  21,933,206    173,352\n"
     ]
    }
   ],
   "source": [
    "'''Pandas can be used to analyze data'''\n",
    "import pandas as pd\n",
    "import requests\n",
    "\n",
    "def fetch():\n",
    "    '''Obtain data from an endpoint'''\n",
    "    url = \"https://flask.nighthawkcodingsociety.com/api/covid/\"\n",
    "    fetch = requests.get(url)\n",
    "    json = fetch.json()\n",
    "\n",
    "    # filter data for requirement\n",
    "    df = pd.DataFrame(json['countries_stat'])  # filter endpoint for country stats\n",
    "    print(df.loc[0:5, 'country_name':'deaths']) # show row 0 through 5 and columns country_name through deaths\n",
    "    \n",
    "fetch()"
   ]
  },
  {
   "attachments": {},
   "cell_type": "markdown",
   "metadata": {},
   "source": [
    "# Hacks\n",
    "\n",
    "> Early Seed award\n",
    "\n",
    "I hope you saw it during class.\n",
    "\n",
    "> AP Prep\n",
    "\n",
    "## 2.3 Practice Problems\n",
    "\n",
    "[fill in here]\n",
    "\n",
    "## Personal Dataset Work\n",
    "\n",
    "> The next 4 weeks, Teachers want you to improve your understanding of data.  Look at the blog and others on Unit 2.  Your intention is to find some things to differentiate your individual College Board project.\n",
    "\n",
    "- Create or Find your own dataset.  The suggestion is to use a JSON file, integrating with your PBL project would be ***Amazing***.\n",
    "\n",
    "- When choosing a data set, think about the following...\n",
    "\n",
    "    - Does it have a good sample size?\n",
    "    - Is there bias in the data?\n",
    "    - Does the data set need to be cleaned?\n",
    "    - What is the purpose of the data set?\n",
    "    - ...\n",
    "\n",
    "- Continue this Blog using Pandas extract info from that dataset (ex. max, min, mean, median, mode, etc.)\n",
    "\n",
    "I decided to try applying Pandas sorting methods to my events database from the Cafe Gato project."
   ]
  },
  {
   "cell_type": "code",
   "execution_count": 29,
   "metadata": {},
   "outputs": [
    {
     "name": "stdout",
     "output_type": "stream",
     "text": [
      "         date                email end_time  \\\n",
      "0  03/13/2023     fixer@icloud.com    13:00   \n",
      "1  03/01/2023      lucky@magic.com    15:00   \n",
      "2  03/07/2023    downer@icloud.com    13:45   \n",
      "3  02/28/2023        cat@gmail.com    14:00   \n",
      "4  03/04/2023  drewdafox@gmail.com    14:00   \n",
      "\n",
      "                                       event_details  \\\n",
      "0                                We're gonna fix it!   \n",
      "1  This is the month that St. Patrick's Day takes...   \n",
      "2                         We're gonna break it down!   \n",
      "3                                           adsfasdf   \n",
      "4                                 Test for the class   \n",
      "\n",
      "                       event_name  id              name  \n",
      "0              The Fix Mix Flicks   3       Fixer Upper  \n",
      "1  Beginning of March Celebration   5  Lucky Leprechaun  \n",
      "2         The Down Breaker Clowns   6    Breaker Downer  \n",
      "3                             cat   7               cat  \n",
      "4              Test Day for APCSP   8         Drew Reed  \n"
     ]
    }
   ],
   "source": [
    "'''Pandas can be used to analyze data'''\n",
    "import pandas as pd\n",
    "import requests\n",
    "\n",
    "def fetch():\n",
    "    global eventdf\n",
    "    '''Obtain data from an endpoint'''\n",
    "    url = \"https://cgato.duckdns.org/api/events/\"\n",
    "    fetch = requests.get(url)\n",
    "    json = fetch.json()\n",
    "\n",
    "    # filter data for requirement\n",
    "    eventdf = pd.DataFrame(json)  # filter endpoint for country stats\n",
    "    print(eventdf.loc[0:5, 'date':'name']) # show row 0 through 5 and columns country_name through deaths\n",
    "    \n",
    "fetch()"
   ]
  },
  {
   "cell_type": "markdown",
   "metadata": {},
   "source": [
    "I decided to use Pandas for a process I spent a lot of time and effort on in the frontend...\n",
    "\n",
    "### Date Sorting\n",
    "\n",
    "Below, I've sorted the data both by soonest and by latest.\n",
    "\n",
    "#### Earliest\n",
    "\n",
    "Below is sorted by earliest, plus only shows certain columns to save space."
   ]
  },
  {
   "cell_type": "code",
   "execution_count": 32,
   "metadata": {},
   "outputs": [
    {
     "name": "stdout",
     "output_type": "stream",
     "text": [
      "         date                email end_time  \\\n",
      "3  02/28/2023        cat@gmail.com    14:00   \n",
      "1  03/01/2023      lucky@magic.com    15:00   \n",
      "4  03/04/2023  drewdafox@gmail.com    14:00   \n",
      "2  03/07/2023    downer@icloud.com    13:45   \n",
      "0  03/13/2023     fixer@icloud.com    13:00   \n",
      "\n",
      "                                       event_details  \\\n",
      "3                                           adsfasdf   \n",
      "1  This is the month that St. Patrick's Day takes...   \n",
      "4                                 Test for the class   \n",
      "2                         We're gonna break it down!   \n",
      "0                                We're gonna fix it!   \n",
      "\n",
      "                       event_name  \n",
      "3                             cat  \n",
      "1  Beginning of March Celebration  \n",
      "4              Test Day for APCSP  \n",
      "2         The Down Breaker Clowns  \n",
      "0              The Fix Mix Flicks  \n"
     ]
    }
   ],
   "source": [
    "print(eventdf.loc[0:4, 'date':'event_name'].sort_values(by=['date'], ascending=True))"
   ]
  },
  {
   "cell_type": "markdown",
   "metadata": {},
   "source": [
    "#### Latest\n",
    "\n",
    "Below, the data is sorted by latest."
   ]
  },
  {
   "cell_type": "code",
   "execution_count": 37,
   "metadata": {},
   "outputs": [
    {
     "name": "stdout",
     "output_type": "stream",
     "text": [
      "         date                email end_time  \\\n",
      "0  03/13/2023     fixer@icloud.com    13:00   \n",
      "2  03/07/2023    downer@icloud.com    13:45   \n",
      "4  03/04/2023  drewdafox@gmail.com    14:00   \n",
      "1  03/01/2023      lucky@magic.com    15:00   \n",
      "3  02/28/2023        cat@gmail.com    14:00   \n",
      "\n",
      "                                       event_details  \\\n",
      "0                                We're gonna fix it!   \n",
      "2                         We're gonna break it down!   \n",
      "4                                 Test for the class   \n",
      "1  This is the month that St. Patrick's Day takes...   \n",
      "3                                           adsfasdf   \n",
      "\n",
      "                       event_name  \n",
      "0              The Fix Mix Flicks  \n",
      "2         The Down Breaker Clowns  \n",
      "4              Test Day for APCSP  \n",
      "1  Beginning of March Celebration  \n",
      "3                             cat  \n"
     ]
    }
   ],
   "source": [
    "print(eventdf.loc[0:4, 'date':'event_name'].sort_values(by=['date'], ascending=False))"
   ]
  },
  {
   "cell_type": "markdown",
   "metadata": {},
   "source": [
    "## Other Online Data\n",
    "\n",
    "I decided to use a free health statistics API from RapidAPI and try to see things about it with Pandas.\n",
    "\n",
    "It's a fairly complicated data set, so I ended up spending a while just trying to isolate important data. Below, you can see that I managed to isolate the nutrition information."
   ]
  },
  {
   "cell_type": "code",
   "execution_count": 58,
   "metadata": {},
   "outputs": [
    {
     "name": "stdout",
     "output_type": "stream",
     "text": [
      "{'ENERC_KCAL': 52.0, 'PROCNT': 0.26, 'FAT': 0.17, 'CHOCDF': 13.81, 'FIBTG': 2.4}\n"
     ]
    }
   ],
   "source": [
    "import pandas as pd\n",
    "import requests\n",
    "\n",
    "# GET code\n",
    "url = \"https://edamam-food-and-grocery-database.p.rapidapi.com/parser\"\n",
    "\n",
    "querystring = {\"ingr\":\"apple\"}\n",
    "\n",
    "headers = {\n",
    "\t\"X-RapidAPI-Key\": \"f9dc4c060fmsh192fef0e86699c6p109981jsn882369c51285\",\n",
    "\t\"X-RapidAPI-Host\": \"edamam-food-and-grocery-database.p.rapidapi.com\"\n",
    "}\n",
    "\n",
    "response = requests.request(\"GET\", url, headers=headers, params=querystring)\n",
    "json = response.json()\n",
    "nutrients = json['parsed'][0]['food']['nutrients']\n",
    "#fooddf = pd.DataFrame(json[1]['nutrients'])\n",
    "\n",
    "#print(fooddf)\n",
    "print(nutrients)"
   ]
  },
  {
   "cell_type": "markdown",
   "metadata": {},
   "source": [
    "The data above is only for \"apple,\" however. I decided to try to expand the amount of data by removing the `querystring`."
   ]
  },
  {
   "cell_type": "code",
   "execution_count": 60,
   "metadata": {},
   "outputs": [
    {
     "name": "stdout",
     "output_type": "stream",
     "text": [
      "{'text': '', 'parsed': [], 'hints': [{'food': {'foodId': 'food_bwrgmmqau78xrdazxx79obeezumz', 'uri': 'http://www.edamam.com/ontologies/edamam.owl#Food_01001', 'label': 'Butter, Salted', 'nutrients': {'ENERC_KCAL': 717.0, 'PROCNT': 0.85, 'FAT': 81.11, 'CHOCDF': 0.06, 'FIBTG': 0.0}, 'category': 'Generic foods', 'categoryLabel': 'food', 'image': 'https://www.edamam.com/food-img/515/515af390107678fce1533a31ee4cc35b.jpeg'}, 'measures': [{'uri': 'http://www.edamam.com/ontologies/edamam.owl#Measure_tablespoon', 'label': 'Tablespoon'}, {'uri': 'http://www.edamam.com/ontologies/edamam.owl#Measure_cup', 'label': 'Cup'}, {'uri': 'http://www.edamam.com/ontologies/edamam.owl#Measure_stick', 'label': 'Stick'}, {'uri': 'http://www.edamam.com/ontologies/edamam.owl#Measure_gram', 'label': 'Gram'}, {'uri': 'http://www.edamam.com/ontologies/edamam.owl#Measure_ounce', 'label': 'Ounce'}, {'uri': 'http://www.edamam.com/ontologies/edamam.owl#Measure_pound', 'label': 'Pound'}, {'uri': 'http://www.edamam.com/ontologies/edamam.owl#Measure_unit', 'label': 'Whole'}, {'uri': 'http://www.edamam.com/ontologies/edamam.owl#Measure_pat', 'label': 'Pat'}, {'uri': 'http://www.edamam.com/ontologies/edamam.owl#Measure_serving', 'label': 'Serving'}, {'uri': 'http://www.edamam.com/ontologies/edamam.owl#Measure_kilogram', 'label': 'Kilogram'}, {'uri': 'http://www.edamam.com/ontologies/edamam.owl#Measure_default'}]}, {'food': {'foodId': 'food_blrpqo1bp94h17apq4prgbhcuhex', 'uri': 'http://www.edamam.com/ontologies/edamam.owl#Food_01002', 'label': 'Butter, Whipped, With Salt', 'nutrients': {'ENERC_KCAL': 717.0, 'PROCNT': 0.85, 'FAT': 81.11, 'CHOCDF': 0.06, 'FIBTG': 0.0}, 'category': 'Generic foods', 'categoryLabel': 'food', 'image': 'https://www.edamam.com/food-img/ec6/ec68f0d43ed9b399c8464481f89eb225.jpg'}, 'measures': [{'uri': 'http://www.edamam.com/ontologies/edamam.owl#Measure_stick', 'label': 'Stick'}, {'uri': 'http://www.edamam.com/ontologies/edamam.owl#Measure_serving', 'label': 'Serving'}, {'uri': 'http://www.edamam.com/ontologies/edamam.owl#Measure_pat', 'label': 'Pat'}, {'uri': 'http://www.edamam.com/ontologies/edamam.owl#Measure_gram', 'label': 'Gram'}, {'uri': 'http://www.edamam.com/ontologies/edamam.owl#Measure_ounce', 'label': 'Ounce'}, {'uri': 'http://www.edamam.com/ontologies/edamam.owl#Measure_pound', 'label': 'Pound'}, {'uri': 'http://www.edamam.com/ontologies/edamam.owl#Measure_kilogram', 'label': 'Kilogram'}, {'uri': 'http://www.edamam.com/ontologies/edamam.owl#Measure_tablespoon', 'label': 'Tablespoon'}, {'uri': 'http://www.edamam.com/ontologies/edamam.owl#Measure_cup', 'label': 'Cup'}, {'uri': 'http://www.edamam.com/ontologies/edamam.owl#Measure_default'}]}, {'food': {'foodId': 'food_bzaenytbm02cd4br159f4biv49jc', 'uri': 'http://www.edamam.com/ontologies/edamam.owl#Food_01003', 'label': 'Butter Oil, Anhydrous', 'nutrients': {'ENERC_KCAL': 876.0, 'PROCNT': 0.28, 'FAT': 99.48, 'CHOCDF': 0.0, 'FIBTG': 0.0}, 'category': 'Generic foods', 'categoryLabel': 'food', 'image': 'https://www.edamam.com/food-img/2b5/2b504c036c64481b224c9d74cc4a82e0.jpg'}, 'measures': [{'uri': 'http://www.edamam.com/ontologies/edamam.owl#Measure_tablespoon', 'label': 'Tablespoon'}, {'uri': 'http://www.edamam.com/ontologies/edamam.owl#Measure_cup', 'label': 'Cup'}, {'uri': 'http://www.edamam.com/ontologies/edamam.owl#Measure_gram', 'label': 'Gram'}, {'uri': 'http://www.edamam.com/ontologies/edamam.owl#Measure_ounce', 'label': 'Ounce'}, {'uri': 'http://www.edamam.com/ontologies/edamam.owl#Measure_pound', 'label': 'Pound'}, {'uri': 'http://www.edamam.com/ontologies/edamam.owl#Measure_serving', 'label': 'Serving'}, {'uri': 'http://www.edamam.com/ontologies/edamam.owl#Measure_kilogram', 'label': 'Kilogram'}, {'uri': 'http://www.edamam.com/ontologies/edamam.owl#Measure_default'}]}, {'food': {'foodId': 'food_aqptx2cauhjjzubmplnjna81ev33', 'uri': 'http://www.edamam.com/ontologies/edamam.owl#Food_01004', 'label': 'Cheese, Blue', 'nutrients': {'ENERC_KCAL': 353.0, 'PROCNT': 21.4, 'FAT': 28.74, 'CHOCDF': 2.34, 'FIBTG': 0.0}, 'category': 'Generic foods', 'categoryLabel': 'food', 'image': 'https://www.edamam.com/food-img/b44/b442cfc174a1a691dca574c9b7dcb47a.jpg'}, 'measures': [{'uri': 'http://www.edamam.com/ontologies/edamam.owl#Measure_cup', 'label': 'Cup', 'qualified': [[{'uri': 'http://www.edamam.com/ontologies/edamam.owl#Qualifier_crumbled', 'label': 'crumbled'}]]}, {'uri': 'http://www.edamam.com/ontologies/edamam.owl#Measure_ounce', 'label': 'Ounce'}, {'uri': 'http://www.edamam.com/ontologies/edamam.owl#Measure_gram', 'label': 'Gram'}, {'uri': 'http://www.edamam.com/ontologies/edamam.owl#Measure_pound', 'label': 'Pound'}, {'uri': 'http://www.edamam.com/ontologies/edamam.owl#Measure_unit', 'label': 'Whole'}, {'uri': 'http://www.edamam.com/ontologies/edamam.owl#Measure_slice', 'label': 'Slice'}, {'uri': 'http://www.edamam.com/ontologies/edamam.owl#Measure_wedge', 'label': 'Wedge'}, {'uri': 'http://www.edamam.com/ontologies/edamam.owl#Measure_piece', 'label': 'Piece'}, {'uri': 'http://www.edamam.com/ontologies/edamam.owl#Measure_serving', 'label': 'Serving'}, {'uri': 'http://www.edamam.com/ontologies/edamam.owl#Measure_round', 'label': 'Round'}, {'uri': 'http://www.edamam.com/ontologies/edamam.owl#Measure_kilogram', 'label': 'Kilogram'}, {'uri': 'http://www.edamam.com/ontologies/edamam.owl#Measure_cubic_inch', 'label': 'Cubic inch'}]}, {'food': {'foodId': 'food_au4tus5b092owgbiu8yama5yupfp', 'uri': 'http://www.edamam.com/ontologies/edamam.owl#Food_01005', 'label': 'Cheese, Brick', 'nutrients': {'ENERC_KCAL': 371.0, 'PROCNT': 23.24, 'FAT': 29.68, 'CHOCDF': 2.79, 'FIBTG': 0.0}, 'category': 'Generic foods', 'categoryLabel': 'food', 'image': 'https://www.edamam.com/food-img/702/7023ac63ef897bab1f6ea399316748d7.png'}, 'measures': [{'uri': 'http://www.edamam.com/ontologies/edamam.owl#Measure_ounce', 'label': 'Ounce'}, {'uri': 'http://www.edamam.com/ontologies/edamam.owl#Measure_slice', 'label': 'Slice'}, {'uri': 'http://www.edamam.com/ontologies/edamam.owl#Measure_cup', 'label': 'Cup', 'qualified': [[{'uri': 'http://www.edamam.com/ontologies/edamam.owl#Qualifier_diced', 'label': 'diced'}], [{'uri': 'http://www.edamam.com/ontologies/edamam.owl#Qualifier_shredded', 'label': 'shredded'}]]}, {'uri': 'http://www.edamam.com/ontologies/edamam.owl#Measure_serving', 'label': 'Serving'}, {'uri': 'http://www.edamam.com/ontologies/edamam.owl#Measure_gram', 'label': 'Gram'}, {'uri': 'http://www.edamam.com/ontologies/edamam.owl#Measure_pound', 'label': 'Pound'}, {'uri': 'http://www.edamam.com/ontologies/edamam.owl#Measure_kilogram', 'label': 'Kilogram'}, {'uri': 'http://www.edamam.com/ontologies/edamam.owl#Measure_cubic_inch', 'label': 'Cubic inch'}]}, {'food': {'foodId': 'food_a06hreabh7agoeazgrtiobunge7b', 'uri': 'http://www.edamam.com/ontologies/edamam.owl#Food_01006', 'label': 'Cheese, Brie', 'nutrients': {'ENERC_KCAL': 334.0, 'PROCNT': 20.75, 'FAT': 27.68, 'CHOCDF': 0.45, 'FIBTG': 0.0}, 'category': 'Generic foods', 'categoryLabel': 'food', 'image': 'https://www.edamam.com/food-img/f53/f5340600239cf508f17b167265c6a1cf.jpg'}, 'measures': [{'uri': 'http://www.edamam.com/ontologies/edamam.owl#Measure_ounce', 'label': 'Ounce'}, {'uri': 'http://www.edamam.com/ontologies/edamam.owl#Measure_unit', 'label': 'Whole'}, {'uri': 'http://www.edamam.com/ontologies/edamam.owl#Measure_pound', 'label': 'Pound'}, {'uri': 'http://www.edamam.com/ontologies/edamam.owl#Measure_slice', 'label': 'Slice'}, {'uri': 'http://www.edamam.com/ontologies/edamam.owl#Measure_gram', 'label': 'Gram'}, {'uri': 'http://www.edamam.com/ontologies/edamam.owl#Measure_round', 'label': 'Round'}, {'uri': 'http://www.edamam.com/ontologies/edamam.owl#Measure_cup', 'label': 'Cup', 'qualified': [[{'uri': 'http://www.edamam.com/ontologies/edamam.owl#Qualifier_melted', 'label': 'melted'}], [{'uri': 'http://www.edamam.com/ontologies/edamam.owl#Qualifier_sliced', 'label': 'sliced'}]]}, {'uri': 'http://www.edamam.com/ontologies/edamam.owl#Measure_package', 'label': 'Package'}, {'uri': 'http://www.edamam.com/ontologies/edamam.owl#Measure_piece', 'label': 'Piece'}, {'uri': 'http://www.edamam.com/ontologies/edamam.owl#Measure_serving', 'label': 'Serving'}, {'uri': 'http://www.edamam.com/ontologies/edamam.owl#Measure_kilogram', 'label': 'Kilogram'}, {'uri': 'http://www.edamam.com/ontologies/edamam.owl#Measure_cubic_inch', 'label': 'Cubic inch'}]}, {'food': {'foodId': 'food_bq1kaa2anb8wmsaj3in43bxxsjyh', 'uri': 'http://www.edamam.com/ontologies/edamam.owl#Food_01007', 'label': 'Cheese, Camembert', 'nutrients': {'ENERC_KCAL': 300.0, 'PROCNT': 19.8, 'FAT': 24.26, 'CHOCDF': 0.46, 'FIBTG': 0.0}, 'category': 'Generic foods', 'categoryLabel': 'food', 'image': 'https://www.edamam.com/food-img/419/419fc950e8f2a589a11d63efb28b8bef.jpg'}, 'measures': [{'uri': 'http://www.edamam.com/ontologies/edamam.owl#Measure_ounce', 'label': 'Ounce'}, {'uri': 'http://www.edamam.com/ontologies/edamam.owl#Measure_gram', 'label': 'Gram'}, {'uri': 'http://www.edamam.com/ontologies/edamam.owl#Measure_unit', 'label': 'Whole'}, {'uri': 'http://www.edamam.com/ontologies/edamam.owl#Measure_pound', 'label': 'Pound'}, {'uri': 'http://www.edamam.com/ontologies/edamam.owl#Measure_slice', 'label': 'Slice'}, {'uri': 'http://www.edamam.com/ontologies/edamam.owl#Measure_cup', 'label': 'Cup'}, {'uri': 'http://www.edamam.com/ontologies/edamam.owl#Measure_wedge', 'label': 'Wedge'}, {'uri': 'http://www.edamam.com/ontologies/edamam.owl#Measure_piece', 'label': 'Piece'}, {'uri': 'http://www.edamam.com/ontologies/edamam.owl#Measure_serving', 'label': 'Serving'}, {'uri': 'http://www.edamam.com/ontologies/edamam.owl#Measure_kilogram', 'label': 'Kilogram'}, {'uri': 'http://www.edamam.com/ontologies/edamam.owl#Measure_cubic_inch', 'label': 'Cubic inch'}]}, {'food': {'foodId': 'food_a8q8p7tahfewtuajrmgcrbpxtti8', 'uri': 'http://www.edamam.com/ontologies/edamam.owl#Food_01008', 'label': 'Cheese, Caraway', 'nutrients': {'ENERC_KCAL': 376.0, 'PROCNT': 25.18, 'FAT': 29.2, 'CHOCDF': 3.06, 'FIBTG': 0.0}, 'category': 'Generic foods', 'categoryLabel': 'food', 'image': 'https://www.edamam.com/food-img/541/541e46e44ba61aec8bcd599df94c0eed.jpg'}, 'measures': [{'uri': 'http://www.edamam.com/ontologies/edamam.owl#Measure_serving', 'label': 'Serving'}, {'uri': 'http://www.edamam.com/ontologies/edamam.owl#Measure_gram', 'label': 'Gram'}, {'uri': 'http://www.edamam.com/ontologies/edamam.owl#Measure_ounce', 'label': 'Ounce'}, {'uri': 'http://www.edamam.com/ontologies/edamam.owl#Measure_pound', 'label': 'Pound'}, {'uri': 'http://www.edamam.com/ontologies/edamam.owl#Measure_kilogram', 'label': 'Kilogram'}]}, {'food': {'foodId': 'food_a2b3q33bnje4iual2pba2at89tzi', 'uri': 'http://www.edamam.com/ontologies/edamam.owl#Food_01009', 'label': 'Cheese, Cheddar', 'nutrients': {'ENERC_KCAL': 406.0, 'PROCNT': 24.04, 'FAT': 33.82, 'CHOCDF': 1.33, 'FIBTG': 0.0}, 'category': 'Generic foods', 'categoryLabel': 'food'}, 'measures': [{'uri': 'http://www.edamam.com/ontologies/edamam.owl#Measure_cup', 'label': 'Cup', 'qualified': [[{'uri': 'http://www.edamam.com/ontologies/edamam.owl#Qualifier_diced', 'label': 'diced'}], [{'uri': 'http://www.edamam.com/ontologies/edamam.owl#Qualifier_shredded', 'label': 'shredded'}], [{'uri': 'http://www.edamam.com/ontologies/edamam.owl#Qualifier_melted', 'label': 'melted'}]]}, {'uri': 'http://www.edamam.com/ontologies/edamam.owl#Measure_ounce', 'label': 'Ounce'}, {'uri': 'http://www.edamam.com/ontologies/edamam.owl#Measure_slice', 'label': 'Slice'}, {'uri': 'http://www.edamam.com/ontologies/edamam.owl#Measure_gram', 'label': 'Gram'}, {'uri': 'http://www.edamam.com/ontologies/edamam.owl#Measure_pound', 'label': 'Pound'}, {'uri': 'http://www.edamam.com/ontologies/edamam.owl#Measure_unit', 'label': 'Whole'}, {'uri': 'http://www.edamam.com/ontologies/edamam.owl#Measure_package', 'label': 'Package'}, {'uri': 'http://www.edamam.com/ontologies/edamam.owl#Measure_block', 'label': 'Block'}, {'uri': 'http://www.edamam.com/ontologies/edamam.owl#Measure_piece', 'label': 'Piece'}, {'uri': 'http://www.edamam.com/ontologies/edamam.owl#Measure_chip', 'label': 'Chip'}, {'uri': 'http://www.edamam.com/ontologies/edamam.owl#Measure_kilogram', 'label': 'Kilogram'}, {'uri': 'http://www.edamam.com/ontologies/edamam.owl#Measure_serving', 'label': 'Serving'}, {'uri': 'http://www.edamam.com/ontologies/edamam.owl#Measure_cubic_inch', 'label': 'Cubic inch'}]}, {'food': {'foodId': 'food_b4g9w0dboo05sdaxwu1n9a3b4emv', 'uri': 'http://www.edamam.com/ontologies/edamam.owl#Food_01010', 'label': 'Cheese, Cheshire', 'nutrients': {'ENERC_KCAL': 387.0, 'PROCNT': 23.37, 'FAT': 30.6, 'CHOCDF': 4.78, 'FIBTG': 0.0}, 'category': 'Generic foods', 'categoryLabel': 'food', 'image': 'https://www.edamam.com/food-img/9e4/9e4ffc57473590221cb97ccf5354e42b.jpg'}, 'measures': [{'uri': 'http://www.edamam.com/ontologies/edamam.owl#Measure_gram', 'label': 'Gram'}, {'uri': 'http://www.edamam.com/ontologies/edamam.owl#Measure_ounce', 'label': 'Ounce'}, {'uri': 'http://www.edamam.com/ontologies/edamam.owl#Measure_serving', 'label': 'Serving'}, {'uri': 'http://www.edamam.com/ontologies/edamam.owl#Measure_pound', 'label': 'Pound'}, {'uri': 'http://www.edamam.com/ontologies/edamam.owl#Measure_kilogram', 'label': 'Kilogram'}]}, {'food': {'foodId': 'food_a5ylefeb5r30eibjj4mqubdc09z1', 'uri': 'http://www.edamam.com/ontologies/edamam.owl#Food_01011', 'label': 'Cheese, Colby', 'nutrients': {'ENERC_KCAL': 394.0, 'PROCNT': 23.76, 'FAT': 32.11, 'CHOCDF': 2.57, 'FIBTG': 0.0}, 'category': 'Generic foods', 'categoryLabel': 'food', 'image': 'https://www.edamam.com/food-img/a6a/a6a3cb346882b674c5b5086352644ec5.jpg'}, 'measures': [{'uri': 'http://www.edamam.com/ontologies/edamam.owl#Measure_cup', 'label': 'Cup', 'qualified': [[{'uri': 'http://www.edamam.com/ontologies/edamam.owl#Qualifier_shredded', 'label': 'shredded'}], [{'uri': 'http://www.edamam.com/ontologies/edamam.owl#Qualifier_diced', 'label': 'diced'}]]}, {'uri': 'http://www.edamam.com/ontologies/edamam.owl#Measure_ounce', 'label': 'Ounce'}, {'uri': 'http://www.edamam.com/ontologies/edamam.owl#Measure_slice', 'label': 'Slice'}, {'uri': 'http://www.edamam.com/ontologies/edamam.owl#Measure_pound', 'label': 'Pound'}, {'uri': 'http://www.edamam.com/ontologies/edamam.owl#Measure_unit', 'label': 'Whole'}, {'uri': 'http://www.edamam.com/ontologies/edamam.owl#Measure_gram', 'label': 'Gram'}, {'uri': 'http://www.edamam.com/ontologies/edamam.owl#Measure_kilogram', 'label': 'Kilogram'}, {'uri': 'http://www.edamam.com/ontologies/edamam.owl#Measure_cubic_inch', 'label': 'Cubic inch'}]}, {'food': {'foodId': 'food_abw09jebwny3g6bb7jvn0bbalare', 'uri': 'http://www.edamam.com/ontologies/edamam.owl#Food_01012', 'label': 'Cheese, Cottage, Creamed, Large or Small Curd', 'nutrients': {'ENERC_KCAL': 98.0, 'PROCNT': 11.12, 'FAT': 4.3, 'CHOCDF': 3.38, 'FIBTG': 0.0}, 'category': 'Generic foods', 'categoryLabel': 'food', 'image': 'https://www.edamam.com/food-img/8ee/8ee7b75071fc907cce2819031a9ae563.jpg'}, 'measures': [{'uri': 'http://www.edamam.com/ontologies/edamam.owl#Measure_cup', 'label': 'Cup', 'qualified': [[{'uri': 'http://www.edamam.com/ontologies/edamam.owl#Qualifier_large', 'label': 'large'}], [{'uri': 'http://www.edamam.com/ontologies/edamam.owl#Qualifier_small', 'label': 'small'}]]}, {'uri': 'http://www.edamam.com/ontologies/edamam.owl#Measure_ounce', 'label': 'Ounce'}, {'uri': 'http://www.edamam.com/ontologies/edamam.owl#Measure_gram', 'label': 'Gram'}, {'uri': 'http://www.edamam.com/ontologies/edamam.owl#Measure_tablespoon', 'label': 'Tablespoon'}, {'uri': 'http://www.edamam.com/ontologies/edamam.owl#Measure_pound', 'label': 'Pound'}, {'uri': 'http://www.edamam.com/ontologies/edamam.owl#Measure_kilogram', 'label': 'Kilogram'}, {'uri': 'http://www.edamam.com/ontologies/edamam.owl#Measure_serving', 'label': 'Serving'}]}, {'food': {'foodId': 'food_apqi15daozoc8oacpl41rallrou9', 'uri': 'http://www.edamam.com/ontologies/edamam.owl#Food_01013', 'label': 'Cheese, Cottage, Creamed, With Fruit', 'nutrients': {'ENERC_KCAL': 97.0, 'PROCNT': 10.69, 'FAT': 3.85, 'CHOCDF': 4.61, 'FIBTG': 0.2}, 'category': 'Generic foods', 'categoryLabel': 'food', 'image': 'https://www.edamam.com/food-img/6a3/6a34798287bc5e41e2328a5973695f38.jpg'}, 'measures': [{'uri': 'http://www.edamam.com/ontologies/edamam.owl#Measure_gram', 'label': 'Gram'}, {'uri': 'http://www.edamam.com/ontologies/edamam.owl#Measure_ounce', 'label': 'Ounce'}, {'uri': 'http://www.edamam.com/ontologies/edamam.owl#Measure_pound', 'label': 'Pound'}, {'uri': 'http://www.edamam.com/ontologies/edamam.owl#Measure_kilogram', 'label': 'Kilogram'}, {'uri': 'http://www.edamam.com/ontologies/edamam.owl#Measure_cup', 'label': 'Cup'}]}, {'food': {'foodId': 'food_b0nmp6gaermj0aad3mf7iararumu', 'uri': 'http://www.edamam.com/ontologies/edamam.owl#Food_01014', 'label': 'Cheese, Cottage, Nonfat, Uncreamed, Dry, Large or Small Curd', 'nutrients': {'ENERC_KCAL': 72.0, 'PROCNT': 10.34, 'FAT': 0.29, 'CHOCDF': 6.66, 'FIBTG': 0.0}, 'category': 'Generic foods', 'categoryLabel': 'food', 'image': 'https://www.edamam.com/food-img/f28/f28c23a0ce83d037a5c27401e4ce41e9.jpg'}, 'measures': [{'uri': 'http://www.edamam.com/ontologies/edamam.owl#Measure_cup', 'label': 'Cup'}, {'uri': 'http://www.edamam.com/ontologies/edamam.owl#Measure_ounce', 'label': 'Ounce'}, {'uri': 'http://www.edamam.com/ontologies/edamam.owl#Measure_serving', 'label': 'Serving'}, {'uri': 'http://www.edamam.com/ontologies/edamam.owl#Measure_gram', 'label': 'Gram'}, {'uri': 'http://www.edamam.com/ontologies/edamam.owl#Measure_pound', 'label': 'Pound'}, {'uri': 'http://www.edamam.com/ontologies/edamam.owl#Measure_kilogram', 'label': 'Kilogram'}, {'uri': 'http://www.edamam.com/ontologies/edamam.owl#Measure_tablespoon', 'label': 'Tablespoon'}]}, {'food': {'foodId': 'food_a78om83aro60t5a4wpm8hbf3239s', 'uri': 'http://www.edamam.com/ontologies/edamam.owl#Food_01015', 'label': 'Cheese, Cottage, Lowfat, 2% Milkfat', 'nutrients': {'ENERC_KCAL': 81.0, 'PROCNT': 10.45, 'FAT': 2.27, 'CHOCDF': 4.76, 'FIBTG': 0.0}, 'category': 'Generic foods', 'categoryLabel': 'food', 'image': 'https://www.edamam.com/food-img/046/046c46348bde2b7af7da40196a1c942e.jpg'}, 'measures': [{'uri': 'http://www.edamam.com/ontologies/edamam.owl#Measure_cup', 'label': 'Cup'}, {'uri': 'http://www.edamam.com/ontologies/edamam.owl#Measure_ounce', 'label': 'Ounce'}, {'uri': 'http://www.edamam.com/ontologies/edamam.owl#Measure_tablespoon', 'label': 'Tablespoon'}, {'uri': 'http://www.edamam.com/ontologies/edamam.owl#Measure_gram', 'label': 'Gram'}, {'uri': 'http://www.edamam.com/ontologies/edamam.owl#Measure_pound', 'label': 'Pound'}, {'uri': 'http://www.edamam.com/ontologies/edamam.owl#Measure_serving', 'label': 'Serving'}, {'uri': 'http://www.edamam.com/ontologies/edamam.owl#Measure_kilogram', 'label': 'Kilogram'}]}, {'food': {'foodId': 'food_bowtx9kb5cpt8yb6qswcga80ycli', 'uri': 'http://www.edamam.com/ontologies/edamam.owl#Food_01016', 'label': 'Cheese, Cottage, Lowfat, 1% Milkfat', 'nutrients': {'ENERC_KCAL': 72.0, 'PROCNT': 12.39, 'FAT': 1.02, 'CHOCDF': 2.72, 'FIBTG': 0.0}, 'category': 'Generic foods', 'categoryLabel': 'food', 'image': 'https://www.edamam.com/food-img/c18/c18b96dafd232cbddb9bbb05c2ab8e3b.jpg'}, 'measures': [{'uri': 'http://www.edamam.com/ontologies/edamam.owl#Measure_cup', 'label': 'Cup'}, {'uri': 'http://www.edamam.com/ontologies/edamam.owl#Measure_ounce', 'label': 'Ounce'}, {'uri': 'http://www.edamam.com/ontologies/edamam.owl#Measure_gram', 'label': 'Gram'}, {'uri': 'http://www.edamam.com/ontologies/edamam.owl#Measure_pound', 'label': 'Pound'}, {'uri': 'http://www.edamam.com/ontologies/edamam.owl#Measure_kilogram', 'label': 'Kilogram'}, {'uri': 'http://www.edamam.com/ontologies/edamam.owl#Measure_tablespoon', 'label': 'Tablespoon'}]}, {'food': {'foodId': 'food_a5oa9cnaawyx9uang44bka8467or', 'uri': 'http://www.edamam.com/ontologies/edamam.owl#Food_01017', 'label': 'Cheese, Cream', 'nutrients': {'ENERC_KCAL': 342.0, 'PROCNT': 5.93, 'FAT': 34.24, 'CHOCDF': 4.07, 'FIBTG': 0.0}, 'category': 'Generic foods', 'categoryLabel': 'food', 'image': 'https://www.edamam.com/food-img/ddd/dddce306e7ee41e8e07dc62e28cab94b.jpg'}, 'measures': [{'uri': 'http://www.edamam.com/ontologies/edamam.owl#Measure_ounce', 'label': 'Ounce'}, {'uri': 'http://www.edamam.com/ontologies/edamam.owl#Measure_cup', 'label': 'Cup'}, {'uri': 'http://www.edamam.com/ontologies/edamam.owl#Measure_unit', 'label': 'Whole', 'qualified': [[{'uri': 'http://www.edamam.com/ontologies/edamam.owl#Qualifier_small', 'label': 'small'}]]}, {'uri': 'http://www.edamam.com/ontologies/edamam.owl#Measure_gram', 'label': 'Gram'}, {'uri': 'http://www.edamam.com/ontologies/edamam.owl#Measure_tablespoon', 'label': 'Tablespoon', 'qualified': [[{'uri': 'http://www.edamam.com/ontologies/edamam.owl#LanguaL_H0358', 'label': 'AERATED BY WHIPPING'}]]}, {'uri': 'http://www.edamam.com/ontologies/edamam.owl#Measure_pound', 'label': 'Pound'}, {'uri': 'http://www.edamam.com/ontologies/edamam.owl#Measure_package', 'label': 'Package', 'qualified': [[{'uri': 'http://www.edamam.com/ontologies/edamam.owl#Qualifier_small', 'label': 'small'}]]}, {'uri': 'http://www.edamam.com/ontologies/edamam.owl#Measure_kilogram', 'label': 'Kilogram'}, {'uri': 'http://www.edamam.com/ontologies/edamam.owl#Measure_serving', 'label': 'Serving'}, {'uri': 'http://www.edamam.com/ontologies/edamam.owl#Measure_slab', 'label': 'Slab'}, {'uri': 'http://www.edamam.com/ontologies/edamam.owl#Measure_cubic_inch', 'label': 'Cubic inch'}]}, {'food': {'foodId': 'food_ax6ocbjas0levpb3nl0n7auzwy0i', 'uri': 'http://www.edamam.com/ontologies/edamam.owl#Food_01018', 'label': 'Cheese, Edam', 'nutrients': {'ENERC_KCAL': 357.0, 'PROCNT': 24.99, 'FAT': 27.8, 'CHOCDF': 1.43, 'FIBTG': 0.0}, 'category': 'Generic foods', 'categoryLabel': 'food', 'image': 'https://www.edamam.com/food-img/2df/2dfa711cc6aff6e4d3bfefb4814f4cb4.jpg'}, 'measures': [{'uri': 'http://www.edamam.com/ontologies/edamam.owl#Measure_gram', 'label': 'Gram'}, {'uri': 'http://www.edamam.com/ontologies/edamam.owl#Measure_ounce', 'label': 'Ounce'}, {'uri': 'http://www.edamam.com/ontologies/edamam.owl#Measure_serving', 'label': 'Serving'}, {'uri': 'http://www.edamam.com/ontologies/edamam.owl#Measure_package', 'label': 'Package'}, {'uri': 'http://www.edamam.com/ontologies/edamam.owl#Measure_pound', 'label': 'Pound'}, {'uri': 'http://www.edamam.com/ontologies/edamam.owl#Measure_kilogram', 'label': 'Kilogram'}]}, {'food': {'foodId': 'food_ba6vmpsbtteeyabi8t2i8bwzl13d', 'uri': 'http://www.edamam.com/ontologies/edamam.owl#Food_01019', 'label': 'Cheese, Feta', 'nutrients': {'ENERC_KCAL': 264.0, 'PROCNT': 14.21, 'FAT': 21.28, 'CHOCDF': 4.09, 'FIBTG': 0.0}, 'category': 'Generic foods', 'categoryLabel': 'food', 'image': 'https://www.edamam.com/food-img/37e/37ef3e404b1c02bf4707cb82010732b8.jpg'}, 'measures': [{'uri': 'http://www.edamam.com/ontologies/edamam.owl#Measure_cup', 'label': 'Cup', 'qualified': [[{'uri': 'http://www.edamam.com/ontologies/edamam.owl#Qualifier_crumbled', 'label': 'crumbled'}]]}, {'uri': 'http://www.edamam.com/ontologies/edamam.owl#Measure_ounce', 'label': 'Ounce'}, {'uri': 'http://www.edamam.com/ontologies/edamam.owl#Measure_gram', 'label': 'Gram'}, {'uri': 'http://www.edamam.com/ontologies/edamam.owl#Measure_pound', 'label': 'Pound'}, {'uri': 'http://www.edamam.com/ontologies/edamam.owl#Measure_unit', 'label': 'Whole'}, {'uri': 'http://www.edamam.com/ontologies/edamam.owl#Measure_slice', 'label': 'Slice'}, {'uri': 'http://www.edamam.com/ontologies/edamam.owl#Measure_package', 'label': 'Package'}, {'uri': 'http://www.edamam.com/ontologies/edamam.owl#Measure_cube', 'label': 'Cube'}, {'uri': 'http://www.edamam.com/ontologies/edamam.owl#Measure_piece', 'label': 'Piece'}, {'uri': 'http://www.edamam.com/ontologies/edamam.owl#Measure_kilogram', 'label': 'Kilogram'}, {'uri': 'http://www.edamam.com/ontologies/edamam.owl#Measure_serving', 'label': 'Serving'}, {'uri': 'http://www.edamam.com/ontologies/edamam.owl#Measure_wedge', 'label': 'Wedge'}, {'uri': 'http://www.edamam.com/ontologies/edamam.owl#Measure_cubic_inch', 'label': 'Cubic inch'}]}, {'food': {'foodId': 'food_a9n6dlcb168fzqb5qrkp9a7oy4jp', 'uri': 'http://www.edamam.com/ontologies/edamam.owl#Food_01020', 'label': 'Cheese, Fontina', 'nutrients': {'ENERC_KCAL': 389.0, 'PROCNT': 25.6, 'FAT': 31.14, 'CHOCDF': 1.55, 'FIBTG': 0.0}, 'category': 'Generic foods', 'categoryLabel': 'food', 'image': 'https://www.edamam.com/food-img/0ac/0acf62d2ccdf71b1c03e13115f6cc002.jpg'}, 'measures': [{'uri': 'http://www.edamam.com/ontologies/edamam.owl#Measure_cup', 'label': 'Cup', 'qualified': [[{'uri': 'http://www.edamam.com/ontologies/edamam.owl#Qualifier_diced', 'label': 'diced'}], [{'uri': 'http://www.edamam.com/ontologies/edamam.owl#Qualifier_shredded', 'label': 'shredded'}]]}, {'uri': 'http://www.edamam.com/ontologies/edamam.owl#Measure_ounce', 'label': 'Ounce'}, {'uri': 'http://www.edamam.com/ontologies/edamam.owl#Measure_pound', 'label': 'Pound'}, {'uri': 'http://www.edamam.com/ontologies/edamam.owl#Measure_slice', 'label': 'Slice'}, {'uri': 'http://www.edamam.com/ontologies/edamam.owl#Measure_gram', 'label': 'Gram'}, {'uri': 'http://www.edamam.com/ontologies/edamam.owl#Measure_unit', 'label': 'Whole'}, {'uri': 'http://www.edamam.com/ontologies/edamam.owl#Measure_cube', 'label': 'Cube'}, {'uri': 'http://www.edamam.com/ontologies/edamam.owl#Measure_piece', 'label': 'Piece'}, {'uri': 'http://www.edamam.com/ontologies/edamam.owl#Measure_serving', 'label': 'Serving'}, {'uri': 'http://www.edamam.com/ontologies/edamam.owl#Measure_round', 'label': 'Round'}, {'uri': 'http://www.edamam.com/ontologies/edamam.owl#Measure_package', 'label': 'Package'}, {'uri': 'http://www.edamam.com/ontologies/edamam.owl#Measure_kilogram', 'label': 'Kilogram'}, {'uri': 'http://www.edamam.com/ontologies/edamam.owl#Measure_cubic_inch', 'label': 'Cubic inch'}]}], '_links': {'next': {'title': 'Next page', 'href': 'https://api.edamam.com/api/food-database/parser?session=40&app_id=85b409cf&app_key=69d004c3e3c5b967261e625baea627fc'}}}\n"
     ]
    }
   ],
   "source": [
    "import pandas as pd\n",
    "import requests\n",
    "\n",
    "# GET code\n",
    "url = \"https://edamam-food-and-grocery-database.p.rapidapi.com/parser\"\n",
    "\n",
    "headers = {\n",
    "\t\"X-RapidAPI-Key\": \"f9dc4c060fmsh192fef0e86699c6p109981jsn882369c51285\",\n",
    "\t\"X-RapidAPI-Host\": \"edamam-food-and-grocery-database.p.rapidapi.com\"\n",
    "}\n",
    "\n",
    "response = requests.request(\"GET\", url, headers=headers)\n",
    "json = response.json()\n",
    "#nutrients = json['parsed'][0]['food']['nutrients']\n",
    "#fooddf = pd.DataFrame(json[1]['nutrients'])\n",
    "\n",
    "#print(fooddf)\n",
    "print(json)"
   ]
  },
  {
   "cell_type": "markdown",
   "metadata": {},
   "source": [
    "## Hack Helpers\n",
    "> Here is how Mort started on this assignment by asking ChatGPT  ... Regarding Python Pandas, what are some data sets that would be good for learning Pandas?\n",
    "\n",
    "- There are many data sets that are suitable for learning pandas, depending on your interests and the skills you want to develop. \n",
    "\n",
    "    Here are some suggestions...\n",
    "\n",
    "    - Titanic Dataset: This is a classic dataset for data analysis and machine learning, and is often used as an introduction to pandas. The dataset contains information about passengers on the Titanic, including their demographics, ticket class, and survival status.\n",
    "\n",
    "    - Iris Dataset: This is another classic dataset that is often used in machine learning and data analysis courses. The dataset contains information about iris flowers, including their sepal length, sepal width, petal length, and petal width.\n",
    "\n",
    "    - NBA Player Stats: This dataset contains information about NBA players, including their stats for various games, their positions, and their salaries. It is a great dataset for learning how to clean and manipulate data using pandas.\n",
    "\n",
    "    - Housing Prices Dataset: This dataset contains information about housing prices in a particular city or region, including variables such as the number of bedrooms, square footage, and price. It is a great dataset for learning how to manipulate and analyze numerical data using pandas.\n",
    "\n",
    "    - COVID-19 Dataset: This dataset contains information about the COVID-19 pandemic, including the number of cases, deaths, and recoveries in various countries and regions. It is a great dataset for learning how to manipulate and analyze time-series data using pandas.\n",
    "\n",
    "    - World Bank Dataset: This dataset contains information about economic indicators from various countries, such as GDP, population, and poverty rates. It is a great dataset for learning how to manipulate and analyze large datasets using pandas.\n",
    "\n",
    "\n",
    "- These are just a few examples of the many datasets that are suitable for learning pandas. The best dataset for you will depend on your interests and the specific skills you want to develop.\n",
    "\n",
    "\n",
    "> Follow up question, \"where can I find Titanic data set?\"\n",
    "\n",
    "- The Titanic dataset is a popular dataset for data analysis and machine learning, and it can be found on various websites and data repositories. Here are a few places where you can find the Titanic dataset...\n",
    "\n",
    "    - Kaggle: The Titanic dataset is available on Kaggle, which is a popular platform for data scientists and machine learning enthusiasts. You can download the dataset from the Kaggle website after creating an account.\n",
    "\n",
    "    - UCI Machine Learning Repository: The Titanic dataset is also available on the UCI Machine Learning Repository, which is a collection of datasets that are commonly used for machine learning research. You can download the dataset from the UCI Machine Learning Repository website.\n",
    "\n",
    "    - Seaborn library: If you have the Seaborn library installed in your Python environment, you can load the Titanic dataset directly from the library using the following code:\n",
    "\n",
    "    ```python\n",
    "    import seaborn as sns\n",
    "    titanic_data = sns.load_dataset('titanic')\n",
    "    ```"
   ]
  },
  {
   "attachments": {},
   "cell_type": "markdown",
   "metadata": {},
   "source": [
    "### Titanic Data\n",
    "> Look at a sample of data."
   ]
  },
  {
   "cell_type": "code",
   "execution_count": 15,
   "metadata": {},
   "outputs": [
    {
     "name": "stderr",
     "output_type": "stream",
     "text": [
      "Matplotlib is building the font cache; this may take a moment.\n",
      "Fontconfig warning: ignoring UTF-8: not a valid region tag\n"
     ]
    },
    {
     "name": "stdout",
     "output_type": "stream",
     "text": [
      "Titanic Data\n",
      "Index(['survived', 'pclass', 'sex', 'age', 'sibsp', 'parch', 'fare',\n",
      "       'embarked', 'class', 'who', 'adult_male', 'deck', 'embark_town',\n",
      "       'alive', 'alone'],\n",
      "      dtype='object')\n",
      "     survived  pclass     sex   age  sibsp  parch   class     fare  \\\n",
      "0           0       3    male  22.0      1      0   Third   7.2500   \n",
      "1           1       1  female  38.0      1      0   First  71.2833   \n",
      "2           1       3  female  26.0      0      0   Third   7.9250   \n",
      "3           1       1  female  35.0      1      0   First  53.1000   \n",
      "4           0       3    male  35.0      0      0   Third   8.0500   \n",
      "..        ...     ...     ...   ...    ...    ...     ...      ...   \n",
      "886         0       2    male  27.0      0      0  Second  13.0000   \n",
      "887         1       1  female  19.0      0      0   First  30.0000   \n",
      "888         0       3  female   NaN      1      2   Third  23.4500   \n",
      "889         1       1    male  26.0      0      0   First  30.0000   \n",
      "890         0       3    male  32.0      0      0   Third   7.7500   \n",
      "\n",
      "     embark_town  \n",
      "0    Southampton  \n",
      "1      Cherbourg  \n",
      "2    Southampton  \n",
      "3    Southampton  \n",
      "4    Southampton  \n",
      "..           ...  \n",
      "886  Southampton  \n",
      "887  Southampton  \n",
      "888  Southampton  \n",
      "889    Cherbourg  \n",
      "890   Queenstown  \n",
      "\n",
      "[891 rows x 9 columns]\n"
     ]
    }
   ],
   "source": [
    "import seaborn as sns\n",
    "\n",
    "# Load the titanic dataset\n",
    "titanic_data = sns.load_dataset('titanic')\n",
    "\n",
    "print(\"Titanic Data\")\n",
    "\n",
    "\n",
    "print(titanic_data.columns) # titanic data set\n",
    "\n",
    "print(titanic_data[['survived','pclass', 'sex', 'age', 'sibsp', 'parch', 'class', 'fare', 'embark_town']]) # look at selected columns"
   ]
  },
  {
   "attachments": {},
   "cell_type": "markdown",
   "metadata": {},
   "source": [
    "> Use Pandas to clean the data.  Most analysis, like Machine Learning or even Pandas in general like data to be in standardized format.  This is called 'Training' or 'Cleaning' data."
   ]
  },
  {
   "cell_type": "code",
   "execution_count": 21,
   "metadata": {},
   "outputs": [
    {
     "name": "stdout",
     "output_type": "stream",
     "text": [
      "     survived  pclass  sex   age  sibsp  parch      fare  alone  embarked_C  \\\n",
      "0           0       3    1  22.0      1      0    7.2500      0         0.0   \n",
      "1           1       1    0  38.0      1      0   71.2833      0         1.0   \n",
      "2           1       3    0  26.0      0      0    7.9250      1         0.0   \n",
      "3           1       1    0  35.0      1      0   53.1000      0         0.0   \n",
      "4           0       3    1  35.0      0      0    8.0500      1         0.0   \n",
      "..        ...     ...  ...   ...    ...    ...       ...    ...         ...   \n",
      "705         0       2    1  39.0      0      0   26.0000      1         0.0   \n",
      "706         1       2    0  45.0      0      0   13.5000      1         0.0   \n",
      "707         1       1    1  42.0      0      0   26.2875      1         0.0   \n",
      "708         1       1    0  22.0      0      0  151.5500      1         0.0   \n",
      "710         1       1    0  24.0      0      0   49.5042      1         1.0   \n",
      "\n",
      "     embarked_Q  embarked_S  \n",
      "0           0.0         1.0  \n",
      "1           0.0         0.0  \n",
      "2           0.0         1.0  \n",
      "3           0.0         1.0  \n",
      "4           0.0         1.0  \n",
      "..          ...         ...  \n",
      "705         0.0         1.0  \n",
      "706         0.0         1.0  \n",
      "707         1.0         0.0  \n",
      "708         0.0         1.0  \n",
      "710         0.0         0.0  \n",
      "\n",
      "[564 rows x 11 columns]\n"
     ]
    }
   ],
   "source": [
    "\n",
    "# Preprocess the data\n",
    "from sklearn.preprocessing import OneHotEncoder\n",
    "\n",
    "\n",
    "td = titanic_data\n",
    "td.drop(['alive', 'who', 'adult_male', 'class', 'embark_town', 'deck'], axis=1, inplace=True)\n",
    "td.dropna(inplace=True)\n",
    "td['sex'] = td['sex'].apply(lambda x: 1 if x == 'male' else 0)\n",
    "td['alone'] = td['alone'].apply(lambda x: 1 if x == True else 0)\n",
    "\n",
    "# Encode categorical variables\n",
    "enc = OneHotEncoder(handle_unknown='ignore')\n",
    "enc.fit(td[['embarked']])\n",
    "onehot = enc.transform(td[['embarked']]).toarray()\n",
    "cols = ['embarked_' + val for val in enc.categories_[0]]\n",
    "td[cols] = pd.DataFrame(onehot)\n",
    "td.drop(['embarked'], axis=1, inplace=True)\n",
    "td.dropna(inplace=True)\n",
    "\n",
    "print(td)"
   ]
  },
  {
   "attachments": {},
   "cell_type": "markdown",
   "metadata": {},
   "source": [
    "> The result of 'Training' data is making it easier to analyze or make conclusions.  In looking at the Titanic, as you clean you would probably want to make assumptions on likely chance of survival.\n",
    "\n",
    "This would involve analyzing various factors (such as age, gender, class, etc.) that may have affected a person's chances of survival, and using that information to make predictions about whether an individual would have survived or not. \n",
    "\n",
    "- Data description:\n",
    "    - Survival - Survival (0 = No; 1 = Yes). Not included in test.csv file.\n",
    "    - Pclass - Passenger Class (1 = 1st; 2 = 2nd; 3 = 3rd)\n",
    "    - Name - Name\n",
    "    - Sex - Sex\n",
    "    - Age - Age\n",
    "    - Sibsp - Number of Siblings/Spouses Aboard\n",
    "    - Parch - Number of Parents/Children Aboard\n",
    "    - Ticket - Ticket Number\n",
    "    - Fare - Passenger Fare\n",
    "    - Cabin - Cabin\n",
    "    - Embarked - Port of Embarkation (C = Cherbourg; Q = Queenstown; S = Southampton)\n",
    "\n",
    "- Perished Mean/Average"
   ]
  },
  {
   "cell_type": "code",
   "execution_count": 22,
   "metadata": {},
   "outputs": [
    {
     "name": "stdout",
     "output_type": "stream",
     "text": [
      "survived       0.000000\n",
      "pclass         2.464072\n",
      "sex            0.844311\n",
      "age           31.073353\n",
      "sibsp          0.562874\n",
      "parch          0.398204\n",
      "fare          24.835902\n",
      "alone          0.616766\n",
      "embarked_C     0.185629\n",
      "embarked_Q     0.038922\n",
      "embarked_S     0.775449\n",
      "dtype: float64\n"
     ]
    }
   ],
   "source": [
    "print(titanic_data.query(\"survived == 0\").mean())"
   ]
  },
  {
   "attachments": {},
   "cell_type": "markdown",
   "metadata": {},
   "source": [
    "- Survived Mean/Average"
   ]
  },
  {
   "cell_type": "code",
   "execution_count": 15,
   "metadata": {},
   "outputs": [
    {
     "name": "stdout",
     "output_type": "stream",
     "text": [
      "survived       1.000000\n",
      "pclass         1.878261\n",
      "sex            0.326087\n",
      "age           28.481522\n",
      "sibsp          0.504348\n",
      "parch          0.508696\n",
      "fare          50.188806\n",
      "alone          0.456522\n",
      "embarked_C     0.152174\n",
      "embarked_Q     0.034783\n",
      "embarked_S     0.813043\n",
      "dtype: float64\n"
     ]
    }
   ],
   "source": [
    "print(td.query(\"survived == 1\").mean())"
   ]
  },
  {
   "attachments": {},
   "cell_type": "markdown",
   "metadata": {},
   "source": [
    "> Survived Max and Min Stats"
   ]
  },
  {
   "cell_type": "code",
   "execution_count": 23,
   "metadata": {},
   "outputs": [
    {
     "name": "stdout",
     "output_type": "stream",
     "text": [
      "survived        1.0000\n",
      "pclass          3.0000\n",
      "sex             1.0000\n",
      "age            80.0000\n",
      "sibsp           4.0000\n",
      "parch           5.0000\n",
      "fare          512.3292\n",
      "alone           1.0000\n",
      "embarked_C      1.0000\n",
      "embarked_Q      1.0000\n",
      "embarked_S      1.0000\n",
      "dtype: float64\n",
      "survived      1.00\n",
      "pclass        1.00\n",
      "sex           0.00\n",
      "age           0.75\n",
      "sibsp         0.00\n",
      "parch         0.00\n",
      "fare          0.00\n",
      "alone         0.00\n",
      "embarked_C    0.00\n",
      "embarked_Q    0.00\n",
      "embarked_S    0.00\n",
      "dtype: float64\n"
     ]
    }
   ],
   "source": [
    "print(td.query(\"survived == 1\").max())\n",
    "print(td.query(\"survived == 1\").min())"
   ]
  },
  {
   "attachments": {},
   "cell_type": "markdown",
   "metadata": {},
   "source": [
    "## Machine Learning <a href=\"https://www.tutorialspoint.com/scikit_learn/scikit_learn_introduction.htm#:~:text=Scikit%2Dlearn%20(Sklearn)%20is,a%20consistence%20interface%20in%20Python\">Visit Tutorials Point</a>\n",
    "> Scikit-learn (Sklearn) is the most useful and robust library for machine learning in Python. It provides a selection of efficient tools for machine learning and statistical modeling including classification, regression, clustering and dimensionality reduction via a consistence interface in Python.\n",
    "\n",
    "- Description from ChatGPT. The Titanic dataset is a popular dataset for data analysis and machine learning. In the context of machine learning, accuracy refers to the percentage of correctly classified instances in a set of predictions. In this case, the testing data is a subset of the original Titanic dataset that the decision tree model has not seen during training......After training the decision tree model on the training data, we can evaluate its performance on the testing data by making predictions on the testing data and comparing them to the actual outcomes. The accuracy of the decision tree classifier on the testing data tells us how well the model generalizes to new data that it hasn't seen before......For example, if the accuracy of the decision tree classifier on the testing data is 0.8 (or 80%), this means that 80% of the predictions made by the model on the testing data were correct....Chance of survival could be done using various machine learning techniques, including decision trees, logistic regression, or support vector machines, among others.\n",
    "\n",
    "- Code Below prepares data for further analysis and provides an Accuracy.  IMO, you would insert a new passenger and predict survival.  Datasets could be used on various factors like prediction if a player will hit a Home Run, or a Stock will go up or down.\n",
    "    - [Decision Trees](https://scikit-learn.org/stable/modules/tree.html#tree), prediction by a piecewise constant approximation.\n",
    "    \n",
    "    - [Logistic Regression](https://scikit-learn.org/stable/modules/linear_model.html#logistic-regression), the probabilities describing the possible outcomes."
   ]
  },
  {
   "cell_type": "code",
   "execution_count": 25,
   "metadata": {},
   "outputs": [
    {
     "name": "stdout",
     "output_type": "stream",
     "text": [
      "DecisionTreeClassifier Accuracy: 0.7647058823529411\n",
      "LogisticRegression Accuracy: 0.788235294117647\n"
     ]
    },
    {
     "name": "stderr",
     "output_type": "stream",
     "text": [
      "/Users/mister_dew/opt/anaconda3/lib/python3.9/site-packages/sklearn/linear_model/_logistic.py:814: ConvergenceWarning: lbfgs failed to converge (status=1):\n",
      "STOP: TOTAL NO. of ITERATIONS REACHED LIMIT.\n",
      "\n",
      "Increase the number of iterations (max_iter) or scale the data as shown in:\n",
      "    https://scikit-learn.org/stable/modules/preprocessing.html\n",
      "Please also refer to the documentation for alternative solver options:\n",
      "    https://scikit-learn.org/stable/modules/linear_model.html#logistic-regression\n",
      "  n_iter_i = _check_optimize_result(\n"
     ]
    }
   ],
   "source": [
    "from sklearn.model_selection import train_test_split\n",
    "from sklearn.tree import DecisionTreeClassifier\n",
    "from sklearn.linear_model import LogisticRegression\n",
    "from sklearn.metrics import accuracy_score\n",
    "\n",
    "# Split arrays or matrices into random train and test subsets.\n",
    "X = td.drop('survived', axis=1)\n",
    "y = td['survived']\n",
    "X_train, X_test, y_train, y_test = train_test_split(X, y, test_size=0.3, random_state=42)\n",
    "\n",
    "# Train a decision tree classifier\n",
    "dt = DecisionTreeClassifier()\n",
    "dt.fit(X_train, y_train)\n",
    "\n",
    "# Test the model\n",
    "y_pred = dt.predict(X_test)\n",
    "accuracy = accuracy_score(y_test, y_pred)\n",
    "print('DecisionTreeClassifier Accuracy:', accuracy)\n",
    "\n",
    "# Train a logistic regression model\n",
    "logreg = LogisticRegression()\n",
    "logreg.fit(X_train, y_train)\n",
    "\n",
    "# Test the model\n",
    "y_pred = logreg.predict(X_test)\n",
    "accuracy = accuracy_score(y_test, y_pred)\n",
    "print('LogisticRegression Accuracy:', accuracy)\n",
    "\n"
   ]
  }
 ],
 "metadata": {
  "kernelspec": {
   "display_name": "Python 3.9.12 ('base')",
   "language": "python",
   "name": "python3"
  },
  "language_info": {
   "codemirror_mode": {
    "name": "ipython",
    "version": 3
   },
   "file_extension": ".py",
   "mimetype": "text/x-python",
   "name": "python",
   "nbconvert_exporter": "python",
   "pygments_lexer": "ipython3",
   "version": "3.9.12"
  },
  "orig_nbformat": 4,
  "vscode": {
   "interpreter": {
    "hash": "56f7c0ddbd8295fccb7b65a09bceb7bda050a1a7ed2857cec799e2d3d977289f"
   }
  }
 },
 "nbformat": 4,
 "nbformat_minor": 2
}
