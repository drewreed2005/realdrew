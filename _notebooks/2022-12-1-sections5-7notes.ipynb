{
 "cells": [
  {
   "cell_type": "markdown",
   "metadata": {},
   "source": [
    "# Sections 5-7 (Boolean Expressions, Conditionals, Nested Conditionals) Notes\n",
    "> Based on the notebooks template by Ryan, Lucas, Haoxuan and Shivansh.\n",
    "- title: Boolean Expressions, Conditionals and Nested Conditionals Lesson Notes\n",
    "- toc: true\n",
    "- permalink: /sections5-7notes/\n",
    "- categories: [Student Teaching]"
   ]
  },
  {
   "cell_type": "markdown",
   "metadata": {},
   "source": [
    "## 3.5 Boolean Expresssions\n",
    "\n",
    "Boolean expressions have two states, \"True\" and \"False\" (basically \"1\" and \"0\").\n",
    "\n",
    "### Rational Operators\n",
    "\n",
    "Operators `==`, `!=`, `>`, `<`, `>=`, and `<=` are used to compare values. They can return true of false depending on the statement. They work with both integers and strings."
   ]
  },
  {
   "cell_type": "code",
   "execution_count": 4,
   "metadata": {},
   "outputs": [
    {
     "name": "stdout",
     "output_type": "stream",
     "text": [
      "True: True\n",
      "True: True\n",
      "False: False\n",
      "True: True\n",
      "False: False\n",
      "True: True\n",
      "\n",
      "True: True\n",
      "False False\n",
      "False: False\n",
      "True: True\n",
      "False: False\n",
      "True: True\n"
     ]
    }
   ],
   "source": [
    "print(\"True:\", 4 == 4)\n",
    "print(\"True:\",1 > 0)\n",
    "print(\"False:\",7 < 3)\n",
    "print(\"True:\", 5 < 6)\n",
    "print(\"False:\",7 > 8)\n",
    "print(\"True:\",3 == 3)\n",
    "print('')\n",
    "\n",
    "# Same as above, but now for other values other than int\n",
    "print('True:',\"as\" == \"as\")\n",
    "print(\"False\",True == False)\n",
    "print(\"False:\",[2,3,1] != [2,3,1])\n",
    "print(\"True:\",'af' < 'bc')\n",
    "print(\"False:\",'ce' > 'cf')\n",
    "print(\"True:\",[1,'b'] > [1,'a'])"
   ]
  },
  {
   "cell_type": "markdown",
   "metadata": {},
   "source": [
    "### Logical Operators\n",
    "\n",
    "Operators like \"and\", \"or\", or \"not\" can be used to assess the state of boolean operands. See their use below."
   ]
  },
  {
   "cell_type": "code",
   "execution_count": 6,
   "metadata": {},
   "outputs": [
    {
     "name": "stdout",
     "output_type": "stream",
     "text": [
      "True: True\n",
      "False: False\n",
      "True: True\n",
      "False: False\n",
      "False: False\n",
      "True: True\n"
     ]
    }
   ],
   "source": [
    "print(\"True:\", True or False)\n",
    "print(\"False:\", not True)\n",
    "print(\"True:\", True and True)\n",
    "print(\"False:\", not True)\n",
    "print(\"False:\", True and False)\n",
    "print(\"True:\", not False)"
   ]
  },
  {
   "cell_type": "markdown",
   "metadata": {},
   "source": [
    "## 3.6 Conditionals\n",
    "\n",
    "Conditionals only make certain things happen when conditions are met. This is most often seen with `if`/`else` statements.\n",
    "\n",
    "### Vocabulary\n",
    "\n",
    "Copied from their blog.\n",
    "\n",
    "> Algorithm - A set of instructions that accomplish a task.\n",
    "\n",
    "> Selection - The process that determines which parts of an algoritm is being executed based on a condition that is true or false.\n",
    "\n",
    "### If/Else Statements\n",
    "\n",
    "`if` and `else` statements are the primary conditional statements. See their basic use below."
   ]
  },
  {
   "cell_type": "code",
   "execution_count": 9,
   "metadata": {},
   "outputs": [
    {
     "name": "stdout",
     "output_type": "stream",
     "text": [
      "No, 3 does not equal 5.\n"
     ]
    }
   ],
   "source": [
    "number = 3          # value that will affect true or false statement\n",
    "if number == 5:     # if part determines if the statement is true or false compared to another part of the program\n",
    "    print(\"Yes,\", str(number), \"does equal 5.\")\n",
    "else:               #else part only executes if the if part is false\n",
    "    print(\"No, \" + str(number) + \" does not equal 5.\")"
   ]
  },
  {
   "cell_type": "markdown",
   "metadata": {},
   "source": [
    "As their blog says, solo `if` statements can be used as sort of interruptions when certain conditions are met. Here is there example."
   ]
  },
  {
   "cell_type": "code",
   "execution_count": 10,
   "metadata": {},
   "outputs": [
    {
     "name": "stdout",
     "output_type": "stream",
     "text": [
      "0%\n",
      "10%\n",
      "20%\n",
      "30%\n",
      "40%\n",
      "50%\n",
      "Half way there\n",
      "60%\n",
      "70%\n",
      "80%\n",
      "90%\n",
      "100% Complete\n"
     ]
    }
   ],
   "source": [
    "progress = 0\n",
    "while progress < 100:\n",
    "    print(str(progress) + \"%\")\n",
    "    \n",
    "    if progress == 50:\n",
    "        print(\"Half way there\")\n",
    "\n",
    "    progress = progress + 10\n",
    "print(\"100%\" + \" Complete\")"
   ]
  },
  {
   "cell_type": "markdown",
   "metadata": {},
   "source": [
    "## 3.7 Nested Conditional Statements\n",
    "\n",
    "Basically conditionals inside of conditional statements that make things happen on top of the other stuff. Vague, but it makes sense.\n",
    "\n",
    "### Examples\n",
    "\n",
    "Here is the example provided by the group to show nested conditionals."
   ]
  },
  {
   "cell_type": "code",
   "execution_count": 11,
   "metadata": {},
   "outputs": [
    {
     "name": "stdout",
     "output_type": "stream",
     "text": [
      "You're 18 or older. Welcome to adulthood!\n",
      "Happy driving!\n"
     ]
    }
   ],
   "source": [
    "age = 19\n",
    "isGraduated = False\n",
    "hasLicense = True\n",
    "\n",
    "# Look if person is 18 years or older\n",
    "if age >= 18:\n",
    "    print(\"You're 18 or older. Welcome to adulthood!\")\n",
    "\n",
    "    if isGraduated:\n",
    "        print('Congratulations with your graduation!')\n",
    "    if hasLicense:\n",
    "        print('Happy driving!')"
   ]
  },
  {
   "cell_type": "markdown",
   "metadata": {},
   "source": [
    "Here's my take on the nested conditionals example."
   ]
  },
  {
   "cell_type": "code",
   "execution_count": 12,
   "metadata": {},
   "outputs": [
    {
     "name": "stdout",
     "output_type": "stream",
     "text": [
      "The U.S. has already gained independence, or perhaps doesn't exist...\n",
      "The Gold Rush is an afterthought, or perhaps hasn't yet happened...\n",
      "Elon Musk bought Twitter not too long ago, didn't he?\n",
      "You'll have to wait a bit longer for flying cars...\n"
     ]
    }
   ],
   "source": [
    "year = 2022\n",
    "if (year == 1776): \n",
    "    print(\"The U.S. just declared independence, didn't they?\")\n",
    "else: \n",
    "    print(\"The U.S. has already gained independence, or perhaps doesn't exist...\") \n",
    "if (year == 1848): \n",
    "    print(\"Gold was just struck in California, wasn't it?\")\n",
    "else: \n",
    "    print(\"The Gold Rush is an afterthought, or perhaps hasn't yet happened...\")\n",
    "if (year == 2022):\n",
    "    print(\"Elon Musk bought Twitter not too long ago, didn't he?\")\n",
    "else:\n",
    "    print(\"Perhaps Elon Musk and Twitter do not yet exist, or are old news...\")\n",
    "if (year == 3000):\n",
    "    print(\"Flying cars have just been invented, haven't they?\")\n",
    "else: \n",
    "    print(\"You'll have to wait a bit longer for flying cars...\")"
   ]
  },
  {
   "cell_type": "markdown",
   "metadata": {},
   "source": [
    "## Homework\n",
    "\n",
    "Here is my take on the binary homework.\n",
    "\n",
    "### Hacks\n",
    "\n",
    "> System to repeat the user input if it is not within the valid range of 8-bit binary.\n",
    "\n",
    "> More conditionals with `try` and `except`\n",
    "\n",
    "> A Frontend version on top of the Python version."
   ]
  },
  {
   "cell_type": "code",
   "execution_count": 1,
   "metadata": {},
   "outputs": [
    {
     "name": "stdout",
     "output_type": "stream",
     "text": [
      "The reverse of 67 in binary is: 11000010\n",
      "Invalid input.\n",
      "Invalid input.\n",
      "\"34\" in binary is \"00100010\".\n"
     ]
    }
   ],
   "source": [
    "def DecimalToBinary(input):\n",
    "    if 0 <= input <= 255:\n",
    "        pass\n",
    "    else:\n",
    "        print(int(input) + \"Intentional Error to Restart Loop\")\n",
    "    i = 7\n",
    "    binary = \"\"\n",
    "    while i >= 0:\n",
    "        if input % (2**i) == input:\n",
    "            binary += \"0\"\n",
    "            i -= 1\n",
    "        else:\n",
    "            binary += \"1\"\n",
    "            input -= 2**i\n",
    "            i -= 1\n",
    "    return binary\n",
    " \n",
    "# function to reverse the string\n",
    "def reverse(strs):\n",
    "    print(strs[::-1])\n",
    " \n",
    "# Driver Code\n",
    "num = 67\n",
    "print(\"The reverse of 67 in binary is:\", end=\" \")\n",
    "reverse(DecimalToBinary(num))\n",
    "\n",
    "# input box\n",
    "def getUserInput():\n",
    "    try:\n",
    "        userinp = int(input(\"Input an integer between 0 and 255.\"))\n",
    "        userbin = DecimalToBinary(userinp)\n",
    "        print('\"' + str(userinp) + '\" in binary is \"' + userbin + '\".')\n",
    "    except:\n",
    "        print(\"Invalid input.\")\n",
    "        getUserInput()\n",
    "\n",
    "getUserInput()"
   ]
  },
  {
   "cell_type": "markdown",
   "metadata": {},
   "source": [
    "Here's the frontend version:"
   ]
  },
  {
   "cell_type": "markdown",
   "metadata": {},
   "source": [
    "<p style=\"font-family:\">Convert <input id=\"bininput\" style=\"text-align:left\" type=\"number\" min=\"0\" minlength=\"1\" maxlength=\"3\" max=\"255\" value=\"0\"> to binary...</p>\n",
    "<button id=\"convertbtn\">CONVERT</button>\n",
    "<p id=\"output\"></p>\n",
    "\n",
    "<script>\n",
    "    console.log('initialized accurately')\n",
    "    var opbox = document.getElementById(\"output\");\n",
    "    var convertbtn = document.getElementById(\"convertbtn\");\n",
    "    var inpbox = document.getElementById(\"bininput\");\n",
    "    function DecimalToBinary(parameter) {\n",
    "        var input = Number(parameter);\n",
    "        if (input < 0) {\n",
    "            console.log('invalidreturn');\n",
    "            return \"Invalid input.\";\n",
    "        } else if (input > 255) {\n",
    "            console.log('invalidreturn');\n",
    "            return \"Invalid input.\";\n",
    "        };\n",
    "        var i = 7;\n",
    "        var binary = \"\";\n",
    "        while (i >= 0) {\n",
    "            if (input % (2**i) == input) {\n",
    "                binary += \"0\";\n",
    "                i -= 1;\n",
    "            } else {\n",
    "                binary += \"1\";\n",
    "                input -= 2**i;\n",
    "                i -= 1;\n",
    "            };\n",
    "        };\n",
    "        return binary;\n",
    "    }\n",
    "    convertbtn.onclick = function() {\n",
    "        console.log('pressed');\n",
    "        var binconvert = DecimalToBinary(Number(inpbox.value));\n",
    "        if (binconvert == \"Invalid input.\") {\n",
    "            console.log('invalidinput')\n",
    "            opbox.innerHTML = \"Invalid input.\";\n",
    "        } else {\n",
    "            console.log('valid')\n",
    "            opbox.innerHTML = String(Number(inpbox.value)) + \" in binary is \" + String(binconvert) + \".\";\n",
    "        };\n",
    "    };\n",
    "</script>"
   ]
  },
  {
   "cell_type": "markdown",
   "metadata": {},
   "source": [
    "And here's the code behind it:\n",
    "\n",
    "```\n",
    "<p style=\"font-family:\">Convert <input id=\"bininput\" style=\"text-align:left\" type=\"number\" min=\"0\" minlength=\"1\" maxlength=\"3\" max=\"255\" value=\"0\"> to binary...</p>\n",
    "<button id=\"convertbtn\">CONVERT</button>\n",
    "<p id=\"output\"></p>\n",
    "\n",
    "<script>\n",
    "    console.log('initialized accurately')\n",
    "    var opbox = document.getElementById(\"output\");\n",
    "    var convertbtn = document.getElementById(\"convertbtn\");\n",
    "    var inpbox = document.getElementById(\"bininput\");\n",
    "    function DecimalToBinary(parameter) {\n",
    "        var input = Number(parameter);\n",
    "        if (input < 0) {\n",
    "            console.log('invalidreturn');\n",
    "            return \"Invalid input.\";\n",
    "        } else if (input > 255) {\n",
    "            console.log('invalidreturn');\n",
    "            return \"Invalid input.\";\n",
    "        };\n",
    "        var i = 7;\n",
    "        var binary = \"\";\n",
    "        while (i >= 0) {\n",
    "            if (input % (2**i) == input) {\n",
    "                binary += \"0\";\n",
    "                i -= 1;\n",
    "            } else {\n",
    "                binary += \"1\";\n",
    "                input -= 2**i;\n",
    "                i -= 1;\n",
    "            };\n",
    "        };\n",
    "        return binary;\n",
    "    }\n",
    "    convertbtn.onclick = function() {\n",
    "        console.log('pressed');\n",
    "        var binconvert = DecimalToBinary(Number(inpbox.value));\n",
    "        if (binconvert == \"Invalid input.\") {\n",
    "            console.log('invalidinput')\n",
    "            opbox.innerHTML = \"Invalid input.\";\n",
    "        } else {\n",
    "            console.log('valid')\n",
    "            opbox.innerHTML = String(Number(inpbox.value)) + \" in binary is \" + String(binconvert) + \".\";\n",
    "        };\n",
    "    };\n",
    "</script>\n",
    "```"
   ]
  }
 ],
 "metadata": {
  "kernelspec": {
   "display_name": "Python 3.8.13 64-bit",
   "language": "python",
   "name": "python3"
  },
  "language_info": {
   "codemirror_mode": {
    "name": "ipython",
    "version": 3
   },
   "file_extension": ".py",
   "mimetype": "text/x-python",
   "name": "python",
   "nbconvert_exporter": "python",
   "pygments_lexer": "ipython3",
   "version": "3.8.13"
  },
  "orig_nbformat": 4,
  "vscode": {
   "interpreter": {
    "hash": "0adcc2737ebf6a4a119f135174df96668767fca1ef1112612db5ecadf2b6d608"
   }
  }
 },
 "nbformat": 4,
 "nbformat_minor": 2
}
