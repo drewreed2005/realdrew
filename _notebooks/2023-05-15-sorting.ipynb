{
 "cells": [
  {
   "attachments": {},
   "cell_type": "markdown",
   "metadata": {},
   "source": [
    "# Sorting Algorithms\n",
    "> Working with Data Structures and manipulating data.\n",
    "\n",
    "- toc: true\n",
    "- title: Sorting Algorithms Lesson"
   ]
  },
  {
   "cell_type": "code",
   "execution_count": 3,
   "metadata": {},
   "outputs": [
    {
     "name": "stdout",
     "output_type": "stream",
     "text": [
      "Random List\n",
      "[9, 62, 78, 54, 18, 74, 58, 84, 20, 46]\n"
     ]
    }
   ],
   "source": [
    "import random\n",
    "\n",
    "numbers = []\n",
    "for i in range(10):\n",
    "    numbers.append(random.randint(0,100))\n",
    "print(\"Random List\")\n",
    "print(numbers)"
   ]
  },
  {
   "attachments": {},
   "cell_type": "markdown",
   "metadata": {},
   "source": [
    "# Warm Up\n",
    "\n",
    "> Discuss with a partner... \n",
    "What are some strategies you would use to sort this list? (Don't worry about writing code for now)\n",
    "- Ascending and descending with pandas/numPy\n",
    "- You could use a temp value and an iterative loop to identify the fewest value in a set of numbers, add it to a new list and delete it from the old one, and continue until the list is sorted\n",
    "    - Same works for greatest to least, vice versa\n",
    "- Someone brought up that you can randomize until you get it right and technically that is a method"
   ]
  },
  {
   "attachments": {},
   "cell_type": "markdown",
   "metadata": {},
   "source": [
    "# Explore\n",
    "\n",
    "Get into groups of 3\n",
    "\n",
    "We will be focusing on 4 algorithms today.\n",
    "\n",
    "We will look at the first one together, Bubble Sort\n",
    "\n",
    "![](images/bubble-sort.png)\n",
    "\n",
    "What is happening with this sort?\n",
    "\n",
    "In your groups you will each choose to be an expert on a sorting algorithm. Merge, Selection, and Insertion.\n",
    "Take about 5 minutes to read about your algorithm (Geek for Geeks linked below) and be ready to explain it to your other group members. \n",
    "\n",
    "[Merge](https://www.geeksforgeeks.org/merge-sort/#)\n",
    "\n",
    "[Selection](https://www.geeksforgeeks.org/selection-sort/)\n",
    "\n",
    "I chose selection. Going index by index, find the minimum value in the given range of list values. Once it has been determined, that index is sorted and no longer factors into the minimum value calculations. Continue until all indexes have been sorted.\n",
    "\n",
    "[Insertion](https://www.geeksforgeeks.org/insertion-sort/)"
   ]
  },
  {
   "attachments": {},
   "cell_type": "markdown",
   "metadata": {},
   "source": [
    "## Practice\n",
    "\n",
    "[75, 17, 46, 80, 67, 45, 69, 79, 40, 0]\n",
    "\n",
    "How would you sort this list with... \n",
    "\n",
    "- Bubble Sort: Swap the smaller number with the larger number in each pair. Continue doing this in as many passes as necessary until no more swaps are necessary, meaning that it has been sorted.\n",
    "\n",
    "In this case, bubble sort would look like this.\n",
    "\n",
    "**Pass 1:** 75 and 17 would swap, 75 and 46 would swap, 80 and 67 would swap, 80 and 45 would swap, 80 and 69 would swap, 80 and 79 would swap, 80 and 40 would swap, and 80 and 0 would swap. The list would look like this:\n",
    "\n",
    "[17, 46, 75, 67, 45, 69, 79, 40, 0, 80]\n",
    "\n",
    "**Pass 2:** 75 and 67 would swap, 75 and 45 woudl swap, 75 and 69 would swap, 79 and 40 would swap, and 79 and 0 would swap. The list would look like this:\n",
    "\n",
    "[17, 46, 67, 45, 69, 75, 40, 0, 79, 80]\n",
    "\n",
    "**Pass 3:** 67 and 45 would swap, 75 and 40 would swap, and 75 and 0 would swap. Now:\n",
    "\n",
    "[17, 46, 45, 67, 69, 40, 0, 75, 79, 80]\n",
    "\n",
    "**Pass 4:** 46 and 45 would swap, 69 and 40 would wap, 69 and 0 would swap. Now:\n",
    "\n",
    "[17, 45, 46, 67, 40, 0, 69, 75, 79, 80]\n",
    "\n",
    "**Pass 5:** [17, 45, 46, 40, 0, 67, 69, 75, 79, 80]\n",
    "\n",
    "**Pass 6:** [17, 45, 40, 0, 46, 67, 69, 75, 79, 80]\n",
    "\n",
    "- Selection Sort: Going index by index, find the minimum value in the given range of list values. Once it has been determined, that index is sorted and no longer factors into the minimum value calculations. Continue until all indexes have been sorted.\n",
    "\n",
    "Selection sort would find the minimum for each individual index of the list. See below:\n",
    "\n",
    "**Index 0:** It would recognize 0 at index 9 as the minimum. 75 swaps to index 9.\n",
    "\n",
    "**Index 1:** It would recognize that 17 happens to the the minimum in the remaining indexes. No change.\n",
    "\n",
    "**Index 2:** 40 is the third-least number in the list, so 46 is swapped with 40 at index 8.\n",
    "\n",
    "**Index 3:** 45 is the fourth-least number, so 45 swaps with 80.\n",
    "\n",
    "**Index 4:** 46 is the next least, so it swaps with 67.\n",
    "\n",
    "**Index 5:** 67 is the next least.\n",
    "\n",
    "**Index 6:** 69 is the next least.\n",
    "\n",
    "**Index 7:** 75 is the next least.\n",
    "\n",
    "**Index 8:** 79 is the next least.\n",
    "\n",
    "This leaves only 80 at the end, and the list is fully sorted.\n",
    "\n",
    "[88, 39, 53, 39, 58, 43, 74, 81, 71, 51]\n",
    "\n",
    "How would you sort this list with... \n",
    "\n",
    "- Merge Sort: Keep on halving the data until it is only two numbers, then sort. Then put everything back together in order.\n",
    "\n",
    "**Splitting:**\n",
    "\n",
    "Initial list: [88, 39, 53, 39, 58, 43, 74, 81, 71, 51]\n",
    "\n",
    "Split 1: [88, 39, 53, 39, 58] | [43, 74, 81, 71, 51]\n",
    "\n",
    "Split 2: [88, 39] | [53, 39, 58] | [43, 74] | [81, 71, 51]\n",
    "\n",
    "Split 3: [88] | [39] | [53] | [39, 58] | [43] | [74] | [81] | [71, 51]\n",
    "\n",
    "**Merging:**\n",
    "\n",
    "Merge 1: [39, 88] | [39, 53, 58] | [43, 74] | [71, 51, 81]\n",
    "\n",
    "Merge 2: [39, 39, 53, 58, 88] | [43, 74] | [51, 71, 81]\n",
    "\n",
    "Merge 3: [39, 39, 43, 53, 58, 74, 88] | [51, 71, 81]\n",
    "\n",
    "Merge 4: [39, 39, 43, 51, 53, 58, 71, 74, 81, 88]\n",
    "\n",
    "- Insertion Sort: Going index by index, skipping the first, find where the value belongs relative to the sorted indexes previously. Once its place has been found, move on.\n",
    "\n",
    "Going index-by-index:\n",
    "\n",
    "After skipping 0, 39 at index 1 is less than 88 so it swaps places with 88.\n",
    "\n",
    "At index 2, 53 is greater than 39 but less than 88 so it ends up at index 1.\n",
    "\n",
    "At index 3, 39 is equal to 39, so it is placed before or after it depending on the programming of the algorithm.\n",
    "\n",
    "At index 4, 58 is greater than 53 but less than 88, so it ends up at index 3.\n",
    "\n",
    "At index 5, 43 is greater than 39 but less than 53, so it ends up at index 2.\n",
    "\n",
    "At index 6, 74 is greater than 58 but less than 88, so it ends up at index 5.\n",
    "\n",
    "At index 7, 81 is between 74 and 88, so it ends up at index 6.\n",
    "\n",
    "At index 8, 71 is less than 74 but greater than 58, so it goes at index 5.\n",
    "\n",
    "At index 9, 51 is greater than 43 but less than 53, so it ends up at index 3. Now the list is sorted."
   ]
  },
  {
   "attachments": {},
   "cell_type": "markdown",
   "metadata": {},
   "source": [
    "# Sorting Words\n",
    "> Sorting strings works in the same way as integers. Using your expertise algorithm, sort the following list of random words."
   ]
  },
  {
   "cell_type": "code",
   "execution_count": 19,
   "metadata": {},
   "outputs": [
    {
     "name": "stdout",
     "output_type": "stream",
     "text": [
      "Random List\n",
      "['antipastic', 'magnanimously', 'overstale', 'grossularite', 'corroboration', 'reinsurer', 'crus', 'adenopharyngitis', 'bromomethane', 'superintendential']\n"
     ]
    }
   ],
   "source": [
    "import nltk\n",
    "import random\n",
    "\n",
    "#nltk.download('words')  # Download the word list (only required once)\n",
    "\n",
    "from nltk.corpus import words\n",
    "\n",
    "english_words = words.words()\n",
    "#print(len(english_words))  # Prints the number of words in the list\n",
    "\n",
    "# You can now use the 'english_words' list in your code\n",
    "\n",
    "words = []\n",
    "for i in range(10):\n",
    "    words.append(english_words[random.randint(0,len(english_words))])\n",
    "print(\"Random List\")\n",
    "print(words)"
   ]
  },
  {
   "cell_type": "code",
   "execution_count": 20,
   "metadata": {},
   "outputs": [
    {
     "data": {
      "text/plain": [
       "['adenopharyngitis',\n",
       " 'antipastic',\n",
       " 'bromomethane',\n",
       " 'corroboration',\n",
       " 'crus',\n",
       " 'grossularite',\n",
       " 'magnanimously',\n",
       " 'overstale',\n",
       " 'reinsurer',\n",
       " 'superintendential']"
      ]
     },
     "execution_count": 20,
     "metadata": {},
     "output_type": "execute_result"
    }
   ],
   "source": [
    "def selection_sort(list):\n",
    "    for i in range(len(list)):\n",
    "        min_index = i\n",
    "        for j in range(i + 1, len(list)):\n",
    "            if list[j] < list[min_index]:\n",
    "                min_index = j\n",
    "        (list[i], list[min_index]) = (list[min_index], list[i])\n",
    "    return list\n",
    "\n",
    "selection_sort(words)"
   ]
  },
  {
   "attachments": {},
   "cell_type": "markdown",
   "metadata": {},
   "source": [
    "## Discuss\n",
    "\n",
    "Answer the following with your group.\n",
    "\n",
    "- When should you use each algorithm? What makes an algorithm the right choice?\n",
    "- Given the following lists...\n",
    "    - [0, 2, 6, 4, 8, 10]: <mark>Bubble sort because the only necessary change would be swapping index 2 and 3, which could be done in a single pass, whereas other algorithms like selection would take more passes.</mark>\n",
    "    - [Elephant, Banana, Cat, Dog, Apple]: <mark>Selection because the process involves finding the minimum relative to the indexes left. Since the final index is the minimum and the first is the maxiumu, it would only take one swap.</mark>\n",
    "    - [29, 13, 83, 47, 32, 78, 100, 60, 65, 15, 24, 9, 40, 68, 53, 8, 90, 58, 39, 32, 34, 91, 74, 94, 49, 87, 34, 87, 23, 17, 27, 2, 38, 58, 84, 15, 9, 46, 74, 40, 44, 8, 55, 28, 81, 92, 81, 88, 53, 38, 19, 21, 9, 54, 21, 67, 3, 41, 3, 74, 13, 71, 70, 45, 5, 36, 80, 64, 97, 86, 73, 74, 94, 79, 49, 32, 20, 68, 64, 69, 1, 77, 31, 56, 100, 80, 48, 75, 85, 93, 67, 57, 26, 56, 43, 53, 59, 28, 67, 50]: <mark>Merge sort because the list would be split into pairs of numbers, allowing it to be merged and put back together in one pass rather than many (like it would with bubble sort, selection sort, etc.).</mark>\n",
    "\n",
    "Select the algorithm you believe is best for each, explain."
   ]
  },
  {
   "attachments": {},
   "cell_type": "markdown",
   "metadata": {},
   "source": [
    "## HACKS\n",
    "> Provided below is a Bubble Sort Algorithm sorting a list of dictionaries based off of selected key.\n",
    "\n",
    "- Now it's time to do some coding...\n",
    "\n",
    "- Run code and then research and answer these questions...\n",
    "    - Is a list and/or dictionary in python considered a primitive or collection type?  Why?\n",
    "    > Lists and dictionaries are both considered collection types because they both allow for storage of an unlimited amount of elements/key-value pairs and are mutable. Unlike other primitive data types, they also have built-in methods associated.\n",
    "\n",
    "    - Is the list passed into bubble sort \"pass-by-value\" or \"pass-by-reference\"? Describe why in relation to output.\n",
    "    > The list passed into bubble sort is \"pass-by-reference\" because, instead of creating a copy of the list or its elements and modifying (then returning) those, it directly modifies that list argument.\n",
    "\n",
    "- Implement new cell(s) and/or organize cells to do the following.\n",
    "    - Create your own list\n",
    "    - Use your expertise sorting algorithm (selection, insertion, merge). Note, I got my bubble sort from Geek for Geeks and made modifications. Each student in a group should have a unique algorithm.\n",
    "    - Test your list with my bubble sort\n",
    "    - Test my list with your new sort\n",
    "    - Research analysis on sorting: comparisons, swaps, time.  Build this into your hacks.\n",
    "    - Find a better way to print the data, key first, then other elements in viewable form.\n",
    "\n",
    "Use the code below to help guide your adventure."
   ]
  },
  {
   "cell_type": "code",
   "execution_count": 9,
   "metadata": {},
   "outputs": [
    {
     "name": "stdout",
     "output_type": "stream",
     "text": [
      "Original\n",
      "[{'name': 'Risa', 'age': 18, 'city': 'New York'}, {'name': 'John', 'age': 63, 'city': 'Eugene'}, {'name': 'Shekar', 'age': 18, 'city': 'San Francisco'}, {'name': 'Ryan', 'age': 21, 'city': 'Los Angeles'}]\n",
      "name\n",
      "[{'name': 'John', 'age': 63, 'city': 'Eugene'}, {'name': 'Risa', 'age': 18, 'city': 'New York'}, {'name': 'Ryan', 'age': 21, 'city': 'Los Angeles'}, {'name': 'Shekar', 'age': 18, 'city': 'San Francisco'}]\n",
      "age\n",
      "[{'name': 'Risa', 'age': 18, 'city': 'New York'}, {'name': 'Shekar', 'age': 18, 'city': 'San Francisco'}, {'name': 'Ryan', 'age': 21, 'city': 'Los Angeles'}, {'name': 'John', 'age': 63, 'city': 'Eugene'}]\n",
      "city\n",
      "[{'name': 'John', 'age': 63, 'city': 'Eugene'}, {'name': 'Ryan', 'age': 21, 'city': 'Los Angeles'}, {'name': 'Risa', 'age': 18, 'city': 'New York'}, {'name': 'Shekar', 'age': 18, 'city': 'San Francisco'}]\n"
     ]
    }
   ],
   "source": [
    "\"\"\"\n",
    "* Creator: Nighthawk Coding Society\n",
    "Bubble Sort of a List with optimizations\n",
    "\"\"\"\n",
    "\n",
    "# bubble sorts a list of dictionaries, base off of provided key\n",
    "def bubbleSort(list, key):\n",
    "    n = len(list) - 1  # list are indexed 0 to n-1, len is n\n",
    "    \n",
    "    # Traverse through list with i index\n",
    "    for i in range(n):\n",
    "        swapped = False  # optimize code, so it exits if now swaps on inner loop\n",
    "\n",
    "        # Inner traversal using j index\n",
    "        for j in range(n-i):  # n-i as positions on right are in order in bubble\n",
    " \n",
    "            # Swap if the element KeyN is greater KeyN1\n",
    "            keyN = list[j].get(key)\n",
    "            keyN1 = list[j+1].get(key)\n",
    "            if keyN > keyN1:\n",
    "                swapped = True\n",
    "                list[j], list[j + 1] = list[j + 1], list[j]  # single line swap\n",
    "         \n",
    "        if not swapped:  # if no swaps on inner pass, list is sorted\n",
    "            return  # exit function\n",
    "    \n",
    "\n",
    "if __name__ == \"__main__\":\n",
    "    # list/dictionary sample\n",
    "    list_of_people = [\n",
    "    {\"name\": \"Risa\", \"age\": 18, \"city\": \"New York\"},\n",
    "    {\"name\": \"John\", \"age\": 63, \"city\": \"Eugene\"},\n",
    "    {\"name\": \"Shekar\", \"age\": 18, \"city\": \"San Francisco\"},\n",
    "    {\"name\": \"Ryan\", \"age\": 21, \"city\": \"Los Angeles\"}\n",
    "    ]\n",
    "    \n",
    "    # assuming uniform keys, pick 1st row as source of keys\n",
    "    key_row = list_of_people[0]\n",
    "\n",
    "    # print list as defined\n",
    "    print(\"Original\")\n",
    "    print(list_of_people)\n",
    "    \n",
    "    for key in key_row:  # finds each key in the row\n",
    "        print(key)\n",
    "        bubbleSort(list_of_people, key)  # sort list of people\n",
    "        print(list_of_people)"
   ]
  },
  {
   "cell_type": "markdown",
   "metadata": {},
   "source": [
    "### My List and Sorting Algorithm (Selection Sort)"
   ]
  },
  {
   "cell_type": "code",
   "execution_count": 7,
   "metadata": {},
   "outputs": [
    {
     "name": "stdout",
     "output_type": "stream",
     "text": [
      "Sorted by name: [{'username': 'Jablinski', 'blackjack_streak': 7, 'uno_time': 70, 'war_streak': 5, 'memory_time': 78}, {'username': 'OneShot', 'blackjack_streak': 2, 'uno_time': 24, 'war_streak': 4, 'memory_time': 89}, {'username': 'lens_9828', 'blackjack_streak': 4, 'uno_time': 58, 'war_streak': 5, 'memory_time': 42}, {'username': 'torNATO', 'blackjack_streak': 5, 'uno_time': 42, 'war_streak': 8, 'memory_time': 54}]\n",
      "\n",
      "Sorted by Blackjack streak: [{'username': 'OneShot', 'blackjack_streak': 2, 'uno_time': 24, 'war_streak': 4, 'memory_time': 89}, {'username': 'lens_9828', 'blackjack_streak': 4, 'uno_time': 58, 'war_streak': 5, 'memory_time': 42}, {'username': 'torNATO', 'blackjack_streak': 5, 'uno_time': 42, 'war_streak': 8, 'memory_time': 54}, {'username': 'Jablinski', 'blackjack_streak': 7, 'uno_time': 70, 'war_streak': 5, 'memory_time': 78}]\n"
     ]
    }
   ],
   "source": [
    "def selection_sort(list, key):\n",
    "    for i in range(len(list)):\n",
    "        min_index = i\n",
    "        for j in range(i + 1, len(list)):\n",
    "            if list[j][key] < list[min_index][key]:\n",
    "                min_index = j\n",
    "        if min_index != i:\n",
    "            list[i], list[min_index] = list[min_index], list[i]\n",
    "    return list\n",
    "\n",
    "# I decided to make list of users with their given scores at various card games\n",
    "# This is related to my group's project\n",
    "leaderboard = [\n",
    "    {\"username\":\"Jablinski\", \"blackjack_streak\":7, \"uno_time\":70, \"war_streak\":5, \"memory_time\":78},\n",
    "    {\"username\":\"OneShot\", \"blackjack_streak\":2, \"uno_time\":24, \"war_streak\":4, \"memory_time\":89},\n",
    "    {\"username\":\"torNATO\", \"blackjack_streak\":5, \"uno_time\":42, \"war_streak\":8, \"memory_time\":54},\n",
    "    {\"username\":\"lens_9828\", \"blackjack_streak\":4, \"uno_time\":58, \"war_streak\":5, \"memory_time\":42},\n",
    "]\n",
    "\n",
    "selection_sort(leaderboard, \"username\")\n",
    "print(\"Sorted by name:\", leaderboard)\n",
    "\n",
    "selection_sort(leaderboard, \"uno_time\")\n",
    "print(\"\\nSorted by Blackjack streak:\", leaderboard)\n",
    "\n",
    "#etc."
   ]
  },
  {
   "cell_type": "markdown",
   "metadata": {},
   "source": [
    "Because our leaderboard would actually sort in descending order for the streaks (not time), I used the reverse function here."
   ]
  },
  {
   "cell_type": "code",
   "execution_count": 11,
   "metadata": {},
   "outputs": [
    {
     "name": "stdout",
     "output_type": "stream",
     "text": [
      "None\n"
     ]
    }
   ],
   "source": [
    "leaderboard = [\n",
    "    {\"username\":\"Jablinski\", \"blackjack_streak\":7, \"uno_time\":70, \"war_streak\":5, \"memory_time\":78},\n",
    "    {\"username\":\"OneShot\", \"blackjack_streak\":2, \"uno_time\":24, \"war_streak\":4, \"memory_time\":89},\n",
    "    {\"username\":\"torNATO\", \"blackjack_streak\":5, \"uno_time\":42, \"war_streak\":8, \"memory_time\":54},\n",
    "    {\"username\":\"lens_9828\", \"blackjack_streak\":4, \"uno_time\":58, \"war_streak\":5, \"memory_time\":42},\n",
    "]\n",
    "\n",
    "selection_sort(leaderboard, \"war_streak\")\n",
    "leaderboard.reverse()\n",
    "print(leaderboard)"
   ]
  },
  {
   "cell_type": "markdown",
   "metadata": {},
   "source": [
    "### Using Your Bubble Sort\n",
    "\n",
    "As you can see, it works with the leaderboard list as well."
   ]
  },
  {
   "cell_type": "code",
   "execution_count": 10,
   "metadata": {},
   "outputs": [
    {
     "name": "stdout",
     "output_type": "stream",
     "text": [
      "[{'username': 'lens_9828', 'blackjack_streak': 4, 'uno_time': 58, 'war_streak': 5, 'memory_time': 42}, {'username': 'torNATO', 'blackjack_streak': 5, 'uno_time': 42, 'war_streak': 8, 'memory_time': 54}, {'username': 'Jablinski', 'blackjack_streak': 7, 'uno_time': 70, 'war_streak': 5, 'memory_time': 78}, {'username': 'OneShot', 'blackjack_streak': 2, 'uno_time': 24, 'war_streak': 4, 'memory_time': 89}]\n"
     ]
    }
   ],
   "source": [
    "leaderboard = [\n",
    "    {\"username\":\"Jablinski\", \"blackjack_streak\":7, \"uno_time\":70, \"war_streak\":5, \"memory_time\":78},\n",
    "    {\"username\":\"OneShot\", \"blackjack_streak\":2, \"uno_time\":24, \"war_streak\":4, \"memory_time\":89},\n",
    "    {\"username\":\"torNATO\", \"blackjack_streak\":5, \"uno_time\":42, \"war_streak\":8, \"memory_time\":54},\n",
    "    {\"username\":\"lens_9828\", \"blackjack_streak\":4, \"uno_time\":58, \"war_streak\":5, \"memory_time\":42},\n",
    "]\n",
    "\n",
    "bubbleSort(leaderboard, \"memory_time\")\n",
    "print(leaderboard)"
   ]
  },
  {
   "cell_type": "code",
   "execution_count": 17,
   "metadata": {},
   "outputs": [
    {
     "name": "stdout",
     "output_type": "stream",
     "text": [
      "#1 on the leaderboard:\n",
      "\tusername: Jablinski\n",
      "\tblackjack_streak: 7\n",
      "\tuno_time: 70\n",
      "\twar_streak: 5\n",
      "\tmemory_time: 78\n",
      "\n",
      "#2 on the leaderboard:\n",
      "\tusername: torNATO\n",
      "\tblackjack_streak: 5\n",
      "\tuno_time: 42\n",
      "\twar_streak: 8\n",
      "\tmemory_time: 54\n",
      "\n",
      "#3 on the leaderboard:\n",
      "\tusername: lens_9828\n",
      "\tblackjack_streak: 4\n",
      "\tuno_time: 58\n",
      "\twar_streak: 5\n",
      "\tmemory_time: 42\n",
      "\n",
      "#4 on the leaderboard:\n",
      "\tusername: OneShot\n",
      "\tblackjack_streak: 2\n",
      "\tuno_time: 24\n",
      "\twar_streak: 4\n",
      "\tmemory_time: 89\n",
      "\n"
     ]
    }
   ],
   "source": [
    "def selection_print(list, key, descending):\n",
    "    for i in range(len(list)):\n",
    "        min_index = i\n",
    "        for j in range(i + 1, len(list)):\n",
    "            if list[j][key] < list[min_index][key]:\n",
    "                min_index = j\n",
    "        if min_index != i:\n",
    "            list[i], list[min_index] = list[min_index], list[i]\n",
    "    if descending:\n",
    "        list.reverse()\n",
    "    \n",
    "    for i, entry in enumerate(list):\n",
    "        print(\"#\" + str(i + 1), \"on the leaderboard:\")\n",
    "        for k, v in entry.items():\n",
    "            print(\"\\t\" + str(k) + \":\", str(v))\n",
    "        print(\"\")\n",
    "\n",
    "selection_print(leaderboard, \"blackjack_streak\", True)"
   ]
  }
 ],
 "metadata": {
  "kernelspec": {
   "display_name": "Python 3.9.12 ('base')",
   "language": "python",
   "name": "python3"
  },
  "language_info": {
   "codemirror_mode": {
    "name": "ipython",
    "version": 3
   },
   "file_extension": ".py",
   "mimetype": "text/x-python",
   "name": "python",
   "nbconvert_exporter": "python",
   "pygments_lexer": "ipython3",
   "version": "3.9.12"
  },
  "orig_nbformat": 4,
  "vscode": {
   "interpreter": {
    "hash": "56f7c0ddbd8295fccb7b65a09bceb7bda050a1a7ed2857cec799e2d3d977289f"
   }
  }
 },
 "nbformat": 4,
 "nbformat_minor": 2
}
